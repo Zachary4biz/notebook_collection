{
 "cells": [
  {
   "cell_type": "code",
   "execution_count": 1,
   "metadata": {
    "ExecuteTime": {
     "end_time": "2019-06-14T10:46:31.149753Z",
     "start_time": "2019-06-14T10:46:30.885179Z"
    }
   },
   "outputs": [],
   "source": [
    "from IPython.core.interactiveshell import InteractiveShell\n",
    "InteractiveShell.ast_node_interactivity = \"all\"\n",
    "%matplotlib inline\n",
    "from tqdm import tqdm_notebook\n",
    "import concurrent.futures\n",
    "from multiprocessing import Pool\n",
    "import copy,os,sys,psutil\n",
    "from collections import Counter"
   ]
  },
  {
   "cell_type": "code",
   "execution_count": 2,
   "metadata": {
    "ExecuteTime": {
     "end_time": "2019-06-14T02:33:58.745851Z",
     "start_time": "2019-06-14T02:33:58.740116Z"
    }
   },
   "outputs": [],
   "source": [
    "text = \"\"\n",
    "sensitiveWords = {\n",
    "    1:[\"a\",\"i\"],\n",
    "    2:[\"b\",\"m\"],\n",
    "    3:[\"c\"],\n",
    "#     4:[\"\"], ...\n",
    "}\n",
    "inp = sensitiveWords\n"
   ]
  },
  {
   "cell_type": "code",
   "execution_count": 5,
   "metadata": {
    "ExecuteTime": {
     "end_time": "2019-06-14T02:35:52.912134Z",
     "start_time": "2019-06-14T02:35:52.904731Z"
    }
   },
   "outputs": [
    {
     "data": {
      "text/plain": [
       "[1]"
      ]
     },
     "execution_count": 5,
     "metadata": {},
     "output_type": "execute_result"
    }
   ],
   "source": [
    "[k for k,v in inp.items() if \"a\" in v]"
   ]
  },
  {
   "cell_type": "code",
   "execution_count": 22,
   "metadata": {
    "ExecuteTime": {
     "end_time": "2019-06-14T06:06:41.881637Z",
     "start_time": "2019-06-14T06:06:41.869754Z"
    }
   },
   "outputs": [
    {
     "data": {
      "text/plain": [
       "[1, 2, 3]"
      ]
     },
     "execution_count": 22,
     "metadata": {},
     "output_type": "execute_result"
    },
    {
     "data": {
      "text/plain": [
       "[1, 2, 3, 1]"
      ]
     },
     "execution_count": 22,
     "metadata": {},
     "output_type": "execute_result"
    }
   ],
   "source": [
    "a = [1,2,3]\n",
    "b = a.copy()\n",
    "b.append(1)\n",
    "a\n",
    "b"
   ]
  },
  {
   "cell_type": "code",
   "execution_count": 15,
   "metadata": {
    "ExecuteTime": {
     "end_time": "2019-06-14T03:41:38.101206Z",
     "start_time": "2019-06-14T03:41:38.087942Z"
    }
   },
   "outputs": [
    {
     "ename": "SyntaxError",
     "evalue": "invalid character in identifier (<ipython-input-15-77f668dcb094>, line 2)",
     "output_type": "error",
     "traceback": [
      "\u001b[0;36m  File \u001b[0;32m\"<ipython-input-15-77f668dcb094>\"\u001b[0;36m, line \u001b[0;32m2\u001b[0m\n\u001b[0;31m    class Node(object):\u001b[0m\n\u001b[0m             ^\u001b[0m\n\u001b[0;31mSyntaxError\u001b[0m\u001b[0;31m:\u001b[0m invalid character in identifier\n"
     ]
    }
   ],
   "source": [
    "\n",
    "class Node(object):  \n",
    "    def __init__(self):  \n",
    "        self.children = None  \n",
    "\n",
    "def add_word(root,word):  \n",
    "    node = root  \n",
    "    for i in range(len(word)):  \n",
    "        if node.children == None:  \n",
    "            node.children = {}  \n",
    "            node.children[word[i]] = Node()  \n",
    "  \n",
    "        elif word[i] not in node.children:  \n",
    "            node.children[word[i]] = Node()  \n",
    "        node = node.children[word[i]]\n",
    "\n",
    "def init(path):  \n",
    "    root = Node()  \n",
    "    fp = open(path,'r')\n",
    "    for line in fp:  \n",
    "        line = line[0:-1]  \n",
    "        #print len(line)  \n",
    "        #print line  \n",
    "        #print type(line)  \n",
    "        add_word(root,line)  \n",
    "    fp.close()  \n",
    "    return root  \n",
    "\n",
    "\n",
    "def is_contain(message, root):  \n",
    "    for i in range(len(message)):  \n",
    "        p = root  \n",
    "        j = i  \n",
    "        while (j<len(message) and p.children!=None and message[j] in p.children):  \n",
    "            p = p.children[message[j]]  \n",
    "            j = j + 1  \n",
    "  \n",
    "        if p.children==None:  \n",
    "            #print '---word---',message[i:j]  \n",
    "            return True  \n",
    "      \n",
    "    return False  \n",
    "  "
   ]
  },
  {
   "cell_type": "code",
   "execution_count": 91,
   "metadata": {
    "ExecuteTime": {
     "end_time": "2019-06-14T10:03:38.368780Z",
     "start_time": "2019-06-14T10:03:38.351972Z"
    }
   },
   "outputs": [
    {
     "data": {
      "text/plain": [
       "'y'"
      ]
     },
     "execution_count": 91,
     "metadata": {},
     "output_type": "execute_result"
    },
    {
     "ename": "StopIteration",
     "evalue": "",
     "output_type": "error",
     "traceback": [
      "\u001b[0;31m---------------------------------------------------------------------------\u001b[0m",
      "\u001b[0;31mStopIteration\u001b[0m                             Traceback (most recent call last)",
      "\u001b[0;32m<ipython-input-91-91caa3d4beb7>\u001b[0m in \u001b[0;36m<module>\u001b[0;34m()\u001b[0m\n\u001b[1;32m      3\u001b[0m \u001b[0mtextIter\u001b[0m \u001b[0;34m=\u001b[0m \u001b[0miter\u001b[0m\u001b[0;34m(\u001b[0m\u001b[0;34m\" \"\u001b[0m \u001b[0;34m+\u001b[0m \u001b[0mtext_inp\u001b[0m \u001b[0;34m+\u001b[0m \u001b[0;34m\" \"\u001b[0m\u001b[0;34m)\u001b[0m\u001b[0;34m\u001b[0m\u001b[0;34m\u001b[0m\u001b[0m\n\u001b[1;32m      4\u001b[0m \u001b[0mnext\u001b[0m\u001b[0;34m(\u001b[0m\u001b[0mislice\u001b[0m\u001b[0;34m(\u001b[0m\u001b[0mtextIter\u001b[0m\u001b[0;34m,\u001b[0m\u001b[0;36m39\u001b[0m\u001b[0;34m,\u001b[0m\u001b[0;36m40\u001b[0m\u001b[0;34m)\u001b[0m\u001b[0;34m)\u001b[0m\u001b[0;34m\u001b[0m\u001b[0;34m\u001b[0m\u001b[0m\n\u001b[0;32m----> 5\u001b[0;31m \u001b[0mnext\u001b[0m\u001b[0;34m(\u001b[0m\u001b[0mislice\u001b[0m\u001b[0;34m(\u001b[0m\u001b[0mtextIter\u001b[0m\u001b[0;34m,\u001b[0m\u001b[0;36m40\u001b[0m\u001b[0;34m,\u001b[0m\u001b[0;36m41\u001b[0m\u001b[0;34m)\u001b[0m\u001b[0;34m)\u001b[0m\u001b[0;34m\u001b[0m\u001b[0;34m\u001b[0m\u001b[0m\n\u001b[0m",
      "\u001b[0;31mStopIteration\u001b[0m: "
     ]
    }
   ],
   "source": [
    "from itertools import islice,takewhile\n",
    "text_inp = \"come from chian-town and has been study math for 12 years\"\n",
    "textIter = iter(\" \" + text_inp + \" \")\n",
    "next(islice(textIter,39,40))\n",
    "next(islice(textIter,40,41))"
   ]
  },
  {
   "cell_type": "code",
   "execution_count": 47,
   "metadata": {
    "ExecuteTime": {
     "end_time": "2019-06-14T11:05:52.876448Z",
     "start_time": "2019-06-14T11:05:52.864399Z"
    },
    "scrolled": true
   },
   "outputs": [
    {
     "data": {
      "text/plain": [
       "'come,   from,chian-town    and,as been study math for 12 years'"
      ]
     },
     "execution_count": 47,
     "metadata": {},
     "output_type": "execute_result"
    },
    {
     "data": {
      "text/plain": [
       "'come from chian town and as been study math for 12 years'"
      ]
     },
     "execution_count": 47,
     "metadata": {},
     "output_type": "execute_result"
    },
    {
     "data": {
      "text/plain": [
       "'come,   from,chian-town    and,as been study math for 12 years'"
      ]
     },
     "execution_count": 47,
     "metadata": {},
     "output_type": "execute_result"
    }
   ],
   "source": [
    "from itertools import islice,takewhile\n",
    "import re\n",
    "\n",
    "text_inp = \"come,   from,chian-town    and,as been study math for 12 years\"\n",
    "textIter = iter(\" \" + text_inp + \" \")\n",
    "text_inp\n",
    "re.sub(\"[^\\\\w]+\",\" \",text_inp)\n",
    "text_inp"
   ]
  },
  {
   "cell_type": "code",
   "execution_count": null,
   "metadata": {},
   "outputs": [],
   "source": []
  },
  {
   "cell_type": "code",
   "execution_count": null,
   "metadata": {},
   "outputs": [],
   "source": []
  },
  {
   "cell_type": "code",
   "execution_count": null,
   "metadata": {},
   "outputs": [],
   "source": []
  },
  {
   "cell_type": "code",
   "execution_count": null,
   "metadata": {},
   "outputs": [],
   "source": []
  },
  {
   "cell_type": "code",
   "execution_count": null,
   "metadata": {},
   "outputs": [],
   "source": []
  },
  {
   "cell_type": "code",
   "execution_count": 14,
   "metadata": {
    "ExecuteTime": {
     "end_time": "2019-06-14T10:48:37.249378Z",
     "start_time": "2019-06-14T10:48:37.241683Z"
    }
   },
   "outputs": [
    {
     "data": {
      "text/plain": [
       "True"
      ]
     },
     "execution_count": 14,
     "metadata": {},
     "output_type": "execute_result"
    },
    {
     "data": {
      "text/plain": [
       "True"
      ]
     },
     "execution_count": 14,
     "metadata": {},
     "output_type": "execute_result"
    }
   ],
   "source": [
    "m = None\n",
    "m is None\n",
    "m == None"
   ]
  },
  {
   "cell_type": "code",
   "execution_count": 67,
   "metadata": {
    "ExecuteTime": {
     "end_time": "2019-06-14T11:11:17.551662Z",
     "start_time": "2019-06-14T11:11:17.525522Z"
    },
    "code_folding": [
     1
    ]
   },
   "outputs": [],
   "source": [
    "from collections import deque\n",
    "import re\n",
    "\n",
    "class Node(object):\n",
    "    \"\"\"\n",
    "    DFA不需要反查,所以未记录父节点\n",
    "    在DFA中叶子节点标记了一个词的结束如, \"porn \"和\"porno\"中的\" \"和\"o\"\n",
    "    \"\"\"\n",
    "    def __init__(self, reason=None):\n",
    "        self.children = None\n",
    "        self.reason = reason # 仅叶子节点有值, 标记某个词是什么原因被标记为敏感词\n",
    "\n",
    "    def is_leaf_node(self):\n",
    "        return self.children is None\n",
    "\n",
    "    def add_child(self,v):\n",
    "        if self.is_leaf_node():\n",
    "            self.children = {v:Node()}\n",
    "        elif v not in self.children:\n",
    "            self.children[v] = Node()\n",
    "        else:\n",
    "            pass # DFA子节点已有则不更新\n",
    "\n",
    "\n",
    "\n",
    "class DFATree(object):\n",
    "    def __init__(self):\n",
    "        self.root = Node()\n",
    "\n",
    "    def add_word(self,word_inp,reason,sep = \" \"):\n",
    "        word = sep+word_inp+sep\n",
    "        node = self.root\n",
    "        for idx,char in enumerate(word):\n",
    "            node.add_child(char)\n",
    "            node = node.children[char]\n",
    "        node.reason = reason\n",
    "\n",
    "    def add_word_CN(self,word_inp,reason):\n",
    "        self.add_word(word_inp,reason,sep=\"\")\n",
    "\n",
    "    def add_word_EN(self,word_inp,reason):\n",
    "        self.add_word(word_inp,reason,sep=\" \")\n",
    "\n",
    "    def init_from_dict(self,watch_list_inp:dict):\n",
    "        for reason,word_list in watch_list_inp.items():\n",
    "            for word in word_list:\n",
    "                self.add_word_EN(word,reason)\n",
    "\n",
    "    def search_old(self, text_inp:str):\n",
    "        textIter = iter(\" \" + text_inp + \" \")\n",
    "        for idx,char in enumerate(textIter):\n",
    "            p = self.root\n",
    "            print(\"\\nroot-p: \",p)\n",
    "            print(\"root-p.children: \",p.children)\n",
    "            print(\"root-p.reason: \",p.reason)\n",
    "            print(\"message[i] \", char)\n",
    "                \n",
    "            while j < len(text) and p.children is not None and text[j] in p.children:\n",
    "                print(\" \")\n",
    "                print(\"  message[j] \",text[j])\n",
    "                p = p.children[text[j]]\n",
    "                print(\"  child-p: \",p)\n",
    "                print(\"  child-p.children: \",p.children)\n",
    "                print(\"  child-p.reason: \",p.reason)\n",
    "                j += 1\n",
    "            if p.children is None:\n",
    "                return  True,p.reason\n",
    "        return False,-1\n",
    "    \n",
    "    def search(self, text_inp:str):\n",
    "        text = \" \" + re.sub(\"[^\\\\w]+\",\" \",text_inp) + \" \"\n",
    "        word_list = deque()\n",
    "        for idx,char in enumerate(text):\n",
    "            p = self.root\n",
    "#             print(\"\\nroot-p: \",p)\n",
    "#             print(\"root-p.children: \",p.children)\n",
    "#             print(\"root-p.reason: \",p.reason)\n",
    "            if char in self.root.children:\n",
    "                j = idx\n",
    "                p = self.root\n",
    "                print(j,p,text,p.children,j<len(text),text[j] in p.children)\n",
    "                while j<len(text) and text[j] in p.children:\n",
    "                    print(\"b\",\" \"*j,j,\"'\"+text[j]+\"'\")\n",
    "                    p = p.children[text[j]]\n",
    "                    if p.children is None:\n",
    "                        word_list.append((\"\".join(text[idx:j]).strip(),p.reason))\n",
    "                        pass # 这里不用跳跃性地赋值 idx = idx+j,因为要兼容类似中文的语种,从 \"我爱天安门\" 中找到\"我爱\"和\"爱天安门\"\n",
    "                    j += 1\n",
    "                    print(\"e\",\" \"*(j-1),j,\"'\"+text[j]+\"'\",p.children,p)\n",
    "        return word_list\n",
    "\n",
    "dfa = DFATree()\n",
    "\n",
    "watch_list = {0:[\"massacre\", \"porn\", \"violence\", \"kill\", \"violate purpose\"]}\n",
    "dfa.init_from_dict(watch_list)"
   ]
  },
  {
   "cell_type": "code",
   "execution_count": 76,
   "metadata": {
    "ExecuteTime": {
     "end_time": "2019-06-14T11:15:54.558093Z",
     "start_time": "2019-06-14T11:15:54.535292Z"
    }
   },
   "outputs": [
    {
     "data": {
      "text/plain": [
       "'iolate'"
      ]
     },
     "execution_count": 76,
     "metadata": {},
     "output_type": "execute_result"
    },
    {
     "data": {
      "text/plain": [
       "' '"
      ]
     },
     "execution_count": 76,
     "metadata": {},
     "output_type": "execute_result"
    },
    {
     "data": {
      "text/plain": [
       "<__main__.Node at 0x7f9293af4e80>"
      ]
     },
     "execution_count": 76,
     "metadata": {},
     "output_type": "execute_result"
    },
    {
     "data": {
      "text/plain": [
       "<__main__.Node at 0x7f9293af4e48>"
      ]
     },
     "execution_count": 76,
     "metadata": {},
     "output_type": "execute_result"
    },
    {
     "data": {
      "text/plain": [
       "{'p': <__main__.Node at 0x7f9293af4f28>}"
      ]
     },
     "execution_count": 76,
     "metadata": {},
     "output_type": "execute_result"
    },
    {
     "data": {
      "text/plain": [
       "False"
      ]
     },
     "execution_count": 76,
     "metadata": {},
     "output_type": "execute_result"
    }
   ],
   "source": [
    "text = \" \" + re.sub(\"[^\\\\w]+\",\" \",text_inp) + \" \"\n",
    "text[16:22]\n",
    "text[22]\n",
    "p = dfa.root.children[' '].children['v'].children['i'].children['o'].children['l'].children['a'].children['t'].children['e']\n",
    "p\n",
    "p = p.children[text[22]]\n",
    "p\n",
    "p.children\n",
    "p.children is None"
   ]
  },
  {
   "cell_type": "code",
   "execution_count": 71,
   "metadata": {
    "ExecuteTime": {
     "end_time": "2019-06-14T11:12:03.120506Z",
     "start_time": "2019-06-14T11:12:03.114346Z"
    }
   },
   "outputs": [
    {
     "data": {
      "text/plain": [
       "<__main__.Node at 0x7f9293af4e48>"
      ]
     },
     "execution_count": 71,
     "metadata": {},
     "output_type": "execute_result"
    }
   ],
   "source": []
  },
  {
   "cell_type": "code",
   "execution_count": 77,
   "metadata": {
    "ExecuteTime": {
     "end_time": "2019-06-14T11:17:13.413335Z",
     "start_time": "2019-06-14T11:17:13.387554Z"
    },
    "scrolled": true
   },
   "outputs": [
    {
     "name": "stdout",
     "output_type": "stream",
     "text": [
      "0 <__main__.Node object at 0x7f92904e1ef0>  massacreadwgb violate  {' ': <__main__.Node object at 0x7f92904b3320>} True True\n",
      "b  0 ' '\n",
      "e  1 'm' {'m': <__main__.Node object at 0x7f92904b3da0>, 'p': <__main__.Node object at 0x7f92904e1860>, 'v': <__main__.Node object at 0x7f92904e1908>, 'k': <__main__.Node object at 0x7f92904e1898>} <__main__.Node object at 0x7f92904b3320>\n",
      "b   1 'm'\n",
      "e   2 'a' {'a': <__main__.Node object at 0x7f92904e11d0>} <__main__.Node object at 0x7f92904b3da0>\n",
      "b    2 'a'\n",
      "e    3 's' {'s': <__main__.Node object at 0x7f92904e1eb8>} <__main__.Node object at 0x7f92904e11d0>\n",
      "b     3 's'\n",
      "e     4 's' {'s': <__main__.Node object at 0x7f92904e1400>} <__main__.Node object at 0x7f92904e1eb8>\n",
      "b      4 's'\n",
      "e      5 'a' {'a': <__main__.Node object at 0x7f92904e1cf8>} <__main__.Node object at 0x7f92904e1400>\n",
      "b       5 'a'\n",
      "e       6 'c' {'c': <__main__.Node object at 0x7f92904e12e8>} <__main__.Node object at 0x7f92904e1cf8>\n",
      "b        6 'c'\n",
      "e        7 'r' {'r': <__main__.Node object at 0x7f92904e1518>} <__main__.Node object at 0x7f92904e12e8>\n",
      "b         7 'r'\n",
      "e         8 'e' {'e': <__main__.Node object at 0x7f92904e10f0>} <__main__.Node object at 0x7f92904e1518>\n",
      "b          8 'e'\n",
      "e          9 'a' {' ': <__main__.Node object at 0x7f92904e1160>} <__main__.Node object at 0x7f92904e10f0>\n",
      "14 <__main__.Node object at 0x7f92904e1ef0>  massacreadwgb violate  {' ': <__main__.Node object at 0x7f92904b3320>} True True\n",
      "b                14 ' '\n",
      "e                15 'v' {'m': <__main__.Node object at 0x7f92904b3da0>, 'p': <__main__.Node object at 0x7f92904e1860>, 'v': <__main__.Node object at 0x7f92904e1908>, 'k': <__main__.Node object at 0x7f92904e1898>} <__main__.Node object at 0x7f92904b3320>\n",
      "b                 15 'v'\n",
      "e                 16 'i' {'i': <__main__.Node object at 0x7f92904e1470>} <__main__.Node object at 0x7f92904e1908>\n",
      "b                  16 'i'\n",
      "e                  17 'o' {'o': <__main__.Node object at 0x7f92904e1128>} <__main__.Node object at 0x7f92904e1470>\n",
      "b                   17 'o'\n",
      "e                   18 'l' {'l': <__main__.Node object at 0x7f92904e1780>} <__main__.Node object at 0x7f92904e1128>\n",
      "b                    18 'l'\n",
      "e                    19 'a' {'e': <__main__.Node object at 0x7f92904e1630>, 'a': <__main__.Node object at 0x7f92904e1668>} <__main__.Node object at 0x7f92904e1780>\n",
      "b                     19 'a'\n",
      "e                     20 't' {'t': <__main__.Node object at 0x7f9290a54c18>} <__main__.Node object at 0x7f92904e1668>\n",
      "b                      20 't'\n",
      "e                      21 'e' {'e': <__main__.Node object at 0x7f9293af4e80>} <__main__.Node object at 0x7f9290a54c18>\n",
      "b                       21 'e'\n",
      "e                       22 ' ' {' ': <__main__.Node object at 0x7f9293af4e48>} <__main__.Node object at 0x7f9293af4e80>\n",
      "b                        22 ' '\n"
     ]
    },
    {
     "ename": "IndexError",
     "evalue": "string index out of range",
     "output_type": "error",
     "traceback": [
      "\u001b[0;31m---------------------------------------------------------------------------\u001b[0m",
      "\u001b[0;31mIndexError\u001b[0m                                Traceback (most recent call last)",
      "\u001b[0;32m<ipython-input-77-156d07e1c325>\u001b[0m in \u001b[0;36m<module>\u001b[0;34m()\u001b[0m\n\u001b[1;32m      1\u001b[0m \u001b[0mtext_inp\u001b[0m \u001b[0;34m=\u001b[0m \u001b[0;34m\"massacreadwgb violate\"\u001b[0m\u001b[0;34m\u001b[0m\u001b[0;34m\u001b[0m\u001b[0m\n\u001b[1;32m      2\u001b[0m \u001b[0;31m# res = dfa.search(\"massacreadwgb violate, purpose, violate purpose, from now on massacre\")\u001b[0m\u001b[0;34m\u001b[0m\u001b[0;34m\u001b[0m\u001b[0;34m\u001b[0m\u001b[0m\n\u001b[0;32m----> 3\u001b[0;31m \u001b[0mres\u001b[0m \u001b[0;34m=\u001b[0m \u001b[0mdfa\u001b[0m\u001b[0;34m.\u001b[0m\u001b[0msearch\u001b[0m\u001b[0;34m(\u001b[0m\u001b[0mtext_inp\u001b[0m\u001b[0;34m)\u001b[0m\u001b[0;34m\u001b[0m\u001b[0;34m\u001b[0m\u001b[0m\n\u001b[0m\u001b[1;32m      4\u001b[0m \u001b[0mprint\u001b[0m\u001b[0;34m(\u001b[0m\u001b[0mres\u001b[0m\u001b[0;34m,\u001b[0m\u001b[0;34m\"\\n\"\u001b[0m\u001b[0;34m*\u001b[0m\u001b[0;36m10\u001b[0m\u001b[0;34m)\u001b[0m\u001b[0;34m\u001b[0m\u001b[0;34m\u001b[0m\u001b[0m\n",
      "\u001b[0;32m<ipython-input-67-33a1fc116c08>\u001b[0m in \u001b[0;36msearch\u001b[0;34m(self, text_inp)\u001b[0m\n\u001b[1;32m     87\u001b[0m                         \u001b[0;32mpass\u001b[0m \u001b[0;31m# 这里不用跳跃性地赋值 idx = idx+j,因为要兼容类似中文的语种,从 \"我爱天安门\" 中找到\"我爱\"和\"爱天安门\"\u001b[0m\u001b[0;34m\u001b[0m\u001b[0;34m\u001b[0m\u001b[0m\n\u001b[1;32m     88\u001b[0m                     \u001b[0mj\u001b[0m \u001b[0;34m+=\u001b[0m \u001b[0;36m1\u001b[0m\u001b[0;34m\u001b[0m\u001b[0;34m\u001b[0m\u001b[0m\n\u001b[0;32m---> 89\u001b[0;31m                     \u001b[0mprint\u001b[0m\u001b[0;34m(\u001b[0m\u001b[0;34m\"e\"\u001b[0m\u001b[0;34m,\u001b[0m\u001b[0;34m\" \"\u001b[0m\u001b[0;34m*\u001b[0m\u001b[0;34m(\u001b[0m\u001b[0mj\u001b[0m\u001b[0;34m-\u001b[0m\u001b[0;36m1\u001b[0m\u001b[0;34m)\u001b[0m\u001b[0;34m,\u001b[0m\u001b[0mj\u001b[0m\u001b[0;34m,\u001b[0m\u001b[0;34m\"'\"\u001b[0m\u001b[0;34m+\u001b[0m\u001b[0mtext\u001b[0m\u001b[0;34m[\u001b[0m\u001b[0mj\u001b[0m\u001b[0;34m]\u001b[0m\u001b[0;34m+\u001b[0m\u001b[0;34m\"'\"\u001b[0m\u001b[0;34m,\u001b[0m\u001b[0mp\u001b[0m\u001b[0;34m.\u001b[0m\u001b[0mchildren\u001b[0m\u001b[0;34m,\u001b[0m\u001b[0mp\u001b[0m\u001b[0;34m)\u001b[0m\u001b[0;34m\u001b[0m\u001b[0;34m\u001b[0m\u001b[0m\n\u001b[0m\u001b[1;32m     90\u001b[0m         \u001b[0;32mreturn\u001b[0m \u001b[0mword_list\u001b[0m\u001b[0;34m\u001b[0m\u001b[0;34m\u001b[0m\u001b[0m\n\u001b[1;32m     91\u001b[0m \u001b[0;34m\u001b[0m\u001b[0m\n",
      "\u001b[0;31mIndexError\u001b[0m: string index out of range"
     ]
    }
   ],
   "source": [
    "text_inp = \"massacreadwgb violate\"\n",
    "# res = dfa.search(\"massacreadwgb violate, purpose, violate purpose, from now on massacre\")\n",
    "res = dfa.search(text_inp)\n",
    "print(res,\"\\n\"*10)"
   ]
  },
  {
   "cell_type": "code",
   "execution_count": null,
   "metadata": {},
   "outputs": [],
   "source": []
  },
  {
   "cell_type": "code",
   "execution_count": null,
   "metadata": {},
   "outputs": [],
   "source": []
  },
  {
   "cell_type": "code",
   "execution_count": 62,
   "metadata": {
    "ExecuteTime": {
     "end_time": "2019-06-14T08:57:27.006286Z",
     "start_time": "2019-06-14T08:57:26.942764Z"
    }
   },
   "outputs": [
    {
     "data": {
      "text/plain": [
       "{'m': <__main__.Node at 0x7f7f6caeb160>,\n",
       " 'p': <__main__.Node at 0x7f7f6caeb390>,\n",
       " 'v': <__main__.Node at 0x7f7f6caeb358>,\n",
       " 'k': <__main__.Node at 0x7f7f6caeb6a0>}"
      ]
     },
     "execution_count": 62,
     "metadata": {},
     "output_type": "execute_result"
    },
    {
     "data": {
      "text/plain": [
       "{'m': <__main__.Node at 0x7f7f6caeb160>,\n",
       " 'p': <__main__.Node at 0x7f7f6caeb390>,\n",
       " 'v': <__main__.Node at 0x7f7f6caeb358>,\n",
       " 'k': <__main__.Node at 0x7f7f6caeb6a0>}"
      ]
     },
     "execution_count": 62,
     "metadata": {},
     "output_type": "execute_result"
    },
    {
     "data": {
      "text/plain": [
       "{'o': <__main__.Node at 0x7f7f6caeb3c8>}"
      ]
     },
     "execution_count": 62,
     "metadata": {},
     "output_type": "execute_result"
    },
    {
     "data": {
      "text/plain": [
       "{'r': <__main__.Node at 0x7f7f6caeb400>}"
      ]
     },
     "execution_count": 62,
     "metadata": {},
     "output_type": "execute_result"
    },
    {
     "data": {
      "text/plain": [
       "{'n': <__main__.Node at 0x7f7f6caeb438>}"
      ]
     },
     "execution_count": 62,
     "metadata": {},
     "output_type": "execute_result"
    },
    {
     "data": {
      "text/plain": [
       "{' ': <__main__.Node at 0x7f7f6caeb470>}"
      ]
     },
     "execution_count": 62,
     "metadata": {},
     "output_type": "execute_result"
    },
    {
     "data": {
      "text/plain": [
       "True"
      ]
     },
     "execution_count": 62,
     "metadata": {},
     "output_type": "execute_result"
    },
    {
     "ename": "AttributeError",
     "evalue": "'Node' object has no attribute 'keys'",
     "output_type": "error",
     "traceback": [
      "\u001b[0;31m---------------------------------------------------------------------------\u001b[0m",
      "\u001b[0;31mAttributeError\u001b[0m                            Traceback (most recent call last)",
      "\u001b[0;32m<ipython-input-62-a40560aedfe6>\u001b[0m in \u001b[0;36m<module>\u001b[0;34m()\u001b[0m\n\u001b[1;32m     18\u001b[0m \u001b[0mthe_dict\u001b[0m\u001b[0;34m[\u001b[0m\u001b[0;34m' '\u001b[0m\u001b[0;34m]\u001b[0m\u001b[0;34m.\u001b[0m\u001b[0mchildren\u001b[0m\u001b[0;34m[\u001b[0m\u001b[0;34m'p'\u001b[0m\u001b[0;34m]\u001b[0m\u001b[0;34m.\u001b[0m\u001b[0mchildren\u001b[0m\u001b[0;34m[\u001b[0m\u001b[0;34m'o'\u001b[0m\u001b[0;34m]\u001b[0m\u001b[0;34m.\u001b[0m\u001b[0mchildren\u001b[0m\u001b[0;34m[\u001b[0m\u001b[0;34m'r'\u001b[0m\u001b[0;34m]\u001b[0m\u001b[0;34m.\u001b[0m\u001b[0mchildren\u001b[0m\u001b[0;34m[\u001b[0m\u001b[0;34m'n'\u001b[0m\u001b[0;34m]\u001b[0m\u001b[0;34m.\u001b[0m\u001b[0mchildren\u001b[0m\u001b[0;34m[\u001b[0m\u001b[0;34m' '\u001b[0m\u001b[0;34m]\u001b[0m\u001b[0;34m.\u001b[0m\u001b[0mchildren\u001b[0m \u001b[0;32mis\u001b[0m \u001b[0;32mNone\u001b[0m\u001b[0;34m\u001b[0m\u001b[0;34m\u001b[0m\u001b[0m\n\u001b[1;32m     19\u001b[0m \u001b[0;34m\u001b[0m\u001b[0m\n\u001b[0;32m---> 20\u001b[0;31m \u001b[0mloop\u001b[0m\u001b[0;34m(\u001b[0m\u001b[0mthe_dict\u001b[0m\u001b[0;34m,\u001b[0m\u001b[0;34m[\u001b[0m\u001b[0;34m]\u001b[0m\u001b[0;34m)\u001b[0m\u001b[0;34m\u001b[0m\u001b[0;34m\u001b[0m\u001b[0m\n\u001b[0m",
      "\u001b[0;32m<ipython-input-62-a40560aedfe6>\u001b[0m in \u001b[0;36mloop\u001b[0;34m(dict_inp, word_list)\u001b[0m\n\u001b[1;32m      5\u001b[0m             \u001b[0mprint\u001b[0m\u001b[0;34m(\u001b[0m\u001b[0mk\u001b[0m\u001b[0;34m)\u001b[0m\u001b[0;34m\u001b[0m\u001b[0;34m\u001b[0m\u001b[0m\n\u001b[1;32m      6\u001b[0m         \u001b[0;32melse\u001b[0m\u001b[0;34m:\u001b[0m\u001b[0;34m\u001b[0m\u001b[0;34m\u001b[0m\u001b[0m\n\u001b[0;32m----> 7\u001b[0;31m             \u001b[0mword_list\u001b[0m\u001b[0;34m.\u001b[0m\u001b[0mextend\u001b[0m\u001b[0;34m(\u001b[0m\u001b[0mloop\u001b[0m\u001b[0;34m(\u001b[0m\u001b[0mdict_inp\u001b[0m\u001b[0;34m[\u001b[0m\u001b[0mk\u001b[0m\u001b[0;34m]\u001b[0m\u001b[0;34m,\u001b[0m\u001b[0mword_list\u001b[0m\u001b[0;34m)\u001b[0m\u001b[0;34m)\u001b[0m\u001b[0;34m\u001b[0m\u001b[0;34m\u001b[0m\u001b[0m\n\u001b[0m\u001b[1;32m      8\u001b[0m     \u001b[0;32mreturn\u001b[0m \u001b[0mword_list\u001b[0m\u001b[0;34m\u001b[0m\u001b[0;34m\u001b[0m\u001b[0m\n\u001b[1;32m      9\u001b[0m \u001b[0;34m\u001b[0m\u001b[0m\n",
      "\u001b[0;32m<ipython-input-62-a40560aedfe6>\u001b[0m in \u001b[0;36mloop\u001b[0;34m(dict_inp, word_list)\u001b[0m\n\u001b[1;32m      1\u001b[0m \u001b[0;32mdef\u001b[0m \u001b[0mloop\u001b[0m\u001b[0;34m(\u001b[0m\u001b[0mdict_inp\u001b[0m\u001b[0;34m,\u001b[0m\u001b[0mword_list\u001b[0m\u001b[0;34m)\u001b[0m\u001b[0;34m:\u001b[0m\u001b[0;34m\u001b[0m\u001b[0;34m\u001b[0m\u001b[0m\n\u001b[0;32m----> 2\u001b[0;31m     \u001b[0;32mfor\u001b[0m \u001b[0mk\u001b[0m \u001b[0;32min\u001b[0m \u001b[0mdict_inp\u001b[0m\u001b[0;34m.\u001b[0m\u001b[0mkeys\u001b[0m\u001b[0;34m(\u001b[0m\u001b[0;34m)\u001b[0m\u001b[0;34m:\u001b[0m\u001b[0;34m\u001b[0m\u001b[0;34m\u001b[0m\u001b[0m\n\u001b[0m\u001b[1;32m      3\u001b[0m         \u001b[0mword_list\u001b[0m\u001b[0;34m.\u001b[0m\u001b[0mappend\u001b[0m\u001b[0;34m(\u001b[0m\u001b[0mk\u001b[0m\u001b[0;34m)\u001b[0m\u001b[0;34m\u001b[0m\u001b[0;34m\u001b[0m\u001b[0m\n\u001b[1;32m      4\u001b[0m         \u001b[0;32mif\u001b[0m \u001b[0mdict_inp\u001b[0m\u001b[0;34m[\u001b[0m\u001b[0mk\u001b[0m\u001b[0;34m]\u001b[0m\u001b[0;34m.\u001b[0m\u001b[0mchildren\u001b[0m \u001b[0;32mis\u001b[0m \u001b[0;32mNone\u001b[0m\u001b[0;34m:\u001b[0m\u001b[0;34m\u001b[0m\u001b[0;34m\u001b[0m\u001b[0m\n\u001b[1;32m      5\u001b[0m             \u001b[0mprint\u001b[0m\u001b[0;34m(\u001b[0m\u001b[0mk\u001b[0m\u001b[0;34m)\u001b[0m\u001b[0;34m\u001b[0m\u001b[0;34m\u001b[0m\u001b[0m\n",
      "\u001b[0;31mAttributeError\u001b[0m: 'Node' object has no attribute 'keys'"
     ]
    }
   ],
   "source": [
    "def loop(dict_inp,word_list):\n",
    "    for k in dict_inp.keys():\n",
    "        word_list.append(k)\n",
    "        if dict_inp[k].children is None:\n",
    "            print(k)\n",
    "        else:\n",
    "            word_list.extend(loop(dict_inp[k],word_list))\n",
    "    return word_list\n",
    "\n",
    "the_dict = dfa.root.children\n",
    "for i in the_dict.keys():\n",
    "    the_dict[i].children\n",
    "the_dict[' '].children\n",
    "the_dict[' '].children['p'].children\n",
    "the_dict[' '].children['p'].children['o'].children\n",
    "the_dict[' '].children['p'].children['o'].children['r'].children\n",
    "the_dict[' '].children['p'].children['o'].children['r'].children['n'].children\n",
    "the_dict[' '].children['p'].children['o'].children['r'].children['n'].children[' '].children is None\n",
    "\n",
    "loop(the_dict,[])"
   ]
  },
  {
   "cell_type": "code",
   "execution_count": null,
   "metadata": {},
   "outputs": [],
   "source": [
    "k\n"
   ]
  }
 ],
 "metadata": {
  "kernelspec": {
   "display_name": "Python 3",
   "language": "python",
   "name": "python3"
  },
  "language_info": {
   "codemirror_mode": {
    "name": "ipython",
    "version": 3
   },
   "file_extension": ".py",
   "mimetype": "text/x-python",
   "name": "python",
   "nbconvert_exporter": "python",
   "pygments_lexer": "ipython3",
   "version": "3.6.7"
  },
  "toc": {
   "base_numbering": 1,
   "nav_menu": {},
   "number_sections": true,
   "sideBar": true,
   "skip_h1_title": false,
   "title_cell": "Table of Contents",
   "title_sidebar": "Contents",
   "toc_cell": false,
   "toc_position": {},
   "toc_section_display": true,
   "toc_window_display": false
  },
  "varInspector": {
   "cols": {
    "lenName": 16,
    "lenType": 16,
    "lenVar": 40
   },
   "kernels_config": {
    "python": {
     "delete_cmd_postfix": "",
     "delete_cmd_prefix": "del ",
     "library": "var_list.py",
     "varRefreshCmd": "print(var_dic_list())"
    },
    "r": {
     "delete_cmd_postfix": ") ",
     "delete_cmd_prefix": "rm(",
     "library": "var_list.r",
     "varRefreshCmd": "cat(var_dic_list()) "
    }
   },
   "types_to_exclude": [
    "module",
    "function",
    "builtin_function_or_method",
    "instance",
    "_Feature"
   ],
   "window_display": false
  }
 },
 "nbformat": 4,
 "nbformat_minor": 2
}
