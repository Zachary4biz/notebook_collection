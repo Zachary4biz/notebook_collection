{
 "cells": [
  {
   "cell_type": "code",
   "execution_count": 41,
   "metadata": {
    "ExecuteTime": {
     "end_time": "2019-06-17T10:08:27.278649Z",
     "start_time": "2019-06-17T10:08:27.271599Z"
    }
   },
   "outputs": [],
   "source": [
    "from IPython.core.interactiveshell import InteractiveShell\n",
    "InteractiveShell.ast_node_interactivity = \"all\"\n",
    "%matplotlib inline\n",
    "from tqdm import tqdm_notebook\n",
    "import concurrent.futures\n",
    "from multiprocessing import Pool\n",
    "import copy,os,sys,psutil\n",
    "from collections import Counter"
   ]
  },
  {
   "cell_type": "code",
   "execution_count": 42,
   "metadata": {
    "ExecuteTime": {
     "end_time": "2019-06-17T10:08:27.544140Z",
     "start_time": "2019-06-17T10:08:27.540087Z"
    }
   },
   "outputs": [],
   "source": [
    "import itertools\n",
    "import re\n",
    "from collections import deque,defaultdict\n",
    "import json\n"
   ]
  },
  {
   "cell_type": "code",
   "execution_count": 43,
   "metadata": {
    "ExecuteTime": {
     "end_time": "2019-06-17T10:08:27.872097Z",
     "start_time": "2019-06-17T10:08:27.864194Z"
    },
    "code_folding": [
     0
    ]
   },
   "outputs": [],
   "source": [
    "class Node(object):\n",
    "    \"\"\"\n",
    "    DFA不需要反查,所以未记录父节点\n",
    "    在DFA中叶子节点标记了一个词的结束如, \"porn \"和\"porno\"中的\" \"和\"o\" |\n",
    "      - 这种用叶子节点直接标记词汇结束的做法,不兼容 \"既要屏蔽A也要屏蔽AB\",但其实从业务逻辑上来说,写\"A\"就不用\"AB\",写\"AB\"表示要细分的那就不需要\"A\"\n",
    "      - 例如: \" porn \"和\" porn abc \"会把\" porn \"的最后的空格加上children={\"a\":xxx}\n",
    "      - 其实也不支持 \"vocab\" 和 \"vocabulary\"\n",
    "    \"\"\"\n",
    "    def __init__(self, reason=None):\n",
    "        self.children = None\n",
    "        self.reason = reason # 仅end_word==True时有值, 标记某个词是什么原因被标记为敏感词\n",
    "        self.is_end_word = False # 标记词条结束(不再用叶子节点作为结束标志)\n",
    "\n",
    "    def is_leaf_node(self):\n",
    "        return self.children is None\n",
    "\n",
    "    def add_child(self,v):\n",
    "        if self.is_leaf_node():\n",
    "            self.children = {v:Node()}\n",
    "        elif v not in self.children:\n",
    "            self.children[v] = Node()\n",
    "        else:\n",
    "            pass # DFA子节点已有则不更新\n"
   ]
  },
  {
   "cell_type": "code",
   "execution_count": 44,
   "metadata": {
    "ExecuteTime": {
     "end_time": "2019-06-17T10:08:28.287220Z",
     "start_time": "2019-06-17T10:08:28.263437Z"
    },
    "code_folding": [
     0
    ]
   },
   "outputs": [],
   "source": [
    "class DFATree(object):\n",
    "    def __init__(self):\n",
    "        self.root = Node()\n",
    "        self._init_from_file = {\n",
    "            \"json\":self._parse_json,\n",
    "            \"csv\":self._parse_csv\n",
    "        }\n",
    "        self.support_file_type = self._init_from_file.keys()\n",
    "\n",
    "\n",
    "    def _parse_json(self,path:str):\n",
    "        with open(path,\"r\") as f:\n",
    "            res = json.load(f)\n",
    "        self.init_from_dict(res)\n",
    "        return res\n",
    "\n",
    "    # \\t分割理由和词,逗号做词间分割,如下\n",
    "    # 0\\tABC,BCD,ABC EFG\n",
    "    def _parse_csv(self,path:str):\n",
    "        res = {}\n",
    "        with open(path,\"r\") as f:\n",
    "            for reason,word_list_str in [line.strip().split(\"\\t\") for line in f]:\n",
    "                res.update({reason:word_list_str.split(\",\")})\n",
    "        self.init_from_dict(res)\n",
    "        return res\n",
    "\n",
    "    def add_word(self,word_inp,reason,sep = \" \"):\n",
    "        word = sep+word_inp+sep\n",
    "        node = self.root\n",
    "        for idx, char in enumerate(word):\n",
    "            node.add_child(char)\n",
    "            node = node.children[char]\n",
    "        node.reason = reason\n",
    "        node.is_end_word = True\n",
    "\n",
    "    def add_word_CN(self,word_inp,reason):\n",
    "        self.add_word(word_inp,reason,sep=\"\")\n",
    "\n",
    "    def add_word_EN(self,word_inp,reason):\n",
    "        self.add_word(word_inp,reason,sep=\" \")\n",
    "\n",
    "    def init_from_file(self, file_path:str, file_type:str):\n",
    "        return self._init_from_file[file_type](file_path)\n",
    "\n",
    "\n",
    "    def init_from_dict(self,watch_list_inp:dict):\n",
    "        for reason,word_list in watch_list_inp.items():\n",
    "            for word in word_list:\n",
    "                self.add_word_EN(word,reason)\n",
    "\n",
    "    # dfa.getRes(\" violence\") 获得字符串最后一个字母\"e\"的Node\n",
    "    def node_of_last_char(self,ss) -> Node:\n",
    "        bn = self.root\n",
    "        for idx,c in enumerate(ss):\n",
    "            bn = bn.children[c]\n",
    "        return bn\n",
    "\n",
    "    # 清理句子中的各种符号\n",
    "    @staticmethod\n",
    "    def text_format(text_inp:str):\n",
    "        return \" \" + re.sub(\"[^\\\\w]+\",\" \",text_inp) + \" \"\n",
    "\n",
    "\n",
    "    # do_fromat控制是否自动清理符号\n",
    "    def search(self, text_inp:str, return_json:bool=True, do_format:bool=True):\n",
    "        text = self.text_format(text_inp) if do_format else text_inp\n",
    "        word_list = deque()\n",
    "        for idx,char in enumerate(text):\n",
    "            if char in self.root.children:\n",
    "                j = idx\n",
    "                p = self.root\n",
    "                while j<len(text) and not p.is_leaf_node() and text[j] in p.children:\n",
    "                    p = p.children[text[j]]\n",
    "                    if p.is_end_word :\n",
    "                        word_list.append((\"\".join(text[idx:j+1]),p.reason))\n",
    "                        pass # 这里不用跳跃性地赋值 idx = idx+j,因为要兼容类似中文的语种,从 \"我爱天安门\" 中找到\"我爱\"和\"爱天安门\"\n",
    "                    j += 1\n",
    "        word_list = [(w.strip(), r) for w,r in word_list]\n",
    "        word_list = [[k[0], k[1],len(list(g))] for k,g in itertools.groupby(sorted(word_list,key=None),key=None)] # IMPORTANT 注意groupby和sorted要使用相同的key,否则groupby可能失效\n",
    "        # key不指定为词,按word和reason一起groupby;因为可能有一个词对应多个reason,如 Gaddfi 可能同时有政治敏感和宗教两个原因\n",
    "        json_res = json.dumps([{\"word\":w, \"reason\":r, \"cnt\":c} for w,r,c in word_list])\n",
    "        return json_res if return_json else word_list\n",
    "\n"
   ]
  },
  {
   "cell_type": "code",
   "execution_count": 45,
   "metadata": {
    "ExecuteTime": {
     "end_time": "2019-06-17T10:08:29.073113Z",
     "start_time": "2019-06-17T10:08:29.038460Z"
    }
   },
   "outputs": [
    {
     "name": "stdout",
     "output_type": "stream",
     "text": [
      ">>> watch_list: {0: ['violences', 'violence', 'violence violences', 'massacre', 'porn', 'kill', 'violate', 'violate purpose']}\n",
      ">>> json_res:  [{\"word\": \"massacre\", \"reason\": 0, \"cnt\": 1}, {\"word\": \"violate\", \"reason\": 0, \"cnt\": 2}, {\"word\": \"violate purpose\", \"reason\": 0, \"cnt\": 2}, {\"word\": \"violence\", \"reason\": 0, \"cnt\": 1}, {\"word\": \"violence violences\", \"reason\": 0, \"cnt\": 1}, {\"word\": \"violences\", \"reason\": 0, \"cnt\": 1}]\n",
      ">>> res -h:\n",
      "['massacre', 0, 1]\n",
      "['violate', 0, 2]\n",
      "['violate purpose', 0, 2]\n",
      "['violence', 0, 1]\n",
      "['violence violences', 0, 1]\n",
      "['violences', 0, 1]\n"
     ]
    },
    {
     "ename": "FileNotFoundError",
     "evalue": "[Errno 2] No such file or directory: '/Users/zac/5-Algrithm/python/watch_list.json'",
     "output_type": "error",
     "traceback": [
      "\u001b[0;31m---------------------------------------------------------------------------\u001b[0m",
      "\u001b[0;31mFileNotFoundError\u001b[0m                         Traceback (most recent call last)",
      "\u001b[0;32m<ipython-input-45-8e5004546573>\u001b[0m in \u001b[0;36m<module>\u001b[0;34m()\u001b[0m\n\u001b[1;32m     21\u001b[0m \u001b[0;34m\u001b[0m\u001b[0m\n\u001b[1;32m     22\u001b[0m     \u001b[0mtest_one\u001b[0m\u001b[0;34m(\u001b[0m\u001b[0;34m)\u001b[0m\u001b[0;34m\u001b[0m\u001b[0;34m\u001b[0m\u001b[0m\n\u001b[0;32m---> 23\u001b[0;31m     \u001b[0mtest_two\u001b[0m\u001b[0;34m(\u001b[0m\u001b[0;34m)\u001b[0m\u001b[0;34m\u001b[0m\u001b[0;34m\u001b[0m\u001b[0m\n\u001b[0m",
      "\u001b[0;32m<ipython-input-45-8e5004546573>\u001b[0m in \u001b[0;36mtest_two\u001b[0;34m()\u001b[0m\n\u001b[1;32m     13\u001b[0m     \u001b[0;32mdef\u001b[0m \u001b[0mtest_two\u001b[0m\u001b[0;34m(\u001b[0m\u001b[0;34m)\u001b[0m\u001b[0;34m:\u001b[0m\u001b[0;34m\u001b[0m\u001b[0;34m\u001b[0m\u001b[0m\n\u001b[1;32m     14\u001b[0m         \u001b[0mdfa\u001b[0m \u001b[0;34m=\u001b[0m \u001b[0mDFATree\u001b[0m\u001b[0;34m(\u001b[0m\u001b[0;34m)\u001b[0m\u001b[0;34m\u001b[0m\u001b[0;34m\u001b[0m\u001b[0m\n\u001b[0;32m---> 15\u001b[0;31m         \u001b[0mdfa\u001b[0m\u001b[0;34m.\u001b[0m\u001b[0minit_from_file\u001b[0m\u001b[0;34m(\u001b[0m\u001b[0;34m\"/Users/zac/5-Algrithm/python/watch_list.json\"\u001b[0m\u001b[0;34m,\u001b[0m\u001b[0;34m\"json\"\u001b[0m\u001b[0;34m)\u001b[0m\u001b[0;34m\u001b[0m\u001b[0;34m\u001b[0m\u001b[0m\n\u001b[0m\u001b[1;32m     16\u001b[0m         \u001b[0mcontent\u001b[0m \u001b[0;34m=\u001b[0m \u001b[0;34m\"violence violences massacreadwgb violate, purpose, violate purpose, from now on massacre\"\u001b[0m\u001b[0;34m\u001b[0m\u001b[0;34m\u001b[0m\u001b[0m\n\u001b[1;32m     17\u001b[0m         \u001b[0mprint\u001b[0m\u001b[0;34m(\u001b[0m\u001b[0;34m\">>> json_res: \"\u001b[0m\u001b[0;34m,\u001b[0m\u001b[0mdfa\u001b[0m\u001b[0;34m.\u001b[0m\u001b[0msearch\u001b[0m\u001b[0;34m(\u001b[0m\u001b[0mcontent\u001b[0m\u001b[0;34m)\u001b[0m\u001b[0;34m)\u001b[0m\u001b[0;34m\u001b[0m\u001b[0;34m\u001b[0m\u001b[0m\n",
      "\u001b[0;32m<ipython-input-44-48b41f00df75>\u001b[0m in \u001b[0;36minit_from_file\u001b[0;34m(self, file_path, file_type)\u001b[0m\n\u001b[1;32m     41\u001b[0m \u001b[0;34m\u001b[0m\u001b[0m\n\u001b[1;32m     42\u001b[0m     \u001b[0;32mdef\u001b[0m \u001b[0minit_from_file\u001b[0m\u001b[0;34m(\u001b[0m\u001b[0mself\u001b[0m\u001b[0;34m,\u001b[0m \u001b[0mfile_path\u001b[0m\u001b[0;34m:\u001b[0m\u001b[0mstr\u001b[0m\u001b[0;34m,\u001b[0m \u001b[0mfile_type\u001b[0m\u001b[0;34m:\u001b[0m\u001b[0mstr\u001b[0m\u001b[0;34m)\u001b[0m\u001b[0;34m:\u001b[0m\u001b[0;34m\u001b[0m\u001b[0;34m\u001b[0m\u001b[0m\n\u001b[0;32m---> 43\u001b[0;31m         \u001b[0;32mreturn\u001b[0m \u001b[0mself\u001b[0m\u001b[0;34m.\u001b[0m\u001b[0m_init_from_file\u001b[0m\u001b[0;34m[\u001b[0m\u001b[0mfile_type\u001b[0m\u001b[0;34m]\u001b[0m\u001b[0;34m(\u001b[0m\u001b[0mfile_path\u001b[0m\u001b[0;34m)\u001b[0m\u001b[0;34m\u001b[0m\u001b[0;34m\u001b[0m\u001b[0m\n\u001b[0m\u001b[1;32m     44\u001b[0m \u001b[0;34m\u001b[0m\u001b[0m\n\u001b[1;32m     45\u001b[0m \u001b[0;34m\u001b[0m\u001b[0m\n",
      "\u001b[0;32m<ipython-input-44-48b41f00df75>\u001b[0m in \u001b[0;36m_parse_json\u001b[0;34m(self, path)\u001b[0m\n\u001b[1;32m     10\u001b[0m \u001b[0;34m\u001b[0m\u001b[0m\n\u001b[1;32m     11\u001b[0m     \u001b[0;32mdef\u001b[0m \u001b[0m_parse_json\u001b[0m\u001b[0;34m(\u001b[0m\u001b[0mself\u001b[0m\u001b[0;34m,\u001b[0m\u001b[0mpath\u001b[0m\u001b[0;34m:\u001b[0m\u001b[0mstr\u001b[0m\u001b[0;34m)\u001b[0m\u001b[0;34m:\u001b[0m\u001b[0;34m\u001b[0m\u001b[0;34m\u001b[0m\u001b[0m\n\u001b[0;32m---> 12\u001b[0;31m         \u001b[0;32mwith\u001b[0m \u001b[0mopen\u001b[0m\u001b[0;34m(\u001b[0m\u001b[0mpath\u001b[0m\u001b[0;34m,\u001b[0m\u001b[0;34m\"r\"\u001b[0m\u001b[0;34m)\u001b[0m \u001b[0;32mas\u001b[0m \u001b[0mf\u001b[0m\u001b[0;34m:\u001b[0m\u001b[0;34m\u001b[0m\u001b[0;34m\u001b[0m\u001b[0m\n\u001b[0m\u001b[1;32m     13\u001b[0m             \u001b[0mres\u001b[0m \u001b[0;34m=\u001b[0m \u001b[0mjson\u001b[0m\u001b[0;34m.\u001b[0m\u001b[0mload\u001b[0m\u001b[0;34m(\u001b[0m\u001b[0mf\u001b[0m\u001b[0;34m)\u001b[0m\u001b[0;34m\u001b[0m\u001b[0;34m\u001b[0m\u001b[0m\n\u001b[1;32m     14\u001b[0m         \u001b[0mself\u001b[0m\u001b[0;34m.\u001b[0m\u001b[0minit_from_dict\u001b[0m\u001b[0;34m(\u001b[0m\u001b[0mres\u001b[0m\u001b[0;34m)\u001b[0m\u001b[0;34m\u001b[0m\u001b[0;34m\u001b[0m\u001b[0m\n",
      "\u001b[0;31mFileNotFoundError\u001b[0m: [Errno 2] No such file or directory: '/Users/zac/5-Algrithm/python/watch_list.json'"
     ]
    }
   ],
   "source": [
    "if __name__ == '__main__':\n",
    "    def test_one():\n",
    "        dfa = DFATree()\n",
    "        watch_list = {0:[\"violences\", \"violence\",\"violence violences\", \"massacre\", \"porn\",  \"kill\", \"violate\",\"violate purpose\"]}\n",
    "        print(\">>> watch_list:\",watch_list)\n",
    "        dfa.init_from_dict(watch_list)\n",
    "        content = \"violence violences massacreadwgb violate, purpose, violate purpose, from now on massacre\"\n",
    "        print(\">>> json_res: \",dfa.search(content))\n",
    "        print(\">>> res -h:\")\n",
    "        for i in dfa.search(content,return_json=False): print(i)\n",
    "        dfa.search(content)\n",
    "\n",
    "    def test_two():\n",
    "        dfa = DFATree()\n",
    "        dfa.init_from_file(\"/Users/zac/5-Algrithm/python/watch_list.json\",\"json\")\n",
    "        content = \"violence violences massacreadwgb violate, purpose, violate purpose, from now on massacre\"\n",
    "        print(\">>> json_res: \",dfa.search(content))\n",
    "        print(\">>> res -h:\")\n",
    "        for i in dfa.search(content,return_json=False): print(i)\n",
    "        dfa.search(content)\n",
    "\n",
    "    test_one()\n",
    "    test_two()\n"
   ]
  },
  {
   "cell_type": "code",
   "execution_count": null,
   "metadata": {},
   "outputs": [],
   "source": []
  },
  {
   "cell_type": "code",
   "execution_count": null,
   "metadata": {},
   "outputs": [],
   "source": [
    "\n"
   ]
  }
 ],
 "metadata": {
  "kernelspec": {
   "display_name": "Python 3",
   "language": "python",
   "name": "python3"
  },
  "language_info": {
   "codemirror_mode": {
    "name": "ipython",
    "version": 3
   },
   "file_extension": ".py",
   "mimetype": "text/x-python",
   "name": "python",
   "nbconvert_exporter": "python",
   "pygments_lexer": "ipython3",
   "version": "3.6.7"
  },
  "toc": {
   "base_numbering": 1,
   "nav_menu": {},
   "number_sections": true,
   "sideBar": true,
   "skip_h1_title": false,
   "title_cell": "Table of Contents",
   "title_sidebar": "Contents",
   "toc_cell": false,
   "toc_position": {},
   "toc_section_display": true,
   "toc_window_display": true
  },
  "varInspector": {
   "cols": {
    "lenName": 16,
    "lenType": 16,
    "lenVar": 40
   },
   "kernels_config": {
    "python": {
     "delete_cmd_postfix": "",
     "delete_cmd_prefix": "del ",
     "library": "var_list.py",
     "varRefreshCmd": "print(var_dic_list())"
    },
    "r": {
     "delete_cmd_postfix": ") ",
     "delete_cmd_prefix": "rm(",
     "library": "var_list.r",
     "varRefreshCmd": "cat(var_dic_list()) "
    }
   },
   "types_to_exclude": [
    "module",
    "function",
    "builtin_function_or_method",
    "instance",
    "_Feature"
   ],
   "window_display": false
  }
 },
 "nbformat": 4,
 "nbformat_minor": 2
}
