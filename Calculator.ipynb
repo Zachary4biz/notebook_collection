{
 "cells": [
  {
   "cell_type": "code",
   "execution_count": 1,
   "metadata": {
    "ExecuteTime": {
     "end_time": "2020-03-10T03:17:53.698048Z",
     "start_time": "2020-03-10T03:17:53.300690Z"
    },
    "init_cell": true
   },
   "outputs": [],
   "source": [
    "from IPython.core.interactiveshell import InteractiveShell\n",
    "InteractiveShell.ast_node_interactivity = \"all\"\n",
    "%matplotlib inline\n",
    "from tqdm.auto import tqdm\n",
    "import concurrent.futures\n",
    "from multiprocessing import Pool\n",
    "import copy,os,sys,psutil\n",
    "from collections import Counter,deque\n",
    "import itertools\n",
    "import os"
   ]
  },
  {
   "cell_type": "code",
   "execution_count": 2,
   "metadata": {
    "ExecuteTime": {
     "end_time": "2020-03-10T03:17:57.797643Z",
     "start_time": "2020-03-10T03:17:54.386669Z"
    },
    "init_cell": true
   },
   "outputs": [],
   "source": [
    "import tensorflow as tf\n",
    "import tensorflow_hub as hub\n",
    "import numpy as np\n",
    "import matplotlib.pyplot as plt"
   ]
  },
  {
   "cell_type": "code",
   "execution_count": 212,
   "metadata": {
    "ExecuteTime": {
     "end_time": "2020-03-19T10:07:18.213680Z",
     "start_time": "2020-03-19T10:07:18.203144Z"
    }
   },
   "outputs": [
    {
     "data": {
      "text/plain": [
       "array([[ 7,  0,  0],\n",
       "       [ 2,  4,  8],\n",
       "       [ 8,  3, 24],\n",
       "       [ 7,  6, 42],\n",
       "       [ 1,  3,  3],\n",
       "       [ 8,  5, 40],\n",
       "       [ 4,  6, 24],\n",
       "       [ 3,  2,  6],\n",
       "       [ 4,  7, 28],\n",
       "       [ 3,  1,  3]])"
      ]
     },
     "execution_count": 212,
     "metadata": {},
     "output_type": "execute_result"
    }
   ],
   "source": [
    "sample_cnt = 100\n",
    "x=np.random.randint(low=0,high=9,size=(sample_cnt,2))\n",
    "y=x[:,0]*x[:,1]\n",
    "samples = np.hstack((x,y.reshape(sample_cnt,-1)))\n",
    "samples[:10]"
   ]
  },
  {
   "cell_type": "code",
   "execution_count": 216,
   "metadata": {
    "ExecuteTime": {
     "end_time": "2020-03-19T10:31:51.943512Z",
     "start_time": "2020-03-19T10:31:51.929384Z"
    }
   },
   "outputs": [
    {
     "data": {
      "text/plain": [
       "[8]"
      ]
     },
     "execution_count": 216,
     "metadata": {},
     "output_type": "execute_result"
    },
    {
     "data": {
      "text/plain": [
       "[3]"
      ]
     },
     "execution_count": 216,
     "metadata": {},
     "output_type": "execute_result"
    },
    {
     "data": {
      "text/plain": [
       "[2, 4]"
      ]
     },
     "execution_count": 216,
     "metadata": {},
     "output_type": "execute_result"
    }
   ],
   "source": [
    "item2idx=dict([(str(i),i) for i in range(0,10)])\n",
    "for item in samples[2:3]:\n",
    "    for number in item:\n",
    "        [item2idx[char] for char in str(number)]\n",
    "            "
   ]
  },
  {
   "cell_type": "code",
   "execution_count": 176,
   "metadata": {
    "ExecuteTime": {
     "end_time": "2020-03-19T09:58:49.935982Z",
     "start_time": "2020-03-19T09:58:49.860735Z"
    }
   },
   "outputs": [
    {
     "data": {
      "text/plain": [
       "<tf.Tensor: id=30340, shape=(1, 10), dtype=float32, numpy=\n",
       "array([[-0.0270931 , -0.0144291 ,  0.00920377,  0.00231422, -0.01453765,\n",
       "         0.00457465, -0.02392171, -0.01320602,  0.00081663,  0.00847211]],\n",
       "      dtype=float32)>"
      ]
     },
     "execution_count": 176,
     "metadata": {},
     "output_type": "execute_result"
    },
    {
     "name": "stdout",
     "output_type": "stream",
     "text": [
      "Model: \"M\"\n",
      "_________________________________________________________________\n",
      "Layer (type)                 Output Shape              Param #   \n",
      "=================================================================\n",
      "embedding_41 (Embedding)     multiple                  30        \n",
      "_________________________________________________________________\n",
      "lstm_88 (LSTM)               multiple                  1280      \n",
      "_________________________________________________________________\n",
      "dense_55 (Dense)             multiple                  170       \n",
      "=================================================================\n",
      "Total params: 1,480\n",
      "Trainable params: 1,480\n",
      "Non-trainable params: 0\n",
      "_________________________________________________________________\n"
     ]
    }
   ],
   "source": [
    "class Calc(tf.keras.Model):\n",
    "    def __init__(self,total_size=100,emb_dim=3,**kwargs):\n",
    "        super().__init__(name=\"M\",**kwargs)\n",
    "        self.emb = tf.keras.layers.Embedding(total_size, emb_dim)\n",
    "#         self.emb = tf.keras.layers.Embedding(total_size, emb_dim)\n",
    "#         self.RNN = tf.keras.layers.GRU(rnn_units,return_sequences=True,stateful=True,recurrent_initializer='glorot_uniform')\n",
    "        self.lstm = tf.keras.layers.LSTM(16, return_sequences=False)\n",
    "        self.prediction = tf.keras.layers.Dense(total_size)\n",
    "        \n",
    "    def call(self, inp, training=False):\n",
    "        x = self.emb(inp)\n",
    "        x = self.lstm(x)\n",
    "        x = self.prediction(x)\n",
    "        return x\n",
    "    \n",
    "M = Calc(total_size=10)\n",
    "# M.build((1,4))\n",
    "M(tf.zeros((1,10)))\n",
    "M.summary()\n",
    "\n",
    "\n",
    "M.compile(optimizer=tf.keras.optimizers.Adam(1e-4), loss=tf.losses.MSE, metrics=['acc'])\n",
    "\n"
   ]
  },
  {
   "cell_type": "code",
   "execution_count": null,
   "metadata": {},
   "outputs": [],
   "source": [
    "model = keras.Sequential([\n",
    "        layers.Embedding(input_dim=30000, output_dim=32, input_length=maxlen),\n",
    "        layers.LSTM(32, return_sequences=True),\n",
    "        layers.LSTM(1, activation='sigmoid', return_sequences=False)\n",
    "    ])\n",
    "model.compile(optimizer=keras.optimizers.Adam(),\n",
    "                 loss=keras.losses.BinaryCrossentropy(),\n",
    "                 metrics=['accuracy'])"
   ]
  },
  {
   "cell_type": "code",
   "execution_count": null,
   "metadata": {},
   "outputs": [],
   "source": []
  },
  {
   "cell_type": "code",
   "execution_count": 105,
   "metadata": {
    "ExecuteTime": {
     "end_time": "2020-03-19T06:36:24.182719Z",
     "start_time": "2020-03-19T06:36:23.930244Z"
    },
    "scrolled": false
   },
   "outputs": [
    {
     "data": {
      "text/plain": [
       "(2, 3)"
      ]
     },
     "execution_count": 105,
     "metadata": {},
     "output_type": "execute_result"
    },
    {
     "data": {
      "text/plain": [
       "array([[5, 6, 8],\n",
       "       [6, 1, 6]])"
      ]
     },
     "execution_count": 105,
     "metadata": {},
     "output_type": "execute_result"
    },
    {
     "data": {
      "text/plain": [
       "'embl'"
      ]
     },
     "execution_count": 105,
     "metadata": {},
     "output_type": "execute_result"
    },
    {
     "data": {
      "text/plain": [
       "(2, 3, 3)"
      ]
     },
     "execution_count": 105,
     "metadata": {},
     "output_type": "execute_result"
    },
    {
     "data": {
      "text/plain": [
       "array([[[ 0.00707006, -0.04910037,  0.03553182],\n",
       "        [ 0.02090341, -0.02885584, -0.0459761 ],\n",
       "        [-0.03287369, -0.00508959, -0.04202091]],\n",
       "\n",
       "       [[ 0.02090341, -0.02885584, -0.0459761 ],\n",
       "        [-0.03563143,  0.02602991, -0.00854288],\n",
       "        [ 0.02090341, -0.02885584, -0.0459761 ]]], dtype=float32)"
      ]
     },
     "execution_count": 105,
     "metadata": {},
     "output_type": "execute_result"
    },
    {
     "data": {
      "text/plain": [
       "'densel'"
      ]
     },
     "execution_count": 105,
     "metadata": {},
     "output_type": "execute_result"
    },
    {
     "data": {
      "text/plain": [
       "(2, 3, 4)"
      ]
     },
     "execution_count": 105,
     "metadata": {},
     "output_type": "execute_result"
    },
    {
     "data": {
      "text/plain": [
       "array([[[ 0.00221412, -0.02972739,  0.03198573,  0.03619616],\n",
       "        [-0.0440236 , -0.00578842, -0.02733677,  0.01258583],\n",
       "        [-0.02927369,  0.03145248, -0.03554484, -0.02500531]],\n",
       "\n",
       "       [[-0.0440236 , -0.00578842, -0.02733677,  0.01258583],\n",
       "        [ 0.00676787,  0.031228  , -0.0146165 , -0.0326934 ],\n",
       "        [-0.0440236 , -0.00578842, -0.02733677,  0.01258583]]],\n",
       "      dtype=float32)"
      ]
     },
     "execution_count": 105,
     "metadata": {},
     "output_type": "execute_result"
    },
    {
     "data": {
      "text/plain": [
       "'densel kernel bias'"
      ]
     },
     "execution_count": 105,
     "metadata": {},
     "output_type": "execute_result"
    },
    {
     "data": {
      "text/plain": [
       "TensorShape([3, 4])"
      ]
     },
     "execution_count": 105,
     "metadata": {},
     "output_type": "execute_result"
    },
    {
     "data": {
      "text/plain": [
       "TensorShape([4])"
      ]
     },
     "execution_count": 105,
     "metadata": {},
     "output_type": "execute_result"
    },
    {
     "data": {
      "text/plain": [
       "'flattenl'"
      ]
     },
     "execution_count": 105,
     "metadata": {},
     "output_type": "execute_result"
    },
    {
     "data": {
      "text/plain": [
       "(2, 9)"
      ]
     },
     "execution_count": 105,
     "metadata": {},
     "output_type": "execute_result"
    },
    {
     "data": {
      "text/plain": [
       "array([[ 0.00707006, -0.04910037,  0.03553182,  0.02090341, -0.02885584,\n",
       "        -0.0459761 , -0.03287369, -0.00508959, -0.04202091],\n",
       "       [ 0.02090341, -0.02885584, -0.0459761 , -0.03563143,  0.02602991,\n",
       "        -0.00854288,  0.02090341, -0.02885584, -0.0459761 ]],\n",
       "      dtype=float32)"
      ]
     },
     "execution_count": 105,
     "metadata": {},
     "output_type": "execute_result"
    },
    {
     "data": {
      "text/plain": [
       "'densel(flattenl)'"
      ]
     },
     "execution_count": 105,
     "metadata": {},
     "output_type": "execute_result"
    },
    {
     "data": {
      "text/plain": [
       "(2, 4)"
      ]
     },
     "execution_count": 105,
     "metadata": {},
     "output_type": "execute_result"
    },
    {
     "data": {
      "text/plain": [
       "array([[-0.00051974,  0.04699608, -0.02591211, -0.03018363],\n",
       "       [-0.03847357, -0.03159215, -0.02233972,  0.02282732]],\n",
       "      dtype=float32)"
      ]
     },
     "execution_count": 105,
     "metadata": {},
     "output_type": "execute_result"
    },
    {
     "data": {
      "text/plain": [
       "'densel(flattenl) kernel bias'"
      ]
     },
     "execution_count": 105,
     "metadata": {},
     "output_type": "execute_result"
    },
    {
     "data": {
      "text/plain": [
       "TensorShape([9, 4])"
      ]
     },
     "execution_count": 105,
     "metadata": {},
     "output_type": "execute_result"
    },
    {
     "data": {
      "text/plain": [
       "TensorShape([4])"
      ]
     },
     "execution_count": 105,
     "metadata": {},
     "output_type": "execute_result"
    },
    {
     "data": {
      "text/plain": [
       "'lstml0'"
      ]
     },
     "execution_count": 105,
     "metadata": {},
     "output_type": "execute_result"
    },
    {
     "data": {
      "text/plain": [
       "(2, 3, 16)"
      ]
     },
     "execution_count": 105,
     "metadata": {},
     "output_type": "execute_result"
    },
    {
     "data": {
      "text/plain": [
       "array([[[-1.82042283e-03, -1.01281004e-03,  6.64454885e-04,\n",
       "          1.79296604e-03,  2.97619170e-03, -2.56951223e-03,\n",
       "          1.55591464e-03,  7.87404133e-04,  1.16951461e-03,\n",
       "          3.91037000e-04, -6.01600250e-03,  1.63426413e-03,\n",
       "          2.00462597e-03, -5.27571049e-03, -2.99127121e-03,\n",
       "         -4.72052814e-03],\n",
       "        [-1.71735603e-03, -1.06282183e-03,  4.75792622e-04,\n",
       "          7.69444334e-04,  4.51212889e-03, -4.20610141e-03,\n",
       "          2.98712053e-03,  5.84732695e-03,  3.53408768e-03,\n",
       "         -4.07303451e-03, -3.13025061e-03, -1.73864828e-03,\n",
       "          2.24755774e-03, -1.72562758e-03, -1.04008934e-04,\n",
       "         -4.51855268e-03],\n",
       "        [-4.19173948e-03,  1.07999414e-03, -1.92013429e-03,\n",
       "         -2.06101965e-03,  2.48740776e-03, -3.63646075e-03,\n",
       "          5.98203531e-03,  4.95828222e-03,  5.93296718e-03,\n",
       "         -3.69825750e-03,  6.61194324e-04, -3.99324251e-03,\n",
       "          2.49393214e-03,  9.37622914e-04,  3.30926408e-03,\n",
       "          5.93938166e-04]],\n",
       "\n",
       "       [[ 7.92170540e-05, -1.25599021e-04,  9.69407920e-05,\n",
       "         -8.41464731e-04,  2.00758292e-03, -2.82178284e-03,\n",
       "          1.55177200e-03,  5.38693182e-03,  2.86501995e-03,\n",
       "         -4.57830215e-03,  7.88377540e-04, -2.95288558e-03,\n",
       "          9.28625232e-04,  2.09274935e-03,  2.23885756e-03,\n",
       "         -1.23384444e-03],\n",
       "        [-1.23929046e-03,  1.60559872e-03, -1.34693214e-03,\n",
       "         -2.39414955e-03, -1.06840953e-03, -3.73668037e-04,\n",
       "          2.28140014e-03,  7.98987166e-04,  2.30158120e-03,\n",
       "         -1.51416624e-03,  3.30090616e-03, -2.57840590e-03,\n",
       "          3.76654934e-04,  2.98483251e-03,  3.24026728e-03,\n",
       "          3.53258965e-03],\n",
       "        [-9.14826873e-04,  1.05522829e-03, -4.86193603e-04,\n",
       "         -2.68262229e-03,  1.12589961e-03, -3.08471406e-03,\n",
       "          3.25443223e-03,  5.60645852e-03,  4.77585057e-03,\n",
       "         -5.86018292e-03,  2.85810325e-03, -4.87769581e-03,\n",
       "          1.46775844e-03,  4.01366269e-03,  4.83261561e-03,\n",
       "          1.06217759e-03]]], dtype=float32)"
      ]
     },
     "execution_count": 105,
     "metadata": {},
     "output_type": "execute_result"
    },
    {
     "data": {
      "text/plain": [
       "'lstml1'"
      ]
     },
     "execution_count": 105,
     "metadata": {},
     "output_type": "execute_result"
    },
    {
     "data": {
      "text/plain": [
       "(2, 16)"
      ]
     },
     "execution_count": 105,
     "metadata": {},
     "output_type": "execute_result"
    },
    {
     "data": {
      "text/plain": [
       "array([[-0.00401284, -0.00077633, -0.00579586,  0.00252739, -0.00162932,\n",
       "         0.0005071 , -0.00141119,  0.00332945,  0.00376597,  0.00571895,\n",
       "        -0.00563861,  0.00561891,  0.00141859, -0.00016348, -0.00489197,\n",
       "         0.0053445 ],\n",
       "       [-0.00147222, -0.00179995, -0.00690063,  0.00559065, -0.00123825,\n",
       "         0.0039826 , -0.00264875,  0.00225918,  0.0051797 ,  0.00566827,\n",
       "        -0.00576919,  0.00499231, -0.00153167, -0.00213006, -0.00512726,\n",
       "         0.00350505]], dtype=float32)"
      ]
     },
     "execution_count": 105,
     "metadata": {},
     "output_type": "execute_result"
    },
    {
     "data": {
      "text/plain": [
       "'lstml2'"
      ]
     },
     "execution_count": 105,
     "metadata": {},
     "output_type": "execute_result"
    },
    {
     "data": {
      "text/plain": [
       "[(2, 3, 16), (2, 16), (2, 16)]"
      ]
     },
     "execution_count": 105,
     "metadata": {},
     "output_type": "execute_result"
    },
    {
     "data": {
      "text/plain": [
       "'lstml2|output (2, 3, 16)'"
      ]
     },
     "execution_count": 105,
     "metadata": {},
     "output_type": "execute_result"
    },
    {
     "data": {
      "text/plain": [
       "array([[[-5.2850421e-05, -6.4051832e-04,  3.4232212e-03, -2.9221014e-03,\n",
       "         -1.6513614e-03, -2.1680791e-03, -3.8960828e-03, -2.6381989e-03,\n",
       "          1.6895773e-04,  4.6668630e-03,  5.0885258e-03,  8.2320512e-05,\n",
       "         -1.2231272e-03, -1.4897519e-03, -5.5525736e-03, -3.3287818e-03],\n",
       "        [ 2.2188942e-03, -3.0426106e-03,  2.9780669e-03, -6.2860530e-03,\n",
       "         -2.7248219e-03, -3.0130276e-03, -9.4793527e-04, -1.8917720e-03,\n",
       "         -3.0656510e-03,  6.7868237e-03,  3.4191450e-03, -2.1534816e-03,\n",
       "         -4.1249329e-03, -6.5177577e-03, -4.6468475e-03,  6.0350297e-04],\n",
       "        [ 1.4377554e-03, -2.7362090e-03,  2.1980060e-03, -5.3468780e-03,\n",
       "         -2.3645917e-03, -3.8110735e-03, -4.2115565e-04, -2.3473583e-03,\n",
       "         -7.8789415e-03,  3.4232896e-03,  1.3597072e-03, -1.0605084e-03,\n",
       "         -5.1682354e-03, -5.1462403e-03, -1.6841151e-04,  8.4685470e-04]],\n",
       "\n",
       "       [[ 1.8913168e-03, -2.4844648e-03,  5.2959874e-04, -3.5961221e-03,\n",
       "         -1.6680448e-03, -8.0525392e-04,  2.1364007e-03, -3.9374785e-04,\n",
       "         -2.6863173e-03,  2.7406397e-03, -7.3029415e-04, -1.9945786e-03,\n",
       "         -2.8910430e-03, -5.2929451e-03, -4.8988132e-04,  3.1294546e-03],\n",
       "        [ 3.6562064e-06, -4.2298180e-04, -8.8485866e-04,  1.8963608e-04,\n",
       "         -2.5276787e-04, -2.2091025e-04,  1.5573058e-03, -2.1178089e-04,\n",
       "         -3.9232178e-03, -1.9751461e-03, -2.1618977e-03,  2.7654530e-04,\n",
       "         -1.2690723e-03, -5.9303938e-04,  3.5595414e-03,  1.5726070e-03],\n",
       "        [ 1.7602793e-03, -2.7579349e-03, -1.1067605e-05, -3.2701129e-03,\n",
       "         -2.1379753e-03, -3.6304409e-04,  3.2441649e-03, -8.4491994e-04,\n",
       "         -5.3220950e-03,  1.1092456e-03, -2.2108259e-03, -1.6482201e-03,\n",
       "         -3.5803975e-03, -5.6694294e-03,  2.2526544e-03,  4.1536954e-03]]],\n",
       "      dtype=float32)"
      ]
     },
     "execution_count": 105,
     "metadata": {},
     "output_type": "execute_result"
    },
    {
     "data": {
      "text/plain": [
       "'lstml2|h (2, 16)'"
      ]
     },
     "execution_count": 105,
     "metadata": {},
     "output_type": "execute_result"
    },
    {
     "data": {
      "text/plain": [
       "array([[ 1.4377554e-03, -2.7362090e-03,  2.1980060e-03, -5.3468780e-03,\n",
       "        -2.3645917e-03, -3.8110735e-03, -4.2115565e-04, -2.3473583e-03,\n",
       "        -7.8789415e-03,  3.4232896e-03,  1.3597072e-03, -1.0605084e-03,\n",
       "        -5.1682354e-03, -5.1462403e-03, -1.6841151e-04,  8.4685470e-04],\n",
       "       [ 1.7602793e-03, -2.7579349e-03, -1.1067605e-05, -3.2701129e-03,\n",
       "        -2.1379753e-03, -3.6304409e-04,  3.2441649e-03, -8.4491994e-04,\n",
       "        -5.3220950e-03,  1.1092456e-03, -2.2108259e-03, -1.6482201e-03,\n",
       "        -3.5803975e-03, -5.6694294e-03,  2.2526544e-03,  4.1536954e-03]],\n",
       "      dtype=float32)"
      ]
     },
     "execution_count": 105,
     "metadata": {},
     "output_type": "execute_result"
    },
    {
     "data": {
      "text/plain": [
       "'lstml2|c (2, 16)'"
      ]
     },
     "execution_count": 105,
     "metadata": {},
     "output_type": "execute_result"
    },
    {
     "data": {
      "text/plain": [
       "array([[ 2.8641289e-03, -5.4758484e-03,  4.3913056e-03, -1.0680488e-02,\n",
       "        -4.7426727e-03, -7.6716114e-03, -8.3775475e-04, -4.7097057e-03,\n",
       "        -1.5849177e-02,  6.7879874e-03,  2.7233588e-03, -2.1178389e-03,\n",
       "        -1.0246087e-02, -1.0314950e-02, -3.3663772e-04,  1.6894371e-03],\n",
       "       [ 3.5152622e-03, -5.5151461e-03, -2.2198772e-05, -6.5621305e-03,\n",
       "        -4.3068398e-03, -7.2770193e-04,  6.4515630e-03, -1.6977179e-03,\n",
       "        -1.0668411e-02,  2.2096748e-03, -4.4574859e-03, -3.2761570e-03,\n",
       "        -7.1199415e-03, -1.1275336e-02,  4.5020487e-03,  8.2821259e-03]],\n",
       "      dtype=float32)"
      ]
     },
     "execution_count": 105,
     "metadata": {},
     "output_type": "execute_result"
    },
    {
     "data": {
      "text/plain": [
       "'lstml2|output[:,-1,:] (2, 16)'"
      ]
     },
     "execution_count": 105,
     "metadata": {},
     "output_type": "execute_result"
    },
    {
     "data": {
      "text/plain": [
       "array([[ 1.4377554e-03, -2.7362090e-03,  2.1980060e-03, -5.3468780e-03,\n",
       "        -2.3645917e-03, -3.8110735e-03, -4.2115565e-04, -2.3473583e-03,\n",
       "        -7.8789415e-03,  3.4232896e-03,  1.3597072e-03, -1.0605084e-03,\n",
       "        -5.1682354e-03, -5.1462403e-03, -1.6841151e-04,  8.4685470e-04],\n",
       "       [ 1.7602793e-03, -2.7579349e-03, -1.1067605e-05, -3.2701129e-03,\n",
       "        -2.1379753e-03, -3.6304409e-04,  3.2441649e-03, -8.4491994e-04,\n",
       "        -5.3220950e-03,  1.1092456e-03, -2.2108259e-03, -1.6482201e-03,\n",
       "        -3.5803975e-03, -5.6694294e-03,  2.2526544e-03,  4.1536954e-03]],\n",
       "      dtype=float32)"
      ]
     },
     "execution_count": 105,
     "metadata": {},
     "output_type": "execute_result"
    }
   ],
   "source": [
    "np.random.seed(9)\n",
    "vocab_size = 10 # 所有词有多少个\n",
    "seq_length = 3 # 一个句子里词的个数 或者 一个样本的特征个数\n",
    "emb_dim = 3     # 每个词的词向量维数 或者 一个特征的隐向量维数\n",
    "batch_size = 2  # 一个输入batch大小 | inp -> emb: (batch_size, seq_length) -> (batch_size, seq_length, emb_dim)\n",
    "lstm_hidden_size = 16\n",
    "\n",
    "input_arr = np.random.randint(vocab_size, size=(batch_size, seq_length))\n",
    "input_arr.shape\n",
    "input_arr\n",
    "\n",
    "\"embl\"\n",
    "embl=tf.keras.layers.Embedding(input_dim=vocab_size, output_dim=emb_dim)#, input_length=seq_length)\n",
    "embl(input_arr).numpy().shape\n",
    "embl(input_arr).numpy()\n",
    "\n",
    "\"densel\"\n",
    "densel=tf.keras.layers.Dense(units=4)\n",
    "densel(embl(input_arr)).numpy().shape\n",
    "densel(embl(input_arr)).numpy()\n",
    "\"densel kernel bias\"\n",
    "densel.kernel.shape\n",
    "densel.bias.shape\n",
    "\n",
    "\n",
    "\"flattenl\"\n",
    "flattenl=tf.keras.layers.Flatten()\n",
    "flattenl(embl(input_arr)).numpy().shape\n",
    "flattenl(embl(input_arr)).numpy()\n",
    "\n",
    "\"densel(flattenl)\"\n",
    "densel=tf.keras.layers.Dense(units=4)\n",
    "densel(flattenl(embl(input_arr))).numpy().shape\n",
    "densel(flattenl(embl(input_arr))).numpy()\n",
    "\"densel(flattenl) kernel bias\"\n",
    "densel.kernel.shape\n",
    "densel.bias.shape\n",
    "\n",
    "\"lstml0\"\n",
    "lstml0=tf.keras.layers.LSTM(lstm_hidden_size, return_sequences=True)\n",
    "lstml0(embl(input_arr)).numpy().shape\n",
    "lstml0(embl(input_arr)).numpy()\n",
    "\n",
    "\"lstml1\"\n",
    "lstml1=tf.keras.layers.LSTM(lstm_hidden_size, return_sequences=False)\n",
    "lstml1(embl(input_arr)).numpy().shape\n",
    "lstml1(embl(input_arr)).numpy()\n",
    "# lstml1=tf.keras.layers.LSTM(1, activation='sigmoid', return_sequences=False)\n",
    "# lstml0.build((batch_size))\n",
    "# lstml0.count_params()\n",
    "\n",
    "\"lstml2\"\n",
    "lstml2=tf.keras.layers.LSTM(lstm_hidden_size, return_sequences=True, return_state=True)\n",
    "output,h,c=[i.numpy() for i in lstml2(embl(input_arr))]\n",
    "[i.numpy().shape for i in lstml2(embl(input_arr))]\n",
    "f\"lstml2|output {output.shape}\"\n",
    "output\n",
    "f\"lstml2|h {h.shape}\"\n",
    "h\n",
    "f\"lstml2|c {c.shape}\"\n",
    "c\n",
    "f\"lstml2|output[:,-1,:] {output[:,-1,:].shape}\"\n",
    "\"output[:,-1,:] 就是 h\"\n",
    "output[:,-1,:]"
   ]
  },
  {
   "cell_type": "code",
   "execution_count": 161,
   "metadata": {
    "ExecuteTime": {
     "end_time": "2020-03-19T09:44:28.289979Z",
     "start_time": "2020-03-19T09:44:28.261548Z"
    }
   },
   "outputs": [
    {
     "data": {
      "text/plain": [
       "True"
      ]
     },
     "execution_count": 161,
     "metadata": {},
     "output_type": "execute_result"
    },
    {
     "data": {
      "text/plain": [
       "True"
      ]
     },
     "execution_count": 161,
     "metadata": {},
     "output_type": "execute_result"
    },
    {
     "data": {
      "text/plain": [
       "True"
      ]
     },
     "execution_count": 161,
     "metadata": {},
     "output_type": "execute_result"
    },
    {
     "data": {
      "text/plain": [
       "[(3, 64), (16, 64), (64,)]"
      ]
     },
     "execution_count": 161,
     "metadata": {},
     "output_type": "execute_result"
    },
    {
     "data": {
      "text/plain": [
       "'cell.kernel, cell.recurrent_kernel, cell.bias'"
      ]
     },
     "execution_count": 161,
     "metadata": {},
     "output_type": "execute_result"
    },
    {
     "data": {
      "text/plain": [
       "1280"
      ]
     },
     "execution_count": 161,
     "metadata": {},
     "output_type": "execute_result"
    }
   ],
   "source": [
    "np.all(lstml1.cell.bias.numpy()==lstml1.get_weights()[2])\n",
    "np.all(lstml1.cell.recurrent_kernel.numpy() == lstml1.get_weights()[1])\n",
    "np.all(lstml1.cell.kernel.numpy() == lstml1.get_weights()[0])\n",
    "[w.shape for w in lstml1.get_weights()]\n",
    "\"cell.kernel, cell.recurrent_kernel, cell.bias\"\n",
    "lstml1.count_params()"
   ]
  },
  {
   "cell_type": "code",
   "execution_count": null,
   "metadata": {},
   "outputs": [],
   "source": [
    "vocab_size = len(vocab)\n",
    "embedding_dim = 256\n",
    "rnn_units = 1024\n",
    "def build_model(vocab_size, embedding_dim, rnn_units, batch_size):\n",
    "    model = tf.keras.Sequential([\n",
    "        tf.keras.layers.Embedding(vocab_size, embedding_dim, batch_input_shape=[batch_size, None]),\n",
    "        tf.keras.layers.GRU(rnn_units,\n",
    "                            return_sequences=True,\n",
    "                            stateful=True,\n",
    "                            recurrent_initializer='glorot_uniform'),\n",
    "        tf.keras.layers.Dense(vocab_size)\n",
    "      ])\n",
    "    return model"
   ]
  }
 ],
 "metadata": {
  "celltoolbar": "Initialization Cell",
  "kernelspec": {
   "display_name": "Python3.6(tf2)",
   "language": "python",
   "name": "tf2"
  },
  "language_info": {
   "codemirror_mode": {
    "name": "ipython",
    "version": 3
   },
   "file_extension": ".py",
   "mimetype": "text/x-python",
   "name": "python",
   "nbconvert_exporter": "python",
   "pygments_lexer": "ipython3",
   "version": "3.6.9"
  },
  "toc": {
   "base_numbering": 1,
   "nav_menu": {},
   "number_sections": true,
   "sideBar": true,
   "skip_h1_title": false,
   "title_cell": "Table of Contents",
   "title_sidebar": "Contents",
   "toc_cell": false,
   "toc_position": {},
   "toc_section_display": true,
   "toc_window_display": false
  },
  "varInspector": {
   "cols": {
    "lenName": 16,
    "lenType": 16,
    "lenVar": 40
   },
   "kernels_config": {
    "python": {
     "delete_cmd_postfix": "",
     "delete_cmd_prefix": "del ",
     "library": "var_list.py",
     "varRefreshCmd": "print(var_dic_list())"
    },
    "r": {
     "delete_cmd_postfix": ") ",
     "delete_cmd_prefix": "rm(",
     "library": "var_list.r",
     "varRefreshCmd": "cat(var_dic_list()) "
    }
   },
   "types_to_exclude": [
    "module",
    "function",
    "builtin_function_or_method",
    "instance",
    "_Feature"
   ],
   "window_display": false
  }
 },
 "nbformat": 4,
 "nbformat_minor": 2
}
