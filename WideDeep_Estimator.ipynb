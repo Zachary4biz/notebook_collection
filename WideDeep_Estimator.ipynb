{
 "cells": [
  {
   "cell_type": "code",
   "execution_count": 1,
   "metadata": {
    "ExecuteTime": {
     "end_time": "2020-09-10T11:49:42.728549Z",
     "start_time": "2020-09-10T11:49:42.102064Z"
    }
   },
   "outputs": [],
   "source": [
    "from IPython.core.interactiveshell import InteractiveShell\n",
    "InteractiveShell.ast_node_interactivity = \"all\"\n",
    "%matplotlib inline\n",
    "from tqdm.auto import tqdm\n",
    "import concurrent.futures\n",
    "from multiprocessing import Pool\n",
    "import copy,os,sys\n",
    "from collections import Counter,deque\n",
    "import matplotlib.pyplot as plt\n",
    "import json\n",
    "import functools\n",
    "import itertools\n",
    "import math"
   ]
  },
  {
   "cell_type": "code",
   "execution_count": 2,
   "metadata": {
    "ExecuteTime": {
     "end_time": "2020-09-10T11:49:45.712754Z",
     "start_time": "2020-09-10T11:49:43.151374Z"
    }
   },
   "outputs": [],
   "source": [
    "import tensorflow as tf\n",
    "import pandas as pd\n",
    "import numpy as np"
   ]
  },
  {
   "cell_type": "code",
   "execution_count": null,
   "metadata": {},
   "outputs": [],
   "source": [
    "y = 10*math.pow(x,2)+4*x+math.pow(x,0.5)\n",
    "                                              "
   ]
  },
  {
   "cell_type": "code",
   "execution_count": 4,
   "metadata": {
    "ExecuteTime": {
     "end_time": "2020-09-10T11:43:01.540305Z",
     "start_time": "2020-09-10T11:43:01.532655Z"
    }
   },
   "outputs": [
    {
     "data": {
      "text/plain": [
       "['BaselineClassifier',\n",
       " 'BaselineEstimator',\n",
       " 'BaselineRegressor',\n",
       " 'BestExporter',\n",
       " 'BinaryClassHead',\n",
       " 'BoostedTreesClassifier',\n",
       " 'BoostedTreesEstimator',\n",
       " 'BoostedTreesRegressor',\n",
       " 'CheckpointSaverHook',\n",
       " 'CheckpointSaverListener',\n",
       " 'DNNClassifier',\n",
       " 'DNNEstimator',\n",
       " 'DNNLinearCombinedClassifier',\n",
       " 'DNNLinearCombinedEstimator',\n",
       " 'DNNLinearCombinedRegressor',\n",
       " 'DNNRegressor',\n",
       " 'Estimator',\n",
       " 'EstimatorSpec',\n",
       " 'EvalSpec',\n",
       " 'Exporter',\n",
       " 'FeedFnHook',\n",
       " 'FinalExporter',\n",
       " 'FinalOpsHook',\n",
       " 'GlobalStepWaiterHook',\n",
       " 'Head',\n",
       " 'LatestExporter',\n",
       " 'LinearClassifier',\n",
       " 'LinearEstimator',\n",
       " 'LinearRegressor',\n",
       " 'LoggingTensorHook',\n",
       " 'LogisticRegressionHead',\n",
       " 'ModeKeys',\n",
       " 'MultiClassHead',\n",
       " 'MultiHead',\n",
       " 'MultiLabelHead',\n",
       " 'NanLossDuringTrainingError',\n",
       " 'NanTensorHook',\n",
       " 'PoissonRegressionHead',\n",
       " 'ProfilerHook',\n",
       " 'RegressionHead',\n",
       " 'RunConfig',\n",
       " 'SecondOrStepTimer',\n",
       " 'SessionRunArgs',\n",
       " 'SessionRunContext',\n",
       " 'SessionRunHook',\n",
       " 'SessionRunValues',\n",
       " 'StepCounterHook',\n",
       " 'StopAtStepHook',\n",
       " 'SummarySaverHook',\n",
       " 'TrainSpec',\n",
       " 'VocabInfo',\n",
       " 'WarmStartSettings',\n",
       " '__builtins__',\n",
       " '__cached__',\n",
       " '__doc__',\n",
       " '__file__',\n",
       " '__loader__',\n",
       " '__name__',\n",
       " '__package__',\n",
       " '__path__',\n",
       " '__spec__',\n",
       " '_sys',\n",
       " 'add_metrics',\n",
       " 'classifier_parse_example_spec',\n",
       " 'experimental',\n",
       " 'export',\n",
       " 'regressor_parse_example_spec',\n",
       " 'train_and_evaluate']"
      ]
     },
     "execution_count": 4,
     "metadata": {},
     "output_type": "execute_result"
    }
   ],
   "source": [
    "dir(tf.estimator)"
   ]
  },
  {
   "cell_type": "code",
   "execution_count": null,
   "metadata": {},
   "outputs": [],
   "source": []
  },
  {
   "cell_type": "code",
   "execution_count": null,
   "metadata": {},
   "outputs": [],
   "source": []
  }
 ],
 "metadata": {
  "kernelspec": {
   "display_name": "Python3.7(tf2)",
   "language": "python",
   "name": "tf2"
  },
  "language_info": {
   "codemirror_mode": {
    "name": "ipython",
    "version": 3
   },
   "file_extension": ".py",
   "mimetype": "text/x-python",
   "name": "python",
   "nbconvert_exporter": "python",
   "pygments_lexer": "ipython3",
   "version": "3.7.8"
  },
  "toc": {
   "base_numbering": 1,
   "nav_menu": {},
   "number_sections": true,
   "sideBar": true,
   "skip_h1_title": false,
   "title_cell": "Table of Contents",
   "title_sidebar": "Contents",
   "toc_cell": false,
   "toc_position": {},
   "toc_section_display": true,
   "toc_window_display": false
  }
 },
 "nbformat": 4,
 "nbformat_minor": 4
}
