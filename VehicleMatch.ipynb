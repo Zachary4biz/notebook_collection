{
 "cells": [
  {
   "cell_type": "code",
   "execution_count": 2,
   "metadata": {
    "ExecuteTime": {
     "end_time": "2021-02-12T10:01:21.401812Z",
     "start_time": "2021-02-12T10:01:20.413786Z"
    }
   },
   "outputs": [],
   "source": [
    "from IPython.core.interactiveshell import InteractiveShell\n",
    "InteractiveShell.ast_node_interactivity = \"all\"\n",
    "%matplotlib inline\n",
    "from tqdm.auto import tqdm\n",
    "import concurrent.futures\n",
    "from multiprocessing import Pool\n",
    "import copy,os,sys\n",
    "from collections import Counter,deque\n",
    "import matplotlib.pyplot as plt\n",
    "import json\n",
    "import functools\n",
    "import itertools\n",
    "import math"
   ]
  },
  {
   "cell_type": "code",
   "execution_count": 3,
   "metadata": {
    "ExecuteTime": {
     "end_time": "2021-02-12T10:01:21.795964Z",
     "start_time": "2021-02-12T10:01:21.403659Z"
    }
   },
   "outputs": [],
   "source": [
    "import numpy as np\n",
    "import pandas as pd"
   ]
  },
  {
   "cell_type": "markdown",
   "metadata": {},
   "source": [
    "$$ f_d=max(0,min(1,1-\\gamma*ln(\\beta*x)))$$\n",
    "$$ $$\n",
    "$$ f_d=1; x \\in [0,\\frac{1}{\\beta}] $$\n",
    "$$ $$\n",
    "$$ f_d=0; x=\\frac{e^{\\frac{1}{\\gamma}}}{\\beta} $$"
   ]
  },
  {
   "cell_type": "markdown",
   "metadata": {},
   "source": [
    "# Netowrkx"
   ]
  },
  {
   "cell_type": "code",
   "execution_count": 55,
   "metadata": {
    "ExecuteTime": {
     "end_time": "2021-02-13T08:45:29.467486Z",
     "start_time": "2021-02-13T08:45:28.465626Z"
    }
   },
   "outputs": [],
   "source": [
    "import networkx as nx"
   ]
  },
  {
   "cell_type": "code",
   "execution_count": null,
   "metadata": {},
   "outputs": [],
   "source": [
    "G = nx.Graph()\n",
    "G.add_edge('A', 'B', weight=4)\n",
    "G.add_edge('B', 'D', weight=2)\n",
    "G.add_edge('A', 'C', weight=3)\n",
    "G.add_edge('C', 'D', weight=4)\n",
    "nx.shortest_path(G, 'A', 'D', weight='weight')\n",
    "['A', 'B', 'D']"
   ]
  },
  {
   "cell_type": "code",
   "execution_count": null,
   "metadata": {},
   "outputs": [],
   "source": []
  },
  {
   "cell_type": "code",
   "execution_count": null,
   "metadata": {},
   "outputs": [],
   "source": []
  },
  {
   "cell_type": "code",
   "execution_count": 77,
   "metadata": {
    "ExecuteTime": {
     "end_time": "2021-02-15T06:50:37.967351Z",
     "start_time": "2021-02-15T06:50:37.957520Z"
    }
   },
   "outputs": [
    {
     "data": {
      "text/plain": [
       "array([[3, 0, 4],\n",
       "       [2, 1, 3],\n",
       "       [0, 0, 5]])"
      ]
     },
     "execution_count": 77,
     "metadata": {},
     "output_type": "execute_result"
    }
   ],
   "source": [
    "driver={\n",
    "    \"A\":np.array([3,0,4]),\n",
    "    \"B\":np.array([2,1,3]),\n",
    "    \"C\":np.array([0,0,5])\n",
    "}\n",
    "\n",
    "relations=np.vstack(list(driver.values()))\n",
    "relations"
   ]
  },
  {
   "cell_type": "code",
   "execution_count": 163,
   "metadata": {
    "ExecuteTime": {
     "end_time": "2021-02-15T08:02:27.263111Z",
     "start_time": "2021-02-15T08:02:27.242905Z"
    },
    "code_folding": [
     0
    ]
   },
   "outputs": [],
   "source": [
    "class KMAlgo:\n",
    "    def __init__(self, N, M, matrix):\n",
    "        self.N = N\n",
    "        self.M = M\n",
    "        # 声明二分图\n",
    "        self.adj_matrix = matrix  # np array with dimension N*M\n",
    "\n",
    "        # 初始化顶标\n",
    "        self.label_left = np.max(self.adj_matrix, axis=1)  # init label for the left set\n",
    "        self.label_right = np.zeros(self.M)  # init label for the right set\n",
    "\n",
    "        # 初始化匹配结果\n",
    "        self.match_right = np.empty(self.N, dtype=int) * np.nan\n",
    "\n",
    "        # 初始化辅助变量\n",
    "        self.visit_left = np.zeros(self.N, dtype=bool)\n",
    "        self.visit_right = np.zeros(self.M, dtype=bool)\n",
    "        self.slack_right = np.ones(self.M, dtype=int) * np.inf\n",
    "\n",
    "    # 寻找增广路，深度优先\n",
    "    def find_path(self, i):\n",
    "        self.visit_left[i] = True\n",
    "        for j, match_weight in enumerate(self.adj_matrix[i]):\n",
    "            # 已被匹配（解决递归中的冲突）\n",
    "            if self.visit_right[j]:\n",
    "                continue\n",
    "            gap = self.label_left[i] + self.label_right[j] - match_weight\n",
    "            if gap == 0:\n",
    "                # 找到可行匹配\n",
    "                self.visit_right[j] = True\n",
    "                # j未被匹配，或虽然j已被匹配，但是j的已匹配对象有其他可选备胎\n",
    "                if np.isnan(self.match_right[j]) or self.find_path(int(self.match_right[j])):\n",
    "                    self.match_right[j] = i\n",
    "                    return True\n",
    "            else:\n",
    "                # 计算变为可行匹配需要的顶标改变量\n",
    "                self.slack_right[j] = min(self.slack_right[j], gap)\n",
    "                if np.isinf(self.slack_right[j]):\n",
    "                    self.slack_right[j] = gap\n",
    "        return False\n",
    "\n",
    "    # KM主函数\n",
    "    def solve(self):\n",
    "        for i in range(self.N):\n",
    "            # 重置辅助变量\n",
    "            self.slack_right = np.ones(self.N) * np.inf\n",
    "            print(\"---- looping at i: %s ----\" % i)\n",
    "            while True:\n",
    "                # 重置辅助变量\n",
    "                self.visit_left = np.zeros(self.N, dtype=bool)\n",
    "                self.visit_right = np.zeros(self.M, dtype=bool)\n",
    "                print(\"[init]\")\n",
    "                self.dlog(i)\n",
    "                # 能找到可行匹配\n",
    "                if self.find_path(i):\n",
    "                    print(\"\\n[found match]\")\n",
    "                    self.dlog(i)\n",
    "                    break\n",
    "                # 不能找到可行匹配，修改顶标\n",
    "                # (1)将所有在增广路中的X方点的label全部减去一个常数d\n",
    "                # (2)将所有在增广路中的Y方点的label全部加上一个常数d\n",
    "                print(\"\\n[not-found match | calc d]\")\n",
    "                self.dlog(i)\n",
    "                d = np.inf\n",
    "                for j, slack in enumerate(self.slack_right):\n",
    "                    if not self.visit_right[j] and slack < d:\n",
    "                        d = slack\n",
    "                for k in range(self.N):\n",
    "                    if self.visit_left[k]:\n",
    "                        self.label_left[k] -= d\n",
    "                for n in range(self.M):\n",
    "                    if self.visit_right[n]:\n",
    "                        self.label_right[n] += d\n",
    "                    else:\n",
    "                        print(\"why for : %s\" % n)\n",
    "                        self.slack_right[n] -= d\n",
    "                print(\"\\n[not-found match | minus d=%s]\" % d)\n",
    "                if np.all(self.slack_right==[4.,4.,0.]):\n",
    "                    break\n",
    "                self.dlog(i)\n",
    "            if i == 2:\n",
    "                break\n",
    "\n",
    "        match_res = 0\n",
    "        for j in range(self.N):\n",
    "            if self.M > self.match_right[j] >= 0:\n",
    "                match_res += self.adj_matrix[int(self.match_right[j])][j]\n",
    "        return match_res\n",
    "    \n",
    "    def dlog(self,i=-1):\n",
    "        print(\"at %s\" % i)\n",
    "        print(\">>> match:\",self.match_right)\n",
    "        print(\">>> label_left:\",self.label_left)\n",
    "        print(\">>> label_right:\",self.label_right)\n",
    "        print(\">>> visit_left:\",self.visit_left)\n",
    "        print(\">>> visit_right:\",self.visit_right)\n",
    "        print(\">>> slack_right:\",self.slack_right)\n",
    "\n"
   ]
  },
  {
   "cell_type": "code",
   "execution_count": 164,
   "metadata": {
    "ExecuteTime": {
     "end_time": "2021-02-15T08:02:27.663339Z",
     "start_time": "2021-02-15T08:02:27.640921Z"
    },
    "scrolled": true
   },
   "outputs": [
    {
     "name": "stdout",
     "output_type": "stream",
     "text": [
      "at -1\n",
      ">>> match: [nan nan nan]\n",
      ">>> label_left: [4 3 5]\n",
      ">>> label_right: [0. 0. 0.]\n",
      ">>> visit_left: [False False False]\n",
      ">>> visit_right: [False False False]\n",
      ">>> slack_right: [inf inf inf]\n",
      ">>> adj_matrix\n",
      "[[3 0 4]\n",
      " [2 1 3]\n",
      " [0 0 5]]\n",
      "---- looping at i: 0 ----\n",
      "[init]\n",
      "at 0\n",
      ">>> match: [nan nan nan]\n",
      ">>> label_left: [4 3 5]\n",
      ">>> label_right: [0. 0. 0.]\n",
      ">>> visit_left: [False False False]\n",
      ">>> visit_right: [False False False]\n",
      ">>> slack_right: [inf inf inf]\n",
      "\n",
      "[found match]\n",
      "at 0\n",
      ">>> match: [nan nan  0.]\n",
      ">>> label_left: [4 3 5]\n",
      ">>> label_right: [0. 0. 0.]\n",
      ">>> visit_left: [ True False False]\n",
      ">>> visit_right: [False False  True]\n",
      ">>> slack_right: [ 1.  4. inf]\n",
      "---- looping at i: 1 ----\n",
      "[init]\n",
      "at 1\n",
      ">>> match: [nan nan  0.]\n",
      ">>> label_left: [4 3 5]\n",
      ">>> label_right: [0. 0. 0.]\n",
      ">>> visit_left: [False False False]\n",
      ">>> visit_right: [False False False]\n",
      ">>> slack_right: [inf inf inf]\n",
      "\n",
      "[not-found match | calc d]\n",
      "at 1\n",
      ">>> match: [nan nan  0.]\n",
      ">>> label_left: [4 3 5]\n",
      ">>> label_right: [0. 0. 0.]\n",
      ">>> visit_left: [ True  True False]\n",
      ">>> visit_right: [False False  True]\n",
      ">>> slack_right: [ 1.  2. inf]\n",
      "why for : 0\n",
      "why for : 1\n",
      "\n",
      "[not-found match | minus d=1.0]\n",
      "at 1\n",
      ">>> match: [nan nan  0.]\n",
      ">>> label_left: [3 2 5]\n",
      ">>> label_right: [0. 0. 1.]\n",
      ">>> visit_left: [ True  True False]\n",
      ">>> visit_right: [False False  True]\n",
      ">>> slack_right: [ 0.  1. inf]\n",
      "[init]\n",
      "at 1\n",
      ">>> match: [nan nan  0.]\n",
      ">>> label_left: [3 2 5]\n",
      ">>> label_right: [0. 0. 1.]\n",
      ">>> visit_left: [False False False]\n",
      ">>> visit_right: [False False False]\n",
      ">>> slack_right: [ 0.  1. inf]\n",
      "\n",
      "[found match]\n",
      "at 1\n",
      ">>> match: [ 1. nan  0.]\n",
      ">>> label_left: [3 2 5]\n",
      ">>> label_right: [0. 0. 1.]\n",
      ">>> visit_left: [False  True False]\n",
      ">>> visit_right: [ True False False]\n",
      ">>> slack_right: [ 0.  1. inf]\n",
      "---- looping at i: 2 ----\n",
      "[init]\n",
      "at 2\n",
      ">>> match: [ 1. nan  0.]\n",
      ">>> label_left: [3 2 5]\n",
      ">>> label_right: [0. 0. 1.]\n",
      ">>> visit_left: [False False False]\n",
      ">>> visit_right: [False False False]\n",
      ">>> slack_right: [inf inf inf]\n",
      "\n",
      "[not-found match | calc d]\n",
      "at 2\n",
      ">>> match: [ 1. nan  0.]\n",
      ">>> label_left: [3 2 5]\n",
      ">>> label_right: [0. 0. 1.]\n",
      ">>> visit_left: [False False  True]\n",
      ">>> visit_right: [False False False]\n",
      ">>> slack_right: [5. 5. 1.]\n",
      "why for : 0\n",
      "why for : 1\n",
      "why for : 2\n",
      "\n",
      "[not-found match | minus d=1.0]\n"
     ]
    },
    {
     "data": {
      "text/plain": [
       "6"
      ]
     },
     "execution_count": 164,
     "metadata": {},
     "output_type": "execute_result"
    },
    {
     "name": "stdout",
     "output_type": "stream",
     "text": [
      ">>> match result: [ 1. nan  0.]\n"
     ]
    }
   ],
   "source": [
    "km = KMAlgo(relations.shape[0],relations.shape[1],relations)\n",
    "km.dlog()\n",
    "print(\">>> adj_matrix\")\n",
    "print(km.adj_matrix)\n",
    "km.solve()\n",
    "print(\">>> match result:\", km.match_right)"
   ]
  },
  {
   "cell_type": "code",
   "execution_count": 71,
   "metadata": {
    "ExecuteTime": {
     "end_time": "2021-02-15T06:34:05.411966Z",
     "start_time": "2021-02-15T06:34:01.589881Z"
    },
    "code_folding": [],
    "scrolled": false
   },
   "outputs": [
    {
     "name": "stdout",
     "output_type": "stream",
     "text": [
      ">>> relation:\n",
      "[[3 0 4]\n",
      " [2 1 3]\n",
      " [0 0 5]]\n",
      ">>> match:\n",
      "[[0 0 0]\n",
      " [0 0 0]\n",
      " [0 0 0]]\n",
      ">>> driver_score:\n",
      "[4 3 5]\n",
      ">>> leader_socre:\n",
      "[0. 0. 0.]\n",
      "\n",
      "\n",
      ">>> after step: 0\n",
      ">>> relation:\n",
      "[[3 0 4]\n",
      " [2 1 3]\n",
      " [0 0 5]]\n",
      ">>> match:\n",
      "[[0 0 1]\n",
      " [0 0 0]\n",
      " [0 0 0]]\n",
      ">>> driver_score:\n",
      "[4 3 5]\n",
      ">>> leader_socre:\n",
      "[0. 0. 0.]\n"
     ]
    },
    {
     "ename": "KeyboardInterrupt",
     "evalue": "",
     "output_type": "error",
     "traceback": [
      "\u001b[0;31m---------------------------------------------------------------------------\u001b[0m",
      "\u001b[0;31mKeyboardInterrupt\u001b[0m                         Traceback (most recent call last)",
      "\u001b[0;32m<ipython-input-71-7bac2284c287>\u001b[0m in \u001b[0;36m<module>\u001b[0;34m\u001b[0m\n\u001b[1;32m     41\u001b[0m             \u001b[0;31m# 1.1 计算“新增匹配”的次大匹配及带来的降效\u001b[0m\u001b[0;34m\u001b[0m\u001b[0;34m\u001b[0m\u001b[0;34m\u001b[0m\u001b[0m\n\u001b[1;32m     42\u001b[0m             \u001b[0mnewMatch_w\u001b[0m \u001b[0;34m=\u001b[0m \u001b[0mrelation\u001b[0m\u001b[0;34m[\u001b[0m\u001b[0mrowIdx\u001b[0m\u001b[0;34m,\u001b[0m\u001b[0;34m:\u001b[0m\u001b[0;34m]\u001b[0m\u001b[0;34m\u001b[0m\u001b[0;34m\u001b[0m\u001b[0m\n\u001b[0;32m---> 43\u001b[0;31m             \u001b[0mnewMatch_2ndMax\u001b[0m \u001b[0;34m=\u001b[0m \u001b[0mnp\u001b[0m\u001b[0;34m.\u001b[0m\u001b[0mmax\u001b[0m\u001b[0;34m(\u001b[0m\u001b[0mnp\u001b[0m\u001b[0;34m.\u001b[0m\u001b[0mdelete\u001b[0m\u001b[0;34m(\u001b[0m\u001b[0mnewMatch_w\u001b[0m\u001b[0;34m,\u001b[0m\u001b[0mcolIdx\u001b[0m\u001b[0;34m)\u001b[0m\u001b[0;34m)\u001b[0m\u001b[0;34m\u001b[0m\u001b[0;34m\u001b[0m\u001b[0m\n\u001b[0m\u001b[1;32m     44\u001b[0m             \u001b[0mnewMatch_wReduce\u001b[0m \u001b[0;34m=\u001b[0m \u001b[0mnewMatch_w\u001b[0m\u001b[0;34m[\u001b[0m\u001b[0mcolIdx\u001b[0m\u001b[0;34m]\u001b[0m \u001b[0;34m-\u001b[0m \u001b[0mnewMatch_2ndMax\u001b[0m\u001b[0;34m\u001b[0m\u001b[0;34m\u001b[0m\u001b[0m\n\u001b[1;32m     45\u001b[0m             \u001b[0;31m# 1.2 计算“新增匹配”的次大匹配及带来的降效\u001b[0m\u001b[0;34m\u001b[0m\u001b[0;34m\u001b[0m\u001b[0;34m\u001b[0m\u001b[0m\n",
      "\u001b[0;31mKeyboardInterrupt\u001b[0m: "
     ]
    }
   ],
   "source": [
    "driver={\n",
    "    \"A\":np.array([3,0,4]),\n",
    "    \"B\":np.array([2,1,3]),\n",
    "    \"C\":np.array([0,0,5])\n",
    "}\n",
    "\n",
    "relation=np.vstack(list(driver.values()))\n",
    "match=np.zeros_like(relation)\n",
    "driver_score = np.max(relation, axis=1)\n",
    "leader_score = np.zeros(relation.shape[1])\n",
    "driver_vis = np.zeros(relation.shape[0])\n",
    "leader_vis = np.zeros(relation.shape[1])\n",
    "\n",
    "\n",
    "\n",
    "print(\">>> relation:\")\n",
    "print(relation)\n",
    "print(\">>> match:\")\n",
    "print(match)\n",
    "print(\">>> driver_score:\")\n",
    "print(driver_score)\n",
    "print(\">>> leader_socre:\")\n",
    "print(leader_score)\n",
    "\n",
    "def find():\n",
    "    pass\n",
    "\n",
    "for rowIdx,row in enumerate(relation):\n",
    "    while(True):\n",
    "        driver_vis.fill(0)\n",
    "        leader_vis.fill(0)\n",
    "        colIdx = np.argmax(row)\n",
    "        # 不能是已经匹配过的点(colIdx)\n",
    "        if not np.any(match[:,colIdx]):\n",
    "            # 还要满足两边顶点score和等于边权重(相等子图)\n",
    "            if relation[rowIdx,colIdx] == driver_score[rowIdx] + leader_score[colIdx]:\n",
    "                match[rowIdx,colIdx] = 1\n",
    "                break\n",
    "        else:\n",
    "            # 1. 匹配冲突时，考虑降低效率，取次大匹配\n",
    "            # 1.1 计算“新增匹配”的次大匹配及带来的降效\n",
    "            newMatch_w = relation[rowIdx,:]\n",
    "            newMatch_2ndMax = np.max(np.delete(newMatch_w,colIdx))\n",
    "            newMatch_wReduce = newMatch_w[colIdx] - newMatch_2ndMax\n",
    "            # 1.2 计算“新增匹配”的次大匹配及带来的降效\n",
    "            oldMatchIdx = match[:,colIdx].nonzero()[0][0]\n",
    "            oldMatch_w = relation[oldMatchIdx,:]\n",
    "            oldMatch_2ndMax = np.max(np.delete(oldMatch_w,colIdx))\n",
    "            oldMatch_wReduce = oldMatch_w[colIdx] - oldMatch_2ndMax\n",
    "    #         print(newMatch_w,newMatch_2ndMax,newMatch_wReduce)\n",
    "    #         print(oldMatch_w,oldMatch_2ndMax,oldMatch_wReduce)\n",
    "            # 选择降效更低的方案 | 相同时随便选哪个都可以（wReduce==newMatch_wReduce==oldMatch_wReduce，最后选的时候直接取max)\n",
    "            wReduce = newMatch_wReduce if newMatch_wReduce <= oldMatch_wReduce else oldMatch_wReduce\n",
    "            driver_score[rowIdx] -= wReduce\n",
    "            driver_score[oldMatchIdx] -= wReduce\n",
    "            leader_score[colIdx] += wReduce\n",
    "            # 2. 访问过的全都重新匹配\n",
    "    #         break\n",
    "            pass\n",
    "    print(\"\\n\"*2+\">>> after step: {}\".format(rowIdx))\n",
    "    print(\">>> relation:\")\n",
    "    print(relation)\n",
    "    print(\">>> match:\")\n",
    "    print(match)\n",
    "    print(\">>> driver_score:\")\n",
    "    print(driver_score)\n",
    "    print(\">>> leader_socre:\")\n",
    "    print(leader_score)"
   ]
  },
  {
   "cell_type": "code",
   "execution_count": null,
   "metadata": {},
   "outputs": [],
   "source": []
  },
  {
   "cell_type": "code",
   "execution_count": null,
   "metadata": {},
   "outputs": [],
   "source": [
    "class max_bipartite_graph_match(object):\n",
    " \n",
    "    def __init__(self,graph):\n",
    "        self.graph = graph\n",
    "        self.max_weight = graph.sum()\n",
    "        self.n,self.m = graph.shape\n",
    "        assert self.n == self.m\n",
    "        self.lx = self.graph.max(1)\n",
    "        self.ly = np.array([0] * self.m, dtype=int) #if weight of edges is float, change dtype to float\n",
    "        self.match = np.array([-1] * self.n, dtype=int)\n",
    "        self.slack = np.array([0] * self.m, dtype=int)\n",
    "        self.visx = np.array([False] * self.n, dtype=bool)\n",
    "        self.visy = np.array([False] * self.m, dtype=bool)\n",
    " \n",
    "    def reset_slack(self):\n",
    "        self.slack.fill(self.max_weight + 1)\n",
    " \n",
    "    def reset_vis(self):\n",
    "        self.visx.fill(False)\n",
    "        self.visy.fill(False)\n",
    " \n",
    "    def find_path(self, x):\n",
    "        self.visx[x] = True\n",
    " \n",
    "        for y in range(self.m):\n",
    "            if self.visy[y]: continue\n",
    "            tmp_delta = self.lx[x] + self.ly[y] - self.graph[x][y]\n",
    "            if  tmp_delta == 0:\n",
    "                self.visy[y] = True\n",
    "                if  self.match[y] == -1 or self.find_path(self.match[y]):\n",
    "                    self.match[y] = x\n",
    "                    return True\n",
    "            elif self.slack[y] > tmp_delta:\n",
    "                self.slack[y] = tmp_delta\n",
    " \n",
    "        return False\n",
    " \n",
    "    def KM(self):\n",
    "        for x in range(self.n):\n",
    "            self.reset_slack()\n",
    "            while True:\n",
    "                self.reset_vis()\n",
    "                if self.find_path(x): break\n",
    "                else: #update slack\n",
    "                    delta = self.slack[~self.visy].min()\n",
    "                    self.lx[self.visx] -= delta\n",
    "                    self.ly[self.visy] += delta\n",
    "                    self.slack[~self.visy] -= delta\n",
    " \n",
    "        return np.sum(self.lx) + np.sum(self.ly)\n",
    " \n",
    "    def __call__(self):\n"
   ]
  },
  {
   "cell_type": "code",
   "execution_count": null,
   "metadata": {},
   "outputs": [],
   "source": []
  },
  {
   "cell_type": "code",
   "execution_count": 27,
   "metadata": {
    "ExecuteTime": {
     "end_time": "2021-02-10T08:22:11.444585Z",
     "start_time": "2021-02-10T08:22:11.438625Z"
    }
   },
   "outputs": [],
   "source": [
    "BASE_DIR=\"/Users/didi/Downloads/0-排车相关/\"\n",
    "detail_fp = os.path.join(BASE_DIR,\"0205_detail\")\n",
    "driver2leader_fp = os.path.join(BASE_DIR,\"transInfo_grouped.csv\")"
   ]
  },
  {
   "cell_type": "code",
   "execution_count": 3,
   "metadata": {
    "ExecuteTime": {
     "end_time": "2021-02-10T07:25:43.361706Z",
     "start_time": "2021-02-10T07:25:43.351791Z"
    }
   },
   "outputs": [],
   "source": [
    "class Driver:\n",
    "    def __init__(self,value,links,line):\n",
    "        self.value = value\n",
    "        self.links = links\n",
    "        self.line = line\n",
    "    \n",
    "\n",
    "class Link:\n",
    "    def __init__(self,w,to):\n",
    "        self.w = w\n",
    "        self.to = to\n",
    "\n",
    "\n",
    "class Line:\n",
    "    def __init__(self,value,leaders,driver):\n",
    "        self.value = value\n",
    "        self.leaders = leaders\n",
    "        self.driver = driver\n",
    "        "
   ]
  },
  {
   "cell_type": "code",
   "execution_count": 93,
   "metadata": {
    "ExecuteTime": {
     "end_time": "2021-02-10T09:28:41.913469Z",
     "start_time": "2021-02-10T09:28:41.691065Z"
    }
   },
   "outputs": [],
   "source": [
    "d2lDF = pd.read_csv(driver2leader_fp,sep=\"\\t\")[[\"driver_phone\",\"leader_uid\",\"dateSumNormed\",\"vl_volume\",\"vl_capacity\"]]\n",
    "detailDF = pd.read_csv(detail_fp,sep=\"\\t\").rename(columns={\"tuan_ids\":\"leader_uid\"})\n",
    "detailDF[\"leader_uid\"] = detailDF[\"leader_uid\"].apply(lambda x:[i for i in x.split(\",\") if len(i)>1])\n",
    "detailDF = detailDF.explode(\"leader_uid\")\n",
    "detailDF[\"leader_uid\"]=detailDF[\"leader_uid\"].astype(np.int64)"
   ]
  },
  {
   "cell_type": "code",
   "execution_count": 94,
   "metadata": {
    "ExecuteTime": {
     "end_time": "2021-02-10T09:28:42.145532Z",
     "start_time": "2021-02-10T09:28:42.085715Z"
    }
   },
   "outputs": [
    {
     "data": {
      "text/html": [
       "<div>\n",
       "<style scoped>\n",
       "    .dataframe tbody tr th:only-of-type {\n",
       "        vertical-align: middle;\n",
       "    }\n",
       "\n",
       "    .dataframe tbody tr th {\n",
       "        vertical-align: top;\n",
       "    }\n",
       "\n",
       "    .dataframe thead th {\n",
       "        text-align: right;\n",
       "    }\n",
       "</style>\n",
       "<table border=\"1\" class=\"dataframe\">\n",
       "  <thead>\n",
       "    <tr style=\"text-align: right;\">\n",
       "      <th></th>\n",
       "      <th>line_id</th>\n",
       "      <th>volume</th>\n",
       "      <th>weight</th>\n",
       "      <th>driver_phone</th>\n",
       "      <th>leader_uid</th>\n",
       "      <th>dateSumNormed</th>\n",
       "      <th>vl_volume</th>\n",
       "      <th>vl_capacity</th>\n",
       "    </tr>\n",
       "  </thead>\n",
       "  <tbody>\n",
       "    <tr>\n",
       "      <th>0</th>\n",
       "      <td>1328</td>\n",
       "      <td>1081.393</td>\n",
       "      <td>385.201</td>\n",
       "      <td>2b55b0efff57f4c1920048f3ea9deada</td>\n",
       "      <td>639264856631565102</td>\n",
       "      <td>74950.0</td>\n",
       "      <td>4800.0</td>\n",
       "      <td>1100.0</td>\n",
       "    </tr>\n",
       "    <tr>\n",
       "      <th>1</th>\n",
       "      <td>1328</td>\n",
       "      <td>1081.393</td>\n",
       "      <td>385.201</td>\n",
       "      <td>2b55b0efff57f4c1920048f3ea9deada</td>\n",
       "      <td>639264856638408585</td>\n",
       "      <td>88308.0</td>\n",
       "      <td>4800.0</td>\n",
       "      <td>1100.0</td>\n",
       "    </tr>\n",
       "    <tr>\n",
       "      <th>2</th>\n",
       "      <td>1328</td>\n",
       "      <td>1081.393</td>\n",
       "      <td>385.201</td>\n",
       "      <td>2b55b0efff57f4c1920048f3ea9deada</td>\n",
       "      <td>637312124015608801</td>\n",
       "      <td>81296.0</td>\n",
       "      <td>4800.0</td>\n",
       "      <td>1100.0</td>\n",
       "    </tr>\n",
       "    <tr>\n",
       "      <th>3</th>\n",
       "      <td>1328</td>\n",
       "      <td>1081.393</td>\n",
       "      <td>385.201</td>\n",
       "      <td>2b55b0efff57f4c1920048f3ea9deada</td>\n",
       "      <td>637312124013150198</td>\n",
       "      <td>81296.0</td>\n",
       "      <td>4800.0</td>\n",
       "      <td>1100.0</td>\n",
       "    </tr>\n",
       "    <tr>\n",
       "      <th>4</th>\n",
       "      <td>1328</td>\n",
       "      <td>1081.393</td>\n",
       "      <td>385.201</td>\n",
       "      <td>2b55b0efff57f4c1920048f3ea9deada</td>\n",
       "      <td>639264856660669332</td>\n",
       "      <td>73571.0</td>\n",
       "      <td>4800.0</td>\n",
       "      <td>1100.0</td>\n",
       "    </tr>\n",
       "    <tr>\n",
       "      <th>...</th>\n",
       "      <td>...</td>\n",
       "      <td>...</td>\n",
       "      <td>...</td>\n",
       "      <td>...</td>\n",
       "      <td>...</td>\n",
       "      <td>...</td>\n",
       "      <td>...</td>\n",
       "      <td>...</td>\n",
       "    </tr>\n",
       "    <tr>\n",
       "      <th>4616</th>\n",
       "      <td>4</td>\n",
       "      <td>2230.947</td>\n",
       "      <td>728.780</td>\n",
       "      <td>ee00b34ea5f0737fbf2dec002f0304f4</td>\n",
       "      <td>639264856637531694</td>\n",
       "      <td>92988.0</td>\n",
       "      <td>8500.0</td>\n",
       "      <td>1400.0</td>\n",
       "    </tr>\n",
       "    <tr>\n",
       "      <th>4617</th>\n",
       "      <td>8</td>\n",
       "      <td>908.631</td>\n",
       "      <td>264.807</td>\n",
       "      <td>f7a4370d338593d405dd5223dd5f27c9</td>\n",
       "      <td>637276942179510865</td>\n",
       "      <td>NaN</td>\n",
       "      <td>NaN</td>\n",
       "      <td>NaN</td>\n",
       "    </tr>\n",
       "    <tr>\n",
       "      <th>4618</th>\n",
       "      <td>8</td>\n",
       "      <td>908.631</td>\n",
       "      <td>264.807</td>\n",
       "      <td>f7a4370d338593d405dd5223dd5f27c9</td>\n",
       "      <td>639264856678287441</td>\n",
       "      <td>NaN</td>\n",
       "      <td>NaN</td>\n",
       "      <td>NaN</td>\n",
       "    </tr>\n",
       "    <tr>\n",
       "      <th>4619</th>\n",
       "      <td>10</td>\n",
       "      <td>428.246</td>\n",
       "      <td>117.941</td>\n",
       "      <td>463475e14077c5a094b9bbfbf4ba7db5</td>\n",
       "      <td>637312124012127560</td>\n",
       "      <td>NaN</td>\n",
       "      <td>NaN</td>\n",
       "      <td>NaN</td>\n",
       "    </tr>\n",
       "    <tr>\n",
       "      <th>4620</th>\n",
       "      <td>1</td>\n",
       "      <td>877.991</td>\n",
       "      <td>232.730</td>\n",
       "      <td>40f02fa34c3fc29f17835e7548c63c85</td>\n",
       "      <td>639264856614927770</td>\n",
       "      <td>67752.0</td>\n",
       "      <td>17900.0</td>\n",
       "      <td>5900.0</td>\n",
       "    </tr>\n",
       "  </tbody>\n",
       "</table>\n",
       "<p>4621 rows × 8 columns</p>\n",
       "</div>"
      ],
      "text/plain": [
       "      line_id    volume   weight                      driver_phone  \\\n",
       "0        1328  1081.393  385.201  2b55b0efff57f4c1920048f3ea9deada   \n",
       "1        1328  1081.393  385.201  2b55b0efff57f4c1920048f3ea9deada   \n",
       "2        1328  1081.393  385.201  2b55b0efff57f4c1920048f3ea9deada   \n",
       "3        1328  1081.393  385.201  2b55b0efff57f4c1920048f3ea9deada   \n",
       "4        1328  1081.393  385.201  2b55b0efff57f4c1920048f3ea9deada   \n",
       "...       ...       ...      ...                               ...   \n",
       "4616        4  2230.947  728.780  ee00b34ea5f0737fbf2dec002f0304f4   \n",
       "4617        8   908.631  264.807  f7a4370d338593d405dd5223dd5f27c9   \n",
       "4618        8   908.631  264.807  f7a4370d338593d405dd5223dd5f27c9   \n",
       "4619       10   428.246  117.941  463475e14077c5a094b9bbfbf4ba7db5   \n",
       "4620        1   877.991  232.730  40f02fa34c3fc29f17835e7548c63c85   \n",
       "\n",
       "              leader_uid  dateSumNormed  vl_volume  vl_capacity  \n",
       "0     639264856631565102        74950.0     4800.0       1100.0  \n",
       "1     639264856638408585        88308.0     4800.0       1100.0  \n",
       "2     637312124015608801        81296.0     4800.0       1100.0  \n",
       "3     637312124013150198        81296.0     4800.0       1100.0  \n",
       "4     639264856660669332        73571.0     4800.0       1100.0  \n",
       "...                  ...            ...        ...          ...  \n",
       "4616  639264856637531694        92988.0     8500.0       1400.0  \n",
       "4617  637276942179510865            NaN        NaN          NaN  \n",
       "4618  639264856678287441            NaN        NaN          NaN  \n",
       "4619  637312124012127560            NaN        NaN          NaN  \n",
       "4620  639264856614927770        67752.0    17900.0       5900.0  \n",
       "\n",
       "[4621 rows x 8 columns]"
      ]
     },
     "execution_count": 94,
     "metadata": {},
     "output_type": "execute_result"
    },
    {
     "data": {
      "text/plain": [
       "563"
      ]
     },
     "execution_count": 94,
     "metadata": {},
     "output_type": "execute_result"
    },
    {
     "data": {
      "text/plain": [
       "564"
      ]
     },
     "execution_count": 94,
     "metadata": {},
     "output_type": "execute_result"
    }
   ],
   "source": [
    "jdf = detailDF.merge(d2lDF,on=[\"driver_phone\",\"leader_uid\"],how=\"left\")\n",
    "jdf\n",
    "jdf[\"dateSumNormed\"].nunique()\n",
    "jdf[\"dateSumNormed\"].nunique(False)"
   ]
  },
  {
   "cell_type": "code",
   "execution_count": 51,
   "metadata": {
    "ExecuteTime": {
     "end_time": "2021-02-10T08:29:30.028651Z",
     "start_time": "2021-02-10T08:29:30.017903Z"
    }
   },
   "outputs": [
    {
     "data": {
      "text/plain": [
       "478"
      ]
     },
     "execution_count": 51,
     "metadata": {},
     "output_type": "execute_result"
    },
    {
     "data": {
      "text/plain": [
       "(259, 5)"
      ]
     },
     "execution_count": 51,
     "metadata": {},
     "output_type": "execute_result"
    }
   ],
   "source": [
    "len(set(d2lDF[\"driver_phone\"]))\n",
    "detailDF.shape\n"
   ]
  },
  {
   "cell_type": "code",
   "execution_count": 52,
   "metadata": {
    "ExecuteTime": {
     "end_time": "2021-02-10T08:31:07.302915Z",
     "start_time": "2021-02-10T08:31:07.222500Z"
    },
    "scrolled": true
   },
   "outputs": [
    {
     "ename": "ValueError",
     "evalue": "You are trying to merge on object and int64 columns. If you wish to proceed you should use pd.concat",
     "output_type": "error",
     "traceback": [
      "\u001b[0;31m---------------------------------------------------------------------------\u001b[0m",
      "\u001b[0;31mValueError\u001b[0m                                Traceback (most recent call last)",
      "\u001b[0;32m<ipython-input-52-2aeb3d914bd2>\u001b[0m in \u001b[0;36m<module>\u001b[0;34m\u001b[0m\n\u001b[0;32m----> 1\u001b[0;31m \u001b[0mdetailDF\u001b[0m\u001b[0;34m.\u001b[0m\u001b[0mmerge\u001b[0m\u001b[0;34m(\u001b[0m\u001b[0md2lDF\u001b[0m\u001b[0;34m,\u001b[0m\u001b[0mon\u001b[0m\u001b[0;34m=\u001b[0m\u001b[0;34m[\u001b[0m\u001b[0;34m\"driver_phone\"\u001b[0m\u001b[0;34m,\u001b[0m\u001b[0;34m\"leader_uid\"\u001b[0m\u001b[0;34m]\u001b[0m\u001b[0;34m,\u001b[0m\u001b[0mhow\u001b[0m\u001b[0;34m=\u001b[0m\u001b[0;34m\"left\"\u001b[0m\u001b[0;34m)\u001b[0m\u001b[0;34m\u001b[0m\u001b[0;34m\u001b[0m\u001b[0m\n\u001b[0m",
      "\u001b[0;32m/Users/didi/opt/miniconda3/envs/tf2/lib/python3.7/site-packages/pandas/core/frame.py\u001b[0m in \u001b[0;36mmerge\u001b[0;34m(self, right, how, on, left_on, right_on, left_index, right_index, sort, suffixes, copy, indicator, validate)\u001b[0m\n\u001b[1;32m   8203\u001b[0m             \u001b[0mcopy\u001b[0m\u001b[0;34m=\u001b[0m\u001b[0mcopy\u001b[0m\u001b[0;34m,\u001b[0m\u001b[0;34m\u001b[0m\u001b[0;34m\u001b[0m\u001b[0m\n\u001b[1;32m   8204\u001b[0m             \u001b[0mindicator\u001b[0m\u001b[0;34m=\u001b[0m\u001b[0mindicator\u001b[0m\u001b[0;34m,\u001b[0m\u001b[0;34m\u001b[0m\u001b[0;34m\u001b[0m\u001b[0m\n\u001b[0;32m-> 8205\u001b[0;31m             \u001b[0mvalidate\u001b[0m\u001b[0;34m=\u001b[0m\u001b[0mvalidate\u001b[0m\u001b[0;34m,\u001b[0m\u001b[0;34m\u001b[0m\u001b[0;34m\u001b[0m\u001b[0m\n\u001b[0m\u001b[1;32m   8206\u001b[0m         )\n\u001b[1;32m   8207\u001b[0m \u001b[0;34m\u001b[0m\u001b[0m\n",
      "\u001b[0;32m/Users/didi/opt/miniconda3/envs/tf2/lib/python3.7/site-packages/pandas/core/reshape/merge.py\u001b[0m in \u001b[0;36mmerge\u001b[0;34m(left, right, how, on, left_on, right_on, left_index, right_index, sort, suffixes, copy, indicator, validate)\u001b[0m\n\u001b[1;32m     85\u001b[0m         \u001b[0mcopy\u001b[0m\u001b[0;34m=\u001b[0m\u001b[0mcopy\u001b[0m\u001b[0;34m,\u001b[0m\u001b[0;34m\u001b[0m\u001b[0;34m\u001b[0m\u001b[0m\n\u001b[1;32m     86\u001b[0m         \u001b[0mindicator\u001b[0m\u001b[0;34m=\u001b[0m\u001b[0mindicator\u001b[0m\u001b[0;34m,\u001b[0m\u001b[0;34m\u001b[0m\u001b[0;34m\u001b[0m\u001b[0m\n\u001b[0;32m---> 87\u001b[0;31m         \u001b[0mvalidate\u001b[0m\u001b[0;34m=\u001b[0m\u001b[0mvalidate\u001b[0m\u001b[0;34m,\u001b[0m\u001b[0;34m\u001b[0m\u001b[0;34m\u001b[0m\u001b[0m\n\u001b[0m\u001b[1;32m     88\u001b[0m     )\n\u001b[1;32m     89\u001b[0m     \u001b[0;32mreturn\u001b[0m \u001b[0mop\u001b[0m\u001b[0;34m.\u001b[0m\u001b[0mget_result\u001b[0m\u001b[0;34m(\u001b[0m\u001b[0;34m)\u001b[0m\u001b[0;34m\u001b[0m\u001b[0;34m\u001b[0m\u001b[0m\n",
      "\u001b[0;32m/Users/didi/opt/miniconda3/envs/tf2/lib/python3.7/site-packages/pandas/core/reshape/merge.py\u001b[0m in \u001b[0;36m__init__\u001b[0;34m(self, left, right, how, on, left_on, right_on, axis, left_index, right_index, sort, suffixes, copy, indicator, validate)\u001b[0m\n\u001b[1;32m    670\u001b[0m         \u001b[0;31m# validate the merge keys dtypes. We may need to coerce\u001b[0m\u001b[0;34m\u001b[0m\u001b[0;34m\u001b[0m\u001b[0;34m\u001b[0m\u001b[0m\n\u001b[1;32m    671\u001b[0m         \u001b[0;31m# to avoid incompatible dtypes\u001b[0m\u001b[0;34m\u001b[0m\u001b[0;34m\u001b[0m\u001b[0;34m\u001b[0m\u001b[0m\n\u001b[0;32m--> 672\u001b[0;31m         \u001b[0mself\u001b[0m\u001b[0;34m.\u001b[0m\u001b[0m_maybe_coerce_merge_keys\u001b[0m\u001b[0;34m(\u001b[0m\u001b[0;34m)\u001b[0m\u001b[0;34m\u001b[0m\u001b[0;34m\u001b[0m\u001b[0m\n\u001b[0m\u001b[1;32m    673\u001b[0m \u001b[0;34m\u001b[0m\u001b[0m\n\u001b[1;32m    674\u001b[0m         \u001b[0;31m# If argument passed to validate,\u001b[0m\u001b[0;34m\u001b[0m\u001b[0;34m\u001b[0m\u001b[0;34m\u001b[0m\u001b[0m\n",
      "\u001b[0;32m/Users/didi/opt/miniconda3/envs/tf2/lib/python3.7/site-packages/pandas/core/reshape/merge.py\u001b[0m in \u001b[0;36m_maybe_coerce_merge_keys\u001b[0;34m(self)\u001b[0m\n\u001b[1;32m   1191\u001b[0m                     \u001b[0minferred_right\u001b[0m \u001b[0;32min\u001b[0m \u001b[0mstring_types\u001b[0m \u001b[0;32mand\u001b[0m \u001b[0minferred_left\u001b[0m \u001b[0;32mnot\u001b[0m \u001b[0;32min\u001b[0m \u001b[0mstring_types\u001b[0m\u001b[0;34m\u001b[0m\u001b[0;34m\u001b[0m\u001b[0m\n\u001b[1;32m   1192\u001b[0m                 ):\n\u001b[0;32m-> 1193\u001b[0;31m                     \u001b[0;32mraise\u001b[0m \u001b[0mValueError\u001b[0m\u001b[0;34m(\u001b[0m\u001b[0mmsg\u001b[0m\u001b[0;34m)\u001b[0m\u001b[0;34m\u001b[0m\u001b[0;34m\u001b[0m\u001b[0m\n\u001b[0m\u001b[1;32m   1194\u001b[0m \u001b[0;34m\u001b[0m\u001b[0m\n\u001b[1;32m   1195\u001b[0m             \u001b[0;31m# datetimelikes must match exactly\u001b[0m\u001b[0;34m\u001b[0m\u001b[0;34m\u001b[0m\u001b[0;34m\u001b[0m\u001b[0m\n",
      "\u001b[0;31mValueError\u001b[0m: You are trying to merge on object and int64 columns. If you wish to proceed you should use pd.concat"
     ]
    }
   ],
   "source": [
    "detailDF.merge(d2lDF,on=[\"driver_phone\",\"leader_uid\"],how=\"left\")\n"
   ]
  },
  {
   "cell_type": "code",
   "execution_count": null,
   "metadata": {},
   "outputs": [],
   "source": [
    "relation = []"
   ]
  },
  {
   "cell_type": "code",
   "execution_count": null,
   "metadata": {},
   "outputs": [],
   "source": []
  },
  {
   "cell_type": "code",
   "execution_count": null,
   "metadata": {},
   "outputs": [],
   "source": [
    "def load_file(fp):\n",
    "    with open(fp,\"r\") as fr:\n",
    "        for i in fr:\n",
    "            yield i\n",
    "\n",
    "\n",
    "\n",
    "gtr = load_file(detail_fp)\n",
    "print(\"\\n\".join(itertools.islice(gtr,2)))\n",
    "print(\"\\n\".join(itertools.islice(gtr,2)))"
   ]
  },
  {
   "cell_type": "code",
   "execution_count": null,
   "metadata": {},
   "outputs": [],
   "source": []
  }
 ],
 "metadata": {
  "kernelspec": {
   "display_name": "Python3.7(tf2)",
   "language": "python",
   "name": "tf2"
  },
  "language_info": {
   "codemirror_mode": {
    "name": "ipython",
    "version": 3
   },
   "file_extension": ".py",
   "mimetype": "text/x-python",
   "name": "python",
   "nbconvert_exporter": "python",
   "pygments_lexer": "ipython3",
   "version": "3.7.9"
  },
  "toc": {
   "base_numbering": 1,
   "nav_menu": {},
   "number_sections": true,
   "sideBar": true,
   "skip_h1_title": false,
   "title_cell": "Table of Contents",
   "title_sidebar": "Contents",
   "toc_cell": false,
   "toc_position": {
    "height": "calc(100% - 180px)",
    "left": "10px",
    "top": "150px",
    "width": "178px"
   },
   "toc_section_display": true,
   "toc_window_display": true
  }
 },
 "nbformat": 4,
 "nbformat_minor": 4
}
