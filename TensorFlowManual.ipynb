{
 "cells": [
  {
   "cell_type": "code",
   "execution_count": 1,
   "metadata": {
    "ExecuteTime": {
     "end_time": "2019-10-12T11:28:18.684178Z",
     "start_time": "2019-10-12T11:28:18.447879Z"
    }
   },
   "outputs": [],
   "source": [
    "from IPython.core.interactiveshell import InteractiveShell\n",
    "InteractiveShell.ast_node_interactivity = \"all\"\n",
    "%matplotlib inline\n",
    "from tqdm.auto import tqdm\n",
    "import concurrent.futures\n",
    "from multiprocessing import Pool\n",
    "import copy,os,sys,psutil\n",
    "from collections import Counter"
   ]
  },
  {
   "cell_type": "code",
   "execution_count": 2,
   "metadata": {
    "ExecuteTime": {
     "end_time": "2019-10-12T11:28:20.114072Z",
     "start_time": "2019-10-12T11:28:18.778144Z"
    }
   },
   "outputs": [],
   "source": [
    "import tensorflow as tf"
   ]
  },
  {
   "cell_type": "markdown",
   "metadata": {},
   "source": [
    "# Tensorflow API解释"
   ]
  },
  {
   "cell_type": "code",
   "execution_count": 3,
   "metadata": {
    "ExecuteTime": {
     "end_time": "2019-10-12T11:28:20.141025Z",
     "start_time": "2019-10-12T11:28:20.138180Z"
    }
   },
   "outputs": [],
   "source": [
    "import tensorflow as tf\n",
    "from IPython.core.interactiveshell import InteractiveShell\n",
    "InteractiveShell.ast_node_interactivity = \"all\"\n",
    "%matplotlib inline"
   ]
  },
  {
   "cell_type": "markdown",
   "metadata": {},
   "source": [
    "# Normal Operation"
   ]
  },
  {
   "cell_type": "markdown",
   "metadata": {},
   "source": [
    "## tf.add & tf.nn.bias_add\n",
    "- [StackOverflow](https://stackoverflow.com/questions/43131606/whats-the-difference-of-add-methods-in-tensorflow)\n",
    ">tf.add is a general addition operation, while tf.nn.bias_add is to be used specifically for adding bias to the weights, which **raises an exception if the dtypes aren't same.**\n",
    ">\n",
    ">Unlike **tf.add**, the **type of bias is allowed to differ from value** in the case where both types are quantized."
   ]
  },
  {
   "cell_type": "markdown",
   "metadata": {},
   "source": [
    "## tf.expand_dims & tf.reshape"
   ]
  },
  {
   "cell_type": "code",
   "execution_count": 62,
   "metadata": {
    "ExecuteTime": {
     "end_time": "2019-08-21T07:26:53.290712Z",
     "start_time": "2019-08-21T07:26:53.078379Z"
    }
   },
   "outputs": [
    {
     "data": {
      "text/plain": [
       "('a_', (2, 2, 2))"
      ]
     },
     "execution_count": 62,
     "metadata": {},
     "output_type": "execute_result"
    },
    {
     "data": {
      "text/plain": [
       "('a', TensorShape([Dimension(2), Dimension(2), Dimension(2)]))"
      ]
     },
     "execution_count": 62,
     "metadata": {},
     "output_type": "execute_result"
    },
    {
     "data": {
      "text/plain": [
       "('a_tfreshape',\n",
       " TensorShape([Dimension(2), Dimension(2), Dimension(2), Dimension(1)]))"
      ]
     },
     "execution_count": 62,
     "metadata": {},
     "output_type": "execute_result"
    },
    {
     "data": {
      "text/plain": [
       "('a_tfexpand',\n",
       " TensorShape([Dimension(2), Dimension(2), Dimension(2), Dimension(1)]))"
      ]
     },
     "execution_count": 62,
     "metadata": {},
     "output_type": "execute_result"
    },
    {
     "name": "stdout",
     "output_type": "stream",
     "text": [
      "原始shape为\n"
     ]
    },
    {
     "data": {
      "text/plain": [
       "array([2, 2, 2], dtype=int32)"
      ]
     },
     "execution_count": 62,
     "metadata": {},
     "output_type": "execute_result"
    },
    {
     "name": "stdout",
     "output_type": "stream",
     "text": [
      "-1 就是在最后一维上扩展一个\n"
     ]
    },
    {
     "data": {
      "text/plain": [
       "array([2, 2, 2, 1], dtype=int32)"
      ]
     },
     "execution_count": 62,
     "metadata": {},
     "output_type": "execute_result"
    },
    {
     "name": "stdout",
     "output_type": "stream",
     "text": [
      "0 就是在第0维上扩展一个\n"
     ]
    },
    {
     "data": {
      "text/plain": [
       "array([1, 2, 2, 2], dtype=int32)"
      ]
     },
     "execution_count": 62,
     "metadata": {},
     "output_type": "execute_result"
    },
    {
     "name": "stdout",
     "output_type": "stream",
     "text": [
      "1 就是在第1维上扩展一个\n"
     ]
    },
    {
     "data": {
      "text/plain": [
       "array([2, 1, 2, 2], dtype=int32)"
      ]
     },
     "execution_count": 62,
     "metadata": {},
     "output_type": "execute_result"
    }
   ],
   "source": [
    "a_ = [[[1,1],[2,2]],\n",
    "      [[3,3],[4,4]]]\n",
    "a_ = np.array(a_)\n",
    "\"a_\",a_.shape\n",
    "\n",
    "a = tf.Variable(a_,dtype=tf.float32)\n",
    "\"a\",a.shape\n",
    "\n",
    "a_tfreshape = tf.reshape(a,[2,2,2,-1])\n",
    "\"a_tfreshape\",a_tfreshape.shape\n",
    "a_tfexpand = tf.expand_dims(a,-1)\n",
    "\"a_tfexpand\",a_tfexpand.shape\n",
    "\n",
    "with tf.Session() as sess:\n",
    "    sess.run(tf.global_variables_initializer())\n",
    "    print(\"原始shape为\")\n",
    "    sess.run(tf.shape(a))\n",
    "    print(\"-1 就是在最后一维上扩展一个\")\n",
    "    sess.run(tf.shape(tf.expand_dims(a,-1)))\n",
    "    print(\"0 就是在第0维上扩展一个\")\n",
    "    sess.run(tf.shape(tf.expand_dims(a,0)))\n",
    "    print(\"1 就是在第1维上扩展一个\")\n",
    "    sess.run(tf.shape(tf.expand_dims(a,1)))"
   ]
  },
  {
   "cell_type": "markdown",
   "metadata": {},
   "source": [
    "## tf.concat"
   ]
  },
  {
   "cell_type": "code",
   "execution_count": 24,
   "metadata": {
    "ExecuteTime": {
     "end_time": "2019-10-12T11:46:29.885247Z",
     "start_time": "2019-10-12T11:46:29.843633Z"
    }
   },
   "outputs": [
    {
     "name": "stdout",
     "output_type": "stream",
     "text": [
      "a: (2, 3)\n",
      " [[0 1 9]\n",
      " [4 9 0]]\n",
      "b: (2, 3)\n",
      " [[1 7 9]\n",
      " [3 0 8]]\n",
      "c: (2, 6)\n",
      " [[0 1 9 1 7 9]\n",
      " [4 9 0 3 0 8]]\n"
     ]
    }
   ],
   "source": [
    "a = np.random.randint(10,size=[2,3])\n",
    "b = np.random.randint(10,size=[2,3])\n",
    "print(\"a: {}\\n\".format(a.shape),a)\n",
    "print(\"b: {}\\n\".format(b.shape),b)\n",
    "\n",
    "c = tf.concat([a,b],axis=1)\n",
    "with tf.Session() as sess:\n",
    "    c_res = sess.run(c)\n",
    "    print(\"c: {}\\n\".format(c_res.shape),c_res)"
   ]
  },
  {
   "cell_type": "markdown",
   "metadata": {},
   "source": [
    "## tf.stack\n",
    "- stack要求两个tensor维度必须是相同的，本来是 $[D_1,D_2,..D_n]$ 的共n个维度的俩tensor，stack后变成n+1个维度，多+1的那个维度为`2`，具体这个+1的维度`2`放在哪就由`axis=`决定，`axis=0`那这个`2`就放在索引0上\n",
    "\n",
    "shape为(3,4,5)的两个tensor在不同axis上做stack\n",
    "- axis=0: (**2**,3,4,5)\n",
    "- axis=1: (3,**2**,4,5)\n",
    "- axis=2: (3,4,**2**,5)\n",
    "- axis=3: (3,4,5,**2**)\n",
    "\n",
    "stack三个维度相同的tensor那就是把`3`添加在`axis`指定的索引位置上"
   ]
  },
  {
   "cell_type": "code",
   "execution_count": 49,
   "metadata": {
    "ExecuteTime": {
     "end_time": "2019-06-13T12:56:14.885274Z",
     "start_time": "2019-06-13T12:56:14.860137Z"
    },
    "scrolled": true
   },
   "outputs": [
    {
     "data": {
      "text/plain": [
       "(3, 4, 5)"
      ]
     },
     "execution_count": 49,
     "metadata": {},
     "output_type": "execute_result"
    },
    {
     "data": {
      "text/plain": [
       "(3, 4, 5)"
      ]
     },
     "execution_count": 49,
     "metadata": {},
     "output_type": "execute_result"
    },
    {
     "data": {
      "text/plain": [
       "TensorShape([Dimension(3), Dimension(4), Dimension(5), Dimension(3)])"
      ]
     },
     "execution_count": 49,
     "metadata": {},
     "output_type": "execute_result"
    }
   ],
   "source": [
    "a = np.random.random([3,4,5])\n",
    "b = np.random.random([3,4,5])\n",
    "e = np.random.random([3,4,5])\n",
    "c = tf.stack([a,b,e], axis=3)\n",
    "a.shape\n",
    "b.shape\n",
    "c.shape"
   ]
  },
  {
   "cell_type": "markdown",
   "metadata": {},
   "source": [
    "## tf.unstack\n",
    "按`axis`指定的维度拆开，该维度取值是多少就拆成多少个tensor\n",
    "\n",
    "shape为(3,4,5,2)的一个tensor在不同axis上做unstack\n",
    "- axis=0: [(4,5,2)]*3\n",
    "- axis=1: [(3,5,2)]*4\n",
    "- axis=2: [(3,4,2)]*5\n",
    "- axis=3: [(3,4,5)]*2"
   ]
  },
  {
   "cell_type": "code",
   "execution_count": 57,
   "metadata": {
    "ExecuteTime": {
     "end_time": "2019-06-13T13:01:42.456998Z",
     "start_time": "2019-06-13T13:01:42.411907Z"
    }
   },
   "outputs": [
    {
     "data": {
      "text/plain": [
       "(3, 4, 5, 2)"
      ]
     },
     "execution_count": 57,
     "metadata": {},
     "output_type": "execute_result"
    },
    {
     "data": {
      "text/plain": [
       "[<tf.Tensor 'unstack_10:0' shape=(4, 5, 2) dtype=float64>,\n",
       " <tf.Tensor 'unstack_10:1' shape=(4, 5, 2) dtype=float64>,\n",
       " <tf.Tensor 'unstack_10:2' shape=(4, 5, 2) dtype=float64>]"
      ]
     },
     "execution_count": 57,
     "metadata": {},
     "output_type": "execute_result"
    },
    {
     "data": {
      "text/plain": [
       "[<tf.Tensor 'unstack_11:0' shape=(4, 5, 2) dtype=float64>,\n",
       " <tf.Tensor 'unstack_11:1' shape=(4, 5, 2) dtype=float64>,\n",
       " <tf.Tensor 'unstack_11:2' shape=(4, 5, 2) dtype=float64>]"
      ]
     },
     "execution_count": 57,
     "metadata": {},
     "output_type": "execute_result"
    },
    {
     "data": {
      "text/plain": [
       "[<tf.Tensor 'unstack_12:0' shape=(3, 5, 2) dtype=float64>,\n",
       " <tf.Tensor 'unstack_12:1' shape=(3, 5, 2) dtype=float64>,\n",
       " <tf.Tensor 'unstack_12:2' shape=(3, 5, 2) dtype=float64>,\n",
       " <tf.Tensor 'unstack_12:3' shape=(3, 5, 2) dtype=float64>]"
      ]
     },
     "execution_count": 57,
     "metadata": {},
     "output_type": "execute_result"
    },
    {
     "data": {
      "text/plain": [
       "[<tf.Tensor 'unstack_13:0' shape=(3, 4, 2) dtype=float64>,\n",
       " <tf.Tensor 'unstack_13:1' shape=(3, 4, 2) dtype=float64>,\n",
       " <tf.Tensor 'unstack_13:2' shape=(3, 4, 2) dtype=float64>,\n",
       " <tf.Tensor 'unstack_13:3' shape=(3, 4, 2) dtype=float64>,\n",
       " <tf.Tensor 'unstack_13:4' shape=(3, 4, 2) dtype=float64>]"
      ]
     },
     "execution_count": 57,
     "metadata": {},
     "output_type": "execute_result"
    },
    {
     "data": {
      "text/plain": [
       "[<tf.Tensor 'unstack_14:0' shape=(3, 4, 5) dtype=float64>,\n",
       " <tf.Tensor 'unstack_14:1' shape=(3, 4, 5) dtype=float64>]"
      ]
     },
     "execution_count": 57,
     "metadata": {},
     "output_type": "execute_result"
    }
   ],
   "source": [
    "m = np.random.random([3,4,5,2])\n",
    "m.shape\n",
    "tf.unstack(m)\n",
    "tf.unstack(m,axis=0)\n",
    "tf.unstack(m,axis=1)\n",
    "tf.unstack(m,axis=2)\n",
    "tf.unstack(m,axis=3)\n",
    "\n",
    "# ?tf.unstack"
   ]
  },
  {
   "cell_type": "markdown",
   "metadata": {},
   "source": [
    "## tf.reduce_mean\n",
    "tf.reduce_mean, reduce_sum, reduce_max就是计算某一个维度上的均值、加和、最值\n",
    ">tf.reduce_mean(input_tensor, axis=None, keepdims=None, name=None, reduction_indices=None, keep_dims=None)\n",
    "- axis：\n",
    "    - axis=None, 求全部元素的平均值；\n",
    "    - axis=0, 列平均值；\n",
    "    - axis=1，行平均值。 \n",
    "- keep_dims：若值为True，可多行输出平均值。 \n",
    "- name：自定义操作名。 \n",
    "- ~~reduction_indices：axis的旧名，已停用。~~"
   ]
  },
  {
   "cell_type": "code",
   "execution_count": 1,
   "metadata": {
    "ExecuteTime": {
     "end_time": "2019-07-17T12:16:59.148829Z",
     "start_time": "2019-07-17T12:16:59.052478Z"
    }
   },
   "outputs": [
    {
     "ename": "NameError",
     "evalue": "name 'tf' is not defined",
     "output_type": "error",
     "traceback": [
      "\u001b[0;31m---------------------------------------------------------------------------\u001b[0m",
      "\u001b[0;31mNameError\u001b[0m                                 Traceback (most recent call last)",
      "\u001b[0;32m<ipython-input-1-1bbe52383df7>\u001b[0m in \u001b[0;36m<module>\u001b[0;34m()\u001b[0m\n\u001b[1;32m      2\u001b[0m \u001b[0ma\u001b[0m \u001b[0;34m=\u001b[0m \u001b[0mnp\u001b[0m\u001b[0;34m.\u001b[0m\u001b[0mrandom\u001b[0m\u001b[0;34m.\u001b[0m\u001b[0mrandint\u001b[0m\u001b[0;34m(\u001b[0m\u001b[0;36m0\u001b[0m\u001b[0;34m,\u001b[0m\u001b[0;36m10\u001b[0m\u001b[0;34m,\u001b[0m\u001b[0msize\u001b[0m\u001b[0;34m=\u001b[0m\u001b[0;34m[\u001b[0m\u001b[0;36m2\u001b[0m\u001b[0;34m,\u001b[0m\u001b[0;36m3\u001b[0m\u001b[0;34m]\u001b[0m\u001b[0;34m)\u001b[0m\u001b[0;34m\u001b[0m\u001b[0;34m\u001b[0m\u001b[0m\n\u001b[1;32m      3\u001b[0m \u001b[0;34m\"a\"\u001b[0m\u001b[0;34m,\u001b[0m\u001b[0ma\u001b[0m\u001b[0;34m\u001b[0m\u001b[0;34m\u001b[0m\u001b[0m\n\u001b[0;32m----> 4\u001b[0;31m \u001b[0ma_var\u001b[0m \u001b[0;34m=\u001b[0m \u001b[0mtf\u001b[0m\u001b[0;34m.\u001b[0m\u001b[0mVariable\u001b[0m\u001b[0;34m(\u001b[0m\u001b[0ma\u001b[0m\u001b[0;34m)\u001b[0m\u001b[0;34m\u001b[0m\u001b[0;34m\u001b[0m\u001b[0m\n\u001b[0m\u001b[1;32m      5\u001b[0m \u001b[0ma_var\u001b[0m\u001b[0;34m.\u001b[0m\u001b[0mshape\u001b[0m\u001b[0;34m\u001b[0m\u001b[0;34m\u001b[0m\u001b[0m\n\u001b[1;32m      6\u001b[0m \u001b[0ma\u001b[0m\u001b[0;34m.\u001b[0m\u001b[0mshape\u001b[0m\u001b[0;34m\u001b[0m\u001b[0;34m\u001b[0m\u001b[0m\n",
      "\u001b[0;31mNameError\u001b[0m: name 'tf' is not defined"
     ]
    }
   ],
   "source": [
    "np.random.seed(2019)\n",
    "a = np.random.randint(0,10,size=[2,3])\n",
    "\"a\",a\n",
    "a_var = tf.Variable(a)\n",
    "a_var.shape\n",
    "a.shape\n",
    "tf.reduce_mean(a,axis=None).shape\n",
    "tf.reduce_mean(a,axis=0).shape\n",
    "with tf.Session() as sess:\n",
    "    sess.run(tf.reduce_sum(a,axis=None))\n",
    "    sess.run(tf.reduce_mean(a,axis=None))\n",
    "    sess.run(tf.reduce_mean(a,axis=None)).shape\n",
    "    sess.run(tf.reduce_mean(a,axis=0))\n",
    "    sess.run(tf.reduce_mean(a,axis=0)).shape"
   ]
  },
  {
   "cell_type": "markdown",
   "metadata": {},
   "source": [
    "## tf.transpose\n",
    "> tf.transpose(a, perm=None, name='transpose', conjugate=False)\n",
    "- a 需要转置的tensor\n",
    "- perm （permute）转置的形式\n",
    "    - `None` 表示把shape倒转过来，如[3,4]变成[4,3]，[1,2,3,4]变成[4,3,2,1]\n",
    "    - `list[int]类型` 里面的int表示原始维度的索引按list里的顺序来排列\n",
    "        - 如`[0,3,2,1]`表示原始的维度`3`放到第二个,`1`放到第四个（二、四维互换了）\n",
    "        - 如`[1,3,2,0]`表示转置后的，按数字作为索引把原始的维度按当前list里的顺序重新排列"
   ]
  },
  {
   "cell_type": "code",
   "execution_count": 23,
   "metadata": {
    "ExecuteTime": {
     "end_time": "2019-06-13T12:09:14.064183Z",
     "start_time": "2019-06-13T12:09:14.028003Z"
    }
   },
   "outputs": [
    {
     "data": {
      "text/plain": [
       "(3, 4, 5, 6)"
      ]
     },
     "execution_count": 23,
     "metadata": {},
     "output_type": "execute_result"
    },
    {
     "data": {
      "text/plain": [
       "<tf.Tensor 'transpose_8:0' shape=(6, 5, 4, 3) dtype=float64>"
      ]
     },
     "execution_count": 23,
     "metadata": {},
     "output_type": "execute_result"
    },
    {
     "data": {
      "text/plain": [
       "<tf.Tensor 'transpose_9:0' shape=(5, 4, 3, 6) dtype=float64>"
      ]
     },
     "execution_count": 23,
     "metadata": {},
     "output_type": "execute_result"
    }
   ],
   "source": [
    "a = np.random.random([3,4,5,6])\n",
    "a.shape\n",
    "tf.transpose(a)\n",
    "tf.transpose(a,[2,1,0,3])"
   ]
  },
  {
   "cell_type": "markdown",
   "metadata": {},
   "source": [
    "## tf.truncated_normal\n",
    "按指定均值、标准差生成正态分布的数据，并且做两倍标准差截断\n",
    "> tf.truncated_normal(shape, mean=0.0, stddev=1.0, dtype=tf.float32, seed=None, name=None) :\n",
    "- shape表示生成张量的维度\n",
    "- mean是均值 | 默认为0\n",
    "- stddev是标准差。 | 默认为1.0\n",
    "- seed随机数种子\n",
    ">\n",
    ">这个函数产生正太分布，均值和标准差自己设定。这是一个截断的产生正太分布的函数，就是说产生正太分布的值如果与均值的差值大于两倍的标准差，那就重新生成。和一般的正太分布的产生随机数据比起来，这个函数产生的随机数与均值的差距不会超过两倍的标准差，但是一般的别的函数是可能的。\n",
    "\n",
    "tf里的随机数种子，可以设置到图级别也可以设置为op级别\n",
    "- 图级别：\n",
    "```\n",
    "# at some graph\n",
    "tf.set_random_seed(2019)\n",
    "tf.truncated_normal([3,4],stddev=0.1)\n",
    "```\n",
    "- op级别：\n",
    "```\n",
    "tf.truncated_normal([3,4],stddev=0.1,seed=2019)\n",
    "```\n",
    "\n",
    "类似的随机函数还有 `tf.random_uniform([3,4], -1, 1)` 生成-1到1的均匀分布的随机数\n",
    ">tf.random_uniform(shape, minval=0, maxval=None, dtype=tf.float32, seed=None, name=None)"
   ]
  },
  {
   "cell_type": "code",
   "execution_count": 36,
   "metadata": {
    "ExecuteTime": {
     "end_time": "2019-06-13T08:41:50.844102Z",
     "start_time": "2019-06-13T08:41:50.721527Z"
    }
   },
   "outputs": [
    {
     "data": {
      "text/plain": [
       "array([[-0.01135067,  0.05639387, -0.04778707,  0.04571497],\n",
       "       [ 0.1153388 ,  0.07203745,  0.15631334, -0.16913354],\n",
       "       [ 0.124575  , -0.04655875,  0.0504917 ,  0.06605241]],\n",
       "      dtype=float32)"
      ]
     },
     "execution_count": 36,
     "metadata": {},
     "output_type": "execute_result"
    },
    {
     "data": {
      "text/plain": [
       "array([[0, 0, 0, 0],\n",
       "       [0, 0, 0, 0],\n",
       "       [0, 0, 0, 0]], dtype=int32)"
      ]
     },
     "execution_count": 36,
     "metadata": {},
     "output_type": "execute_result"
    },
    {
     "data": {
      "text/plain": [
       "array([[ 0.04278614,  0.16716555, -0.01701541, -0.00202826],\n",
       "       [ 0.11125483,  0.07280847, -0.07696502, -0.1261591 ],\n",
       "       [-0.01496598, -0.01382563, -0.05033821, -0.02851957]],\n",
       "      dtype=float32)"
      ]
     },
     "execution_count": 36,
     "metadata": {},
     "output_type": "execute_result"
    }
   ],
   "source": [
    "# truncated_normal 按正态分布生成数据，并且做标准差截断\n",
    "with tf.Session() as sess:\n",
    "    random_op = tf.truncated_normal([3,4],stddev=0.1,seed=2019)\n",
    "    # random_op在一段程序里跑了三次，seed只控制程序每次相同位置生成时结果是一样的，而这三次则都不一样\n",
    "    sess.run(random_op)\n",
    "    sess.run(tf.cast(random_op,tf.int32))\n",
    "    sess.run(tf.to_float(random_op,tf.int32))"
   ]
  },
  {
   "cell_type": "markdown",
   "metadata": {},
   "source": [
    "## tf.while_loop"
   ]
  },
  {
   "cell_type": "code",
   "execution_count": 17,
   "metadata": {
    "ExecuteTime": {
     "end_time": "2019-06-18T12:41:34.414290Z",
     "start_time": "2019-06-18T12:41:34.063546Z"
    }
   },
   "outputs": [
    {
     "data": {
      "text/plain": [
       "[10, 10]"
      ]
     },
     "execution_count": 17,
     "metadata": {},
     "output_type": "execute_result"
    }
   ],
   "source": [
    "i  = 0\n",
    "n =10 \n",
    "\n",
    "def cond(i, n):\n",
    "    return i < n\n",
    "\n",
    "def body(i, n):\n",
    "    i = i + 1\n",
    "    return i, n\n",
    "i, n = tf.while_loop(cond, body, [i, n])\n",
    "\n",
    "with tf.Session() as sess:\n",
    "    sess.run(tf.global_variables_initializer())\n",
    "    sess.run([i,n])"
   ]
  },
  {
   "cell_type": "markdown",
   "metadata": {},
   "source": [
    "## tf.slice & tf.gather\n",
    "- `tf.slice`: 按照指定的下标范围抽取连续区域的子集\n",
    "    - 用得少，一般直接用索引 `[a:b,c:d,:-5]` 这种方式直接取（更pythonic）\n",
    "- `tf.gather`: 按照指定的下标集合从axis=0中抽取子集，适合抽取不连续区域的子集\n",
    "\n",
    "### tf.slice\n",
    "> Note that tf.Tensor.getitem is typically a more pythonic way to perform slices, as it allows you to write foo[3:7, :-2] instead of tf.slice(foo, [3, 0], [4, foo.get_shape()[1]-2]).\n",
    "\n",
    "即`tf.slice(tensor,[3,0],[4,tensor.get_shape()[1]-2])`等价于`tensor[3:7,-2]`\n",
    "\n",
    "### tf.gather\n",
    "```python\n",
    "tf.gather(\n",
    "    params,\n",
    "    indices,\n",
    "    validate_indices=None,\n",
    "    name=None,\n",
    "    axis=None,\n",
    "    batch_dims=0\n",
    ")\n",
    "```"
   ]
  },
  {
   "cell_type": "code",
   "execution_count": 29,
   "metadata": {
    "ExecuteTime": {
     "end_time": "2019-08-21T03:16:39.165961Z",
     "start_time": "2019-08-21T03:16:39.125832Z"
    }
   },
   "outputs": [
    {
     "data": {
      "text/plain": [
       "(3, 2, 3)"
      ]
     },
     "execution_count": 29,
     "metadata": {},
     "output_type": "execute_result"
    },
    {
     "name": "stdout",
     "output_type": "stream",
     "text": [
      "如下两个是一样的，因为第三维总共就三个元素，取0:3就是所有的都取了\n"
     ]
    },
    {
     "data": {
      "text/plain": [
       "array([[[3, 3, 3]]])"
      ]
     },
     "execution_count": 29,
     "metadata": {},
     "output_type": "execute_result"
    },
    {
     "data": {
      "text/plain": [
       "array([[[3, 3, 3]]])"
      ]
     },
     "execution_count": 29,
     "metadata": {},
     "output_type": "execute_result"
    },
    {
     "name": "stdout",
     "output_type": "stream",
     "text": [
      ">>> sess res as follow:\n"
     ]
    },
    {
     "data": {
      "text/plain": [
       "array([[[3, 3, 3]]])"
      ]
     },
     "execution_count": 29,
     "metadata": {},
     "output_type": "execute_result"
    },
    {
     "data": {
      "text/plain": [
       "array([[[1, 1, 1],\n",
       "        [2, 2, 2]],\n",
       "\n",
       "       [[5, 5, 5],\n",
       "        [6, 6, 6]]])"
      ]
     },
     "execution_count": 29,
     "metadata": {},
     "output_type": "execute_result"
    }
   ],
   "source": [
    "input = np.array([[[1, 1, 1], [2, 2, 2]],\n",
    "                 [[3, 3, 3], [4, 4, 4]],\n",
    "                 [[5, 5, 5], [6, 6, 6]]])\n",
    "input.shape\n",
    "print(\"如下两个是一样的，因为第三维总共就三个元素，取0:3就是所有的都取了\")\n",
    "input[1:2,0:1]\n",
    "input[1:2,0:1,0:3]\n",
    "print(\">>> sess res as follow:\")\n",
    "with tf.Session() as sess:\n",
    "    sess.run(tf.slice(input, [1, 0, 0], [1, 1, 3])) # 等价于 input[1:2,0:1,0:3]\n",
    "    # [[[3, 3, 3]]]\n",
    "\n",
    "    sess.run(tf.gather(input, [0, 2]))\n",
    "    # \n",
    "    # [[[1, 1, 1], [2, 2, 2]],\n",
    "    #  [[5, 5, 5], [6, 6, 6]]]"
   ]
  },
  {
   "cell_type": "markdown",
   "metadata": {},
   "source": [
    "## tf.cast\n",
    "类型转换"
   ]
  },
  {
   "cell_type": "code",
   "execution_count": 11,
   "metadata": {
    "ExecuteTime": {
     "end_time": "2019-08-21T02:56:20.787203Z",
     "start_time": "2019-08-21T02:56:20.734400Z"
    }
   },
   "outputs": [
    {
     "data": {
      "text/plain": [
       "array([[0.8, 0.9, 0.6, 0.5],\n",
       "       [0.1, 0.2, 0.3, 0.4]])"
      ]
     },
     "execution_count": 11,
     "metadata": {},
     "output_type": "execute_result"
    },
    {
     "data": {
      "text/plain": [
       "array([[0.8, 0.9, 0.6, 0.5],\n",
       "       [0.1, 0.2, 0.3, 0.4]], dtype=float32)"
      ]
     },
     "execution_count": 11,
     "metadata": {},
     "output_type": "execute_result"
    }
   ],
   "source": [
    "wordEmbedding = np.array([[0.8,0.9,0.6,0.5],[0.1,0.2,0.3,0.4]])\n",
    "wordEmbedding\n",
    "tensor = tf.cast(wordEmbedding,dtype=tf.float32,name='word2vec')\n",
    "with tf.Session() as sess:\n",
    "    sess.run(tf.global_variables_initializer())\n",
    "    sess.run(tensor)"
   ]
  },
  {
   "cell_type": "markdown",
   "metadata": {},
   "source": [
    "## tf.argmax & tf.nn.softmax\n"
   ]
  },
  {
   "cell_type": "code",
   "execution_count": 106,
   "metadata": {
    "ExecuteTime": {
     "end_time": "2019-08-22T06:44:15.764629Z",
     "start_time": "2019-08-22T06:44:15.632349Z"
    }
   },
   "outputs": [
    {
     "data": {
      "text/plain": [
       "3"
      ]
     },
     "execution_count": 106,
     "metadata": {},
     "output_type": "execute_result"
    },
    {
     "data": {
      "text/plain": [
       "array([0.0320586 , 0.08714432, 0.23688284, 0.6439143 ], dtype=float32)"
      ]
     },
     "execution_count": 106,
     "metadata": {},
     "output_type": "execute_result"
    }
   ],
   "source": [
    "a = [1,2,3,4]\n",
    "a = [float(i) for i in a]\n",
    "with tf.Session() as sess:\n",
    "    tf.argmax(a).eval()\n",
    "    tf.nn.softmax(a).eval()"
   ]
  },
  {
   "cell_type": "code",
   "execution_count": 173,
   "metadata": {
    "ExecuteTime": {
     "end_time": "2019-08-22T10:10:15.139907Z",
     "start_time": "2019-08-22T10:10:15.135618Z"
    }
   },
   "outputs": [
    {
     "data": {
      "text/plain": [
       "0.7310585786300049"
      ]
     },
     "execution_count": 173,
     "metadata": {},
     "output_type": "execute_result"
    },
    {
     "data": {
      "text/plain": [
       "0.5"
      ]
     },
     "execution_count": 173,
     "metadata": {},
     "output_type": "execute_result"
    }
   ],
   "source": [
    "sigmoid(1)\n",
    "sigmoid(0)"
   ]
  },
  {
   "cell_type": "markdown",
   "metadata": {},
   "source": [
    "## tf.onehot\n",
    "**API参数信息**\n",
    "```python\n",
    "tf.one_hot(\n",
    "    indices,\n",
    "    depth,\n",
    "    on_value=None,\n",
    "    off_value=None,\n",
    "    axis=None,\n",
    "    dtype=None,\n",
    "    name=None\n",
    ")\n",
    "```\n",
    "- 为索引`-1`保留了 `[0]*depth`的编码，索引`0`是从`[1,0,0...]`开始\n",
    "    - 其他负数索引都为`[0]*depth`\n",
    "\n",
    "`depth` 总数量 | 可以提供小于真实总数的值，逻辑是直接截断，`max(indices)+1`可以生效，但是如果再小的话max的数就被截断成0了\n",
    "\n",
    "`indices` 即特征向量的`[32,104,22,33]`或者特征矩阵`[[22,11,44],[8,19],[88,33]]`\n",
    "\n",
    "`on_value` 默认是 `1`, `off_value` 默认是 `0`\n",
    "\n",
    "`axis`: \n",
    "> If the input indices is rank N, the output will have rank N+1. The new axis is created at dimension axis (default: the new axis is appended at the end).\n",
    "- 当`indices`是特征**向量**时,`output_shape`:\n",
    "```python\n",
    "features x depth if axis == -1\n",
    "depth x features if axis == 0\n",
    "```\n",
    "- 当`indices`是特征**矩阵**时,`output_shape`:\n",
    "```python\n",
    "batch x features x depth if axis == -1\n",
    "batch x depth x features if axis == 1\n",
    "depth x batch x features if axis == 0\n",
    "```\n",
    "\n"
   ]
  },
  {
   "cell_type": "code",
   "execution_count": 13,
   "metadata": {
    "ExecuteTime": {
     "end_time": "2019-10-11T10:16:14.077004Z",
     "start_time": "2019-10-11T10:16:14.045889Z"
    }
   },
   "outputs": [
    {
     "name": "stdout",
     "output_type": "stream",
     "text": [
      "[[0. 0. 0. 0. 0. 0. 0. 0.]\n",
      " [1. 0. 0. 0. 0. 0. 0. 0.]\n",
      " [0. 0. 0. 1. 0. 0. 0. 0.]\n",
      " [0. 0. 0. 0. 0. 1. 0. 0.]\n",
      " [0. 0. 0. 0. 0. 0. 0. 1.]]\n"
     ]
    }
   ],
   "source": [
    "indices = [-1,0,3,5,7]\n",
    "depth = 8\n",
    "with tf.Session() as sess:\n",
    "    print(sess.run(tf.one_hot(indices,depth)))"
   ]
  },
  {
   "cell_type": "markdown",
   "metadata": {},
   "source": [
    "# NN relevants"
   ]
  },
  {
   "cell_type": "markdown",
   "metadata": {},
   "source": [
    "## tf.nn.zero_fraction\n",
    "计算为0的比例"
   ]
  },
  {
   "cell_type": "code",
   "execution_count": 189,
   "metadata": {
    "ExecuteTime": {
     "end_time": "2019-08-23T02:45:31.694161Z",
     "start_time": "2019-08-23T02:45:31.489592Z"
    }
   },
   "outputs": [
    {
     "data": {
      "text/plain": [
       "0.25"
      ]
     },
     "execution_count": 189,
     "metadata": {},
     "output_type": "execute_result"
    },
    {
     "data": {
      "text/plain": [
       "0.5"
      ]
     },
     "execution_count": 189,
     "metadata": {},
     "output_type": "execute_result"
    }
   ],
   "source": [
    "with tf.Session() as sess:\n",
    "    tf.nn.zero_fraction([1,1,1,0]).eval()\n",
    "    tf.nn.zero_fraction([1,1,0,0]).eval()"
   ]
  },
  {
   "cell_type": "markdown",
   "metadata": {},
   "source": [
    "## tf.nn.embedding_lookup\n",
    "```python\n",
    "tf.nn.embedding_lookup(\n",
    "    params,\n",
    "    ids,\n",
    "    partition_strategy='mod',\n",
    "    name=None,\n",
    "    validate_indices=True,\n",
    "    max_norm=None\n",
    ")\n",
    "```"
   ]
  },
  {
   "cell_type": "code",
   "execution_count": 16,
   "metadata": {
    "ExecuteTime": {
     "end_time": "2019-08-21T02:57:34.679406Z",
     "start_time": "2019-08-21T02:57:34.648356Z"
    }
   },
   "outputs": [
    {
     "data": {
      "text/plain": [
       "(4, 4)"
      ]
     },
     "execution_count": 16,
     "metadata": {},
     "output_type": "execute_result"
    },
    {
     "data": {
      "text/plain": [
       "array([[[ 1. ,  2. ,  3. ,  4. ],\n",
       "        [ 0.1,  0.2,  0.3,  0.4],\n",
       "        [10. , 20. , 30. , 40. ],\n",
       "        [ 0.1,  0.2,  0.3,  0.4]],\n",
       "\n",
       "       [[ 1. ,  2. ,  3. ,  4. ],\n",
       "        [10. , 20. , 30. , 40. ],\n",
       "        [10. , 20. , 30. , 40. ],\n",
       "        [10. , 20. , 30. , 40. ]]])"
      ]
     },
     "execution_count": 16,
     "metadata": {},
     "output_type": "execute_result"
    }
   ],
   "source": [
    "emb = np.array([[1,2,3,4],[0.1,0.2,0.3,0.4],[10,20,30,40],[100,200,300,400]])\n",
    "emb.shape\n",
    "word_idx = [[0,1,2,1],[0,2,2,2]]\n",
    "\n",
    "with tf.Session() as sess:\n",
    "    sess.run(tf.nn.embedding_lookup(emb,word_idx))"
   ]
  },
  {
   "cell_type": "markdown",
   "metadata": {},
   "source": [
    "## tf.nn.embedding_lookup_sparse\n",
    "- 可以参考下[这篇简书的文章](https://www.jianshu.com/p/f54eb9715609)\n",
    "```python\n",
    "tf.nn.embedding_lookup_sparse(\n",
    "    params,\n",
    "    sp_ids,\n",
    "    sp_weights,\n",
    "    partition_strategy='mod',\n",
    "    name=None,\n",
    "    combiner=None,\n",
    "    max_norm=None\n",
    ")\n",
    "```\n",
    "- `sp_weights`可以直接填`None`\n",
    "- 实际“查表”的时候就是用的`sp_ids`这个`sparseTensor`的`values`作为索引去`params`里查"
   ]
  },
  {
   "cell_type": "code",
   "execution_count": 46,
   "metadata": {
    "ExecuteTime": {
     "end_time": "2019-08-21T07:05:08.522406Z",
     "start_time": "2019-08-21T07:05:08.362754Z"
    },
    "scrolled": false
   },
   "outputs": [
    {
     "data": {
      "text/plain": [
       "SparseTensorValue(indices=array([[0, 0],\n",
       "       [1, 0],\n",
       "       [2, 0]]), values=array([2, 3, 4], dtype=int32), dense_shape=array([10,  1]))"
      ]
     },
     "execution_count": 46,
     "metadata": {},
     "output_type": "execute_result"
    },
    {
     "data": {
      "text/plain": [
       "array([[2],\n",
       "       [3],\n",
       "       [4],\n",
       "       [0],\n",
       "       [0],\n",
       "       [0],\n",
       "       [0],\n",
       "       [0],\n",
       "       [0],\n",
       "       [0]], dtype=int32)"
      ]
     },
     "execution_count": 46,
     "metadata": {},
     "output_type": "execute_result"
    },
    {
     "data": {
      "text/plain": [
       "array([[  10.,   20.,   30.,   40.],\n",
       "       [ 100.,  200.,  300.,  400.],\n",
       "       [1000., 2000., 3000., 4000.]])"
      ]
     },
     "execution_count": 46,
     "metadata": {},
     "output_type": "execute_result"
    },
    {
     "data": {
      "text/plain": [
       "array([[  10.,   20.,   30.,   40.],\n",
       "       [ 100.,  200.,  300.,  400.],\n",
       "       [1000., 2000., 3000., 4000.]])"
      ]
     },
     "execution_count": 46,
     "metadata": {},
     "output_type": "execute_result"
    }
   ],
   "source": [
    "emb = np.array([[1,2,3,4],\n",
    "                [0.1,0.2,0.3,0.4],\n",
    "                [10,20,30,40],\n",
    "                [100,200,300,400],\n",
    "                [1000,2000,3000,4000]\n",
    "               ])\n",
    "\n",
    "word_idx = [[0,1,2,1],\n",
    "            [0,2,2,2]]\n",
    "\n",
    "word_idx_sp = tf.sparse.SparseTensor(indices=[[0, 0], [1, 0], [2, 0]],\n",
    "                              values=[2,3,4],\n",
    "                              dense_shape=[10, 1])\n",
    "word_idx_w = tf.sparse.SparseTensor(indices=word_idx_sp.indices,\n",
    "                                    values=tf.ones_like(word_idx_sp.values),\n",
    "                                    dense_shape=word_idx_sp.dense_shape)\n",
    "with tf.Session() as sess:\n",
    "    sess.run(word_idx_sp)\n",
    "    sess.run(tf.sparse.to_dense(word_idx_sp))\n",
    "    sess.run(tf.nn.embedding_lookup_sparse(emb,sp_ids=word_idx_sp,sp_weights=None,combiner='mean'))\n",
    "    sess.run(tf.nn.embedding_lookup_sparse(emb,sp_ids=word_idx_sp,sp_weights=word_idx_w,combiner='mean'))\n"
   ]
  },
  {
   "cell_type": "markdown",
   "metadata": {},
   "source": [
    "## cross_entropy\n",
    "**「注」：** tf的这批API，都是在内部做了sigmoid\n",
    "- 测试用例是 `labels=[1,1,0,1],logits=[1,1,0,1]`\n",
    "    - 内部是对`loigts`做了个`sigmoid`，即真正计算的是 `[1,1,0,1]` 和 `[0.731,0.731,0.5,0.731]`之间的CE**\n",
    "    - `sigmoid(1)=0.731, sigmoid(0)=0.5`\n",
    "    \n",
    "\n",
    "一些参考\n",
    "- 参考这篇[博客Tensorflow损失函数详解](https://sthsf.github.io/wiki/Algorithm/DeepLearning/Tensorflow%E5%AD%A6%E4%B9%A0%E7%AC%94%E8%AE%B0/Tensorflow%E5%9F%BA%E7%A1%80%E7%9F%A5%E8%AF%86---%E6%8D%9F%E5%A4%B1%E5%87%BD%E6%95%B0%E8%AF%A6%E8%A7%A3.html)\n",
    "\n",
    "- 这篇[简书文章](https://www.jianshu.com/p/cf235861311b)结构更清晰\n",
    "\n",
    "- CE公式\n",
    "    - $H(X=x)=-\\sum_x p(x)logq(x)$\n",
    "\n",
    "- logloss\n",
    "    - $logloss = - \\sum_{i=1}^n(\\frac{\\hat{y_i}}{n}log(y_{pred})+\\frac{1-\\hat{y_i}}{n}log(1-y_{pred}))$\n",
    "\n",
    "- 单看一条样本的logloss\n",
    "    - $logloss = ylog(\\hat{y}) + (1-y)log(1-\\hat{y})$\n"
   ]
  },
  {
   "cell_type": "code",
   "execution_count": 175,
   "metadata": {
    "ExecuteTime": {
     "end_time": "2019-08-23T01:51:10.391135Z",
     "start_time": "2019-08-23T01:51:10.379105Z"
    },
    "code_folding": []
   },
   "outputs": [
    {
     "data": {
      "text/plain": [
       "array([[1., 0., 0.],\n",
       "       [0., 1., 0.],\n",
       "       [0., 0., 1.],\n",
       "       [1., 1., 0.],\n",
       "       [0., 1., 0.]], dtype=float32)"
      ]
     },
     "execution_count": 175,
     "metadata": {},
     "output_type": "execute_result"
    },
    {
     "data": {
      "text/plain": [
       "array([[1., 0., 0.],\n",
       "       [0., 1., 0.],\n",
       "       [0., 0., 1.],\n",
       "       [1., 0., 0.],\n",
       "       [0., 1., 0.]], dtype=float32)"
      ]
     },
     "execution_count": 175,
     "metadata": {},
     "output_type": "execute_result"
    },
    {
     "data": {
      "text/plain": [
       "array([[12. ,  3. ,  2. ],\n",
       "       [ 3. , 10. ,  1. ],\n",
       "       [ 1. ,  2. ,  5. ],\n",
       "       [ 4. ,  6.5,  1.2],\n",
       "       [ 3. ,  6. ,  1. ]], dtype=float32)"
      ]
     },
     "execution_count": 175,
     "metadata": {},
     "output_type": "execute_result"
    }
   ],
   "source": [
    "class Data():\n",
    "    # 每一行可有多个1,如一张图既有 label_桌子 又有 label_椅子\n",
    "    multi_hot_labels=np.array([[1,0,0],\n",
    "                               [0,1,0],\n",
    "                               [0,0,1],\n",
    "                               [1,1,0],\n",
    "                               [0,1,0]],dtype=np.float32)\n",
    "    \n",
    "    # 每一行只有一个1,如一张图只能有 label_桌子 不能有 label_椅子\n",
    "    one_hot_labels=np.array([[1,0,0],\n",
    "                             [0,1,0],\n",
    "                             [0,0,1],\n",
    "                             [1,0,0],\n",
    "                             [0,1,0]],dtype=np.float32)\n",
    "    \n",
    "\n",
    "    logits=np.array([[12,3,2],\n",
    "                     [3,10,1],\n",
    "                     [1,2,5],\n",
    "                     [4,6.5,1.2],\n",
    "                     [3,6,1]],dtype=np.float32)\n",
    "    \n",
    "    \n",
    "Data.multi_hot_labels\n",
    "Data.one_hot_labels\n",
    "Data.logits"
   ]
  },
  {
   "cell_type": "markdown",
   "metadata": {},
   "source": [
    "### 如下是tensorflow计算CE的公式化简\n",
    "\n",
    "「注」：这里已经把`sigmoid`考虑进去了，所以输入的时候`pred`就不要进行`sigmoid`了\n",
    "- For brevity, let x = logits, z = labels. The logistic loss is\n",
    "```python\n",
    "z * -log(sigmoid(x)) + (1 - z) * -log(1 - sigmoid(x))\n",
    "= z * -log(1 / (1 + exp(-x))) + (1 - z) * -log(exp(-x) / (1 + exp(-x)))\n",
    "= z * log(1 + exp(-x)) + (1 - z) * (-log(exp(-x)) + log(1 + exp(-x)))\n",
    "= z * log(1 + exp(-x)) + (1 - z) * (x + log(1 + exp(-x))\n",
    "= (1 - z) * x + log(1 + exp(-x))\n",
    "= x - x * z + log(1 + exp(-x))\n",
    "```\n",
    "- For x < 0, to avoid overflow in exp(-x), we reformulate the above\n",
    "```python\n",
    "x - x * z + log(1 + exp(-x))\n",
    "= log(exp(x)) - x * z + log(1 + exp(-x))\n",
    "= - x * z + log(1 + exp(x))              \n",
    "```\n",
    "- Hence, to ensure stability and avoid overflow, the implementation uses this equivalent formulation\n",
    "```python\n",
    "max(x, 0) - x * z + log(1 + exp(-abs(x)))\n",
    "```"
   ]
  },
  {
   "cell_type": "code",
   "execution_count": 156,
   "metadata": {
    "ExecuteTime": {
     "end_time": "2019-08-22T09:15:30.234095Z",
     "start_time": "2019-08-22T09:15:30.224267Z"
    }
   },
   "outputs": [
    {
     "data": {
      "text/plain": [
       "0.31326168751822286"
      ]
     },
     "execution_count": 156,
     "metadata": {},
     "output_type": "execute_result"
    },
    {
     "data": {
      "text/plain": [
       "True"
      ]
     },
     "execution_count": 156,
     "metadata": {},
     "output_type": "execute_result"
    }
   ],
   "source": [
    "from math import log,exp\n",
    "def sigmoid(x):\n",
    "    return 1/(1+np.exp(-x))\n",
    "\n",
    "# 完全直接的CE，输入的是label和外部做好sigmoid的prediction\n",
    "def exact_ce(pred,label):\n",
    "    return -label*np.log(y_pred)-(1-label)*np.log(1-y_pred)\n",
    "\n",
    "# tf化简公式（内部做了sigmoid，已化简掉了）\n",
    "def ce_as_tf(pred,label):\n",
    "    return max(pred, 0) - pred * label + log(1 + exp(-abs(pred)))\n",
    "\n",
    "# 按计算公式计算（内部做了sigmoid）\n",
    "def manual_formula(pred,label):\n",
    "    y_pred = sigmoid(pred)\n",
    "    E1 = -label*np.log(y_pred)-(1-label)*np.log(1-y_pred)\n",
    "    return E1\n",
    "\n",
    "ce_as_tf(1,1)\n",
    "manual_formula(0.7,0.7) == ce_as_tf(0.7,0.7)"
   ]
  },
  {
   "cell_type": "markdown",
   "metadata": {},
   "source": [
    "### tf.nn.sigmoid_cross_entropy_with_logits\n",
    "- 这个函数的输入是logits和labels，logits就是神经网络模型中的 W * X矩阵，注意**不需要经过sigmoid**\n",
    "- 可用于各类别独立但不排斥的情况：如图片可以既有桌子又有凳子\n"
   ]
  },
  {
   "cell_type": "code",
   "execution_count": 169,
   "metadata": {
    "ExecuteTime": {
     "end_time": "2019-08-22T09:58:51.010224Z",
     "start_time": "2019-08-22T09:58:50.883338Z"
    }
   },
   "outputs": [
    {
     "name": "stdout",
     "output_type": "stream",
     "text": [
      "[[6.1989022e-06 3.0485876e+00 2.1269276e+00]\n",
      " [3.0485876e+00 4.5419773e-05 1.3132617e+00]\n",
      " [1.3132617e+00 2.1269276e+00 6.7153242e-03]\n",
      " [1.8149957e-02 1.5023305e-03 1.4632827e+00]\n",
      " [3.0485876e+00 2.4756414e-03 1.3132617e+00]]\n"
     ]
    },
    {
     "data": {
      "text/plain": [
       "array([[6.1441933e-06, 3.0485873e+00, 2.1269281e+00],\n",
       "       [3.0485873e+00, 4.5398901e-05, 1.3132617e+00],\n",
       "       [1.3132617e+00, 2.1269281e+00, 6.7153485e-03],\n",
       "       [1.8149929e-02, 1.5023102e-03, 1.4632825e+00],\n",
       "       [3.0485873e+00, 2.4756852e-03, 1.3132617e+00]], dtype=float32)"
      ]
     },
     "execution_count": 169,
     "metadata": {},
     "output_type": "execute_result"
    },
    {
     "data": {
      "text/plain": [
       "array([[6.1441933e-06, 3.0485873e+00, 2.1269281e+00],\n",
       "       [3.0485873e+00, 4.5398901e-05, 1.3132617e+00],\n",
       "       [1.3132617e+00, 2.1269281e+00, 6.7153485e-03],\n",
       "       [1.8149929e-02, 6.5015025e+00, 1.4632825e+00],\n",
       "       [3.0485873e+00, 2.4756852e-03, 1.3132617e+00]], dtype=float32)"
      ]
     },
     "execution_count": 169,
     "metadata": {},
     "output_type": "execute_result"
    }
   ],
   "source": [
    "# 5个样本三分类问题，且一个样本可以同时拥有多类\n",
    "print(manual_formula(pred=Data.logits,label=Data.multi_hot_labels))     # 按计算公式计算的结果\n",
    "\n",
    "with tf.Session() as sess:\n",
    "    tf.nn.sigmoid_cross_entropy_with_logits(logits=Data.logits,labels=Data.multi_hot_labels).eval()\n",
    "    tf.nn.sigmoid_cross_entropy_with_logits(logits=Data.logits,labels=Data.one_hot_labels).eval()"
   ]
  },
  {
   "cell_type": "markdown",
   "metadata": {},
   "source": [
    "### tf.nn.weighted_cross_entropy_with_logits\n",
    "- 是`sigmoid_cross_entropy_with_logits`的拓展版，多支持一个`pos_weight`参数，在传统基于sigmoid的交叉熵算法上，**正样本算出的值乘以某个系数。**\n",
    "\n",
    "```python\n",
    "tf.nn.weighted_cross_entropy_with_logits(\n",
    "    labels=None,\n",
    "    logits=None,\n",
    "    pos_weight=None,\n",
    "    name=None,\n",
    "    targets=None\n",
    ")\n",
    "```"
   ]
  },
  {
   "cell_type": "code",
   "execution_count": 171,
   "metadata": {
    "ExecuteTime": {
     "end_time": "2019-08-22T10:04:15.710169Z",
     "start_time": "2019-08-22T10:04:15.435623Z"
    }
   },
   "outputs": [
    {
     "data": {
      "text/plain": [
       "array([[0.       , 3.0485873, 2.126928 ],\n",
       "       [3.0485873, 0.       , 1.3132617],\n",
       "       [1.3132617, 2.126928 , 0.       ],\n",
       "       [0.       , 0.       , 1.4632825],\n",
       "       [3.0485873, 0.       , 1.3132617]], dtype=float32)"
      ]
     },
     "execution_count": 171,
     "metadata": {},
     "output_type": "execute_result"
    },
    {
     "data": {
      "text/plain": [
       "array([[0.       , 3.0485873, 2.126928 ],\n",
       "       [3.0485873, 0.       , 1.3132617],\n",
       "       [1.3132617, 2.126928 , 0.       ],\n",
       "       [0.       , 6.5015025, 1.4632825],\n",
       "       [3.0485873, 0.       , 1.3132617]], dtype=float32)"
      ]
     },
     "execution_count": 171,
     "metadata": {},
     "output_type": "execute_result"
    }
   ],
   "source": [
    "# pos_weight = np.ones_like(logits.shape[0])\n",
    "pos_weight = np.zeros_like(Data.logits.shape[0]) # 权重统一为0\n",
    "with tf.Session() as sess:\n",
    "    tf.nn.weighted_cross_entropy_with_logits(Data.multi_hot_labels,Data.logits, pos_weight, name=None).eval()\n",
    "    tf.nn.weighted_cross_entropy_with_logits(Data.one_hot_labels,Data.logits, pos_weight, name=None).eval()"
   ]
  },
  {
   "cell_type": "markdown",
   "metadata": {},
   "source": [
    "### ~~tf.nn.softmax_cross_entropy_with_logits~~ (Deprecated)\n",
    "### tf.nn.softmax_cross_entropy_with_logits_v2\n",
    "- 为了效率此函数内部执行softmax，输入logits时不要计算softmax\n",
    "- While the **classes are mutually exclusive**, their probabilities need not be. All that is required is that **each row of labels is a valid probability distribution**\n",
    "- Note that to avoid confusion, it is required to pass only named arguments to this function.\n"
   ]
  },
  {
   "cell_type": "code",
   "execution_count": 174,
   "metadata": {
    "ExecuteTime": {
     "end_time": "2019-08-23T01:50:39.249131Z",
     "start_time": "2019-08-23T01:50:39.050303Z"
    }
   },
   "outputs": [
    {
     "data": {
      "text/plain": [
       "array([1.6878611e-04, 1.0346780e-03, 6.5883912e-02, 2.6669841e+00,\n",
       "       5.4985214e-02], dtype=float32)"
      ]
     },
     "execution_count": 174,
     "metadata": {},
     "output_type": "execute_result"
    },
    {
     "data": {
      "text/plain": [
       "array([1.6878611e-04, 1.0346780e-03, 6.5883912e-02, 2.5834920e+00,\n",
       "       5.4985214e-02], dtype=float32)"
      ]
     },
     "execution_count": 174,
     "metadata": {},
     "output_type": "execute_result"
    }
   ],
   "source": [
    "with tf.Session() as sess:\n",
    "    tf.nn.softmax_cross_entropy_with_logits_v2(labels=Data.multi_hot_labels,logits=Data.logits).eval()\n",
    "    tf.nn.softmax_cross_entropy_with_logits_v2(labels=Data.one_hot_labels,logits=Data.logits).eval()"
   ]
  },
  {
   "cell_type": "markdown",
   "metadata": {},
   "source": [
    "### tf.nn.sparse_softmax_cross_entropy_with_logits\n",
    "注意labels和logits的shape\n",
    "- labels是第几类的索引\n",
    "```python\n",
    "   [2,\n",
    "    1,\n",
    "    1,\n",
    "    2]\n",
    "```\n",
    "- logits是\n",
    "```python\n",
    "    [[ 12, 4,   4, 22],\n",
    "     [6.5, 2, 3.3,  7],\n",
    "     [2.5, 9, 8.3,6.7],]\n",
    "```\n",
    ">如果两个都是Rank1会报错： Rank of labels (received 1) should equal rank of logits minus 1 (received 1)\n",
    "\n",
    "```python\n",
    "tf.nn.sparse_softmax_cross_entropy_with_logits(\n",
    "    _sentinel=None,\n",
    "    labels=None,\n",
    "    logits=None,\n",
    "    name=None\n",
    ")\n",
    "```"
   ]
  },
  {
   "cell_type": "code",
   "execution_count": 185,
   "metadata": {
    "ExecuteTime": {
     "end_time": "2019-08-23T02:04:07.525526Z",
     "start_time": "2019-08-23T02:04:07.317830Z"
    }
   },
   "outputs": [
    {
     "data": {
      "text/plain": [
       "array([[1., 0., 0.],\n",
       "       [0., 1., 0.],\n",
       "       [0., 0., 1.],\n",
       "       [1., 0., 0.],\n",
       "       [0., 1., 0.]], dtype=float32)"
      ]
     },
     "execution_count": 185,
     "metadata": {},
     "output_type": "execute_result"
    },
    {
     "data": {
      "text/plain": [
       "array([[12. ,  3. ,  2. ],\n",
       "       [ 3. , 10. ,  1. ],\n",
       "       [ 1. ,  2. ,  5. ],\n",
       "       [ 4. ,  6.5,  1.2],\n",
       "       [ 3. ,  6. ,  1. ]], dtype=float32)"
      ]
     },
     "execution_count": 185,
     "metadata": {},
     "output_type": "execute_result"
    },
    {
     "data": {
      "text/plain": [
       "array([0, 1, 2, 0, 1])"
      ]
     },
     "execution_count": 185,
     "metadata": {},
     "output_type": "execute_result"
    },
    {
     "data": {
      "text/plain": [
       "array([0, 1, 2, 1, 1])"
      ]
     },
     "execution_count": 185,
     "metadata": {},
     "output_type": "execute_result"
    },
    {
     "data": {
      "text/plain": [
       "array([1.6878611e-04, 1.0346780e-03, 6.5883912e-02, 2.5834920e+00,\n",
       "       5.4985214e-02], dtype=float32)"
      ]
     },
     "execution_count": 185,
     "metadata": {},
     "output_type": "execute_result"
    }
   ],
   "source": [
    "# Data.multi_hot_labels\n",
    "# tf.argmax(Data.multi_hot_labels,axis=-1).eval() # multi_hot（支持一图多类）的label做aargmax也没有意义\n",
    "Data.one_hot_labels\n",
    "Data.logits\n",
    "label_rank1 = tf.argmax(Data.one_hot_labels,axis=-1)\n",
    "logits_rank1 = tf.argmax(Data.logits,axis=-1)\n",
    "with tf.Session() as sess:\n",
    "    label_rank1.eval()\n",
    "    logits_rank1.eval()\n",
    "    tf.nn.sparse_softmax_cross_entropy_with_logits(labels=label_rank1,logits=Data.logits).eval()\n",
    "#     tf.nn.sparse_softmax_cross_entropy_with_logits(labels=,logits=Data.logits).eval()"
   ]
  },
  {
   "cell_type": "markdown",
   "metadata": {},
   "source": [
    "### 对比"
   ]
  },
  {
   "cell_type": "code",
   "execution_count": 187,
   "metadata": {
    "ExecuteTime": {
     "end_time": "2019-08-23T02:12:11.562305Z",
     "start_time": "2019-08-23T02:12:11.258160Z"
    }
   },
   "outputs": [
    {
     "data": {
      "text/plain": [
       "array([1.6878611e-04, 1.0346780e-03, 6.5883912e-02, 2.5834920e+00,\n",
       "       5.4985214e-02], dtype=float32)"
      ]
     },
     "execution_count": 187,
     "metadata": {},
     "output_type": "execute_result"
    },
    {
     "data": {
      "text/plain": [
       "array([1.6878611e-04, 1.0346780e-03, 6.5883912e-02, 2.5834920e+00,\n",
       "       5.4985214e-02], dtype=float32)"
      ]
     },
     "execution_count": 187,
     "metadata": {},
     "output_type": "execute_result"
    },
    {
     "data": {
      "text/plain": [
       "array([[6.1441933e-06, 3.0485873e+00, 2.1269281e+00],\n",
       "       [3.0485873e+00, 4.5398901e-05, 1.3132617e+00],\n",
       "       [1.3132617e+00, 2.1269281e+00, 6.7153485e-03],\n",
       "       [1.8149929e-02, 6.5015025e+00, 1.4632825e+00],\n",
       "       [3.0485873e+00, 2.4756852e-03, 1.3132617e+00]], dtype=float32)"
      ]
     },
     "execution_count": 187,
     "metadata": {},
     "output_type": "execute_result"
    },
    {
     "data": {
      "text/plain": [
       "array([[6.1441933e-06, 3.0485873e+00, 2.1269281e+00],\n",
       "       [3.0485873e+00, 4.5398901e-05, 1.3132617e+00],\n",
       "       [1.3132617e+00, 2.1269281e+00, 6.7153485e-03],\n",
       "       [1.8149929e-02, 6.5015025e+00, 1.4632825e+00],\n",
       "       [3.0485873e+00, 2.4756852e-03, 1.3132617e+00]], dtype=float32)"
      ]
     },
     "execution_count": 187,
     "metadata": {},
     "output_type": "execute_result"
    }
   ],
   "source": [
    "with tf.Session() as sess:\n",
    "    # softmax\n",
    "    label_rank1=tf.argmax(Data.one_hot_labels,axis=-1)\n",
    "    tf.nn.sparse_softmax_cross_entropy_with_logits(labels=label_rank1,logits=Data.logits).eval()\n",
    "    \n",
    "    tf.nn.softmax_cross_entropy_with_logits_v2(labels=Data.one_hot_labels,logits=Data.logits).eval()\n",
    "    \n",
    "    # sigmoid\n",
    "    tf.nn.sigmoid_cross_entropy_with_logits(logits=Data.logits,labels=Data.one_hot_labels).eval()\n",
    "\n",
    "    pos_weight=np.ones_like(Data.logits.shape[0]) # 权重统一为1\n",
    "    tf.nn.weighted_cross_entropy_with_logits(Data.one_hot_labels,Data.logits, pos_weight, name=None).eval()"
   ]
  },
  {
   "cell_type": "markdown",
   "metadata": {},
   "source": [
    "# CNN\n",
    "## tf.nn.conv2d\n",
    "```python\n",
    "tf.nn.conv2d(\n",
    "    input,\n",
    "    filter=None,\n",
    "    strides=None,\n",
    "    padding=None,\n",
    "    use_cudnn_on_gpu=True,\n",
    "    data_format='NHWC',\n",
    "    dilations=[1, 1, 1, 1],\n",
    "    name=None,\n",
    "    filters=None\n",
    ")\n",
    "```\n",
    "找到的解释：\n",
    "> tensorflow中的tf.nn.conv2d函数，实际上相当于用filter，以一定的步长stride在image上进行滑动，计算重叠部分的内积和，即为卷积结果\n",
    "\n",
    "官方文档：\n",
    "> input tensor of shape:  \n",
    "> - [`batch`, **in_height**, **in_width**, **in_channels**]\n",
    ">\n",
    "> filter / kernel tensor of shape:   \n",
    ">- [**filter_height**, **filter_width**, **in_channels**, `out_channels`]\n",
    ">\n",
    ">this op performs the following:\n",
    ">- Flattens the filter to a 2-D matrix with shape:\n",
    ">    - [**filter_height** * **filter_width** * **in_channels**, `output_channels`].\n",
    ">- Extracts image patches from the input tensor to form a virtual tensor of shape:\n",
    ">    - [`batch`, out_height, out_width, **filter_height** * **filter_width** * **in_channels**].\n",
    ">- For each patch, right-multiplies the filter matrix and the image patch vector.\n"
   ]
  },
  {
   "cell_type": "code",
   "execution_count": 102,
   "metadata": {
    "ExecuteTime": {
     "end_time": "2019-08-22T04:02:18.994680Z",
     "start_time": "2019-08-22T04:02:18.561158Z"
    },
    "scrolled": false
   },
   "outputs": [
    {
     "data": {
      "text/plain": [
       "TensorShape([Dimension(1), Dimension(3), Dimension(6), Dimension(1)])"
      ]
     },
     "execution_count": 102,
     "metadata": {},
     "output_type": "execute_result"
    },
    {
     "data": {
      "text/plain": [
       "array([1, 3, 6, 1], dtype=int32)"
      ]
     },
     "execution_count": 102,
     "metadata": {},
     "output_type": "execute_result"
    },
    {
     "data": {
      "text/plain": [
       "array([2, 6, 1, 4], dtype=int32)"
      ]
     },
     "execution_count": 102,
     "metadata": {},
     "output_type": "execute_result"
    },
    {
     "data": {
      "text/plain": [
       "array([1, 2, 1, 4], dtype=int32)"
      ]
     },
     "execution_count": 102,
     "metadata": {},
     "output_type": "execute_result"
    },
    {
     "data": {
      "text/plain": [
       "array([[[[ 1. ],\n",
       "         [ 2. ],\n",
       "         [ 3. ],\n",
       "         [ 4. ],\n",
       "         [ 5. ],\n",
       "         [ 6. ]],\n",
       "\n",
       "        [[ 0.1],\n",
       "         [ 0.2],\n",
       "         [ 0.3],\n",
       "         [ 0.4],\n",
       "         [ 0.5],\n",
       "         [ 0.6]],\n",
       "\n",
       "        [[10. ],\n",
       "         [20. ],\n",
       "         [30. ],\n",
       "         [40. ],\n",
       "         [50. ],\n",
       "         [60. ]]]], dtype=float32)"
      ]
     },
     "execution_count": 102,
     "metadata": {},
     "output_type": "execute_result"
    },
    {
     "name": "stdout",
     "output_type": "stream",
     "text": [
      ">>> 每个卷积核都初始化为相同的权重W，目前按1填充\n"
     ]
    },
    {
     "data": {
      "text/plain": [
       "array([[[[1., 1., 1., 1.]],\n",
       "\n",
       "        [[1., 1., 1., 1.]],\n",
       "\n",
       "        [[1., 1., 1., 1.]],\n",
       "\n",
       "        [[1., 1., 1., 1.]],\n",
       "\n",
       "        [[1., 1., 1., 1.]],\n",
       "\n",
       "        [[1., 1., 1., 1.]]],\n",
       "\n",
       "\n",
       "       [[[1., 1., 1., 1.]],\n",
       "\n",
       "        [[1., 1., 1., 1.]],\n",
       "\n",
       "        [[1., 1., 1., 1.]],\n",
       "\n",
       "        [[1., 1., 1., 1.]],\n",
       "\n",
       "        [[1., 1., 1., 1.]],\n",
       "\n",
       "        [[1., 1., 1., 1.]]]], dtype=float32)"
      ]
     },
     "execution_count": 102,
     "metadata": {},
     "output_type": "execute_result"
    },
    {
     "name": "stdout",
     "output_type": "stream",
     "text": [
      ">>> 偏置 b:\n"
     ]
    },
    {
     "data": {
      "text/plain": [
       "array([0.1, 0.1, 0.1, 0.1], dtype=float32)"
      ]
     },
     "execution_count": 102,
     "metadata": {},
     "output_type": "execute_result"
    },
    {
     "name": "stdout",
     "output_type": "stream",
     "text": [
      ">>> 1+2+3+4+5+6=21,0.1+..0.6=2.1,每个卷积的结果为23.1\n"
     ]
    },
    {
     "data": {
      "text/plain": [
       "array([[[[ 23.1,  23.1,  23.1,  23.1]],\n",
       "\n",
       "        [[212.1, 212.1, 212.1, 212.1]]]], dtype=float32)"
      ]
     },
     "execution_count": 102,
     "metadata": {},
     "output_type": "execute_result"
    }
   ],
   "source": [
    "emb = np.array([[1,2,3,4,5,6],\n",
    "                [0.1,0.2,0.3,0.4,0.5,0.6],\n",
    "                [10,20,30,40,50,60],\n",
    "                [100,200,300,400,500,600]])\n",
    "# word_idx = [[0,1,2,1],[0,2,2,2]]\n",
    "word_idx = [[0,1,2]]\n",
    "embeddedWords = tf.cast(tf.nn.embedding_lookup(emb,word_idx),dtype=tf.float32)\n",
    "embeddedWordsExpanded = tf.expand_dims(embeddedWords, -1)\n",
    "\n",
    "embeddedWordsExpanded.shape\n",
    "filterSize = 2 # 卷积核大小\n",
    "embeddingSize = 6 # 词向量维度\n",
    "in_channels =1 # 输入的通道\n",
    "numFilters = 4 # 卷积核的个数\n",
    "sequenceLength = len(word_idx[0]) # 句子长度，一般要padding\n",
    "filterShape = [filterSize, embeddingSize, in_channels, numFilters] # 构建conv2d使用的filter参数\n",
    "# W = tf.Variable(tf.truncated_normal(filterShape, stddev=0.1,dtype=tf.float64), name=\"W\",dtype=tf.float64)\n",
    "# b = tf.Variable(tf.constant(0.1, shape=[numFilters],dtype=tf.float64), name=\"b\",dtype=tf.float64)\n",
    "# W = tf.convert_to_tensor(tf.truncated_normal(filterShape, stddev=0.1), name=\"W\") # 正态分布随机初始化\n",
    "W = tf.convert_to_tensor(tf.ones(filterShape), name=\"W\") #\n",
    "b = tf.convert_to_tensor(tf.constant(0.1,shape=[numFilters]),name=\"b\")\n",
    "conv = tf.nn.conv2d(input=embeddedWordsExpanded,\n",
    "                    filter=W,\n",
    "                    strides=[1, 1, 1, 1],\n",
    "                    padding=\"VALID\",\n",
    "                    name=\"conv\")\n",
    "with tf.Session() as sess:\n",
    "    sess.run(tf.global_variables_initializer())\n",
    "#     embeddedWords.eval()\n",
    "    tf.shape(embeddedWordsExpanded).eval()\n",
    "    tf.shape(W).eval()\n",
    "    tf.shape(conv).eval()\n",
    "    embeddedWordsExpanded.eval()\n",
    "#     tf.shape(W).eval()\n",
    "    print(\">>> 每个卷积核都初始化为相同的权重W，目前按1填充\")\n",
    "    W.eval()\n",
    "    print(\">>> 偏置 b:\")\n",
    "    b.eval()\n",
    "    print(\">>> 1+2+3+4+5+6=21,0.1+..0.6=2.1,每个卷积的结果为23.1\")\n",
    "    conv.eval()\n",
    "    "
   ]
  },
  {
   "cell_type": "markdown",
   "metadata": {},
   "source": [
    "# RNN"
   ]
  },
  {
   "cell_type": "markdown",
   "metadata": {},
   "source": [
    "## RNNCell\n",
    "\n",
    "比如我们通常是将一个batch送入模型计算:\n",
    "- 输入数据的形状为`(batch_size, input_size)`\n",
    "- 计算得到隐层状态`(batch_size, state_size)`  「`state_size`: 隐层的大小 」\n",
    "- 最后输出结果就是`(batch_size, output_size)` 「`output_size`: 输出的大小」\n",
    "\n",
    "使用`BasicRNNCell(num_units=128)`初始化就是构造 `state_size` 是 128 的cell"
   ]
  },
  {
   "cell_type": "code",
   "execution_count": 1,
   "metadata": {
    "ExecuteTime": {
     "end_time": "2019-09-23T08:17:00.584853Z",
     "start_time": "2019-09-23T08:16:56.304053Z"
    }
   },
   "outputs": [
    {
     "name": "stdout",
     "output_type": "stream",
     "text": [
      "WARNING:tensorflow:From <ipython-input-1-ddc95d6d6b75>:11: BasicRNNCell.__init__ (from tensorflow.python.ops.rnn_cell_impl) is deprecated and will be removed in a future version.\n",
      "Instructions for updating:\n",
      "This class is equivalent as tf.keras.layers.SimpleRNNCell, and will be replaced by that in Tensorflow 2.0.\n",
      "128\n"
     ]
    },
    {
     "ename": "AttributeError",
     "evalue": "'BasicRNNCell' object has no attribute '_kernel'",
     "output_type": "error",
     "traceback": [
      "\u001b[0;31m---------------------------------------------------------------------------\u001b[0m",
      "\u001b[0;31mAttributeError\u001b[0m                            Traceback (most recent call last)",
      "\u001b[0;32m<ipython-input-1-ddc95d6d6b75>\u001b[0m in \u001b[0;36m<module>\u001b[0;34m()\u001b[0m\n\u001b[1;32m     14\u001b[0m \u001b[0minputs\u001b[0m \u001b[0;34m=\u001b[0m \u001b[0mtf\u001b[0m\u001b[0;34m.\u001b[0m\u001b[0mplaceholder\u001b[0m\u001b[0;34m(\u001b[0m\u001b[0mnp\u001b[0m\u001b[0;34m.\u001b[0m\u001b[0mfloat32\u001b[0m\u001b[0;34m,\u001b[0m \u001b[0mshape\u001b[0m\u001b[0;34m=\u001b[0m\u001b[0;34m(\u001b[0m\u001b[0;36m32\u001b[0m\u001b[0;34m,\u001b[0m \u001b[0;36m100\u001b[0m\u001b[0;34m)\u001b[0m\u001b[0;34m)\u001b[0m \u001b[0;31m# 32 是 batch_size\u001b[0m\u001b[0;34m\u001b[0m\u001b[0;34m\u001b[0m\u001b[0m\n\u001b[1;32m     15\u001b[0m \u001b[0mh0\u001b[0m \u001b[0;34m=\u001b[0m \u001b[0mcell\u001b[0m\u001b[0;34m.\u001b[0m\u001b[0mzero_state\u001b[0m\u001b[0;34m(\u001b[0m\u001b[0;36m32\u001b[0m\u001b[0;34m,\u001b[0m \u001b[0mnp\u001b[0m\u001b[0;34m.\u001b[0m\u001b[0mfloat32\u001b[0m\u001b[0;34m)\u001b[0m \u001b[0;31m# 通过zero_state得到一个全0的初始状态，形状为(batch_size, state_size)\u001b[0m\u001b[0;34m\u001b[0m\u001b[0;34m\u001b[0m\u001b[0m\n\u001b[0;32m---> 16\u001b[0;31m \u001b[0moutput\u001b[0m\u001b[0;34m,\u001b[0m \u001b[0mh1\u001b[0m \u001b[0;34m=\u001b[0m \u001b[0mcell\u001b[0m\u001b[0;34m.\u001b[0m\u001b[0mcall\u001b[0m\u001b[0;34m(\u001b[0m\u001b[0minputs\u001b[0m\u001b[0;34m,\u001b[0m \u001b[0mh0\u001b[0m\u001b[0;34m)\u001b[0m \u001b[0;31m#调用call函数\u001b[0m\u001b[0;34m\u001b[0m\u001b[0;34m\u001b[0m\u001b[0m\n\u001b[0m\u001b[1;32m     17\u001b[0m \u001b[0;34m\u001b[0m\u001b[0m\n\u001b[1;32m     18\u001b[0m \u001b[0mprint\u001b[0m\u001b[0;34m(\u001b[0m\u001b[0mh1\u001b[0m\u001b[0;34m.\u001b[0m\u001b[0mshape\u001b[0m\u001b[0;34m)\u001b[0m \u001b[0;31m# (32, 128)\u001b[0m\u001b[0;34m\u001b[0m\u001b[0;34m\u001b[0m\u001b[0m\n",
      "\u001b[0;32m~/python3/lib/python3.6/site-packages/tensorflow/python/ops/rnn_cell_impl.py\u001b[0m in \u001b[0;36mcall\u001b[0;34m(self, inputs, state)\u001b[0m\n\u001b[1;32m    448\u001b[0m \u001b[0;34m\u001b[0m\u001b[0m\n\u001b[1;32m    449\u001b[0m     gate_inputs = math_ops.matmul(\n\u001b[0;32m--> 450\u001b[0;31m         array_ops.concat([inputs, state], 1), self._kernel)\n\u001b[0m\u001b[1;32m    451\u001b[0m     \u001b[0mgate_inputs\u001b[0m \u001b[0;34m=\u001b[0m \u001b[0mnn_ops\u001b[0m\u001b[0;34m.\u001b[0m\u001b[0mbias_add\u001b[0m\u001b[0;34m(\u001b[0m\u001b[0mgate_inputs\u001b[0m\u001b[0;34m,\u001b[0m \u001b[0mself\u001b[0m\u001b[0;34m.\u001b[0m\u001b[0m_bias\u001b[0m\u001b[0;34m)\u001b[0m\u001b[0;34m\u001b[0m\u001b[0;34m\u001b[0m\u001b[0m\n\u001b[1;32m    452\u001b[0m     \u001b[0moutput\u001b[0m \u001b[0;34m=\u001b[0m \u001b[0mself\u001b[0m\u001b[0;34m.\u001b[0m\u001b[0m_activation\u001b[0m\u001b[0;34m(\u001b[0m\u001b[0mgate_inputs\u001b[0m\u001b[0;34m)\u001b[0m\u001b[0;34m\u001b[0m\u001b[0;34m\u001b[0m\u001b[0m\n",
      "\u001b[0;31mAttributeError\u001b[0m: 'BasicRNNCell' object has no attribute '_kernel'"
     ]
    }
   ],
   "source": [
    "############################################\n",
    "# 如下示例：\n",
    "# BasicRNNCell: state_size=128 \n",
    "# 输入：         batch_size=32\n",
    "#               step_size=100\n",
    "# \n",
    "#############################################\n",
    "import tensorflow as tf\n",
    "import numpy as np\n",
    "\n",
    "cell = tf.contrib.rnn.BasicRNNCell(num_units=128) # state_size = 128\n",
    "print(cell.state_size) # 128\n",
    "\n",
    "inputs = tf.placeholder(np.float32, shape=(32, 100)) # 32 是 batch_size\n",
    "h0 = cell.zero_state(32, np.float32) # 通过zero_state得到一个全0的初始状态，形状为(batch_size, state_size)\n",
    "output, h1 = cell.call(inputs, h0) #调用call函数\n",
    "\n",
    "print(h1.shape) # (32, 128)"
   ]
  },
  {
   "cell_type": "markdown",
   "metadata": {},
   "source": [
    "## LSTMCell\n",
    "TF里 `tf.contrib.rnn`模块有: `BasicLSTMCell`, `LSTMCell`, `LSTMBlockCell`和`MultiRNNCell`\n",
    "\n",
    "其中前三个是构建LSTMCell的，而`MultiRNNCell`是把多个LSTMCell联立起来用的（即用LSTM构造的多层网络，一般就两三层）"
   ]
  },
  {
   "cell_type": "markdown",
   "metadata": {},
   "source": [
    "### BasicLSTMCell\n",
    "```python\n",
    "__init__(\n",
    "    num_units,\n",
    "    forget_bias=1.0,\n",
    "    state_is_tuple=True,\n",
    "    activation=None,\n",
    "    reuse=None,\n",
    "    name=None,\n",
    "    dtype=None,\n",
    "    **kwargs\n",
    ")\n",
    "```"
   ]
  },
  {
   "cell_type": "code",
   "execution_count": null,
   "metadata": {},
   "outputs": [],
   "source": []
  },
  {
   "cell_type": "markdown",
   "metadata": {},
   "source": [
    "### LSTMCell"
   ]
  },
  {
   "cell_type": "code",
   "execution_count": null,
   "metadata": {},
   "outputs": [],
   "source": []
  },
  {
   "cell_type": "markdown",
   "metadata": {},
   "source": [
    "### LSTMBlockCell (& MultiRNNCell)"
   ]
  },
  {
   "cell_type": "code",
   "execution_count": null,
   "metadata": {},
   "outputs": [],
   "source": [
    "def make_cell(hidden_size:int, is_training:bool=True, keep_prob:float=0.8):\n",
    "    cell = tf.contrib.rnn.LSTMBlockCell(hidden_size, forget_bias=0.0)\n",
    "    if is_training and keep_prob < 1:\n",
    "        cell = tf.contrib.rnn.DropoutWrapper(cell, output_keep_prob=keep_prob)\n",
    "    return cell\n",
    "\n",
    "#mlstm_cell = tf.contrib.rnn.MultiRNNCell([make_cell(hidden_size)] * layer_num, state_is_tuple=True)\n",
    "# 会导致WARNING:tensorflow:At least two cells provided to MultiRNNCell are the same object and will share weights.\n",
    "mlstm_cell = tf.contrib.rnn.MultiRNNCell([make_cell(hidden_size) for _ in range(layer_num)], state_is_tuple=True)\n",
    "init_state = mlstm_cell.zero_state(batch_size, dtype=tf.float32)"
   ]
  },
  {
   "attachments": {
    "image.png": {
     "image/png": "[encoded data removed]"
    }
   },
   "cell_type": "markdown",
   "metadata": {},
   "source": [
    "## dynamic_rnn\n",
    "主要是封装了共享权重参数，以及用指定的cell/lstm_cell来循环搭建rnn结构\n",
    "\n",
    "在有`dynamic_rnn`之前\n",
    "- [贾洋清的回答](https://www.zhihu.com/question/42057513/answer/93421874)\n",
    "    - seq2seq做的时候使用聚类把能使用相同padding的sequence放到相同的bucket里\n",
    "\n",
    "`dynamic_rnn`与`rnn`有什么区别?\n",
    "- [Jarvix贾博士的回答](https://www.zhihu.com/question/52200883/answer/153694449)\n",
    "    - `dynamic_rnn`支持不同batch使用不同的padding长度（各batch内部还是同一个padding）\n",
    "\n",
    "**API参数信息**\n",
    "```python\n",
    "tf.nn.dynamic_rnn(\n",
    "    cell,\n",
    "    inputs,\n",
    "    sequence_length=None,\n",
    "    initial_state=None,\n",
    "    dtype=None,\n",
    "    parallel_iterations=None,\n",
    "    swap_memory=False,\n",
    "    time_major=False,\n",
    "    scope=None\n",
    ")\n",
    "```\n",
    "`inputs`\n",
    "- 至少要有 rank>=3\n",
    "\n",
    "`time_major`\n",
    "- time_major参数针对不同的inputs格式选取不同的值\n",
    "- `inputs` 为 `(batches, steps, inputs)` ==> `time_major=False`\n",
    " - outputs.shape = [batch_size, timestep_size, hidden_size] \n",
    " - 可以取 h_state = outputs[:, -1, :] 或者 h_state = state[-1][1] 作为最后输出\n",
    "   - 即序列（timestep）的最后一个输出\n",
    "   - 维度是 [batch_size, hidden_size]\n",
    "- `inputs` 为 `(steps, batches, inputs)` ==> `time_major=True`\n",
    "\n",
    "- [\"Morvan\"的例子](https://morvanzhou.github.io/tutorials/machine-learning/tensorflow/5-08-RNN2/#%E5%AE%9A%E4%B9%89-RNN-%E7%9A%84%E4%B8%BB%E4%BD%93%E7%BB%93%E6%9E%84)中给出的解释\n",
    ">如果使用tf.nn.dynamic_rnn(cell, inputs), 我们要确定 inputs 的格式. tf.nn.dynamic_rnn 中的 time_major 参数会针对不同 inputs 格式有不同的值.\n",
    ">- 如果 inputs 为 (batches, steps, inputs) ==> time_major=False;\n",
    ">- 如果 inputs 为 (steps, batches, inputs) ==> time_major=True;\n",
    "\n",
    "`initial_state`\n",
    "- 如果不指定`dtype`的话，这个参数需要提供\n",
    "- 这个初始化状态，一般用全零 `init_s = lstem_cell.zero_state(batch_size)` 来获得\n",
    "\n",
    "\n",
    "**返回结果**\n",
    "- `outputs`: a tensor of shape `[batch_size, max_time, last_hidden_size]`\n",
    "- `state`: N-tuple. 最后一个cell输出的状态。\n",
    "    - `RNNCell`的shape为 `[batch_size, cell.output_size]`\n",
    "    - `BasicLSTMCell`的shape为`[2，batch_size, cell.output_size]`\n",
    "        - `2`代表LSTM的`cell state`和`hidden state`\n",
    "![image.png](attachment:image.png)"
   ]
  },
  {
   "cell_type": "markdown",
   "metadata": {},
   "source": [
    "### 单层LSTM"
   ]
  },
  {
   "cell_type": "code",
   "execution_count": 41,
   "metadata": {
    "ExecuteTime": {
     "end_time": "2019-10-12T11:25:01.944068Z",
     "start_time": "2019-10-12T11:25:01.386886Z"
    }
   },
   "outputs": [
    {
     "name": "stdout",
     "output_type": "stream",
     "text": [
      ">>X:(2, 4, 5)\n",
      " [[[ 1.3315865   0.71527897 -1.54540029 -0.00838385  0.62133597]\n",
      "  [-0.72008556  0.26551159  0.10854853  0.00429143 -0.17460021]\n",
      "  [ 0.43302619  1.20303737 -0.96506567  1.02827408  0.22863013]\n",
      "  [ 0.44513761 -1.13660221  0.13513688  1.484537   -1.07980489]]\n",
      "\n",
      " [[-1.97772828 -1.7433723   0.26607016  2.38496733  1.12369125]\n",
      "  [ 1.67262221  0.09914922  1.39799638 -0.27124799  0.61320418]\n",
      "  [ 0.          0.          0.          0.          0.        ]\n",
      "  [ 0.          0.          0.          0.          0.        ]]]\n",
      ">>init_state:\n",
      "\n",
      "  >>c_state:\n",
      " [[0. 0. 0.]\n",
      " [0. 0. 0.]]\n",
      "  >>h_state:\n",
      " [[0. 0. 0.]\n",
      " [0. 0. 0.]]\n",
      "\n",
      "    *****指定sequence_length参数时的结果*****\n",
      ">>outputs: (2, 4, 3)\n",
      " [[[-4.00027092e-02  7.33641521e-02 -6.64417050e-02]\n",
      "  [-1.17492935e-02  5.95997232e-02 -9.63026177e-02]\n",
      "  [-2.01019384e-04  3.00679067e-02 -7.42396759e-02]\n",
      "  [ 1.62854652e-01 -2.04529746e-01  8.80030620e-02]]\n",
      "\n",
      " [[ 3.92057658e-01  2.74925040e-02  1.84443615e-01]\n",
      "  [-1.33500804e-01 -3.64166122e-02  1.85011729e-01]\n",
      "  [ 0.00000000e+00  0.00000000e+00  0.00000000e+00]\n",
      "  [ 0.00000000e+00  0.00000000e+00  0.00000000e+00]]]\n",
      ">>last_states:\n",
      "  >>c_state:\n",
      " [[ 0.32914982 -0.46993114  0.18312414]\n",
      " [-0.20219648 -0.09722394  0.68655832]]\n",
      "  >>h_state:\n",
      " [[ 0.16285465 -0.20452975  0.08800306]\n",
      " [-0.1335008  -0.03641661  0.18501173]]\n",
      "\n",
      "    *****不指定sequence_length参数时的结果*****\n",
      ">>outputs_: (2, 4, 3)\n",
      " [[[-4.00027092e-02  7.33641521e-02 -6.64417050e-02]\n",
      "  [-1.17492935e-02  5.95997232e-02 -9.63026177e-02]\n",
      "  [-2.01019384e-04  3.00679067e-02 -7.42396759e-02]\n",
      "  [ 1.62854652e-01 -2.04529746e-01  8.80030620e-02]]\n",
      "\n",
      " [[ 3.92057658e-01  2.74925040e-02  1.84443615e-01]\n",
      "  [-1.33500804e-01 -3.64166122e-02  1.85011729e-01]\n",
      "  [-6.39033782e-02 -5.83274347e-02  2.16437329e-01]\n",
      "  [-3.07269742e-02 -6.43510465e-02  1.31345706e-01]]]\n",
      ">>last_states:\n",
      "  >>c_state:\n",
      " [[ 0.32914982 -0.46993114  0.18312414]\n",
      " [-0.05914191 -0.13218113  0.25549003]]\n",
      "  >>h_state:\n",
      " [[ 0.16285465 -0.20452975  0.08800306]\n",
      " [-0.03072697 -0.06435105  0.13134571]]\n",
      "不指定时内部会自动填充，对结果有一定影响\n"
     ]
    }
   ],
   "source": [
    "tf.reset_default_graph()\n",
    "np.random.seed(10)\n",
    "# batch_size:2  timesteps:4 inputs:5\n",
    "# 在NLP任务可以理解为：2段语料，每个语料4个词（索引），每个词5维向量\n",
    "X = np.random.randn(2,4,5)  \n",
    "X[1, 2:] = 0  # 指定索引位置的元素全置为0\n",
    "print(\">>X:{}\\n\".format(X.shape),X)\n",
    "X_lengths = [4, 2]  # 手动指定各batch里有效数据（非0数据）的步长\n",
    "\n",
    "lstm_size = 3\n",
    "lstm_cell = tf.contrib.rnn.BasicLSTMCell(num_units=lstm_size)\n",
    "init_state = lstm_cell.zero_state(X.shape[0], dtype=tf.float64)  # 按batch_size全0初始化state(c_state和h_state)\n",
    "outputs, last_states = tf.nn.dynamic_rnn(cell=lstm_cell, \n",
    "                                         inputs=X, \n",
    "                                         initial_state=init_state,\n",
    "                                         sequence_length=X_lengths)\n",
    "\n",
    "# 不告诉rnn各batch里非0数据的长度（真实步长）\n",
    "outputs_, last_states_ = tf.nn.dynamic_rnn(cell=lstm_cell, \n",
    "                                         inputs=X, \n",
    "                                         initial_state=init_state)\n",
    "\n",
    "with tf.Session() as sess:\n",
    "    sess.run(tf.global_variables_initializer())\n",
    "    i = sess.run(init_state)\n",
    "    print(\">>init_state:\\n\")\n",
    "    print(\"  >>c_state:\\n\", i.c)\n",
    "    print(\"  >>h_state:\\n\", i.h)\n",
    "    print(\"\\n\",\" \"*2,\"*****指定sequence_length参数时的结果*****\")\n",
    "    o,s = sess.run([outputs,last_states])\n",
    "    print(\">>outputs: {}\\n\".format(o.shape), o)\n",
    "    print(\">>last_states:\")\n",
    "    print(\"  >>c_state:\\n\", s.c)\n",
    "    print(\"  >>h_state:\\n\", s.h)\n",
    "\n",
    "    print(\"\\n\",\" \"*2,\"*****不指定sequence_length参数时的结果*****\")\n",
    "    o_,s_ = sess.run([outputs_,last_states_])\n",
    "    print(\">>outputs_: {}\\n\".format(o_.shape), o_)\n",
    "    print(\">>last_states:\")\n",
    "    print(\"  >>c_state:\\n\", s_.c)\n",
    "    print(\"  >>h_state:\\n\", s_.h)\n",
    "    \n",
    "    print(\"不指定时内部会自动填充，对结果有一定影响\")"
   ]
  },
  {
   "cell_type": "markdown",
   "metadata": {},
   "source": [
    "### 多层LSTM"
   ]
  },
  {
   "cell_type": "code",
   "execution_count": 30,
   "metadata": {
    "ExecuteTime": {
     "end_time": "2019-10-12T11:49:32.970549Z",
     "start_time": "2019-10-12T11:49:32.574991Z"
    },
    "scrolled": false
   },
   "outputs": [
    {
     "name": "stdout",
     "output_type": "stream",
     "text": [
      ">>X:(2, 4, 5)\n",
      " [[[ 1.3315865   0.715279   -1.5454003  -0.00838385  0.621336  ]\n",
      "  [-0.72008556  0.26551157  0.10854852  0.00429143 -0.17460021]\n",
      "  [ 0.4330262   1.2030374  -0.96506566  1.028274    0.22863013]\n",
      "  [ 0.44513762 -1.1366022   0.13513687  1.484537   -1.0798049 ]]\n",
      "\n",
      " [[-1.9777282  -1.7433723   0.26607016  2.3849673   1.1236912 ]\n",
      "  [ 1.6726222   0.09914921  1.3979964  -0.27124798  0.6132042 ]\n",
      "  [ 0.          0.          0.          0.          0.        ]\n",
      "  [ 0.          0.          0.          0.          0.        ]]]\n",
      ">>layer_0 init_state:\n",
      "  >>c_state:\n",
      " [[0. 0. 0.]\n",
      " [0. 0. 0.]]\n",
      "  >>h_state:\n",
      " [[0. 0. 0.]\n",
      " [0. 0. 0.]]\n",
      ">>layer_1 init_state:\n",
      "  >>c_state:\n",
      " [[0. 0. 0.]\n",
      " [0. 0. 0.]]\n",
      "  >>h_state:\n",
      " [[0. 0. 0.]\n",
      " [0. 0. 0.]]\n",
      "\n",
      "    *****指定sequence_length参数时的结果*****\n",
      ">>outputs: (2, 4, 3)\n",
      " [[[-0.         -0.06685475  0.05350018]\n",
      "  [-0.02643461 -0.          0.06014353]\n",
      "  [-0.03989332 -0.07231743  0.08154355]\n",
      "  [-0.08507713 -0.05776649  0.11979303]]\n",
      "\n",
      " [[-0.01244621  0.         -0.0018814 ]\n",
      "  [-0.          0.0549387  -0.00957819]\n",
      "  [ 0.          0.          0.        ]\n",
      "  [ 0.          0.          0.        ]]]\n",
      ">>last_state: \n",
      "\n"
     ]
    },
    {
     "data": {
      "text/plain": [
       "(LSTMStateTuple(c=array([[-0.21703784,  0.16378157, -0.6912414 ],\n",
       "        [ 0.09554495,  0.25792992,  0.16306643]], dtype=float32), h=array([[-0.10602103,  0.07780182, -0.24951063],\n",
       "        [ 0.03190678,  0.19082792,  0.07272626]], dtype=float32)),\n",
       " LSTMStateTuple(c=array([[-0.12305219, -0.09302016,  0.19823383],\n",
       "        [-0.03140065,  0.08977782, -0.01463748]], dtype=float32), h=array([[-0.0680617 , -0.04621319,  0.09583442],\n",
       "        [-0.01670014,  0.04395096, -0.00766255]], dtype=float32)))"
      ]
     },
     "execution_count": 30,
     "metadata": {},
     "output_type": "execute_result"
    },
    {
     "name": "stdout",
     "output_type": "stream",
     "text": [
      ">>layer_0 last_state:\n",
      "  >>c_state:\n",
      " [[-0.21703784  0.16378157 -0.6912414 ]\n",
      " [ 0.09554495  0.25792992  0.16306643]]\n",
      "  >>h_state:\n",
      " [[-0.10602103  0.07780182 -0.24951063]\n",
      " [ 0.03190678  0.19082792  0.07272626]]\n",
      ">>layer_1 last_state:\n",
      "  >>c_state:\n",
      " [[-0.12305219 -0.09302016  0.19823383]\n",
      " [-0.03140065  0.08977782 -0.01463748]]\n",
      "  >>h_state:\n",
      " [[-0.0680617  -0.04621319  0.09583442]\n",
      " [-0.01670014  0.04395096 -0.00766255]]\n",
      "最后一层LSTMCell-layer的最后的h_state:\n",
      " [[-0.0680617  -0.04621319  0.09583442]\n",
      " [-0.01670014  0.04395096 -0.00766255]]\n",
      "outputs取结果:\n",
      " [[-0.08507713 -0.05776649  0.11979303]\n",
      " [ 0.          0.          0.        ]]\n",
      "******【多层LSTM为什么outputs和last_states的结果不一致？】*****\n"
     ]
    }
   ],
   "source": [
    "tf.reset_default_graph()\n",
    "np.random.seed(10)\n",
    "# batch_size:2  timesteps:4 inputs:5\n",
    "# 在NLP任务可以理解为：2段语料，每个语料4个词（索引），每个词5维向量\n",
    "X = np.random.randn(2,4,5).astype(np.float32)\n",
    "X[1, 2:] = 0  # 指定索引位置的元素全置为0\n",
    "print(\">>X:{}\\n\".format(X.shape),X)\n",
    "X_lengths = [4, 2]  # 手动指定各batch里有效数据（非0数据）的步长\n",
    "\n",
    "def make_cell(hidden_size:int, is_training:bool=True, keep_prob:float=0.8):\n",
    "    cell = tf.contrib.rnn.LSTMBlockCell(hidden_size, forget_bias=0.0)\n",
    "    if is_training and keep_prob < 1:\n",
    "        cell = tf.contrib.rnn.DropoutWrapper(cell, output_keep_prob=keep_prob)\n",
    "    return cell\n",
    "layer_num = 2\n",
    "hidden_size = 3\n",
    "mlstm_cell = tf.contrib.rnn.MultiRNNCell([make_cell(hidden_size) for _ in range(layer_num)], state_is_tuple=True)\n",
    "init_state = mlstm_cell.zero_state(X.shape[0], dtype=tf.float32)\n",
    "\n",
    "outputs, last_states = tf.nn.dynamic_rnn(cell=mlstm_cell, \n",
    "                                         inputs=X, \n",
    "                                         initial_state=init_state,\n",
    "                                         sequence_length=X_lengths)\n",
    "\n",
    "with tf.Session() as sess:\n",
    "    sess.run(tf.global_variables_initializer())\n",
    "    i = sess.run(init_state)\n",
    "    for j in range(layer_num):\n",
    "        print(\">>layer_{} init_state:\".format(j))\n",
    "        print(\"  >>c_state:\\n\", i[j].c)\n",
    "        print(\"  >>h_state:\\n\", i[j].h)\n",
    "    print(\"\\n\",\" \"*2,\"*****指定sequence_length参数时的结果*****\")\n",
    "    o,s = sess.run([outputs,last_states])\n",
    "    print(\">>outputs: {}\\n\".format(o.shape), o)\n",
    "    print(\">>last_state: \\n\")\n",
    "    s\n",
    "    for j in range(layer_num):\n",
    "        print(\">>layer_{} last_state:\".format(j))\n",
    "        print(\"  >>c_state:\\n\", s[j].c)\n",
    "        print(\"  >>h_state:\\n\", s[j].h)\n",
    "    print(\"最后一层LSTMCell-layer的最后的h_state:\\n\", s[-1][1])\n",
    "    print(\"outputs取结果:\\n\", o[:,-1,:])\n",
    "    print(\"******【多层LSTM为什么outputs和last_states的结果不一致？】*****\")\n",
    "    "
   ]
  },
  {
   "cell_type": "markdown",
   "metadata": {},
   "source": [
    "### 输入改变?\n",
    "如果是想预测序列 `[1,3,4], [1,5,6], [1,7,8]`这样的，怎么写？"
   ]
  },
  {
   "cell_type": "markdown",
   "metadata": {},
   "source": [
    "#### 构造一个求和的数据集"
   ]
  },
  {
   "cell_type": "code",
   "execution_count": 66,
   "metadata": {
    "ExecuteTime": {
     "end_time": "2019-10-12T12:45:40.222873Z",
     "start_time": "2019-10-12T12:45:40.198606Z"
    }
   },
   "outputs": [
    {
     "name": "stdout",
     "output_type": "stream",
     "text": [
      ">>> data 前三个示例: (1000, 3)\n",
      " [[4. 0. 4.]\n",
      " [5. 2. 7.]\n",
      " [7. 2. 9.]]\n",
      ">>> dataX 前三个示例: (1000, 2)\n",
      " [[4. 0.]\n",
      " [5. 2.]\n",
      " [7. 2.]]\n",
      ">>> dataY 前三个示例: (1000,)\n",
      " [4. 7. 9.]\n"
     ]
    }
   ],
   "source": [
    "def get_one_sample():\n",
    "    a = np.random.randint(10)\n",
    "    b = np.random.randint(10)\n",
    "    c = a + b\n",
    "    return np.array([a,b,c])\n",
    "\n",
    "data = np.array([get_one_sample() for _ in range(1000)]).astype(np.float32)\n",
    "print(\">>> data 前三个示例: {}\\n\".format(data.shape),data[:3])\n",
    "dataX = data[:,:2]\n",
    "dataY = data[:,-1]\n",
    "print(\">>> dataX 前三个示例: {}\\n\".format(dataX.shape),dataX[:3])\n",
    "print(\">>> dataY 前三个示例: {}\\n\".format(dataY.shape),dataY[:3])"
   ]
  },
  {
   "cell_type": "code",
   "execution_count": 67,
   "metadata": {
    "ExecuteTime": {
     "end_time": "2019-10-12T12:45:48.722282Z",
     "start_time": "2019-10-12T12:45:48.679583Z"
    }
   },
   "outputs": [
    {
     "data": {
      "text/plain": [
       "array([[[0., 0., 0., 0., 1., 0., 0., 0., 0., 0.],\n",
       "        [1., 0., 0., 0., 0., 0., 0., 0., 0., 0.]],\n",
       "\n",
       "       [[0., 0., 0., 0., 0., 1., 0., 0., 0., 0.],\n",
       "        [0., 0., 1., 0., 0., 0., 0., 0., 0., 0.]],\n",
       "\n",
       "       [[0., 0., 0., 0., 0., 0., 0., 1., 0., 0.],\n",
       "        [0., 0., 1., 0., 0., 0., 0., 0., 0., 0.]],\n",
       "\n",
       "       [[0., 0., 0., 0., 0., 0., 0., 0., 1., 0.],\n",
       "        [0., 0., 1., 0., 0., 0., 0., 0., 0., 0.]],\n",
       "\n",
       "       [[0., 0., 1., 0., 0., 0., 0., 0., 0., 0.],\n",
       "        [0., 0., 1., 0., 0., 0., 0., 0., 0., 0.]]], dtype=float32)"
      ]
     },
     "execution_count": 67,
     "metadata": {},
     "output_type": "execute_result"
    },
    {
     "data": {
      "text/plain": [
       "(1000, 2, 10)"
      ]
     },
     "execution_count": 67,
     "metadata": {},
     "output_type": "execute_result"
    }
   ],
   "source": [
    "with tf.Session() as sess:\n",
    "    rr = sess.run(tf.one_hot(dataX,depth=10))\n",
    "    rr[:5]\n",
    "    rr.shape"
   ]
  },
  {
   "cell_type": "code",
   "execution_count": 69,
   "metadata": {
    "ExecuteTime": {
     "end_time": "2019-10-12T12:47:07.004968Z",
     "start_time": "2019-10-12T12:47:06.752247Z"
    },
    "scrolled": false
   },
   "outputs": [
    {
     "name": "stdout",
     "output_type": "stream",
     "text": [
      ">>init_state:\n",
      "\n",
      "  >>c_state:\n",
      " (1000, 10)\n",
      "  >>h_state:\n",
      " (1000, 10)\n",
      ">>outputs_: (1000, 2, 10)\n",
      " [[[-0.04211247 -0.02932047 -0.06340045 -0.04484668 -0.01763662\n",
      "    0.00262237 -0.03702587  0.06863484  0.04493661 -0.02921654]\n",
      "  [-0.01685643 -0.0471762   0.02061565 -0.06517877 -0.05379388\n",
      "    0.05841389 -0.07045184  0.10026589  0.07507515 -0.0453834 ]]\n",
      "\n",
      " [[ 0.08440932  0.07027771  0.0778267  -0.0717489  -0.0375006\n",
      "   -0.06211352 -0.05259567 -0.06691046  0.00659753 -0.02282565]\n",
      "  [ 0.07340768  0.10296321  0.01249476 -0.04643915 -0.11214029\n",
      "   -0.01283126 -0.0870856  -0.04217808  0.04808539 -0.09892576]]\n",
      "\n",
      " [[ 0.09099711 -0.00368997 -0.04909451  0.06993049 -0.06639816\n",
      "   -0.06334572  0.06333949  0.04525549 -0.00656219 -0.05600703]\n",
      "  [ 0.05978833  0.03799339 -0.08636446  0.06402253 -0.14320287\n",
      "   -0.03537314 -0.01145664  0.06538662  0.04630817 -0.11234458]]]\n",
      ">>last_states:\n",
      "  >>c_state: (1000, 10)\n",
      " [[-0.03700762 -0.0836051   0.03550662 -0.12588088 -0.11793496  0.11970818\n",
      "  -0.13479742  0.19236237  0.13099319 -0.08559432]\n",
      " [ 0.15412308  0.2401512   0.02839862 -0.08682967 -0.21480465 -0.025818\n",
      "  -0.19680175 -0.07963815  0.09403771 -0.19530925]\n",
      " [ 0.12278418  0.0835477  -0.20033127  0.12575036 -0.2827394  -0.07251029\n",
      "  -0.02564143  0.12526584  0.09260206 -0.23225829]]\n",
      "  >>h_state: (1000, 10)\n",
      " [[-0.01685643 -0.0471762   0.02061565 -0.06517877 -0.05379388  0.05841389\n",
      "  -0.07045184  0.10026589  0.07507515 -0.0453834 ]\n",
      " [ 0.07340768  0.10296321  0.01249476 -0.04643915 -0.11214029 -0.01283126\n",
      "  -0.0870856  -0.04217808  0.04808539 -0.09892576]\n",
      " [ 0.05978833  0.03799339 -0.08636446  0.06402253 -0.14320287 -0.03537314\n",
      "  -0.01145664  0.06538662  0.04630817 -0.11234458]]\n",
      "最后取h_state结果\n"
     ]
    }
   ],
   "source": [
    "tf.reset_default_graph()\n",
    "np.random.seed(10)\n",
    "\n",
    "X = tf.one_hot(dataX,depth=10)\n",
    "lstm_size = 10\n",
    "lstm_cell = tf.contrib.rnn.BasicLSTMCell(num_units=lstm_size)\n",
    "init_state = lstm_cell.zero_state(X.shape[0], dtype=tf.float32)  # 按batch_size全0初始化state(c_state和h_state)\n",
    "\n",
    "outputs_, last_states_ = tf.nn.dynamic_rnn(cell=lstm_cell, \n",
    "                                         inputs=X, \n",
    "                                         initial_state=init_state)\n",
    "\n",
    "with tf.Session() as sess:\n",
    "    sess.run(tf.global_variables_initializer())\n",
    "    i = sess.run(init_state)\n",
    "    print(\">>init_state:\\n\")\n",
    "    print(\"  >>c_state:\\n\", i.c.shape)\n",
    "    print(\"  >>h_state:\\n\", i.h.shape)\n",
    "    o_,s_ = sess.run([outputs_,last_states_])\n",
    "    print(\">>outputs_: {}\\n\".format(o_.shape), o_[:3])\n",
    "    print(\">>last_states:\")\n",
    "    print(\"  >>c_state: {}\\n\".format(s_.c.shape),s_.c[:3])\n",
    "    print(\"  >>h_state: {}\\n\".format(s_.h.shape),s_.h[:3])\n",
    "    print(\"最后取h_state结果\")"
   ]
  },
  {
   "cell_type": "markdown",
   "metadata": {},
   "source": [
    "### 对`dynamic_rnn`的展开实现"
   ]
  },
  {
   "cell_type": "code",
   "execution_count": null,
   "metadata": {},
   "outputs": [],
   "source": [
    "# **步骤6：方法一，调用 dynamic_rnn() 来让我们构建好的网络运行起来\n",
    "# ** 当 time_major==False 时， outputs.shape = [batch_size, timestep_size, hidden_size] \n",
    "# ** 所以，可以取 h_state = outputs[:, -1, :] 作为最后输出\n",
    "# ** state.shape = [layer_num, 2, batch_size, hidden_size], \n",
    "# ** 或者，可以取 h_state = state[-1][1] 作为最后输出\n",
    "# ** 最后输出维度是 [batch_size, hidden_size]\n",
    "# outputs, state = tf.nn.dynamic_rnn(mlstm_cell, inputs=X, initial_state=init_state, time_major=False)\n",
    "# h_state = outputs[:, -1, :]  # 或者 h_state = state[-1][1]\n",
    "\n",
    "# *************** 为了更好的理解 LSTM 工作原理，我们把上面 步骤6 中的函数自己来实现 ***************\n",
    "# 通过查看文档你会发现， RNNCell 都提供了一个 __call__()函数（见最后附），我们可以用它来展开实现LSTM按时间步迭代。\n",
    "# **步骤6：方法二，按时间步展开计算\n",
    "outputs = list()\n",
    "state = init_state\n",
    "with tf.variable_scope('RNN'):\n",
    "    for timestep in range(timestep_size):\n",
    "        if timestep > 0:\n",
    "            tf.get_variable_scope().reuse_variables()\n",
    "        # 这里的state保存了每一层 LSTM 的状态\n",
    "        (cell_output, state) = mlstm_cell(X[:, timestep, :], state)\n",
    "        outputs.append(cell_output)\n",
    "h_state = outputs[-1]\n",
    "tf.summary.histogram(\"h_state\",h_state)"
   ]
  }
 ],
 "metadata": {
  "gist": {
   "data": {
    "description": "notebook_collection/TensorFlowManual.ipynb",
    "public": false
   },
   "id": ""
  },
  "kernelspec": {
   "display_name": "Python 3",
   "language": "python",
   "name": "python3"
  },
  "language_info": {
   "codemirror_mode": {
    "name": "ipython",
    "version": 3
   },
   "file_extension": ".py",
   "mimetype": "text/x-python",
   "name": "python",
   "nbconvert_exporter": "python",
   "pygments_lexer": "ipython3",
   "version": "3.6.7"
  },
  "toc": {
   "base_numbering": 1,
   "nav_menu": {},
   "number_sections": true,
   "sideBar": true,
   "skip_h1_title": false,
   "title_cell": "Table of Contents",
   "title_sidebar": "Contents",
   "toc_cell": false,
   "toc_position": {
    "height": "calc(100% - 180px)",
    "left": "10px",
    "top": "150px",
    "width": "252.159px"
   },
   "toc_section_display": true,
   "toc_window_display": true
  },
  "varInspector": {
   "cols": {
    "lenName": 16,
    "lenType": 16,
    "lenVar": 40
   },
   "kernels_config": {
    "python": {
     "delete_cmd_postfix": "",
     "delete_cmd_prefix": "del ",
     "library": "var_list.py",
     "varRefreshCmd": "print(var_dic_list())"
    },
    "r": {
     "delete_cmd_postfix": ") ",
     "delete_cmd_prefix": "rm(",
     "library": "var_list.r",
     "varRefreshCmd": "cat(var_dic_list()) "
    }
   },
   "types_to_exclude": [
    "module",
    "function",
    "builtin_function_or_method",
    "instance",
    "_Feature"
   ],
   "window_display": false
  }
 },
 "nbformat": 4,
 "nbformat_minor": 2
}
