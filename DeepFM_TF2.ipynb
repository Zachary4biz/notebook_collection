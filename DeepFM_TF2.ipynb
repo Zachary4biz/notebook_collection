{
 "cells": [
  {
   "cell_type": "code",
   "execution_count": null,
   "metadata": {},
   "outputs": [],
   "source": []
  },
  {
   "cell_type": "code",
   "execution_count": 1,
   "metadata": {
    "ExecuteTime": {
     "end_time": "2020-05-19T12:32:44.043156Z",
     "start_time": "2020-05-19T12:32:43.784975Z"
    }
   },
   "outputs": [],
   "source": [
    "from IPython.core.interactiveshell import InteractiveShell\n",
    "InteractiveShell.ast_node_interactivity = \"all\"\n",
    "%matplotlib inline\n",
    "from tqdm.auto import tqdm\n",
    "import concurrent.futures\n",
    "from multiprocessing import Pool\n",
    "import copy,os,sys,psutil\n",
    "from collections import Counter,deque\n",
    "import  matplotlib.pyplot as plt\n",
    "import pickle"
   ]
  },
  {
   "cell_type": "code",
   "execution_count": 2,
   "metadata": {
    "ExecuteTime": {
     "end_time": "2020-05-19T12:32:45.660673Z",
     "start_time": "2020-05-19T12:32:44.065302Z"
    }
   },
   "outputs": [],
   "source": [
    "import tensorflow as tf\n",
    "import numpy as np\n",
    "import pandas as pd"
   ]
  },
  {
   "cell_type": "code",
   "execution_count": 3,
   "metadata": {
    "ExecuteTime": {
     "end_time": "2020-05-19T12:32:45.683095Z",
     "start_time": "2020-05-19T12:32:45.681501Z"
    }
   },
   "outputs": [],
   "source": [
    "# floatx默认是float32的，np里的都是64，直接都搞成64省事 \n",
    "# 不行，会影响诸如 tf.keras.metrics.AUC 这样的API\n",
    "# tf.keras.backend.set_floatx('float64')"
   ]
  },
  {
   "cell_type": "markdown",
   "metadata": {},
   "source": [
    "# Data"
   ]
  },
  {
   "cell_type": "markdown",
   "metadata": {},
   "source": [
    "load tfrecords\n",
    "```\n",
    "advertiser_id, campaign_id, group_id, creative_id, creative_tag, ad_style, bid_price, display_url, marketing_type, province_id, city_id\n",
    "```"
   ]
  },
  {
   "cell_type": "markdown",
   "metadata": {},
   "source": [
    "## tfrecord"
   ]
  },
  {
   "cell_type": "code",
   "execution_count": null,
   "metadata": {
    "ExecuteTime": {
     "end_time": "2020-05-08T07:46:00.587157Z",
     "start_time": "2020-05-08T07:46:00.584243Z"
    }
   },
   "outputs": [],
   "source": [
    "base_dir=\"/home/zhoutong/data/apus_ad/hc\"\n",
    "app2hash_fp=base_dir+\"/ad_hc_2020-04-22_app2hash.txt\"\n",
    "info_fp = base_dir+\"/ad_hc_2020-04-22_info.json\"\n",
    "# trd_gz_fp = base_dir +\"/ad_hc_2020-04-22.trd.gz\"\n",
    "trd_gz_fp_list = [base_dir + i for i in [\"/ad_hc_2020-04-21.trd.gz\",\"/ad_hc_2020-04-22.trd.gz\"]]"
   ]
  },
  {
   "cell_type": "code",
   "execution_count": null,
   "metadata": {
    "ExecuteTime": {
     "end_time": "2020-05-08T07:46:00.873054Z",
     "start_time": "2020-05-08T07:46:00.604502Z"
    }
   },
   "outputs": [],
   "source": [
    "with open(info_fp,\"r\") as fr:\n",
    "    info=json.load(fr)\n",
    "with open(app2hash_fp,\"r\") as fr:\n",
    "    hash2app = dict([i.strip(\"\\n\").split(\"\\t\")[::-1] for i in fr.readlines()])"
   ]
  },
  {
   "cell_type": "code",
   "execution_count": null,
   "metadata": {
    "ExecuteTime": {
     "end_time": "2020-05-08T07:46:01.122754Z",
     "start_time": "2020-05-08T07:46:01.112952Z"
    }
   },
   "outputs": [],
   "source": [
    "print(info['count'])\n",
    "info['detail'].keys()\n",
    "str_fields=info['detail']['string']\n",
    "double_fields=info['detail']['double']\n",
    "arr_int_fields=info['detail']['array<int>']\n",
    "long_fields=info['detail']['bigint']  # 时间戳 暂时不用，应该在spark里做一下解析\n",
    "int_fields=info['detail']['int']"
   ]
  },
  {
   "cell_type": "code",
   "execution_count": null,
   "metadata": {
    "ExecuteTime": {
     "end_time": "2020-05-08T07:46:10.156286Z",
     "start_time": "2020-05-08T07:46:09.742598Z"
    },
    "code_folding": [],
    "scrolled": true
   },
   "outputs": [],
   "source": [
    "# one_hot_fields=[\"device_id_s\"]\n",
    "# multi_hot_fields=[\"class_id_topN\"]\n",
    "# dense_fields=[\"download_num_mid\"]\n",
    "feature_desc = {}\n",
    "# onehot\n",
    "for f in str_fields:\n",
    "    feature_desc.update({f:tf.io.FixedLenFeature([], tf.string, default_value='')})\n",
    "# multi_hot\n",
    "for f in arr_int_fields:\n",
    "    feature_desc.update({f:tf.io.VarLenFeature(dtype=tf.int64)})\n",
    "# dense / numeric\n",
    "for f in double_fields:\n",
    "    feature_desc.update({f:tf.io.FixedLenFeature([],dtype=tf.float32,default_value=0)})\n",
    "for f in int_fields:\n",
    "    feature_desc.update({f:tf.io.FixedLenFeature([],dtype=tf.int64,default_value=0)})\n",
    "\n",
    "def _parse_func(inp):\n",
    "    return tf.io.parse_single_example(inp,feature_desc)\n",
    "\n",
    "\n",
    "\n",
    "trd=tf.data.TFRecordDataset(trd_gz_fp_list,compression_type='GZIP').map(_parse_func)\n",
    "for i in trd.take(2):\n",
    "    print(i)\n",
    "dataset=trd.shuffle(5*128).batch(128,drop_remainder=True)"
   ]
  },
  {
   "cell_type": "markdown",
   "metadata": {},
   "source": [
    "## Criteo 60k"
   ]
  },
  {
   "cell_type": "code",
   "execution_count": 18,
   "metadata": {
    "ExecuteTime": {
     "end_time": "2020-05-15T09:44:12.893332Z",
     "start_time": "2020-05-15T09:43:21.884599Z"
    }
   },
   "outputs": [
    {
     "data": {
      "application/vnd.jupyter.widget-view+json": {
       "model_id": "c58cf5bba90b4baea448164151e93b23",
       "version_major": 2,
       "version_minor": 0
      },
      "text/plain": [
       "HBox(children=(FloatProgress(value=0.0, max=600.0), HTML(value='')))"
      ]
     },
     "metadata": {},
     "output_type": "display_data"
    },
    {
     "name": "stdout",
     "output_type": "stream",
     "text": [
      "\n"
     ]
    }
   ],
   "source": [
    "###############################\n",
    "# 随机构造两个multihot特征\n",
    "###############################\n",
    "base_dir=\"/home/zhoutong/notebook_collection/tmp/CTR\"\n",
    "df_total_iter=pd.read_csv(os.path.join(base_dir,\"criteo_data_sampled_60k.csv\"), chunksize=1000)\n",
    "for idx,chunk in tqdm(enumerate(df_total_iter),total=60*10000/1000):\n",
    "    m1 = []\n",
    "    for i in range(chunk.shape[0]):\n",
    "        # 随机 0~100 长度的list，list内的元素是 0~2000 注意str化\n",
    "        random_size = np.random.randint(low=0,high=100+1)\n",
    "        m1.append(np.random.randint(low=0,high=2000+1,size=random_size).astype(str))\n",
    "    chunk['C27'] = m1\n",
    "    m2 = []\n",
    "    for i in range(chunk.shape[0]):\n",
    "        # 随机 0~20 长度的list，list内的元素是 0~100 注意str化\n",
    "        random_size = np.random.randint(low=0,high=20+1)\n",
    "        m2.append(np.random.randint(low=0,high=100+1,size=random_size).astype(str))\n",
    "    chunk['C28'] = m2\n",
    "    # 处理下list型的数据方便csv读取\n",
    "    chunk['C27'] = chunk['C27'].apply(lambda row: \"[\"+\",\".join(row)+\"]\")\n",
    "    chunk['C28'] = chunk['C28'].apply(lambda row: \"[\"+\",\".join(row)+\"]\")\n",
    "    if idx == 0:\n",
    "        chunk.to_csv(os.path.join(base_dir,\"criteo_data_sampled_60k_add_multihot_C27C28.csv\"),header=True)\n",
    "    else:\n",
    "        chunk.to_csv(os.path.join(base_dir,\"criteo_data_sampled_60k_add_multihot_C27C28.csv\"),mode='a',header=False)"
   ]
  },
  {
   "cell_type": "code",
   "execution_count": 19,
   "metadata": {
    "ExecuteTime": {
     "end_time": "2020-05-15T09:44:13.881204Z",
     "start_time": "2020-05-15T09:44:13.877803Z"
    }
   },
   "outputs": [
    {
     "name": "stdout",
     "output_type": "stream",
     "text": [
      "[data_fp]: /home/zhoutong/notebook_collection/tmp/CTR/criteo_data_sampled_60k_add_multihot_C27C28.csv\n"
     ]
    }
   ],
   "source": [
    "base_dir=\"/home/zhoutong/notebook_collection/tmp/CTR\"\n",
    "data_fp=os.path.join(base_dir,\"criteo_data_sampled_60k_add_multihot_C27C28.csv\")\n",
    "\n",
    "print(\"[data_fp]: \"+data_fp)"
   ]
  },
  {
   "cell_type": "markdown",
   "metadata": {},
   "source": [
    "### 数据观察"
   ]
  },
  {
   "cell_type": "markdown",
   "metadata": {},
   "source": [
    "部分数据观察"
   ]
  },
  {
   "cell_type": "code",
   "execution_count": 7,
   "metadata": {
    "ExecuteTime": {
     "end_time": "2020-05-15T09:11:34.784080Z",
     "start_time": "2020-05-15T09:11:34.705787Z"
    },
    "scrolled": false
   },
   "outputs": [
    {
     "data": {
      "text/html": [
       "<div>\n",
       "<style scoped>\n",
       "    .dataframe tbody tr th:only-of-type {\n",
       "        vertical-align: middle;\n",
       "    }\n",
       "\n",
       "    .dataframe tbody tr th {\n",
       "        vertical-align: top;\n",
       "    }\n",
       "\n",
       "    .dataframe thead th {\n",
       "        text-align: right;\n",
       "    }\n",
       "</style>\n",
       "<table border=\"1\" class=\"dataframe\">\n",
       "  <thead>\n",
       "    <tr style=\"text-align: right;\">\n",
       "      <th></th>\n",
       "      <th>Unnamed: 0</th>\n",
       "      <th>label</th>\n",
       "      <th>I1</th>\n",
       "      <th>I2</th>\n",
       "      <th>I3</th>\n",
       "      <th>I4</th>\n",
       "      <th>I5</th>\n",
       "      <th>I6</th>\n",
       "      <th>I7</th>\n",
       "      <th>I8</th>\n",
       "      <th>...</th>\n",
       "      <th>C19</th>\n",
       "      <th>C20</th>\n",
       "      <th>C21</th>\n",
       "      <th>C22</th>\n",
       "      <th>C23</th>\n",
       "      <th>C24</th>\n",
       "      <th>C25</th>\n",
       "      <th>C26</th>\n",
       "      <th>C27</th>\n",
       "      <th>C28</th>\n",
       "    </tr>\n",
       "  </thead>\n",
       "  <tbody>\n",
       "    <tr>\n",
       "      <th>0</th>\n",
       "      <td>0</td>\n",
       "      <td>0</td>\n",
       "      <td>1.0</td>\n",
       "      <td>1</td>\n",
       "      <td>5.0</td>\n",
       "      <td>0.0</td>\n",
       "      <td>1382.0</td>\n",
       "      <td>4.0</td>\n",
       "      <td>15.0</td>\n",
       "      <td>2.0</td>\n",
       "      <td>...</td>\n",
       "      <td>21ddcdc9</td>\n",
       "      <td>b1252a9d</td>\n",
       "      <td>07b5194c</td>\n",
       "      <td>NaN</td>\n",
       "      <td>3a171ecb</td>\n",
       "      <td>c5c50484</td>\n",
       "      <td>e8b83407</td>\n",
       "      <td>9727dd16</td>\n",
       "      <td>['1538' '131' '1968' '1534' '1129' '409' '1411...</td>\n",
       "      <td>['16' '82' '96' '74' '23' '50' '92' '97' '11' ...</td>\n",
       "    </tr>\n",
       "    <tr>\n",
       "      <th>1</th>\n",
       "      <td>1</td>\n",
       "      <td>0</td>\n",
       "      <td>2.0</td>\n",
       "      <td>0</td>\n",
       "      <td>44.0</td>\n",
       "      <td>1.0</td>\n",
       "      <td>102.0</td>\n",
       "      <td>8.0</td>\n",
       "      <td>2.0</td>\n",
       "      <td>2.0</td>\n",
       "      <td>...</td>\n",
       "      <td>21ddcdc9</td>\n",
       "      <td>5840adea</td>\n",
       "      <td>60f6221e</td>\n",
       "      <td>NaN</td>\n",
       "      <td>3a171ecb</td>\n",
       "      <td>43f13e8b</td>\n",
       "      <td>e8b83407</td>\n",
       "      <td>731c3655</td>\n",
       "      <td>['1131' '567' '440' '658' '1523' '1380' '106' ...</td>\n",
       "      <td>['16' '91' '46' '71' '82' '14' '68' '9' '19' '...</td>\n",
       "    </tr>\n",
       "    <tr>\n",
       "      <th>2</th>\n",
       "      <td>2</td>\n",
       "      <td>0</td>\n",
       "      <td>2.0</td>\n",
       "      <td>0</td>\n",
       "      <td>1.0</td>\n",
       "      <td>14.0</td>\n",
       "      <td>767.0</td>\n",
       "      <td>89.0</td>\n",
       "      <td>4.0</td>\n",
       "      <td>2.0</td>\n",
       "      <td>...</td>\n",
       "      <td>NaN</td>\n",
       "      <td>NaN</td>\n",
       "      <td>e587c466</td>\n",
       "      <td>ad3062eb</td>\n",
       "      <td>3a171ecb</td>\n",
       "      <td>3b183c5c</td>\n",
       "      <td>NaN</td>\n",
       "      <td>NaN</td>\n",
       "      <td>['397' '235']</td>\n",
       "      <td>['72' '69' '48' '59' '22' '10' '97' '40']</td>\n",
       "    </tr>\n",
       "    <tr>\n",
       "      <th>3</th>\n",
       "      <td>3</td>\n",
       "      <td>0</td>\n",
       "      <td>NaN</td>\n",
       "      <td>893</td>\n",
       "      <td>NaN</td>\n",
       "      <td>NaN</td>\n",
       "      <td>4392.0</td>\n",
       "      <td>NaN</td>\n",
       "      <td>0.0</td>\n",
       "      <td>0.0</td>\n",
       "      <td>...</td>\n",
       "      <td>NaN</td>\n",
       "      <td>NaN</td>\n",
       "      <td>6b3a5ca6</td>\n",
       "      <td>NaN</td>\n",
       "      <td>3a171ecb</td>\n",
       "      <td>9117a34a</td>\n",
       "      <td>NaN</td>\n",
       "      <td>NaN</td>\n",
       "      <td>['13' '1825' '581' '33' '480' '1472' '209' '29...</td>\n",
       "      <td>['13' '14' '29']</td>\n",
       "    </tr>\n",
       "    <tr>\n",
       "      <th>4</th>\n",
       "      <td>4</td>\n",
       "      <td>0</td>\n",
       "      <td>3.0</td>\n",
       "      <td>-1</td>\n",
       "      <td>NaN</td>\n",
       "      <td>0.0</td>\n",
       "      <td>2.0</td>\n",
       "      <td>0.0</td>\n",
       "      <td>3.0</td>\n",
       "      <td>0.0</td>\n",
       "      <td>...</td>\n",
       "      <td>NaN</td>\n",
       "      <td>NaN</td>\n",
       "      <td>21c9516a</td>\n",
       "      <td>NaN</td>\n",
       "      <td>32c7478e</td>\n",
       "      <td>b34f3128</td>\n",
       "      <td>NaN</td>\n",
       "      <td>NaN</td>\n",
       "      <td>[]</td>\n",
       "      <td>['76']</td>\n",
       "    </tr>\n",
       "  </tbody>\n",
       "</table>\n",
       "<p>5 rows × 43 columns</p>\n",
       "</div>"
      ],
      "text/plain": [
       "   Unnamed: 0  label   I1   I2    I3    I4      I5    I6    I7   I8  ...  \\\n",
       "0           0      0  1.0    1   5.0   0.0  1382.0   4.0  15.0  2.0  ...   \n",
       "1           1      0  2.0    0  44.0   1.0   102.0   8.0   2.0  2.0  ...   \n",
       "2           2      0  2.0    0   1.0  14.0   767.0  89.0   4.0  2.0  ...   \n",
       "3           3      0  NaN  893   NaN   NaN  4392.0   NaN   0.0  0.0  ...   \n",
       "4           4      0  3.0   -1   NaN   0.0     2.0   0.0   3.0  0.0  ...   \n",
       "\n",
       "        C19       C20       C21       C22       C23       C24       C25  \\\n",
       "0  21ddcdc9  b1252a9d  07b5194c       NaN  3a171ecb  c5c50484  e8b83407   \n",
       "1  21ddcdc9  5840adea  60f6221e       NaN  3a171ecb  43f13e8b  e8b83407   \n",
       "2       NaN       NaN  e587c466  ad3062eb  3a171ecb  3b183c5c       NaN   \n",
       "3       NaN       NaN  6b3a5ca6       NaN  3a171ecb  9117a34a       NaN   \n",
       "4       NaN       NaN  21c9516a       NaN  32c7478e  b34f3128       NaN   \n",
       "\n",
       "        C26                                                C27  \\\n",
       "0  9727dd16  ['1538' '131' '1968' '1534' '1129' '409' '1411...   \n",
       "1  731c3655  ['1131' '567' '440' '658' '1523' '1380' '106' ...   \n",
       "2       NaN                                      ['397' '235']   \n",
       "3       NaN  ['13' '1825' '581' '33' '480' '1472' '209' '29...   \n",
       "4       NaN                                                 []   \n",
       "\n",
       "                                                 C28  \n",
       "0  ['16' '82' '96' '74' '23' '50' '92' '97' '11' ...  \n",
       "1  ['16' '91' '46' '71' '82' '14' '68' '9' '19' '...  \n",
       "2          ['72' '69' '48' '59' '22' '10' '97' '40']  \n",
       "3                                   ['13' '14' '29']  \n",
       "4                                             ['76']  \n",
       "\n",
       "[5 rows x 43 columns]"
      ]
     },
     "execution_count": 7,
     "metadata": {},
     "output_type": "execute_result"
    },
    {
     "name": "stdout",
     "output_type": "stream",
     "text": [
      "[num_feat]: I1,I2,I3,I4,I5,I6,I7,I8,I9,I10,I11,I12,I13\n",
      "[cat_feat]: C1,C2,C3,C4,C5,C6,C7,C8,C9,C10,C11,C12,C13,C14,C15,C16,C17,C18,C19,C20,C21,C22,C23,C24,C25,C26,C27,C28\n"
     ]
    },
    {
     "data": {
      "text/html": [
       "<div>\n",
       "<style scoped>\n",
       "    .dataframe tbody tr th:only-of-type {\n",
       "        vertical-align: middle;\n",
       "    }\n",
       "\n",
       "    .dataframe tbody tr th {\n",
       "        vertical-align: top;\n",
       "    }\n",
       "\n",
       "    .dataframe thead th {\n",
       "        text-align: right;\n",
       "    }\n",
       "</style>\n",
       "<table border=\"1\" class=\"dataframe\">\n",
       "  <thead>\n",
       "    <tr style=\"text-align: right;\">\n",
       "      <th></th>\n",
       "      <th>label</th>\n",
       "    </tr>\n",
       "    <tr>\n",
       "      <th>label</th>\n",
       "      <th></th>\n",
       "    </tr>\n",
       "  </thead>\n",
       "  <tbody>\n",
       "    <tr>\n",
       "      <th>0</th>\n",
       "      <td>9</td>\n",
       "    </tr>\n",
       "    <tr>\n",
       "      <th>1</th>\n",
       "      <td>1</td>\n",
       "    </tr>\n",
       "  </tbody>\n",
       "</table>\n",
       "</div>"
      ],
      "text/plain": [
       "       label\n",
       "label       \n",
       "0          9\n",
       "1          1"
      ]
     },
     "execution_count": 7,
     "metadata": {},
     "output_type": "execute_result"
    }
   ],
   "source": [
    "# 正负样本比: 0.254237288=1.5w/(4.4w+1.5w)\n",
    "df_head10 = pd.read_csv(data_fp, nrows=10)\n",
    "df_head10.head()\n",
    "num_feat=[i for i in df_head10.columns if i.startswith(\"I\")]\n",
    "cat_feat=[i for i in df_head10.columns if i.startswith(\"C\")]\n",
    "print(\"[num_feat]: \"+ \",\".join(num_feat))\n",
    "print(\"[cat_feat]: \"+ \",\".join(cat_feat))\n",
    "df_head10.groupby(\"label\").agg({\"label\":\"count\"})"
   ]
  },
  {
   "cell_type": "markdown",
   "metadata": {},
   "source": [
    "全量数据观察"
   ]
  },
  {
   "cell_type": "code",
   "execution_count": 8,
   "metadata": {
    "ExecuteTime": {
     "end_time": "2020-05-15T09:11:55.806035Z",
     "start_time": "2020-05-15T09:11:39.920284Z"
    },
    "scrolled": false
   },
   "outputs": [
    {
     "data": {
      "text/html": [
       "<div>\n",
       "<style scoped>\n",
       "    .dataframe tbody tr th:only-of-type {\n",
       "        vertical-align: middle;\n",
       "    }\n",
       "\n",
       "    .dataframe tbody tr th {\n",
       "        vertical-align: top;\n",
       "    }\n",
       "\n",
       "    .dataframe thead th {\n",
       "        text-align: right;\n",
       "    }\n",
       "</style>\n",
       "<table border=\"1\" class=\"dataframe\">\n",
       "  <thead>\n",
       "    <tr style=\"text-align: right;\">\n",
       "      <th></th>\n",
       "      <th>I1</th>\n",
       "      <th>I2</th>\n",
       "      <th>I3</th>\n",
       "      <th>I4</th>\n",
       "      <th>I5</th>\n",
       "      <th>I6</th>\n",
       "      <th>I7</th>\n",
       "      <th>I8</th>\n",
       "      <th>I9</th>\n",
       "      <th>I10</th>\n",
       "      <th>I11</th>\n",
       "      <th>I12</th>\n",
       "      <th>I13</th>\n",
       "    </tr>\n",
       "  </thead>\n",
       "  <tbody>\n",
       "    <tr>\n",
       "      <th>count</th>\n",
       "      <td>346447.000000</td>\n",
       "      <td>600000.000000</td>\n",
       "      <td>457859.000000</td>\n",
       "      <td>445879.000000</td>\n",
       "      <td>5.834030e+05</td>\n",
       "      <td>465077.000000</td>\n",
       "      <td>575030.000000</td>\n",
       "      <td>599558.000000</td>\n",
       "      <td>575030.000000</td>\n",
       "      <td>346447.000000</td>\n",
       "      <td>575030.000000</td>\n",
       "      <td>138927.000000</td>\n",
       "      <td>445879.000000</td>\n",
       "    </tr>\n",
       "    <tr>\n",
       "      <th>mean</th>\n",
       "      <td>3.304289</td>\n",
       "      <td>90.312038</td>\n",
       "      <td>24.093289</td>\n",
       "      <td>6.928496</td>\n",
       "      <td>1.837511e+04</td>\n",
       "      <td>120.356068</td>\n",
       "      <td>15.182599</td>\n",
       "      <td>13.469112</td>\n",
       "      <td>109.466894</td>\n",
       "      <td>0.567423</td>\n",
       "      <td>2.574685</td>\n",
       "      <td>0.882348</td>\n",
       "      <td>8.019404</td>\n",
       "    </tr>\n",
       "    <tr>\n",
       "      <th>std</th>\n",
       "      <td>9.324775</td>\n",
       "      <td>338.160418</td>\n",
       "      <td>422.394668</td>\n",
       "      <td>8.771655</td>\n",
       "      <td>6.668164e+04</td>\n",
       "      <td>504.611822</td>\n",
       "      <td>59.915704</td>\n",
       "      <td>40.027898</td>\n",
       "      <td>227.472589</td>\n",
       "      <td>0.683658</td>\n",
       "      <td>4.977896</td>\n",
       "      <td>6.230309</td>\n",
       "      <td>44.766028</td>\n",
       "    </tr>\n",
       "    <tr>\n",
       "      <th>min</th>\n",
       "      <td>0.000000</td>\n",
       "      <td>-2.000000</td>\n",
       "      <td>0.000000</td>\n",
       "      <td>0.000000</td>\n",
       "      <td>0.000000e+00</td>\n",
       "      <td>0.000000</td>\n",
       "      <td>0.000000</td>\n",
       "      <td>0.000000</td>\n",
       "      <td>0.000000</td>\n",
       "      <td>0.000000</td>\n",
       "      <td>0.000000</td>\n",
       "      <td>0.000000</td>\n",
       "      <td>0.000000</td>\n",
       "    </tr>\n",
       "    <tr>\n",
       "      <th>25%</th>\n",
       "      <td>0.000000</td>\n",
       "      <td>0.000000</td>\n",
       "      <td>2.000000</td>\n",
       "      <td>2.000000</td>\n",
       "      <td>7.710000e+02</td>\n",
       "      <td>8.000000</td>\n",
       "      <td>1.000000</td>\n",
       "      <td>2.000000</td>\n",
       "      <td>11.000000</td>\n",
       "      <td>0.000000</td>\n",
       "      <td>0.000000</td>\n",
       "      <td>0.000000</td>\n",
       "      <td>2.000000</td>\n",
       "    </tr>\n",
       "    <tr>\n",
       "      <th>50%</th>\n",
       "      <td>1.000000</td>\n",
       "      <td>2.000000</td>\n",
       "      <td>5.000000</td>\n",
       "      <td>4.000000</td>\n",
       "      <td>2.521000e+03</td>\n",
       "      <td>33.000000</td>\n",
       "      <td>3.000000</td>\n",
       "      <td>8.000000</td>\n",
       "      <td>40.000000</td>\n",
       "      <td>0.000000</td>\n",
       "      <td>1.000000</td>\n",
       "      <td>0.000000</td>\n",
       "      <td>4.000000</td>\n",
       "    </tr>\n",
       "    <tr>\n",
       "      <th>75%</th>\n",
       "      <td>3.000000</td>\n",
       "      <td>32.000000</td>\n",
       "      <td>14.000000</td>\n",
       "      <td>9.000000</td>\n",
       "      <td>1.033200e+04</td>\n",
       "      <td>103.000000</td>\n",
       "      <td>11.000000</td>\n",
       "      <td>20.000000</td>\n",
       "      <td>113.000000</td>\n",
       "      <td>1.000000</td>\n",
       "      <td>3.000000</td>\n",
       "      <td>0.000000</td>\n",
       "      <td>9.000000</td>\n",
       "    </tr>\n",
       "    <tr>\n",
       "      <th>max</th>\n",
       "      <td>780.000000</td>\n",
       "      <td>18522.000000</td>\n",
       "      <td>65535.000000</td>\n",
       "      <td>507.000000</td>\n",
       "      <td>2.513122e+06</td>\n",
       "      <td>233523.000000</td>\n",
       "      <td>8807.000000</td>\n",
       "      <td>5064.000000</td>\n",
       "      <td>12661.000000</td>\n",
       "      <td>8.000000</td>\n",
       "      <td>133.000000</td>\n",
       "      <td>768.000000</td>\n",
       "      <td>6702.000000</td>\n",
       "    </tr>\n",
       "  </tbody>\n",
       "</table>\n",
       "</div>"
      ],
      "text/plain": [
       "                  I1             I2             I3             I4  \\\n",
       "count  346447.000000  600000.000000  457859.000000  445879.000000   \n",
       "mean        3.304289      90.312038      24.093289       6.928496   \n",
       "std         9.324775     338.160418     422.394668       8.771655   \n",
       "min         0.000000      -2.000000       0.000000       0.000000   \n",
       "25%         0.000000       0.000000       2.000000       2.000000   \n",
       "50%         1.000000       2.000000       5.000000       4.000000   \n",
       "75%         3.000000      32.000000      14.000000       9.000000   \n",
       "max       780.000000   18522.000000   65535.000000     507.000000   \n",
       "\n",
       "                 I5             I6             I7             I8  \\\n",
       "count  5.834030e+05  465077.000000  575030.000000  599558.000000   \n",
       "mean   1.837511e+04     120.356068      15.182599      13.469112   \n",
       "std    6.668164e+04     504.611822      59.915704      40.027898   \n",
       "min    0.000000e+00       0.000000       0.000000       0.000000   \n",
       "25%    7.710000e+02       8.000000       1.000000       2.000000   \n",
       "50%    2.521000e+03      33.000000       3.000000       8.000000   \n",
       "75%    1.033200e+04     103.000000      11.000000      20.000000   \n",
       "max    2.513122e+06  233523.000000    8807.000000    5064.000000   \n",
       "\n",
       "                  I9            I10            I11            I12  \\\n",
       "count  575030.000000  346447.000000  575030.000000  138927.000000   \n",
       "mean      109.466894       0.567423       2.574685       0.882348   \n",
       "std       227.472589       0.683658       4.977896       6.230309   \n",
       "min         0.000000       0.000000       0.000000       0.000000   \n",
       "25%        11.000000       0.000000       0.000000       0.000000   \n",
       "50%        40.000000       0.000000       1.000000       0.000000   \n",
       "75%       113.000000       1.000000       3.000000       0.000000   \n",
       "max     12661.000000       8.000000     133.000000     768.000000   \n",
       "\n",
       "                 I13  \n",
       "count  445879.000000  \n",
       "mean        8.019404  \n",
       "std        44.766028  \n",
       "min         0.000000  \n",
       "25%         2.000000  \n",
       "50%         4.000000  \n",
       "75%         9.000000  \n",
       "max      6702.000000  "
      ]
     },
     "execution_count": 8,
     "metadata": {},
     "output_type": "execute_result"
    },
    {
     "data": {
      "text/plain": [
       "I1     346447\n",
       "I2     600000\n",
       "I3     457859\n",
       "I4     445879\n",
       "I5     583403\n",
       "I6     465077\n",
       "I7     575030\n",
       "I8     599558\n",
       "I9     575030\n",
       "I10    346447\n",
       "I11    575030\n",
       "I12    138927\n",
       "I13    445879\n",
       "dtype: int64"
      ]
     },
     "execution_count": 8,
     "metadata": {},
     "output_type": "execute_result"
    },
    {
     "data": {
      "text/html": [
       "<div>\n",
       "<style scoped>\n",
       "    .dataframe tbody tr th:only-of-type {\n",
       "        vertical-align: middle;\n",
       "    }\n",
       "\n",
       "    .dataframe tbody tr th {\n",
       "        vertical-align: top;\n",
       "    }\n",
       "\n",
       "    .dataframe thead th {\n",
       "        text-align: right;\n",
       "    }\n",
       "</style>\n",
       "<table border=\"1\" class=\"dataframe\">\n",
       "  <thead>\n",
       "    <tr style=\"text-align: right;\">\n",
       "      <th></th>\n",
       "      <th>C1</th>\n",
       "      <th>C2</th>\n",
       "      <th>C3</th>\n",
       "      <th>C4</th>\n",
       "      <th>C5</th>\n",
       "      <th>C6</th>\n",
       "      <th>C7</th>\n",
       "      <th>C8</th>\n",
       "      <th>C9</th>\n",
       "      <th>C10</th>\n",
       "      <th>...</th>\n",
       "      <th>C19</th>\n",
       "      <th>C20</th>\n",
       "      <th>C21</th>\n",
       "      <th>C22</th>\n",
       "      <th>C23</th>\n",
       "      <th>C24</th>\n",
       "      <th>C25</th>\n",
       "      <th>C26</th>\n",
       "      <th>C27</th>\n",
       "      <th>C28</th>\n",
       "    </tr>\n",
       "  </thead>\n",
       "  <tbody>\n",
       "    <tr>\n",
       "      <th>count</th>\n",
       "      <td>600000</td>\n",
       "      <td>600000</td>\n",
       "      <td>577541</td>\n",
       "      <td>577541</td>\n",
       "      <td>600000</td>\n",
       "      <td>522807</td>\n",
       "      <td>600000</td>\n",
       "      <td>600000</td>\n",
       "      <td>600000</td>\n",
       "      <td>600000</td>\n",
       "      <td>...</td>\n",
       "      <td>311065</td>\n",
       "      <td>311065</td>\n",
       "      <td>577541</td>\n",
       "      <td>148521</td>\n",
       "      <td>600000</td>\n",
       "      <td>577541</td>\n",
       "      <td>311065</td>\n",
       "      <td>311065</td>\n",
       "      <td>600000</td>\n",
       "      <td>600000</td>\n",
       "    </tr>\n",
       "    <tr>\n",
       "      <th>unique</th>\n",
       "      <td>1090</td>\n",
       "      <td>527</td>\n",
       "      <td>207578</td>\n",
       "      <td>85910</td>\n",
       "      <td>246</td>\n",
       "      <td>13</td>\n",
       "      <td>10358</td>\n",
       "      <td>512</td>\n",
       "      <td>3</td>\n",
       "      <td>25179</td>\n",
       "      <td>...</td>\n",
       "      <td>1748</td>\n",
       "      <td>3</td>\n",
       "      <td>160351</td>\n",
       "      <td>14</td>\n",
       "      <td>15</td>\n",
       "      <td>32095</td>\n",
       "      <td>63</td>\n",
       "      <td>24430</td>\n",
       "      <td>590109</td>\n",
       "      <td>523708</td>\n",
       "    </tr>\n",
       "    <tr>\n",
       "      <th>top</th>\n",
       "      <td>05db9164</td>\n",
       "      <td>38a947a1</td>\n",
       "      <td>d032c263</td>\n",
       "      <td>c18be181</td>\n",
       "      <td>25c83c98</td>\n",
       "      <td>7e0ccccf</td>\n",
       "      <td>7195046d</td>\n",
       "      <td>0b153874</td>\n",
       "      <td>a73ee510</td>\n",
       "      <td>3b08e48b</td>\n",
       "      <td>...</td>\n",
       "      <td>21ddcdc9</td>\n",
       "      <td>a458ea53</td>\n",
       "      <td>723b4dfd</td>\n",
       "      <td>ad3062eb</td>\n",
       "      <td>32c7478e</td>\n",
       "      <td>3fdb382b</td>\n",
       "      <td>001f3601</td>\n",
       "      <td>49d68486</td>\n",
       "      <td>[]</td>\n",
       "      <td>[]</td>\n",
       "    </tr>\n",
       "    <tr>\n",
       "      <th>freq</th>\n",
       "      <td>300847</td>\n",
       "      <td>70536</td>\n",
       "      <td>18669</td>\n",
       "      <td>24638</td>\n",
       "      <td>403302</td>\n",
       "      <td>222429</td>\n",
       "      <td>11032</td>\n",
       "      <td>356658</td>\n",
       "      <td>537406</td>\n",
       "      <td>125744</td>\n",
       "      <td>...</td>\n",
       "      <td>179227</td>\n",
       "      <td>116724</td>\n",
       "      <td>20886</td>\n",
       "      <td>92953</td>\n",
       "      <td>236553</td>\n",
       "      <td>36206</td>\n",
       "      <td>79366</td>\n",
       "      <td>26357</td>\n",
       "      <td>5867</td>\n",
       "      <td>28521</td>\n",
       "    </tr>\n",
       "  </tbody>\n",
       "</table>\n",
       "<p>4 rows × 28 columns</p>\n",
       "</div>"
      ],
      "text/plain": [
       "              C1        C2        C3        C4        C5        C6        C7  \\\n",
       "count     600000    600000    577541    577541    600000    522807    600000   \n",
       "unique      1090       527    207578     85910       246        13     10358   \n",
       "top     05db9164  38a947a1  d032c263  c18be181  25c83c98  7e0ccccf  7195046d   \n",
       "freq      300847     70536     18669     24638    403302    222429     11032   \n",
       "\n",
       "              C8        C9       C10  ...       C19       C20       C21  \\\n",
       "count     600000    600000    600000  ...    311065    311065    577541   \n",
       "unique       512         3     25179  ...      1748         3    160351   \n",
       "top     0b153874  a73ee510  3b08e48b  ...  21ddcdc9  a458ea53  723b4dfd   \n",
       "freq      356658    537406    125744  ...    179227    116724     20886   \n",
       "\n",
       "             C22       C23       C24       C25       C26     C27     C28  \n",
       "count     148521    600000    577541    311065    311065  600000  600000  \n",
       "unique        14        15     32095        63     24430  590109  523708  \n",
       "top     ad3062eb  32c7478e  3fdb382b  001f3601  49d68486      []      []  \n",
       "freq       92953    236553     36206     79366     26357    5867   28521  \n",
       "\n",
       "[4 rows x 28 columns]"
      ]
     },
     "execution_count": 8,
     "metadata": {},
     "output_type": "execute_result"
    },
    {
     "name": "stdout",
     "output_type": "stream",
     "text": [
      "所有category特征合计:  1999489\n",
      ">>> 注意以下的特征unique计数，是排除了NA的\n"
     ]
    },
    {
     "data": {
      "text/plain": [
       "C1       1090\n",
       "C2        527\n",
       "C3     207578\n",
       "C4      85910\n",
       "C5        246\n",
       "C6         13\n",
       "C7      10358\n",
       "C8        512\n",
       "C9          3\n",
       "C10     25179\n",
       "C11      4556\n",
       "C12    177153\n",
       "C13      3041\n",
       "C14        26\n",
       "C15      8135\n",
       "C16    139002\n",
       "C17        10\n",
       "C18      3614\n",
       "C19      1748\n",
       "C20         3\n",
       "C21    160351\n",
       "C22        14\n",
       "C23        15\n",
       "C24     32095\n",
       "C25        63\n",
       "C26     24430\n",
       "C27    590109\n",
       "C28    523708\n",
       "Name: unique, dtype: object"
      ]
     },
     "execution_count": 8,
     "metadata": {},
     "output_type": "execute_result"
    },
    {
     "data": {
      "text/html": [
       "<div>\n",
       "<style scoped>\n",
       "    .dataframe tbody tr th:only-of-type {\n",
       "        vertical-align: middle;\n",
       "    }\n",
       "\n",
       "    .dataframe tbody tr th {\n",
       "        vertical-align: top;\n",
       "    }\n",
       "\n",
       "    .dataframe thead th {\n",
       "        text-align: right;\n",
       "    }\n",
       "</style>\n",
       "<table border=\"1\" class=\"dataframe\">\n",
       "  <thead>\n",
       "    <tr style=\"text-align: right;\">\n",
       "      <th></th>\n",
       "      <th>label</th>\n",
       "    </tr>\n",
       "    <tr>\n",
       "      <th>label</th>\n",
       "      <th></th>\n",
       "    </tr>\n",
       "  </thead>\n",
       "  <tbody>\n",
       "    <tr>\n",
       "      <th>0</th>\n",
       "      <td>446178</td>\n",
       "    </tr>\n",
       "    <tr>\n",
       "      <th>1</th>\n",
       "      <td>153822</td>\n",
       "    </tr>\n",
       "  </tbody>\n",
       "</table>\n",
       "</div>"
      ],
      "text/plain": [
       "        label\n",
       "label        \n",
       "0      446178\n",
       "1      153822"
      ]
     },
     "execution_count": 8,
     "metadata": {},
     "output_type": "execute_result"
    }
   ],
   "source": [
    "df_total=pd.read_csv(data_fp, nrows=600000)\n",
    "df_total[num_feat].describe()\n",
    "df_total[num_feat].count()\n",
    "df_total[cat_feat].describe()\n",
    "print(\"所有category特征合计: \",df_total[cat_feat].describe().loc['unique',:].sum())\n",
    "print(\">>> 注意以下的特征unique计数，是排除了NA的\")\n",
    "df_total[cat_feat].describe().loc['unique',:].T\n",
    "df_total.groupby(\"label\").agg({\"label\":\"count\"})"
   ]
  },
  {
   "cell_type": "markdown",
   "metadata": {},
   "source": [
    "### 获取featureMap\n",
    "全量数据60w太大，直接做get_dummies可以用sparse=True\n",
    "- 一来偶尔会跑不出来，推测是压力太大速度太慢（跑太久了手动停了）；\n",
    "- 二来后续输入tf中，目前已知的只有.values的方案，这无异于把整个df都重新dense化了；\n",
    "\n",
    "这里用自定义的方案，按chunksize过一遍全体数据，拿到featuremap后，手动做sparseTensor"
   ]
  },
  {
   "cell_type": "code",
   "execution_count": null,
   "metadata": {
    "ExecuteTime": {
     "end_time": "2020-05-09T10:16:30.095940Z",
     "start_time": "2020-05-09T10:14:48.883374Z"
    },
    "deletable": false,
    "editable": false,
    "run_control": {
     "frozen": true
    }
   },
   "outputs": [],
   "source": [
    "# 全量直接做get_dummies容易卡死\n",
    "df_sparse=pd.get_dummies(df_total,sparse=True)\n",
    "df_sparse\n",
    "df_sparse.dtypes\n",
    "# \"{:.4f} mb\".format(df_sparse.memory_usage().sum()/1e6)"
   ]
  },
  {
   "cell_type": "code",
   "execution_count": 23,
   "metadata": {
    "ExecuteTime": {
     "end_time": "2020-05-15T09:52:14.540786Z",
     "start_time": "2020-05-15T09:50:09.772380Z"
    },
    "code_folding": [
     47,
     55
    ],
    "scrolled": false
   },
   "outputs": [
    {
     "data": {
      "application/vnd.jupyter.widget-view+json": {
       "model_id": "2c79d2bd8b6d4cfdafebe531a702a8c6",
       "version_major": 2,
       "version_minor": 0
      },
      "text/plain": [
       "HBox(children=(FloatProgress(value=0.0, max=600.0), HTML(value='')))"
      ]
     },
     "metadata": {},
     "output_type": "display_data"
    },
    {
     "name": "stdout",
     "output_type": "stream",
     "text": [
      "\n",
      "k:C1, cnt:1090\n",
      "k:C2, cnt:527\n",
      "k:C3, cnt:207579\n",
      "k:C4, cnt:85911\n",
      "k:C5, cnt:246\n",
      "k:C6, cnt:14\n",
      "k:C7, cnt:10358\n",
      "k:C8, cnt:512\n",
      "k:C9, cnt:3\n",
      "k:C10, cnt:25179\n",
      "k:C11, cnt:4556\n",
      "k:C12, cnt:177154\n",
      "k:C13, cnt:3041\n",
      "k:C14, cnt:26\n",
      "k:C15, cnt:8135\n",
      "k:C16, cnt:139003\n",
      "k:C17, cnt:10\n",
      "k:C18, cnt:3614\n",
      "k:C19, cnt:1749\n",
      "k:C20, cnt:4\n",
      "k:C21, cnt:160352\n",
      "k:C22, cnt:15\n",
      "k:C23, cnt:15\n",
      "k:C24, cnt:32096\n",
      "k:C25, cnt:64\n",
      "k:C26, cnt:24431\n",
      "k:C27, cnt:2001\n",
      "k:C28, cnt:101\n",
      "所有的category特征总计: 887786\n",
      "各category特征的起始索引:\n"
     ]
    },
    {
     "data": {
      "text/plain": [
       "{'C1': 0,\n",
       " 'C2': 1090,\n",
       " 'C3': 1617,\n",
       " 'C4': 209196,\n",
       " 'C5': 295107,\n",
       " 'C6': 295353,\n",
       " 'C7': 295367,\n",
       " 'C8': 305725,\n",
       " 'C9': 306237,\n",
       " 'C10': 306240,\n",
       " 'C11': 331419,\n",
       " 'C12': 335975,\n",
       " 'C13': 513129,\n",
       " 'C14': 516170,\n",
       " 'C15': 516196,\n",
       " 'C16': 524331,\n",
       " 'C17': 663334,\n",
       " 'C18': 663344,\n",
       " 'C19': 666958,\n",
       " 'C20': 668707,\n",
       " 'C21': 668711,\n",
       " 'C22': 829063,\n",
       " 'C23': 829078,\n",
       " 'C24': 829093,\n",
       " 'C25': 861189,\n",
       " 'C26': 861253,\n",
       " 'C27': 885684,\n",
       " 'C28': 887685}"
      ]
     },
     "execution_count": 23,
     "metadata": {},
     "output_type": "execute_result"
    }
   ],
   "source": [
    "# 自行遍历构造featureMap\n",
    "chunksize=1000\n",
    "fn_split2list=lambda x:[i for i in x.strip(\"[]\").split(\",\") if i != \"\"]\n",
    "df_total_iter=pd.read_csv(data_fp, chunksize=chunksize,converters={\"C27\":fn_split2list,\"C28\":fn_split2list})\n",
    "num_feat=[]\n",
    "cat_feat=[]\n",
    "cat_featureMap={}\n",
    "multihot_feat=[\"C27\",\"C28\"]\n",
    "for idx,chunk in tqdm(enumerate(df_total_iter),total=60*10000/chunksize):\n",
    "#     ###############################\n",
    "#     # 随机构造两个multihot特征\n",
    "#     ###############################\n",
    "#     m1 = []\n",
    "#     for i in range(chunk.shape[0]):\n",
    "#         # 随机 0~100 长度的list，list内的元素是 0~2000 注意str化\n",
    "#         random_size = np.random.randint(low=0,high=100+1)\n",
    "#         m1.append(np.random.randint(low=0,high=2000+1,size=random_size).astype(str))\n",
    "#     chunk['C27'] = m1\n",
    "#     m2 = []\n",
    "#     for i in range(chunk.shape[0]):\n",
    "#         # 随机 0~20 长度的list，list内的元素是 0~100 注意str化\n",
    "#         random_size = np.random.randint(low=0,high=20+1)\n",
    "#         m2.append(np.random.randint(low=0,high=100+1,size=random_size).astype(str))\n",
    "#     chunk['C28'] = m2\n",
    "\n",
    "    ###############################\n",
    "    # 提取numeric特征和category特征\n",
    "    ###############################\n",
    "    _num_feat=[i for i in chunk.columns if i.startswith(\"I\")]\n",
    "    _cat_feat=[i for i in chunk.columns if i.startswith(\"C\")]\n",
    "    if len(num_feat) > 0:\n",
    "        assert num_feat == _num_feat,f\"I系特征不符，前{idx*chunksize}条为: {num_feat}，此后为{_num_feat}\"\n",
    "    else:\n",
    "        num_feat = _num_feat\n",
    "    if len(cat_feat) > 0:\n",
    "        assert cat_feat == _cat_feat,f\"C系特征不符，前{idx*chunksize}条为: {cat_feat}，此后为{_cat_feat}\"\n",
    "    else:\n",
    "        cat_feat = _cat_feat\n",
    "    \n",
    "    #############################\n",
    "    # category特征构造出featureMap\n",
    "    #############################\n",
    "    for feat in cat_feat:\n",
    "#         features=list(chunk[feat].unique())\n",
    "        features=list(np.unique(np.hstack(chunk[feat].values.flat)))\n",
    "        features_ori=cat_featureMap.get(feat,[])\n",
    "        cat_featureMap.update({feat: list(set(features+features_ori))})\n",
    "    \n",
    "for k,v in cat_featureMap.items():\n",
    "    print(f\"k:{k}, cnt:{len(v)}\")\n",
    "\n",
    "cat_featureSize=sum([len(v) for k,v in cat_featureMap.items()])\n",
    "print(\"所有的category特征总计: {}\".format(cat_featureSize))\n",
    "\n",
    "before=0\n",
    "cat_featureIdx_beginAt={}\n",
    "for k,v in cat_featureMap.items():\n",
    "    cat_featureIdx_beginAt.update({k:before})\n",
    "    before += len(v)\n",
    "print(\"各category特征的起始索引:\")\n",
    "cat_featureIdx_beginAt"
   ]
  },
  {
   "cell_type": "markdown",
   "metadata": {},
   "source": [
    "### 特征工程"
   ]
  },
  {
   "cell_type": "code",
   "execution_count": 25,
   "metadata": {
    "ExecuteTime": {
     "end_time": "2020-05-15T10:00:16.667861Z",
     "start_time": "2020-05-15T10:00:16.613416Z"
    },
    "scrolled": true
   },
   "outputs": [
    {
     "data": {
      "text/html": [
       "<div>\n",
       "<style scoped>\n",
       "    .dataframe tbody tr th:only-of-type {\n",
       "        vertical-align: middle;\n",
       "    }\n",
       "\n",
       "    .dataframe tbody tr th {\n",
       "        vertical-align: top;\n",
       "    }\n",
       "\n",
       "    .dataframe thead th {\n",
       "        text-align: right;\n",
       "    }\n",
       "</style>\n",
       "<table border=\"1\" class=\"dataframe\">\n",
       "  <thead>\n",
       "    <tr style=\"text-align: right;\">\n",
       "      <th></th>\n",
       "      <th>Unnamed: 0</th>\n",
       "      <th>label</th>\n",
       "      <th>I1</th>\n",
       "      <th>I2</th>\n",
       "      <th>I3</th>\n",
       "      <th>I4</th>\n",
       "      <th>I5</th>\n",
       "      <th>I6</th>\n",
       "      <th>I7</th>\n",
       "      <th>I8</th>\n",
       "      <th>...</th>\n",
       "      <th>C19</th>\n",
       "      <th>C20</th>\n",
       "      <th>C21</th>\n",
       "      <th>C22</th>\n",
       "      <th>C23</th>\n",
       "      <th>C24</th>\n",
       "      <th>C25</th>\n",
       "      <th>C26</th>\n",
       "      <th>C27</th>\n",
       "      <th>C28</th>\n",
       "    </tr>\n",
       "  </thead>\n",
       "  <tbody>\n",
       "    <tr>\n",
       "      <th>599000</th>\n",
       "      <td>599000</td>\n",
       "      <td>1</td>\n",
       "      <td>1.0</td>\n",
       "      <td>-1</td>\n",
       "      <td>NaN</td>\n",
       "      <td>NaN</td>\n",
       "      <td>1380.0</td>\n",
       "      <td>22.0</td>\n",
       "      <td>7.0</td>\n",
       "      <td>23.0</td>\n",
       "      <td>...</td>\n",
       "      <td>NaN</td>\n",
       "      <td>NaN</td>\n",
       "      <td>723b4dfd</td>\n",
       "      <td>NaN</td>\n",
       "      <td>bcdee96c</td>\n",
       "      <td>b34f3128</td>\n",
       "      <td>NaN</td>\n",
       "      <td>NaN</td>\n",
       "      <td>[1163, 117, 288, 48, 1367, 1606, 1647, 1455, 1...</td>\n",
       "      <td>[73, 84, 35, 78, 11, 77, 9, 48, 89, 3, 47, 78,...</td>\n",
       "    </tr>\n",
       "    <tr>\n",
       "      <th>599001</th>\n",
       "      <td>599001</td>\n",
       "      <td>1</td>\n",
       "      <td>12.0</td>\n",
       "      <td>0</td>\n",
       "      <td>1.0</td>\n",
       "      <td>NaN</td>\n",
       "      <td>583.0</td>\n",
       "      <td>0.0</td>\n",
       "      <td>12.0</td>\n",
       "      <td>29.0</td>\n",
       "      <td>...</td>\n",
       "      <td>21ddcdc9</td>\n",
       "      <td>5840adea</td>\n",
       "      <td>7288f4fc</td>\n",
       "      <td>NaN</td>\n",
       "      <td>32c7478e</td>\n",
       "      <td>6c1cdd05</td>\n",
       "      <td>ea9a246c</td>\n",
       "      <td>1219b447</td>\n",
       "      <td>[1016, 867, 812, 426, 1840, 31, 1446, 729, 174...</td>\n",
       "      <td>[81, 67, 74, 31, 61, 21, 49, 33, 58, 2, 55]</td>\n",
       "    </tr>\n",
       "    <tr>\n",
       "      <th>599002</th>\n",
       "      <td>599002</td>\n",
       "      <td>0</td>\n",
       "      <td>NaN</td>\n",
       "      <td>-1</td>\n",
       "      <td>NaN</td>\n",
       "      <td>NaN</td>\n",
       "      <td>NaN</td>\n",
       "      <td>NaN</td>\n",
       "      <td>NaN</td>\n",
       "      <td>0.0</td>\n",
       "      <td>...</td>\n",
       "      <td>NaN</td>\n",
       "      <td>NaN</td>\n",
       "      <td>e9e8dae4</td>\n",
       "      <td>NaN</td>\n",
       "      <td>32c7478e</td>\n",
       "      <td>be42b2ff</td>\n",
       "      <td>NaN</td>\n",
       "      <td>NaN</td>\n",
       "      <td>[1694, 448, 351, 1549, 1874, 990, 707, 927, 13...</td>\n",
       "      <td>[82, 8, 11, 67, 23, 23, 59, 42]</td>\n",
       "    </tr>\n",
       "    <tr>\n",
       "      <th>599003</th>\n",
       "      <td>599003</td>\n",
       "      <td>1</td>\n",
       "      <td>6.0</td>\n",
       "      <td>59</td>\n",
       "      <td>9.0</td>\n",
       "      <td>18.0</td>\n",
       "      <td>1.0</td>\n",
       "      <td>3.0</td>\n",
       "      <td>8.0</td>\n",
       "      <td>20.0</td>\n",
       "      <td>...</td>\n",
       "      <td>NaN</td>\n",
       "      <td>NaN</td>\n",
       "      <td>NaN</td>\n",
       "      <td>ad3062eb</td>\n",
       "      <td>dbb486d7</td>\n",
       "      <td>NaN</td>\n",
       "      <td>NaN</td>\n",
       "      <td>NaN</td>\n",
       "      <td>[292, 1988, 1204, 129, 1665, 1535, 194, 1399, ...</td>\n",
       "      <td>[76, 7, 66, 70, 69, 92, 33, 44, 16, 15, 52, 73...</td>\n",
       "    </tr>\n",
       "    <tr>\n",
       "      <th>599004</th>\n",
       "      <td>599004</td>\n",
       "      <td>0</td>\n",
       "      <td>NaN</td>\n",
       "      <td>0</td>\n",
       "      <td>76.0</td>\n",
       "      <td>8.0</td>\n",
       "      <td>2.0</td>\n",
       "      <td>158.0</td>\n",
       "      <td>5.0</td>\n",
       "      <td>12.0</td>\n",
       "      <td>...</td>\n",
       "      <td>21ddcdc9</td>\n",
       "      <td>a458ea53</td>\n",
       "      <td>d83181ad</td>\n",
       "      <td>NaN</td>\n",
       "      <td>32c7478e</td>\n",
       "      <td>3fdb382b</td>\n",
       "      <td>9b3e8820</td>\n",
       "      <td>25bf05c2</td>\n",
       "      <td>[925, 1751, 581, 928, 1955, 880, 1592, 1037, 1...</td>\n",
       "      <td>[31, 31, 46, 92, 27, 38, 13, 27, 56, 38, 63, 3...</td>\n",
       "    </tr>\n",
       "  </tbody>\n",
       "</table>\n",
       "<p>5 rows × 43 columns</p>\n",
       "</div>"
      ],
      "text/plain": [
       "        Unnamed: 0  label    I1  I2    I3    I4      I5     I6    I7    I8  \\\n",
       "599000      599000      1   1.0  -1   NaN   NaN  1380.0   22.0   7.0  23.0   \n",
       "599001      599001      1  12.0   0   1.0   NaN   583.0    0.0  12.0  29.0   \n",
       "599002      599002      0   NaN  -1   NaN   NaN     NaN    NaN   NaN   0.0   \n",
       "599003      599003      1   6.0  59   9.0  18.0     1.0    3.0   8.0  20.0   \n",
       "599004      599004      0   NaN   0  76.0   8.0     2.0  158.0   5.0  12.0   \n",
       "\n",
       "        ...       C19       C20       C21       C22       C23       C24  \\\n",
       "599000  ...       NaN       NaN  723b4dfd       NaN  bcdee96c  b34f3128   \n",
       "599001  ...  21ddcdc9  5840adea  7288f4fc       NaN  32c7478e  6c1cdd05   \n",
       "599002  ...       NaN       NaN  e9e8dae4       NaN  32c7478e  be42b2ff   \n",
       "599003  ...       NaN       NaN       NaN  ad3062eb  dbb486d7       NaN   \n",
       "599004  ...  21ddcdc9  a458ea53  d83181ad       NaN  32c7478e  3fdb382b   \n",
       "\n",
       "             C25       C26                                                C27  \\\n",
       "599000       NaN       NaN  [1163, 117, 288, 48, 1367, 1606, 1647, 1455, 1...   \n",
       "599001  ea9a246c  1219b447  [1016, 867, 812, 426, 1840, 31, 1446, 729, 174...   \n",
       "599002       NaN       NaN  [1694, 448, 351, 1549, 1874, 990, 707, 927, 13...   \n",
       "599003       NaN       NaN  [292, 1988, 1204, 129, 1665, 1535, 194, 1399, ...   \n",
       "599004  9b3e8820  25bf05c2  [925, 1751, 581, 928, 1955, 880, 1592, 1037, 1...   \n",
       "\n",
       "                                                      C28  \n",
       "599000  [73, 84, 35, 78, 11, 77, 9, 48, 89, 3, 47, 78,...  \n",
       "599001        [81, 67, 74, 31, 61, 21, 49, 33, 58, 2, 55]  \n",
       "599002                    [82, 8, 11, 67, 23, 23, 59, 42]  \n",
       "599003  [76, 7, 66, 70, 69, 92, 33, 44, 16, 15, 52, 73...  \n",
       "599004  [31, 31, 46, 92, 27, 38, 13, 27, 56, 38, 63, 3...  \n",
       "\n",
       "[5 rows x 43 columns]"
      ]
     },
     "execution_count": 25,
     "metadata": {},
     "output_type": "execute_result"
    }
   ],
   "source": [
    "chunk.head(5)"
   ]
  },
  {
   "cell_type": "code",
   "execution_count": 61,
   "metadata": {
    "ExecuteTime": {
     "end_time": "2020-05-15T10:33:08.026955Z",
     "start_time": "2020-05-15T10:32:36.148660Z"
    },
    "code_folding": [
     0,
     13
    ]
   },
   "outputs": [
    {
     "data": {
      "text/html": [
       "<div>\n",
       "<style scoped>\n",
       "    .dataframe tbody tr th:only-of-type {\n",
       "        vertical-align: middle;\n",
       "    }\n",
       "\n",
       "    .dataframe tbody tr th {\n",
       "        vertical-align: top;\n",
       "    }\n",
       "\n",
       "    .dataframe thead th {\n",
       "        text-align: right;\n",
       "    }\n",
       "</style>\n",
       "<table border=\"1\" class=\"dataframe\">\n",
       "  <thead>\n",
       "    <tr style=\"text-align: right;\">\n",
       "      <th></th>\n",
       "      <th>Unnamed: 0</th>\n",
       "      <th>label</th>\n",
       "      <th>I1</th>\n",
       "      <th>I2</th>\n",
       "      <th>I3</th>\n",
       "      <th>I4</th>\n",
       "      <th>I5</th>\n",
       "      <th>I6</th>\n",
       "      <th>I7</th>\n",
       "      <th>I8</th>\n",
       "      <th>...</th>\n",
       "      <th>C19</th>\n",
       "      <th>C20</th>\n",
       "      <th>C21</th>\n",
       "      <th>C22</th>\n",
       "      <th>C23</th>\n",
       "      <th>C24</th>\n",
       "      <th>C25</th>\n",
       "      <th>C26</th>\n",
       "      <th>C27</th>\n",
       "      <th>C28</th>\n",
       "    </tr>\n",
       "  </thead>\n",
       "  <tbody>\n",
       "    <tr>\n",
       "      <th>5000</th>\n",
       "      <td>5000</td>\n",
       "      <td>0</td>\n",
       "      <td>0.000000</td>\n",
       "      <td>0.128808</td>\n",
       "      <td>0.000155</td>\n",
       "      <td>0.003571</td>\n",
       "      <td>0.002320</td>\n",
       "      <td>0.074846</td>\n",
       "      <td>0.093596</td>\n",
       "      <td>0.387755</td>\n",
       "      <td>...</td>\n",
       "      <td>668566</td>\n",
       "      <td>668709</td>\n",
       "      <td>774120</td>\n",
       "      <td>829072</td>\n",
       "      <td>829081</td>\n",
       "      <td>847485</td>\n",
       "      <td>861252</td>\n",
       "      <td>880253</td>\n",
       "      <td>[886184, 886947, 886996, 885897, 885800, 88734...</td>\n",
       "      <td>[887748, 887725, 887694, 887757, 887702, 88770...</td>\n",
       "    </tr>\n",
       "    <tr>\n",
       "      <th>5001</th>\n",
       "      <td>5001</td>\n",
       "      <td>0</td>\n",
       "      <td>0.000000</td>\n",
       "      <td>0.000204</td>\n",
       "      <td>0.000039</td>\n",
       "      <td>0.030346</td>\n",
       "      <td>0.002878</td>\n",
       "      <td>0.002058</td>\n",
       "      <td>0.001642</td>\n",
       "      <td>0.061224</td>\n",
       "      <td>...</td>\n",
       "      <td>668061</td>\n",
       "      <td>668708</td>\n",
       "      <td>736377</td>\n",
       "      <td>829072</td>\n",
       "      <td>829081</td>\n",
       "      <td>855091</td>\n",
       "      <td>861252</td>\n",
       "      <td>882266</td>\n",
       "      <td>[886382, 887525, 887174, 885819, 886979, 88649...</td>\n",
       "      <td>[887729, 887745, 887750, 887701, 887785, 88769...</td>\n",
       "    </tr>\n",
       "    <tr>\n",
       "      <th>5002</th>\n",
       "      <td>5002</td>\n",
       "      <td>1</td>\n",
       "      <td>0.050136</td>\n",
       "      <td>0.021468</td>\n",
       "      <td>0.002468</td>\n",
       "      <td>0.030346</td>\n",
       "      <td>0.013773</td>\n",
       "      <td>0.005658</td>\n",
       "      <td>0.029557</td>\n",
       "      <td>0.081633</td>\n",
       "      <td>...</td>\n",
       "      <td>668650</td>\n",
       "      <td>668710</td>\n",
       "      <td>757975</td>\n",
       "      <td>829072</td>\n",
       "      <td>829081</td>\n",
       "      <td>838740</td>\n",
       "      <td>861218</td>\n",
       "      <td>874925</td>\n",
       "      <td>[887423, 887138, 887631, 885693, 885782, 88661...</td>\n",
       "      <td>[887729, 887702, 887706, 887758, 887744, 88775...</td>\n",
       "    </tr>\n",
       "    <tr>\n",
       "      <th>5003</th>\n",
       "      <td>5003</td>\n",
       "      <td>0</td>\n",
       "      <td>0.000000</td>\n",
       "      <td>0.010427</td>\n",
       "      <td>0.000039</td>\n",
       "      <td>0.003571</td>\n",
       "      <td>0.002350</td>\n",
       "      <td>0.057356</td>\n",
       "      <td>0.016420</td>\n",
       "      <td>0.551020</td>\n",
       "      <td>...</td>\n",
       "      <td>668551</td>\n",
       "      <td>668709</td>\n",
       "      <td>771564</td>\n",
       "      <td>829072</td>\n",
       "      <td>829088</td>\n",
       "      <td>840450</td>\n",
       "      <td>861199</td>\n",
       "      <td>866884</td>\n",
       "      <td>[886541, 886083, 887057, 886490, 885778, 88593...</td>\n",
       "      <td>[887705, 887762, 887689]</td>\n",
       "    </tr>\n",
       "    <tr>\n",
       "      <th>5004</th>\n",
       "      <td>5004</td>\n",
       "      <td>1</td>\n",
       "      <td>0.014706</td>\n",
       "      <td>0.004294</td>\n",
       "      <td>0.001082</td>\n",
       "      <td>0.078571</td>\n",
       "      <td>0.000000</td>\n",
       "      <td>0.000000</td>\n",
       "      <td>0.016420</td>\n",
       "      <td>0.408163</td>\n",
       "      <td>...</td>\n",
       "      <td>668551</td>\n",
       "      <td>668709</td>\n",
       "      <td>778510</td>\n",
       "      <td>829072</td>\n",
       "      <td>829081</td>\n",
       "      <td>858137</td>\n",
       "      <td>861252</td>\n",
       "      <td>861432</td>\n",
       "      <td>[886950, 887159, 885953, 887231, 886090, 88765...</td>\n",
       "      <td>[887721, 887701, 887734, 887717, 887750, 88778...</td>\n",
       "    </tr>\n",
       "  </tbody>\n",
       "</table>\n",
       "<p>5 rows × 43 columns</p>\n",
       "</div>"
      ],
      "text/plain": [
       "      Unnamed: 0  label        I1        I2        I3        I4        I5  \\\n",
       "5000        5000      0  0.000000  0.128808  0.000155  0.003571  0.002320   \n",
       "5001        5001      0  0.000000  0.000204  0.000039  0.030346  0.002878   \n",
       "5002        5002      1  0.050136  0.021468  0.002468  0.030346  0.013773   \n",
       "5003        5003      0  0.000000  0.010427  0.000039  0.003571  0.002350   \n",
       "5004        5004      1  0.014706  0.004294  0.001082  0.078571  0.000000   \n",
       "\n",
       "            I6        I7        I8  ...     C19     C20     C21     C22  \\\n",
       "5000  0.074846  0.093596  0.387755  ...  668566  668709  774120  829072   \n",
       "5001  0.002058  0.001642  0.061224  ...  668061  668708  736377  829072   \n",
       "5002  0.005658  0.029557  0.081633  ...  668650  668710  757975  829072   \n",
       "5003  0.057356  0.016420  0.551020  ...  668551  668709  771564  829072   \n",
       "5004  0.000000  0.016420  0.408163  ...  668551  668709  778510  829072   \n",
       "\n",
       "         C23     C24     C25     C26  \\\n",
       "5000  829081  847485  861252  880253   \n",
       "5001  829081  855091  861252  882266   \n",
       "5002  829081  838740  861218  874925   \n",
       "5003  829088  840450  861199  866884   \n",
       "5004  829081  858137  861252  861432   \n",
       "\n",
       "                                                    C27  \\\n",
       "5000  [886184, 886947, 886996, 885897, 885800, 88734...   \n",
       "5001  [886382, 887525, 887174, 885819, 886979, 88649...   \n",
       "5002  [887423, 887138, 887631, 885693, 885782, 88661...   \n",
       "5003  [886541, 886083, 887057, 886490, 885778, 88593...   \n",
       "5004  [886950, 887159, 885953, 887231, 886090, 88765...   \n",
       "\n",
       "                                                    C28  \n",
       "5000  [887748, 887725, 887694, 887757, 887702, 88770...  \n",
       "5001  [887729, 887745, 887750, 887701, 887785, 88769...  \n",
       "5002  [887729, 887702, 887706, 887758, 887744, 88775...  \n",
       "5003                           [887705, 887762, 887689]  \n",
       "5004  [887721, 887701, 887734, 887717, 887750, 88778...  \n",
       "\n",
       "[5 rows x 43 columns]"
      ]
     },
     "execution_count": 61,
     "metadata": {},
     "output_type": "execute_result"
    }
   ],
   "source": [
    "def normalize(df_inp,num_fields):\n",
    "    \"\"\"\n",
    "    连续特征归一化\n",
    "    \"\"\"\n",
    "    df=df_inp.copy()\n",
    "    max_records=df[num_fields].apply(np.max,axis=0)\n",
    "    min_records=df[num_fields].apply(np.min,axis=0)\n",
    "    denominator=(max_records-min_records).apply(lambda x: x if x!=0 else 1e-4) \n",
    "    for f in num_fields:\n",
    "        df[f] = df[f].apply(lambda x: np.abs(x-min_records[f])/denominator[f])\n",
    "    return df\n",
    "\n",
    "\n",
    "def fill_numeric_NA(df_inp,num_fields):\n",
    "    \"\"\"\n",
    "    连续特征的NA填充 | 暂时直接用均值填充\n",
    "    \"\"\"\n",
    "    df=df_inp.copy()\n",
    "    df_numeric_part=df[num_fields]\n",
    "    df[num_fields]=df_numeric_part.fillna(df_numeric_part.mean())\n",
    "    return df\n",
    "\n",
    "def map_cat_to_idx(chunk,cat_feat_=cat_feat,multihot_feat_=multihot_feat,cat_featureMap_=cat_featureMap,cat_featureIdx_beginAt_=cat_featureIdx_beginAt):\n",
    "    \"\"\"\n",
    "    根据featureMap来进行映射\n",
    "    效率上存在问题，1k数据&26个onehot特征&2个multihot，cat_featureMap有88w，耗时约 35s\n",
    "    \"\"\"\n",
    "    chunk_=chunk.copy()\n",
    "    for feat in cat_feat_:\n",
    "        values = cat_featureMap_[feat]\n",
    "        begin_idx = cat_featureIdx_beginAt_[feat]\n",
    "        if feat in multihot_feat_:\n",
    "            chunk_[feat]=chunk_[feat].apply(lambda x: [values.index(str(i))+begin_idx for i in x])\n",
    "        else:\n",
    "            chunk_[feat]=chunk_[feat].apply(lambda x: values.index(str(x))+begin_idx)\n",
    "    return chunk_\n",
    "\n",
    "# df=normalize(df_head10,num_feat)\n",
    "df=normalize(chunk,num_feat)\n",
    "df=fill_numeric_NA(df,num_feat)\n",
    "df=map_cat_to_idx(df)\n",
    "df_featured=df\n",
    "df_featured.head(5)"
   ]
  },
  {
   "cell_type": "markdown",
   "metadata": {},
   "source": [
    "### 持久化到本地 | 特征工程结果验证无误"
   ]
  },
  {
   "cell_type": "code",
   "execution_count": 52,
   "metadata": {
    "ExecuteTime": {
     "end_time": "2020-05-15T10:26:40.976172Z",
     "start_time": "2020-05-15T10:26:36.720510Z"
    }
   },
   "outputs": [],
   "source": [
    "#################\n",
    "# 持久化各种infos\n",
    "#################\n",
    "with open(os.path.join(base_dir,\"cat_featureMap.pkl\"),\"wb\") as fwb:\n",
    "    pickle.dump(cat_featureMap, fwb)\n",
    "    \n",
    "with open(os.path.join(base_dir,\"cat_featureIdx_beginAt.pkl\"),\"wb\") as fwb:\n",
    "    pickle.dump(cat_featureIdx_beginAt, fwb)\n"
   ]
  },
  {
   "cell_type": "code",
   "execution_count": null,
   "metadata": {
    "ExecuteTime": {
     "start_time": "2020-05-15T10:54:06.923Z"
    },
    "scrolled": true
   },
   "outputs": [
    {
     "data": {
      "application/vnd.jupyter.widget-view+json": {
       "model_id": "ac4d05f8ef154deca4e8817e45a97532",
       "version_major": 2,
       "version_minor": 0
      },
      "text/plain": [
       "HBox(children=(FloatProgress(value=0.0, max=60.0), HTML(value='')))"
      ]
     },
     "metadata": {},
     "output_type": "display_data"
    }
   ],
   "source": [
    "####################\n",
    "# 持久化特征工程后的结果\n",
    "####################\n",
    "chunksize=10000\n",
    "fn_split2list=lambda x:[i for i in x.strip(\"[]\").split(\",\") if i != \"\"]\n",
    "df_total_iter=pd.read_csv(os.path.join(base_dir,\"criteo_data_sampled_60k_add_multihot_C27C28.csv\"), chunksize=chunksize,converters={\"C27\":fn_split2list,\"C28\":fn_split2list})\n",
    "for idx,chunk in tqdm(enumerate(df_total_iter),total=60*10000/chunksize):\n",
    "    df=normalize(chunk,num_feat)\n",
    "    df=fill_numeric_NA(df,num_feat)\n",
    "    df=map_cat_to_idx(df)\n",
    "    # 处理下list型的数据 方便csv\n",
    "    df['C27']=df[\"C27\"].apply(lambda x: \"[\"+\",\".join([str(i) for i in x])+\"]\")\n",
    "    df['C28']=df[\"C28\"].apply(lambda x: \"[\"+\",\".join([str(i) for i in x])+\"]\")\n",
    "    if idx == 0 :\n",
    "        df.to_csv(os.path.join(base_dir,\"criteo_data_sampled_60k_add_multihot_C27C28_idx_processed.csv\"),header=True)\n",
    "    else:\n",
    "        df.to_csv(os.path.join(base_dir,\"criteo_data_sampled_60k_add_multihot_C27C28_idx_processed.csv\"),mode='a',header=False)\n",
    "data_fp = os.path.join(base_dir,\"criteo_data_sampled_60k_add_multihot_C27C28_idx_processed.csv\")"
   ]
  },
  {
   "cell_type": "markdown",
   "metadata": {},
   "source": [
    "### 数据输入准备\n",
    "分离label和两类特征"
   ]
  },
  {
   "cell_type": "code",
   "execution_count": 68,
   "metadata": {
    "ExecuteTime": {
     "end_time": "2020-05-18T06:49:58.156293Z",
     "start_time": "2020-05-18T06:49:56.843130Z"
    }
   },
   "outputs": [
    {
     "name": "stdout",
     "output_type": "stream",
     "text": [
      "[data_fp]: /home/zhoutong/notebook_collection/tmp/CTR/criteo_data_sampled_60k_add_multihot_C27C28_idx_processed.csv\n"
     ]
    }
   ],
   "source": [
    "##########\n",
    "# data_fp\n",
    "##########\n",
    "base_dir=\"/home/zhoutong/notebook_collection/tmp/CTR\"\n",
    "data_fp=os.path.join(base_dir,\"criteo_data_sampled_60k_add_multihot_C27C28_idx_processed.csv\")\n",
    "print(\"[data_fp]: \"+data_fp)\n",
    "\n",
    "##################\n",
    "# 3 kinds feature\n",
    "##################\n",
    "cat_feat=[\"C{}\".format(i) for i in range(1,29)]\n",
    "num_feat=[\"I{}\".format(i) for i in range(1,14)]\n",
    "onehot_feat=[\"C{}\".format(i) for i in range(1,27)]\n",
    "multihot_feat = [\"C27\",\"C28\"]\n",
    "\n",
    "##################\n",
    "# load featureMap\n",
    "##################\n",
    "with open(os.path.join(base_dir,\"cat_featureMap.pkl\"),\"rb\") as frb:\n",
    "    cat_featureMap = pickle.load(frb)\n",
    "    \n",
    "with open(os.path.join(base_dir,\"cat_featureIdx_beginAt.pkl\"),\"rb\") as frb:\n",
    "    cat_featureIdx_beginAt = pickle.load(frb)"
   ]
  },
  {
   "cell_type": "code",
   "execution_count": 74,
   "metadata": {
    "ExecuteTime": {
     "end_time": "2020-05-18T06:55:21.690037Z",
     "start_time": "2020-05-18T06:55:21.563696Z"
    },
    "scrolled": true
   },
   "outputs": [
    {
     "data": {
      "text/html": [
       "<div>\n",
       "<style scoped>\n",
       "    .dataframe tbody tr th:only-of-type {\n",
       "        vertical-align: middle;\n",
       "    }\n",
       "\n",
       "    .dataframe tbody tr th {\n",
       "        vertical-align: top;\n",
       "    }\n",
       "\n",
       "    .dataframe thead th {\n",
       "        text-align: right;\n",
       "    }\n",
       "</style>\n",
       "<table border=\"1\" class=\"dataframe\">\n",
       "  <thead>\n",
       "    <tr style=\"text-align: right;\">\n",
       "      <th></th>\n",
       "      <th>Unnamed: 0</th>\n",
       "      <th>Unnamed: 0.1</th>\n",
       "      <th>label</th>\n",
       "      <th>I1</th>\n",
       "      <th>I2</th>\n",
       "      <th>I3</th>\n",
       "      <th>I4</th>\n",
       "      <th>I5</th>\n",
       "      <th>I6</th>\n",
       "      <th>I7</th>\n",
       "      <th>...</th>\n",
       "      <th>C19</th>\n",
       "      <th>C20</th>\n",
       "      <th>C21</th>\n",
       "      <th>C22</th>\n",
       "      <th>C23</th>\n",
       "      <th>C24</th>\n",
       "      <th>C25</th>\n",
       "      <th>C26</th>\n",
       "      <th>C27</th>\n",
       "      <th>C28</th>\n",
       "    </tr>\n",
       "  </thead>\n",
       "  <tbody>\n",
       "    <tr>\n",
       "      <th>0</th>\n",
       "      <td>0</td>\n",
       "      <td>0</td>\n",
       "      <td>0</td>\n",
       "      <td>0.004673</td>\n",
       "      <td>0.000162</td>\n",
       "      <td>0.000076</td>\n",
       "      <td>0.000000</td>\n",
       "      <td>0.000854</td>\n",
       "      <td>0.000329</td>\n",
       "      <td>0.009047</td>\n",
       "      <td>...</td>\n",
       "      <td>668551</td>\n",
       "      <td>668709</td>\n",
       "      <td>769606</td>\n",
       "      <td>829072</td>\n",
       "      <td>829086</td>\n",
       "      <td>857204</td>\n",
       "      <td>861252</td>\n",
       "      <td>876597</td>\n",
       "      <td>[886987, 887506, 887434, 886882, 886184, 88666...</td>\n",
       "      <td>[887764, 887733, 887727, 887747, 887774, 88770...</td>\n",
       "    </tr>\n",
       "    <tr>\n",
       "      <th>1</th>\n",
       "      <td>1</td>\n",
       "      <td>1</td>\n",
       "      <td>0</td>\n",
       "      <td>0.009346</td>\n",
       "      <td>0.000108</td>\n",
       "      <td>0.000671</td>\n",
       "      <td>0.003571</td>\n",
       "      <td>0.000063</td>\n",
       "      <td>0.000658</td>\n",
       "      <td>0.001206</td>\n",
       "      <td>...</td>\n",
       "      <td>668551</td>\n",
       "      <td>668707</td>\n",
       "      <td>770188</td>\n",
       "      <td>829072</td>\n",
       "      <td>829086</td>\n",
       "      <td>834878</td>\n",
       "      <td>861252</td>\n",
       "      <td>869239</td>\n",
       "      <td>[887144, 886246, 885716, 885981, 886583, 88588...</td>\n",
       "      <td>[887781, 887736, 887730, 887771, 887699, 88770...</td>\n",
       "    </tr>\n",
       "  </tbody>\n",
       "</table>\n",
       "<p>2 rows × 44 columns</p>\n",
       "</div>"
      ],
      "text/plain": [
       "   Unnamed: 0  Unnamed: 0.1  label        I1        I2        I3        I4  \\\n",
       "0           0             0      0  0.004673  0.000162  0.000076  0.000000   \n",
       "1           1             1      0  0.009346  0.000108  0.000671  0.003571   \n",
       "\n",
       "         I5        I6        I7  ...     C19     C20     C21     C22     C23  \\\n",
       "0  0.000854  0.000329  0.009047  ...  668551  668709  769606  829072  829086   \n",
       "1  0.000063  0.000658  0.001206  ...  668551  668707  770188  829072  829086   \n",
       "\n",
       "      C24     C25     C26                                                C27  \\\n",
       "0  857204  861252  876597  [886987, 887506, 887434, 886882, 886184, 88666...   \n",
       "1  834878  861252  869239  [887144, 886246, 885716, 885981, 886583, 88588...   \n",
       "\n",
       "                                                 C28  \n",
       "0  [887764, 887733, 887727, 887747, 887774, 88770...  \n",
       "1  [887781, 887736, 887730, 887771, 887699, 88770...  \n",
       "\n",
       "[2 rows x 44 columns]"
      ]
     },
     "execution_count": 74,
     "metadata": {},
     "output_type": "execute_result"
    },
    {
     "data": {
      "text/plain": [
       "'352.13KB'"
      ]
     },
     "execution_count": 74,
     "metadata": {},
     "output_type": "execute_result"
    },
    {
     "data": {
      "text/plain": [
       "('label.shape', (1000,))"
      ]
     },
     "execution_count": 74,
     "metadata": {},
     "output_type": "execute_result"
    },
    {
     "data": {
      "text/plain": [
       "('num_features.shape', (1000, 13))"
      ]
     },
     "execution_count": 74,
     "metadata": {},
     "output_type": "execute_result"
    },
    {
     "data": {
      "text/plain": [
       "('onehot_features.shape', (1000, 26))"
      ]
     },
     "execution_count": 74,
     "metadata": {},
     "output_type": "execute_result"
    },
    {
     "data": {
      "text/plain": [
       "('multihot_features.shape', (1000, 2))"
      ]
     },
     "execution_count": 74,
     "metadata": {},
     "output_type": "execute_result"
    },
    {
     "data": {
      "text/plain": [
       "array([4.67289720e-03, 1.61952062e-04, 7.62951095e-05, 0.00000000e+00,\n",
       "       8.54081794e-04, 3.28758116e-04, 9.04704463e-03, 2.93255132e-03,\n",
       "       2.46762100e-02, 1.66666667e-01, 2.53164557e-02, 9.12285444e-03,\n",
       "       2.59740260e-03])"
      ]
     },
     "execution_count": 74,
     "metadata": {},
     "output_type": "execute_result"
    },
    {
     "data": {
      "text/plain": [
       "array([295108, 323633, 861252, 666517, 235361, 335457, 668551, 305911,\n",
       "       829086,    605,   1259, 876597, 513238, 663340, 499124, 524302,\n",
       "       573615, 295357, 668709, 857204,  99905, 306239, 516182, 829072,\n",
       "       769606, 301655])"
      ]
     },
     "execution_count": 74,
     "metadata": {},
     "output_type": "execute_result"
    },
    {
     "data": {
      "text/plain": [
       "array([list([886987, 887506, 887434, 886882, 886184, 886666, 887514, 886356, 885693, 887081, 886415, 887416, 887247, 886244, 886982, 885772, 887670, 887295, 887482, 887201, 886954, 887494, 886973, 887250, 887186, 887408, 887545, 886883, 886870, 887652, 887506, 886444, 885795, 885906, 887402, 886843, 886049, 886083, 886996, 886941, 885942, 886531, 886058, 886957, 885891, 885878, 887598, 886440, 886351, 887076, 886498, 886326, 886597, 886773, 886696, 886316, 886533, 887139, 886347, 885876, 887518, 886761, 886882, 885773, 887142, 886932, 886555, 887018, 887218, 886584, 887489, 886152, 887611, 887310, 886084, 886148]),\n",
       "       list([887764, 887733, 887727, 887747, 887774, 887701, 887723, 887760, 887785, 887744, 887708])],\n",
       "      dtype=object)"
      ]
     },
     "execution_count": 74,
     "metadata": {},
     "output_type": "execute_result"
    }
   ],
   "source": [
    "##########\n",
    "# 检查数据\n",
    "##########\n",
    "fn_split2list=lambda x:[int(i) for i in x.strip(\"[]\").split(\",\") if i != \"\"]\n",
    "df_idx_ = pd.read_csv(data_fp,nrows=1000,converters={\"C27\":fn_split2list,\"C28\":fn_split2list})\n",
    "df_idx_.head(2)\n",
    "\"{:.2f}KB\".format(df_idx_.memory_usage().sum()/1e3)\n",
    "label=df_idx_.pop(\"label\").values\n",
    "num_features=df_idx_[num_feat].values\n",
    "cat_features=df_idx_[cat_feat].values\n",
    "multihot_features=df_idx_[multihot_feat].values\n",
    "onehot_features = df_idx_[list(set(cat_feat) - set(multihot_feat))].values\n",
    "\n",
    "\"label.shape\",label.shape\n",
    "\"num_features.shape\",num_features.shape\n",
    "\"onehot_features.shape\",onehot_features.shape\n",
    "\"multihot_features.shape\",multihot_features.shape\n",
    "\n",
    "num_features[0]\n",
    "onehot_features[0]\n",
    "multihot_features[0]"
   ]
  },
  {
   "cell_type": "code",
   "execution_count": null,
   "metadata": {},
   "outputs": [],
   "source": []
  },
  {
   "cell_type": "markdown",
   "metadata": {
    "deletable": false,
    "editable": false,
    "run_control": {
     "frozen": true
    }
   },
   "source": [
    "### 直接来一手持久化\n",
    "\n",
    "Deprecated"
   ]
  },
  {
   "cell_type": "code",
   "execution_count": 34,
   "metadata": {
    "ExecuteTime": {
     "end_time": "2020-05-14T06:09:44.805654Z",
     "start_time": "2020-05-14T06:09:44.792182Z"
    },
    "deletable": false,
    "editable": false,
    "run_control": {
     "frozen": true
    }
   },
   "outputs": [],
   "source": [
    "import pickle\n",
    "\n",
    "with open(os.path.join(base_dir,\"num_features.pkl\"),\"wb\") as fwb:\n",
    "    pickle.dump(num_features,fwb)\n",
    "    \n",
    "with open(os.path.join(base_dir,\"onehot_features.pkl\"),\"wb\") as fwb:\n",
    "    pickle.dump(onehot_features,fwb)\n",
    "    \n",
    "with open(os.path.join(base_dir,\"multihot_features.pkl\"),\"wb\") as fwb:\n",
    "    pickle.dump(multihot_features,fwb)"
   ]
  },
  {
   "cell_type": "code",
   "execution_count": 35,
   "metadata": {
    "ExecuteTime": {
     "end_time": "2020-05-14T06:10:41.389293Z",
     "start_time": "2020-05-14T06:10:41.362009Z"
    },
    "deletable": false,
    "editable": false,
    "run_control": {
     "frozen": true
    }
   },
   "outputs": [
    {
     "data": {
      "text/plain": [
       "array([[1.53846154e-02, 0.00000000e+00, 6.38992274e-02, ...,\n",
       "        2.52100840e-02, 1.99901039e-02, 4.80324074e-02],\n",
       "       [1.84615385e-01, 1.64149705e-04, 5.43478261e-03, ...,\n",
       "        2.52100840e-02, 0.00000000e+00, 4.80324074e-02],\n",
       "       [4.91955757e-02, 0.00000000e+00, 6.38992274e-02, ...,\n",
       "        2.22610783e-02, 1.99901039e-02, 4.80324074e-02],\n",
       "       ...,\n",
       "       [0.00000000e+00, 9.84898227e-04, 5.43478261e-03, ...,\n",
       "        8.40336134e-03, 1.99901039e-02, 1.48148148e-02],\n",
       "       [4.91955757e-02, 9.84898227e-04, 3.91304348e-01, ...,\n",
       "        0.00000000e+00, 1.99901039e-02, 5.92592593e-02],\n",
       "       [0.00000000e+00, 1.64149705e-04, 2.60869565e-01, ...,\n",
       "        8.40336134e-03, 1.99901039e-02, 8.88888889e-02]])"
      ]
     },
     "execution_count": 35,
     "metadata": {},
     "output_type": "execute_result"
    },
    {
     "data": {
      "text/plain": [
       "array([[516181,    552, 353839, ..., 334459, 843101, 668078],\n",
       "       [516181,    613, 466610, ..., 332551, 842456, 668456],\n",
       "       [516184,     66, 491129, ..., 332844, 844500, 668078],\n",
       "       ...,\n",
       "       [516181,    613, 412619, ..., 335686, 843552, 668078],\n",
       "       [516181,      0, 347434, ..., 333260, 830823, 667481],\n",
       "       [516181,   1013, 453530, ..., 334983, 836088, 667710]])"
      ]
     },
     "execution_count": 35,
     "metadata": {},
     "output_type": "execute_result"
    },
    {
     "data": {
      "text/plain": [
       "array([[list([886409, 887083, 886588, 886092, 886012, 886741, 886918, 887480, 886552, 887318, 887127, 886991, 887251, 887440, 886011, 886273, 887117, 885837, 886149, 886841, 887650, 887485, 886257, 886508, 887550, 887497, 887009, 885789, 886473, 886630, 885844, 886094, 886699, 887186, 887494, 886304, 886728, 887603, 886537, 887292, 886464, 887040, 886442, 886420, 886488, 887579, 886985, 887483, 885906, 887223, 886478, 885948, 886251, 887100, 887463, 886554, 886193, 885951, 885830, 887592, 885767, 886023, 887411, 887211, 886704, 887222, 886586]),\n",
       "        list([887692, 887744, 887715, 887740, 887739, 887755, 887729, 887758, 887768, 887717, 887761, 887746])],\n",
       "       [list([886246]),\n",
       "        list([887781, 887693, 887767, 887723, 887772, 887767, 887756, 887723, 887766, 887728, 887725, 887725, 887740, 887712, 887752, 887719])],\n",
       "       [list([886628, 887644, 886896, 886784, 886425, 886441, 887358, 886355, 887393, 886790, 886251, 886701, 887294, 886426, 887569, 885749, 887231, 887348, 887477, 886728, 886236, 885721, 886492, 887250, 885893, 887399, 885742, 887176, 886258, 887531, 886202, 887391, 886348, 885999, 886195, 886975, 886484, 887546, 887403, 886730, 886481, 886056, 886057, 887488, 886581, 886674, 886420, 887682, 886620, 885961, 885761, 886649, 887072, 886244, 887655, 886415, 886695, 886287]),\n",
       "        list([887737, 887706, 887712, 887769, 887755, 887783, 887689, 887687, 887713, 887751, 887777, 887708, 887766, 887718, 887699, 887715, 887783, 887705, 887716])],\n",
       "       ...,\n",
       "       [list([887429, 887512, 887484, 885799, 887596]),\n",
       "        list([887740, 887770, 887754, 887748, 887773, 887686, 887700, 887721, 887718, 887752, 887707, 887709, 887779, 887702, 887755, 887739, 887769, 887688, 887687, 887757])],\n",
       "       [list([885708, 886560, 887188, 885920, 886646, 886888, 886460, 887005, 886743, 886227, 887206, 885740, 887005, 887381, 887164, 886873, 886083, 886195, 887199, 886483, 886078, 887354, 886010, 887575, 885824, 886803, 886924, 886006, 887469, 886227, 887369, 887190, 886317, 887048, 886508, 886703, 887384, 887299, 887575, 885918, 886777, 886013, 886452, 886867, 887100, 886255, 886340, 886551, 885980, 886430, 885916, 886578, 887116, 887681, 886393, 887590, 887567, 886264, 886450, 886449, 886615, 887381, 885960, 887657, 886123, 886080, 885906, 886365, 886010, 887234, 886479, 887050, 886115]),\n",
       "        list([887728])],\n",
       "       [list([887546, 887652, 886653, 887462, 885684, 885740, 886212, 886461, 885827, 885896, 887259]),\n",
       "        list([887760, 887693, 887766, 887777, 887714, 887722, 887742, 887721, 887746, 887708, 887688, 887698, 887785, 887748, 887782, 887696, 887772, 887685])]],\n",
       "      dtype=object)"
      ]
     },
     "execution_count": 35,
     "metadata": {},
     "output_type": "execute_result"
    }
   ],
   "source": [
    "import pickle\n",
    "with open(os.path.join(base_dir,\"num_features.pkl\"),\"rb\") as frb:\n",
    "    num_features = pickle.load(frb)\n",
    "    \n",
    "with open(os.path.join(base_dir,\"onehot_features.pkl\"),\"rb\") as frb:\n",
    "    onehot_features = pickle.load(frb)\n",
    "    \n",
    "with open(os.path.join(base_dir,\"multihot_features.pkl\"),\"rb\") as frb:\n",
    "    multihot_features = pickle.load(frb)\n",
    "num_features\n",
    "onehot_features\n",
    "multihot_features"
   ]
  },
  {
   "cell_type": "markdown",
   "metadata": {},
   "source": [
    "# Model 草稿"
   ]
  },
  {
   "cell_type": "markdown",
   "metadata": {
    "deletable": false,
    "editable": false,
    "run_control": {
     "frozen": true
    }
   },
   "source": [
    "单独说明下tf里几个乘法\n",
    "- tf.tensordot\n",
    "    - 用`axes`参数用来表示两个待计算的元素哪一维是一致的\n",
    "        - (M,N) 和 (N,P) 相乘那就是 axes=1 表示第一个元素的第1维\n",
    "        ```python\n",
    "        >>> x1=np.arange(3).reshape(1,3)\n",
    "        x1: array([[0, 1, 2]])\n",
    "        >>> x2=np.arange(9).reshape(3,3)\n",
    "        x2: array([[0, 1, 2],\n",
    "                   [3, 4, 5],\n",
    "                   [6, 7, 8]])\n",
    "        >>> dotted=tf.tensordot(x1,x2,axes=1).numpy()\n",
    "        dotted: array([[15, 18, 21]])\n",
    "        >>> x1.shape,x2.shape,dotted.shape\n",
    "        res: ((1, 3), (3, 3), (1, 3))\n",
    "        ```\n",
    "        - (B,M,N) 和 (B,N,P) 相乘那就是 axes=[[2],[1]] 表示第一个元素的第2维和第二个元素的第1维\n",
    "        ```python\n",
    "        >>> x1=np.arange(3).reshape(1,1,3)\n",
    "        x1: array([[[0, 1, 2]]])\n",
    "        >>> x2=np.arange(9).reshape(1,3,3)\n",
    "        x2: array([[[0, 1, 2],\n",
    "                    [3, 4, 5],\n",
    "                    [6, 7, 8]]])\n",
    "        >>> dotted=tf.tensordot(x1,x2,axes=[[2],[1]]).numpy()\n",
    "        dotted: array([[[[15, 18, 21]]]])\n",
    "        >>> x1.shape,x2.shape,dotted.shape\n",
    "        res: ((1, 1, 3), (1, 3, 3), (1, 1, 1, 3))\n",
    "        ```\n",
    "    - 要求相乘的元素数据类型一致\n",
    "\n",
    "- tf.keras.backend.dot\n",
    "    - 这个是做矩阵乘法的，需要满足两个输入是 MxQ QxN 的shape关系\n",
    "    - 要求相乘的元素数据类型一致\n",
    "```python\n",
    ">>> tf.keras.backend.dot(tf.constant([[1,0,0]]), tf.constant([[1],[2],[3]])).numpy()\n",
    "array([[1]], dtype=int32)\n",
    "```\n",
    "- tf.keras.layers.Dot\n",
    "    - 比较复杂，是通过初始化时的`axes`来控制计算时取哪个（或哪几个）维度去做点积——对应idx的元素乘起来最后加和\n",
    "    - 其实和`tf.tensordot`的`axes`是一样的\n",
    "    - tf官方文档的例子已经很清楚了 https://www.tensorflow.org/api_docs/python/tf/keras/layers/Dot"
   ]
  },
  {
   "cell_type": "markdown",
   "metadata": {},
   "source": [
    "单独说明一下两个方法涉及 稀疏向量和稠密向量 计算的API（实际都是矩阵相乘）\n",
    "- tf.nn.embedding_lookup_sparse\n",
    "    - 相比于`tf.nn.embedding_lookup`就是多了个`combiner`来做合并\n",
    "        - 注：`tf.nn.embedding_lookup`和`tf.gather`逻辑是一样的，实现上前者的目的是为了支持更大向量（做了partition），见[文档](https://www.tensorflow.org/api_docs/python/tf/nn/embedding_lookup)\n",
    "    - 实际是查表然后把向量用`combiner`指定的方式“加和”\n",
    "    - `sp_ids`的values指定取哪个位置的emb向量,其indices不影响结果\n",
    "    - `sp_weights` 指定该emb向量乘某个权重，一般为None，即乘1\n",
    "    - `combiner` 选择加和的方式 \"mean\" \"sqrtn\" \"sum\"\n",
    "    - 注意它的`sp_ids`参数要求是SparseTensor，而SparseTensor构造的时候实际是二维的矩阵，如下示例演示\"查前三个emb的均值\"\n",
    "    ```python\n",
    "    >>> sp_ids_a=tf.sparse.SparseTensor(indices=[[0,0],[0,1],[0,2]],values=[0,1,2],dense_shape=[1,5])\n",
    "    >>> tf.sparse.to_dense(sp_ids_a).numpy()\n",
    "    array([[0, 1, 2, 0, 0]], dtype=int32)\n",
    "    >>> sp_ids_b=tf.sparse.SparseTensor(indices=[[0,0],[0,3],[0,4]],values=[0,1,2],dense_shape=[1,5])\n",
    "    >>> tf.sparse.to_dense(sp_ids_b).numpy()\n",
    "    array([[0, 0, 0, 1, 2]], dtype=int32)\n",
    "    >>> emb=tf.Variable(name='emb',initial_value=tf.keras.initializers.GlorotUniform(seed=2020)((cat_featureSize,4)))\n",
    "    >>> emb.numpy()\n",
    "    array([[-1.0650440e-03, -1.0466943e-03, -6.1871600e-04, -1.7025521e-03],\n",
    "           [-2.6915036e-04, -7.1870629e-05,  1.8417728e-03,  2.2394117e-03],\n",
    "           [-2.0872806e-03, -3.6849058e-04,  1.8430836e-03,  1.1817920e-03],\n",
    "           ...,\n",
    "           [ 1.2313656e-03,  1.6786391e-04, -2.4000034e-03,  1.8373653e-03],\n",
    "           [ 3.2466953e-04, -1.6028697e-03,  7.8225043e-05, -1.4092607e-03],\n",
    "           [ 2.4349121e-03, -7.7580218e-04, -1.6710395e-03,  5.3080427e-04]],\n",
    "          dtype=float32)\n",
    "    >>> tf.nn.embedding_lookup_sparse(params=emb,sp_ids=sp_ids_a,sp_weights=None,combiner=\"mean\").numpy()\n",
    "    array([[-0.00114049, -0.00049569,  0.00102205,  0.00057288]],dtype=float32)\n",
    "    >>> tf.nn.embedding_lookup_sparse(params=emb,sp_ids=sp_ids_b,sp_weights=None,combiner=\"mean\").numpy()\n",
    "    array([[-0.00114049, -0.00049569,  0.00102205,  0.00057288]],dtype=float32)\n",
    "    >>> (emb[0]+emb[1]+emb[2]).numpy()/3\n",
    "    array([-0.00114049, -0.00049569,  0.00102205,  0.00057288], dtype=float32)\n",
    "    ```\n",
    "    \n",
    "- `tf.sparse.sparse_dense_matmul`\n",
    "    - 这个是完全的矩阵相乘的逻辑，要求数据类型一致，要求是 MxN NxP 的shape关系\n",
    "    - 下面这个例子，相当于拿[0.5,1,2,0]和80w个emb向量做了点积\n",
    "    ```pythonn\n",
    "    >>> sp_ids_c=tf.sparse.SparseTensor(indices=[[0,0],[0,1],[0,2]],values=[0.5,1.,2.],dense_shape=[1,4])\n",
    "    >>> tf.sparse.to_dense(sp_ids_c).numpy()\n",
    "    array([[0.5, 1. , 2. , 0. ]], dtype=float32)\n",
    "    >>> tf.sparse.sparse_dense_matmul(sp_a=sp_ids_c,b=tf.transpose(emb)).numpy()\n",
    "    array([[-0.00281665,  0.0034771 ,  0.00227404, ..., -0.00401646,\n",
    "        -0.00128408, -0.00290043]], dtype=float32)\n",
    "    >>> tf.sparse.sparse_dense_matmul(sp_a=sp_ids_c,b=tf.transpose(emb)).numpy().shape\n",
    "    (1,885684)\n",
    "    ```"
   ]
  },
  {
   "cell_type": "code",
   "execution_count": 210,
   "metadata": {
    "ExecuteTime": {
     "end_time": "2020-05-18T11:52:52.948034Z",
     "start_time": "2020-05-18T11:52:52.929880Z"
    }
   },
   "outputs": [
    {
     "data": {
      "text/plain": [
       "array([[0, 0, 0, 0, 0, 0, 0, 0, 0, 0],\n",
       "       [0, 0, 0, 1, 0, 0, 0, 0, 0, 0],\n",
       "       [0, 0, 0, 0, 2, 0, 0, 0, 0, 0],\n",
       "       [0, 0, 0, 0, 0, 0, 0, 0, 0, 0]], dtype=int32)"
      ]
     },
     "execution_count": 210,
     "metadata": {},
     "output_type": "execute_result"
    },
    {
     "data": {
      "text/plain": [
       "<tf.Tensor: shape=(3, 4), dtype=float32, numpy=\n",
       "array([[-0.00337875, -0.00332054, -0.00196282, -0.00540119],\n",
       "       [-0.00085385, -0.000228  ,  0.00584286,  0.00710433],\n",
       "       [-0.00662171, -0.001169  ,  0.00584702,  0.00374913]],\n",
       "      dtype=float32)>"
      ]
     },
     "execution_count": 210,
     "metadata": {},
     "output_type": "execute_result"
    }
   ],
   "source": [
    "sp_ids_b=tf.sparse.SparseTensor(indices=[[0,0],[1,3],[2,4]],values=[0,1,2],dense_shape=[4,10])\n",
    "tf.sparse.to_dense(sp_ids_b).numpy()\n",
    "pad_size = sp_ids_b.dense_shape[0] - 1 - tf.math.reduce_max(sp_ids_b.indices[:,0],axis=0)\n",
    "\n",
    "tf.nn.embedding_lookup_sparse(params=emb,sp_ids=sp_ids_b,sp_weights=None,combiner=\"mean\")"
   ]
  },
  {
   "cell_type": "code",
   "execution_count": null,
   "metadata": {},
   "outputs": [],
   "source": []
  },
  {
   "attachments": {
    "image.png": {
     "image/png": "[encoded data removed]"
    }
   },
   "cell_type": "markdown",
   "metadata": {},
   "source": [
    "## 几种实现方案\n",
    "- [CTR预估模型：DeepFM/Deep&Cross/xDeepFM/AutoInt代码实战与讲解](https://zhuanlan.zhihu.com/p/109933924)\n",
    "    - FM一阶特征结果1维\n",
    "    - FM二阶特征结果1维 | 交叉乘积(emb1\\*ebm2+emb2\\*emb1)的结果(一个tensor)进行了reduce_sum\n",
    "    - NN特征结果1维 | 3个Dense(256)+1个Dense(1)\n",
    "    - 三个结果求和再过sigmoid\n",
    "    \n",
    "- [[带你撸论文]之Deep FM算法代码级精讲](https://zhuanlan.zhihu.com/p/109901389)\n",
    "    - FM一阶特征结果1维\n",
    "    - FM二阶特征结果emb维 | 保留交叉乘积的那个tensor\n",
    "    - NN特征结果N维 | 最后一个FC层的大小\n",
    "    - 三个结果concat再FC+sigmoid\n",
    "    \n",
    "- 连续特征处理\n",
    "    - 可以是给field一个emb，然后用numeric的值乘这个emb\n",
    "    - 也可以不过emb，直接concat在最后一FC前面（NN里的最后一个或者拼接后的最后一个FC）\n",
    "- multi-hot特征处理\n",
    "    - 一般就是取这几个emb的均值了\n",
    "    \n",
    "论文里的图 & 原文解释\n",
    "- normal connection 是trainable的权重；\n",
    "- weight-1 connection 是权重为1的直连；\n",
    "- 中间用的activation是 relu 和 tanh\n",
    "![image.png](attachment:image.png)\n"
   ]
  },
  {
   "cell_type": "markdown",
   "metadata": {},
   "source": [
    "## FMLayer"
   ]
  },
  {
   "cell_type": "code",
   "execution_count": 18,
   "metadata": {
    "ExecuteTime": {
     "end_time": "2020-05-13T06:48:37.015028Z",
     "start_time": "2020-05-13T06:48:36.950126Z"
    },
    "code_folding": [
     39,
     46
    ]
   },
   "outputs": [],
   "source": [
    "class FMLayer(tf.keras.layers.Layer):\n",
    "    def __init__(self, feature_size, emb_size=30, **kwargs):\n",
    "        super().__init__(**kwargs)\n",
    "        self.feature_size = feature_size\n",
    "        self.emb_size = emb_size\n",
    "        self.kernel_emb = self.add_weight(name='kernel_emb', \n",
    "                                          shape=(self.feature_size, self.emb_size),\n",
    "                                          initializer='glorot_uniform',\n",
    "                                          trainable=True)\n",
    "        self.kernel_w = self.add_weight(name='kernel_w',\n",
    "                                        shape=(self.feature_size,1),\n",
    "                                        initializer='glorot_uniform',\n",
    "                                        trainable=True)\n",
    "\n",
    "    def build(self, input_shape):\n",
    "        \"\"\"\n",
    "        重写build方法，在这里glorot初始化emb表\n",
    "        改: FM的emb表和input_shape无关，还是不放在build里初始化了\n",
    "        \"\"\"\n",
    "        super().build(input_shape)  \n",
    "    \n",
    "    def call(self, x):\n",
    "        \"\"\"\n",
    "        x: 特征的索引矩阵;\n",
    "        二阶特征: 索引查到各自的emb后，计算 <v1,v2>x1x2，这里实现时是 0.5*((emb1+emb2)^2 - emb1^2 - emb2^2)=emb1*emb2 \n",
    "                 <emb1,emb2> != emb1*emb2 前者是内积得到的是标量，后者是element-wise的逐点相乘得到一个相同size的向量\n",
    "        一阶特征: 直接根据idx查到权重w后求和，就是个LR\n",
    "        \"\"\"\n",
    "        # 一阶特征\n",
    "        x_1st_order = tf.reduce_sum(tf.nn.embedding_lookup(self.kernel_w,x),axis=1)\n",
    "        # 二阶特征 | a*b+a*c+b*c\n",
    "        x_emb = tf.nn.embedding_lookup(self.kernel_emb,x)\n",
    "        x_square_of_sum = tf.square(tf.reduce_sum(x_emb,axis=1))  # (a+b+c)^2\n",
    "        x_sum_of_square = tf.reduce_sum(tf.square(x_emb),axis=1)  # a^2 + b^2 + c^2\n",
    "        x_2nd_order = 0.5*(x_square_of_sum - x_sum_of_square) # a*b+b*c+a*c\n",
    "        x_2nd_order = tf.reduce_sum(x_2nd_order,axis=1,keepdims=True)\n",
    "        fm_res = x_1st_order + x_2nd_order\n",
    "        return fm_res\n",
    "\n",
    "    def compute_output_shape(self, input_shape):\n",
    "        \"\"\"\n",
    "        如 (100,10) 100个样本每个10个category特征，找到10个emb后取均值，返货结果就是 (100,emb_size)\n",
    "        \"\"\"\n",
    "        return (input_shape[0], self.emb_size)\n",
    "    \n",
    "    @staticmethod\n",
    "    def feature_idx_to_sparse_indices(arr):\n",
    "        \"\"\"\n",
    "        把\n",
    "        [[16,99,378,899],\n",
    "         [12,89,103,500]]\n",
    "        映射成:\n",
    "        [[0,16],[0,99],[0,378],[0,899],\n",
    "         [1,12],[1,89],[1,103],[1,500]] \n",
    "        用于给tf.sparse.SparseTensor提供indices参数，获得系数矩阵\n",
    "        \"\"\"\n",
    "        return np.array([[[idx,v] for v in row] for idx,row, in enumerate(arr)]).reshape(arr.shape[0]*arr.shape[1],-1)\n",
    "\n",
    "fml = FMLayer(feature_size=cat_featureSize,emb_size=4)"
   ]
  },
  {
   "cell_type": "markdown",
   "metadata": {},
   "source": [
    "### FMLayer 计算拆解"
   ]
  },
  {
   "cell_type": "markdown",
   "metadata": {},
   "source": [
    "FMLayer的call()计算流程"
   ]
  },
  {
   "cell_type": "code",
   "execution_count": 31,
   "metadata": {
    "ExecuteTime": {
     "end_time": "2020-05-13T07:02:19.986443Z",
     "start_time": "2020-05-13T07:02:19.980578Z"
    }
   },
   "outputs": [
    {
     "data": {
      "text/plain": [
       "(1000, 26)"
      ]
     },
     "execution_count": 31,
     "metadata": {},
     "output_type": "execute_result"
    }
   ],
   "source": [
    "x.shape"
   ]
  },
  {
   "cell_type": "code",
   "execution_count": 33,
   "metadata": {
    "ExecuteTime": {
     "end_time": "2020-05-13T07:02:41.814508Z",
     "start_time": "2020-05-13T07:02:41.768097Z"
    }
   },
   "outputs": [
    {
     "data": {
      "text/plain": [
       "array([[667900, 306239,   6390,    352, 306219],\n",
       "       [667184, 306239, 127331,     35, 305797],\n",
       "       [667900, 306238, 143041,    858, 306192],\n",
       "       [667900, 306239,  81446,    515, 305797],\n",
       "       [667184, 306239, 159179,    125, 306219]])"
      ]
     },
     "execution_count": 33,
     "metadata": {},
     "output_type": "execute_result"
    },
    {
     "data": {
      "text/plain": [
       "TensorShape([1000, 1])"
      ]
     },
     "execution_count": 33,
     "metadata": {},
     "output_type": "execute_result"
    },
    {
     "data": {
      "text/plain": [
       "TensorShape([1000, 1])"
      ]
     },
     "execution_count": 33,
     "metadata": {},
     "output_type": "execute_result"
    },
    {
     "data": {
      "text/plain": [
       "array([[ 0.00087078],\n",
       "       [-0.01115316]], dtype=float32)"
      ]
     },
     "execution_count": 33,
     "metadata": {},
     "output_type": "execute_result"
    },
    {
     "data": {
      "text/plain": [
       "array([[-1.1000106e-05],\n",
       "       [ 1.4646870e-05]], dtype=float32)"
      ]
     },
     "execution_count": 33,
     "metadata": {},
     "output_type": "execute_result"
    },
    {
     "data": {
      "text/plain": [
       "array([[ 0.00085978],\n",
       "       [-0.01113851]], dtype=float32)"
      ]
     },
     "execution_count": 33,
     "metadata": {},
     "output_type": "execute_result"
    },
    {
     "name": "stdout",
     "output_type": "stream",
     "text": [
      ">>> 直接用FMLayers计算\n"
     ]
    },
    {
     "data": {
      "text/plain": [
       "array([[ 0.00085978],\n",
       "       [-0.01113851]], dtype=float32)"
      ]
     },
     "execution_count": 33,
     "metadata": {},
     "output_type": "execute_result"
    }
   ],
   "source": [
    "x=onehot_features\n",
    "x[:5,:5]\n",
    "# 一阶特征\n",
    "x_1st_order = tf.reduce_sum(tf.nn.embedding_lookup(fml.kernel_w,x),axis=1)\n",
    "# 二阶特征 | a*b+a*c+b*c\n",
    "x_emb = tf.nn.embedding_lookup(fml.kernel_emb,x)\n",
    "x_square_of_sum = tf.square(tf.reduce_sum(x_emb,axis=1))  # (a+b+c)^2\n",
    "x_sum_of_square = tf.reduce_sum(tf.square(x_emb),axis=1)  # a^2 + b^2 + c^2\n",
    "x_2nd_order = 0.5*(x_square_of_sum - x_sum_of_square) # a*b+b*c+a*c\n",
    "x_2nd_order = tf.reduce_sum(x_2nd_order,axis=1,keepdims=True)\n",
    "x_1st_order.shape\n",
    "x_2nd_order.shape\n",
    "fm_res = x_1st_order + x_2nd_order\n",
    "x_1st_order.numpy()[:2,:2]\n",
    "x_2nd_order.numpy()[:2,:2]\n",
    "fm_res.numpy()[:2,:2]\n",
    "\n",
    "print(\">>> 直接用FMLayers计算\")\n",
    "fml(x).numpy()[:2,:2]"
   ]
  },
  {
   "cell_type": "markdown",
   "metadata": {},
   "source": [
    "演示FM里二阶的计算\n",
    "- FM的理论把两个向量的内积作为权重，这两个向量就是每个cat特征的embedding\n",
    "- 这个思路来自于矩阵分解的理论，对于正定矩阵W有W=V*VT\n",
    "- 类似的也有attention里的QKV机制，认为Q、K的向量内积（点积）代表了二者的相似性\n",
    "- 更类似的还有CF里 MxN的User-Item矩阵拆分成 MxK的User矩阵 和 KxN的Item矩阵，User矩阵xItem矩阵得到User-Item预测矩阵，这里没有交互的项也得到了计算值，接下来迭代User矩阵和Item矩阵，让User-Item预测矩阵中已经有交互行为的项接近真实值；\n",
    "- FM的一阶和emb无关，就是普通的LR"
   ]
  },
  {
   "cell_type": "code",
   "execution_count": 34,
   "metadata": {
    "ExecuteTime": {
     "end_time": "2020-05-13T07:02:50.760853Z",
     "start_time": "2020-05-13T07:02:50.741627Z"
    }
   },
   "outputs": [
    {
     "data": {
      "text/plain": [
       "array([[[ 1. ,  2. ,  3. ,  4. ],\n",
       "        [ 1. ,  2. ,  3. ,  4. ],\n",
       "        [10. , 10. , 10. , 10. ]],\n",
       "\n",
       "       [[ 0.1,  0.1,  0.1,  0.1],\n",
       "        [ 0.1,  0.2,  0.3,  0.4],\n",
       "        [ 2. ,  2. ,  2. ,  2. ]]])"
      ]
     },
     "execution_count": 34,
     "metadata": {},
     "output_type": "execute_result"
    },
    {
     "data": {
      "text/plain": [
       "array([[21.  , 44.  , 69.  , 96.  ],\n",
       "       [ 0.41,  0.62,  0.83,  1.04]])"
      ]
     },
     "execution_count": 34,
     "metadata": {},
     "output_type": "execute_result"
    }
   ],
   "source": [
    "# x = cat_features\n",
    "# x = tf.nn.embedding_lookup(params=fml.kernel,ids=x)\n",
    "# 假设两个样本，各自有三个onehot特征，查出来的4维emb如下，每个样本都是[a,b,c] 且 a,b,c 均是4维emb向量\n",
    "x = np.array([[[1.0,2.0,3.0,4.0],[1.0,2.0,3.0,4.0],[10,10,10,10]],\n",
    "              [[0.1,0.1,0.1,0.1],[0.1,0.2,0.3,0.4],[2.,2.,2.,2.]]])\n",
    "x = tf.constant(x)\n",
    "# (a+b+c)^2\n",
    "x_square_of_sum = tf.square(tf.reduce_sum(x,axis=1))\n",
    "# a^2 + b^2 + c^2\n",
    "x_sum_of_square = tf.reduce_sum(tf.square(x),axis=1)\n",
    "# FM二阶特征交叉 | a*b+a*c+b*c\n",
    "x_2nd_order = (x_square_of_sum - x_sum_of_square)*0.5\n",
    "\n",
    "x.numpy()\n",
    "x_2nd_order.numpy()"
   ]
  },
  {
   "cell_type": "markdown",
   "metadata": {},
   "source": [
    "## MultiFCLayer"
   ]
  },
  {
   "cell_type": "code",
   "execution_count": 35,
   "metadata": {
    "ExecuteTime": {
     "end_time": "2020-05-13T07:02:54.702059Z",
     "start_time": "2020-05-13T07:02:54.688439Z"
    },
    "code_folding": []
   },
   "outputs": [],
   "source": [
    "class MultiFCLayers(tf.keras.layers.Layer):\n",
    "    def __init__(self,layer_units,**kwargs):\n",
    "        super().__init__(**kwargs)\n",
    "        self.layer_units = layer_units\n",
    "        for idx,unit in enumerate(layer_units):\n",
    "            if idx == 0 :\n",
    "                continue\n",
    "            self.add_weight(name=f\"layer_{idx}\",shape=(layer_units[idx-1],unit),initializer=\"glorot_uniform\",trainable=True)\n",
    "    \n",
    "    def build(self, input_shape):\n",
    "        super().build(input_shape)\n",
    "        self.layer0=self.add_weight(name=\"layer_0\",shape=(input_shape[-1],self.layer_units[0]),initializer=\"glorot_uniform\",trainable=True)\n",
    "        self.weights_dict={weight.name.split(\":\")[0]:weight for weight in self.weights}\n",
    "        \n",
    "        \n",
    "    def call(self,x):\n",
    "        for idx,_ in enumerate(self.layer_units):\n",
    "            x = tf.matmul(x,self.weights_dict[f'layer_{idx}'])\n",
    "        x = tf.nn.sigmoid(x)\n",
    "        return x\n",
    "    "
   ]
  },
  {
   "cell_type": "code",
   "execution_count": 36,
   "metadata": {
    "ExecuteTime": {
     "end_time": "2020-05-13T07:03:15.742593Z",
     "start_time": "2020-05-13T07:03:15.682510Z"
    }
   },
   "outputs": [
    {
     "data": {
      "text/plain": [
       "<tf.Tensor: shape=(1000, 10), dtype=float32, numpy=\n",
       "array([[0.35199943, 0.6199    , 0.7685603 , ..., 0.6185135 , 0.37059778,\n",
       "        0.53648514],\n",
       "       [0.4110737 , 0.6076109 , 0.6301485 , ..., 0.54391503, 0.4309518 ,\n",
       "        0.5219093 ],\n",
       "       [0.3889394 , 0.54813224, 0.74761254, ..., 0.6179316 , 0.39395842,\n",
       "        0.5265904 ],\n",
       "       ...,\n",
       "       [0.32878682, 0.6676037 , 0.7785303 , ..., 0.6162958 , 0.3564587 ,\n",
       "        0.54296577],\n",
       "       [0.41091162, 0.55226874, 0.6900889 , ..., 0.58483356, 0.41808575,\n",
       "        0.5213538 ],\n",
       "       [0.49316174, 0.45558923, 0.57138896, ..., 0.541733  , 0.4826457 ,\n",
       "        0.5011148 ]], dtype=float32)>"
      ]
     },
     "execution_count": 36,
     "metadata": {},
     "output_type": "execute_result"
    }
   ],
   "source": [
    "emb_size=8\n",
    "nn_input_shape=(1000,onehot_features.shape[1]*emb_size+num_features.shape[1])\n",
    "mfcl=MultiFCLayers([2,8,10])\n",
    "mfcl.build(input_shape=nn_input_shape)\n",
    "mfcl(np.random.random_sample(nn_input_shape).astype(np.float32))"
   ]
  },
  {
   "cell_type": "markdown",
   "metadata": {},
   "source": [
    "## DeepFM 草稿1"
   ]
  },
  {
   "cell_type": "code",
   "execution_count": 97,
   "metadata": {
    "ExecuteTime": {
     "end_time": "2020-05-13T13:41:24.468949Z",
     "start_time": "2020-05-13T13:41:24.411673Z"
    },
    "code_folding": [
     7,
     34,
     59,
     81,
     117,
     172
    ]
   },
   "outputs": [],
   "source": [
    "class DeepFM(tf.keras.Model):\n",
    "    \"\"\"\n",
    "    注: 这里想支持多个multihot特征\n",
    "    一个multihot特征如何去查embeding，其实现问题主要在于multihot特征是不定长的，ndarray是object类型不能直接转tensor的\n",
    "    每个样本的multihot都是变长的，这最适合的解法就是表示为SparseTensor然后用tf.nn.embedding_lookup_sparse了\n",
    "    多值特征从 (batch_size,1) 的object-arr变成 (batch_size,max_len) 的sparseTensor，经过lookup变成 (batch_size,emb_size)\n",
    "    \"\"\"\n",
    "    def __init__(self, layer_units, feature_size, emb_size=30,dense_size=13,onehot_size=26,multihot_size=2):\n",
    "        multihot_size=[] if multihot_size is None else multihot_size\n",
    "        assert layer_units[-1]==1,\"nn最后一层要输出1维，方便和fm的结果加和\"\n",
    "        super().__init__()\n",
    "        self.dense_size=dense_size\n",
    "        \n",
    "        self.onehot_size=onehot_size\n",
    "        self.multihot_size=multihot_size\n",
    "\n",
    "        self.feature_size = feature_size\n",
    "        self.emb_size = emb_size\n",
    "        self.layer_units = layer_units\n",
    "        \n",
    "        # FM kernels\n",
    "        self.fm_w = self.add_weight(name=\"fm_w\",shape=(self.feature_size,1),initializer=\"glorot_uniform\",trainable=True)\n",
    "        self.fm_emb = self.add_weight(name=\"fm_emb\",shape=(self.feature_size,self.emb_size),initializer=\"glorot_uniform\",trainable=True)\n",
    "        # NN kernels\n",
    "        self.nn_w_b = []\n",
    "        self.nn_input_size = emb_size*(onehot_size+multihot_size)+dense_size\n",
    "        for idx,units in enumerate(self.layer_units):\n",
    "            if idx==0:\n",
    "                w = self.add_weight(name=f\"nn_layer_{idx}_w\",shape=(self.nn_input_size,units),initializer=\"glorot_uniform\",trainable=True)                \n",
    "            else:\n",
    "                w = self.add_weight(name=f\"nn_layer_{idx}_w\",shape=(self.layer_units[idx-1],units),initializer=\"glorot_uniform\",trainable=True)                \n",
    "            b = self.add_weight(name=f\"nn_layer_{idx}_b\",shape=((1,)))\n",
    "            self.nn_w_b.append([w,b])\n",
    "      \n",
    "    def _set_inputs(self,inputs):\n",
    "        \"\"\"\n",
    "        这里不能调用 multihot_idx_to_sparse_tensor 会提示这是Eager模式的东西\n",
    "        如果给multihot_idx_to_sparse_tensor加了 @tf.function，也不行，这时候会提示这个函数的输入不支持变长list的ndarray数据\n",
    "        只能手动写了，手动写也不行，还是提示 ValueError: You should not pass an EagerTensor to `Input`. For example, instead of creating an InputLayer, you should instantiate your model and directly call it on your input.\n",
    "        \"\"\"\n",
    "        dense=tf.convert_to_tensor(inputs[0])\n",
    "        onehot=tf.convert_to_tensor(inputs[1])\n",
    "        multihot=inputs[2]\n",
    "        multihot_features_list=[multihot[:,i] for i in range(multihot.shape[1])]\n",
    "        \n",
    "        multihot_sp_list=[]\n",
    "        for multihot in multihot_features_list:\n",
    "            sp_values=[]\n",
    "            sp_indices=[]\n",
    "            max_len = 0\n",
    "            for idx,row in enumerate(multihot):\n",
    "                sp_values.extend(row)\n",
    "                sp_indices.extend([[idx,i] for i in range(len(row))])\n",
    "                max_len = max_len if len(row) <= max_len else len(row)\n",
    "            multihot_sp_list.append(tf.sparse.SparseTensor(indices=sp_indices,values=sp_values,dense_shape=[len(multihot),max_len]))\n",
    "        \n",
    "#         return dense,onehot,multihot_sp_list\n",
    "        return [tf.keras.Input(tensor=dense),tf.keras.Input(tensor=onehot)]+[tf.keras.Input(tensor=i,sparse=True) for i in multihot_sp_list]\n",
    "        \n",
    "    def calc_emb(self,inputs):\n",
    "        dense=inputs[0]\n",
    "        onehot=inputs[1]\n",
    "        multihot_sparse_list=inputs[2:2+self.multihot_size]\n",
    "        ##########\n",
    "        # emb查询\n",
    "        ##########\n",
    "        # onehot查emb | None*26*K\n",
    "        onehot_emb=tf.nn.embedding_lookup(params=self.fm_emb,ids=onehot)\n",
    "        # multihot查emb | None*2*K\n",
    "        if self.multihot_size > 0:\n",
    "            multihot_embs = []\n",
    "            for multihot_sparse in multihot_sparse_list:\n",
    "                multihot_emb = tf.nn.embedding_lookup_sparse(params=self.fm_emb,sp_ids=multihot_sparse,sp_weights=None,combiner=\"mean\")\n",
    "                multihot_embs.append(multihot_emb)\n",
    "            multihot_emb = tf.stack(multihot_embs,axis=1)\n",
    "            # cat_emb | onehot+multihot的emb | None*28*K\n",
    "            cat_emb = tf.concat([onehot_emb,multihot_emb],axis=1)\n",
    "        else:\n",
    "            cat_emb = onehot_emb\n",
    "        return onehot_emb,multihot_emb,cat_emb\n",
    "         \n",
    "    def call(self,inputs,training=False):\n",
    "        dense=inputs[0]\n",
    "        onehot=inputs[1]\n",
    "        multihot_sparse_list=inputs[2:2+self.multihot_size]\n",
    "        onehot_emb,multihot_emb,cat_emb = self.calc_emb(inputs)\n",
    "\n",
    "        ########\n",
    "        # FM计算\n",
    "        ########\n",
    "        # FM 1st order | sum(Wi*Xi) 因为Xi=1所以直接就是 sum(Wi)\n",
    "        fm_1st = tf.reduce_sum(tf.nn.embedding_lookup(params=self.fm_w,ids=onehot),axis=1) # None*1\n",
    "        # FM 2nd order | 0.5*((a+b+c)^2-a^2-b^2-c^2)\n",
    "        a = tf.square(tf.reduce_sum(cat_emb,axis=1)) \n",
    "        b = tf.reduce_sum(tf.square(cat_emb),axis=1)\n",
    "        fm_2nd = 0.5*(a-b)  # None*K\n",
    "        # 可以在这里把K维的结果加和，这样在x都是1的情况下就等价于所有两两相乘的内积加和\n",
    "        # 也可以保留K维，在后面concat到一起过全连接层\n",
    "        fm_2nd = tf.reduce_sum(fm_2nd,axis=1,keepdims=True) # None*1\n",
    "        \n",
    "        ########\n",
    "        # NN计算 \n",
    "        ########\n",
    "        nn_inp = tf.concat([tf.reshape(cat_emb,(-1,self.emb_size*(self.onehot_size+self.multihot_size))),num_features],axis=1)\n",
    "        nn_res = nn_inp\n",
    "        for w,b in self.nn_w_b:\n",
    "            nn_res=tf.nn.relu(tf.matmul(nn_res,w)+b)\n",
    "        \n",
    "        ############\n",
    "        # DeepFM计算 \n",
    "        ############\n",
    "        deepfm_res=tf.nn.sigmoid(fm_1st+fm_2nd+nn_res)\n",
    "        \n",
    "#         return fm_1st,fm_2nd,nn_res \n",
    "        return deepfm_res\n",
    "\n",
    "    @DeprecationWarning\n",
    "    def _call(self,inputs,training=False):\n",
    "        \"\"\"\n",
    "        不支持直接处理变长的list型的ndarray，也许RaggedTensor是个可能性？但是外部如何直接获得RaggedTensor？\n",
    "        \"\"\"\n",
    "        dense=inputs[0]\n",
    "        onehot=inputs[1]\n",
    "        multihot_list=inputs[2:2+self.multihot_size]\n",
    "        ##########\n",
    "        # emb查询\n",
    "        ##########\n",
    "        # onehot查emb | None*26*K\n",
    "        onehot_emb=tf.nn.embedding_lookup(params=self.fm_emb,ids=onehot)\n",
    "        # multihot查emb | None*2*K\n",
    "        if self.multihot_size > 0:\n",
    "            multihot_embs = []\n",
    "            for multihot in multihot_list:\n",
    "                multihot_sparse = self.multihot_idx_to_sparse_tensor(multihot)\n",
    "                multihot_emb = tf.nn.embedding_lookup_sparse(params=self.fm_emb,sp_ids=multihot_sparse,sp_weights=None,combiner=\"mean\")\n",
    "                multihot_embs.append(multihot_emb)\n",
    "            multihot_emb = tf.stack(multihot_embs,axis=1)\n",
    "            # cat_emb | onehot+multihot的emb | None*28*K\n",
    "            cat_emb = tf.concat([onehot_emb,multihot_emb],axis=1).shape\n",
    "        else:\n",
    "            cat_emb = onehot_emb\n",
    "\n",
    "        ########\n",
    "        # FM计算\n",
    "        ########\n",
    "        # FM 1st order | sum(Wi*Xi) 因为Xi=1所以直接就是 sum(Wi)\n",
    "        fm_1st = tf.reduce_sum(tf.nn.embedding_lookup(params=self.fm_w,ids=onehot),axis=1) # None*1\n",
    "        # FM 2nd order | 0.5*((a+b+c)^2-a^2-b^2-c^2)\n",
    "        a = tf.square(tf.reduce_sum(cat_emb,axis=1)) \n",
    "        b = tf.reduce_sum(tf.square(cat_emb),axis=1)\n",
    "        fm_2nd = 0.5*(a-b)  # None*K\n",
    "        # 可以在这里把K维的结果加和，这样在x都是1的情况下就等价于所有两两相乘的内积加和\n",
    "        # 也可以保留K维，在后面concat到一起过全连接层\n",
    "        fm_2nd = tf.reduce_sum(fm_2nd,axis=1,keepdims=True) # None*1\n",
    "        \n",
    "        ########\n",
    "        # NN计算 \n",
    "        ########\n",
    "        nn_inp = tf.concat([tf.reshape(cat_emb,(-1,self.emb_size*(self.onehot_size+self.multihot_size))),num_features],axis=1)\n",
    "        nn_res = nn_inp\n",
    "        for w,b in self.nn_w_b:\n",
    "            nn_res=tf.nn.relu(tf.matmul(nn_res,w)+b)\n",
    "        \n",
    "        ############\n",
    "        # DeepFM计算 \n",
    "        ############\n",
    "        deepfm_res=tf.nn.sigmoid(fm_1st+fm_2nd+nn_res)\n",
    "        \n",
    "#         return fm_1st,fm_2nd,nn_res \n",
    "        return deepfm_res\n",
    "    \n",
    "    @tf.function\n",
    "    def multihot_idx_to_sparse_tensor(self, multihot):\n",
    "        \"\"\"\n",
    "        multihot: 多值特征从 (batch_size,1) 的object-arr变成 (batch_size,max_len) 的sparseTensor\n",
    "        [[239,577,833,2834],\n",
    "         [231,627,913],\n",
    "         [],\n",
    "         [19,455,733,1000,1020]]\n",
    "         变成\n",
    "        indices=[[0,0],[0,1],[0,2],[0,3],\n",
    "                 [1,0],[1,1],[1,2],\n",
    "                 [3,0],[3,1],[3,2],[3,3],[3,4]]\n",
    "        values=[239,577,833,2834,231,627,913,19,455,733,1000,1020]\n",
    "         的SparseTensor\n",
    "        \n",
    "        检验:\n",
    "        idx=0\n",
    "        multihot_features_list[0].shape\n",
    "        tf.sparse.to_dense(sp).numpy().shape\n",
    "\n",
    "        len(multihot_features_list[0][idx])\n",
    "        len(tf.sparse.to_dense(sp).numpy()[idx])\n",
    "        multihot_features_list[0][idx]\n",
    "        tf.sparse.to_dense(sp).numpy()[idx]\n",
    "\n",
    "        \"\"\"\n",
    "        \n",
    "        sp_values=[]\n",
    "        sp_indices=[]\n",
    "        max_len = 0\n",
    "        for idx,row in enumerate(multihot):\n",
    "            sp_values.extend(row)\n",
    "            sp_indices.extend([[idx,i] for i in range(len(row))])\n",
    "            max_len = max_len if len(row) <= max_len else len(row)\n",
    "        return tf.sparse.SparseTensor(indices=sp_indices,values=sp_values,dense_shape=[len(multihot),max_len])\n"
   ]
  },
  {
   "cell_type": "markdown",
   "metadata": {},
   "source": [
    "num+onehot 类型"
   ]
  },
  {
   "cell_type": "code",
   "execution_count": 43,
   "metadata": {
    "ExecuteTime": {
     "end_time": "2020-05-13T12:39:02.314057Z",
     "start_time": "2020-05-13T12:39:02.269415Z"
    }
   },
   "outputs": [
    {
     "data": {
      "text/plain": [
       "TensorShape([1000, 1])"
      ]
     },
     "execution_count": 43,
     "metadata": {},
     "output_type": "execute_result"
    }
   ],
   "source": [
    "params={\n",
    "    \"layer_units\":[4,4,1],\n",
    "    \"feature_size\":cat_featureSize,\n",
    "    \"emb_size\":4,\n",
    "    \"dense_size\":13,\n",
    "    \"onehot_size\":26,a\n",
    "    \"multihot_size\":0\n",
    "}\n",
    "M=DeepFM(**params)\n",
    "res = M([num_features,onehot_features])\n",
    "res.shape"
   ]
  },
  {
   "cell_type": "markdown",
   "metadata": {},
   "source": [
    "num+onehot+multihot 类型"
   ]
  },
  {
   "cell_type": "code",
   "execution_count": 98,
   "metadata": {
    "ExecuteTime": {
     "end_time": "2020-05-13T13:41:29.182944Z",
     "start_time": "2020-05-13T13:41:29.152494Z"
    },
    "scrolled": false
   },
   "outputs": [],
   "source": [
    "params={\n",
    "    \"layer_units\":[4,4,1],\n",
    "    \"feature_size\":cat_featureSize,\n",
    "    \"emb_size\":4,\n",
    "    \"dense_size\":13,\n",
    "    \"onehot_size\":26,\n",
    "    \"multihot_size\":2\n",
    "}\n",
    "M=DeepFM(**params)\n",
    "\n",
    "# multihot_features_list=[multihot_features[:,i] for i in range(multihot_features.shape[1])]\n",
    "# sp_list=[M.multihot_idx_to_sparse_tensor(multihot) for multihot in multihot_features_list]\n",
    "\n",
    "# onehot_emb,multihot_emb,cat_emb = M.calc_emb([num_features,onehot_features]+sp_list)\n",
    "# res = M([num_features,onehot_features]+sp_list)\n",
    "# res.shape\n",
    "# res_pred = M.predict([num_features,onehot_features]+sp_list)\n",
    "# res_pred.shape"
   ]
  },
  {
   "cell_type": "markdown",
   "metadata": {},
   "source": [
    "查emb"
   ]
  },
  {
   "cell_type": "code",
   "execution_count": 227,
   "metadata": {
    "ExecuteTime": {
     "end_time": "2020-05-13T11:16:49.180562Z",
     "start_time": "2020-05-13T11:16:49.038258Z"
    },
    "code_folding": [
     0
    ]
   },
   "outputs": [
    {
     "data": {
      "text/plain": [
       "TensorShape([1000, 26, 4])"
      ]
     },
     "execution_count": 227,
     "metadata": {},
     "output_type": "execute_result"
    }
   ],
   "source": [
    "onehot_emb=tf.nn.embedding_lookup(params=M.fm_emb,ids=onehot_features)\n",
    "# multihot查emb\n",
    "multihot_list = [multihot_features[:,i] for i in range(multihot_features.shape[1])]\n",
    "multihot_embs = []\n",
    "for multihot in multihot_list:\n",
    "    multihot_sparse = multihot_idx_to_sparse_tensor(multihot)\n",
    "    multihot_emb = tf.nn.embedding_lookup_sparse(params=M.fm_emb,sp_ids=multihot_sparse,sp_weights=None,combiner=\"mean\")\n",
    "    multihot_embs.append(multihot_emb)\n",
    "multihot_emb = tf.stack(multihot_embs,axis=1)\n",
    "if M.multihot_size > 0:\n",
    "    cat_emb = tf.concat([onehot_emb,multihot_emb],axis=1)\n",
    "else:\n",
    "    cat_emb = onehot_emb\n",
    "cat_emb.shape"
   ]
  },
  {
   "cell_type": "markdown",
   "metadata": {},
   "source": [
    "算FM"
   ]
  },
  {
   "cell_type": "code",
   "execution_count": 228,
   "metadata": {
    "ExecuteTime": {
     "end_time": "2020-05-13T11:16:53.019546Z",
     "start_time": "2020-05-13T11:16:53.012195Z"
    },
    "scrolled": true
   },
   "outputs": [
    {
     "data": {
      "text/plain": [
       "TensorShape([1000, 1])"
      ]
     },
     "execution_count": 228,
     "metadata": {},
     "output_type": "execute_result"
    },
    {
     "data": {
      "text/plain": [
       "TensorShape([1000, 1])"
      ]
     },
     "execution_count": 228,
     "metadata": {},
     "output_type": "execute_result"
    }
   ],
   "source": [
    "fm_1st = tf.reduce_sum(tf.nn.embedding_lookup(params=M.fm_w,ids=onehot_features),axis=1) # None*1\n",
    "# FM 2nd order | 0.5*((a+b+c)^2-a^2-b^2-c^2)\n",
    "a = tf.square(tf.reduce_sum(cat_emb,axis=1)) \n",
    "b = tf.reduce_sum(tf.square(cat_emb),axis=1)\n",
    "fm_2nd = 0.5*(a-b)  # None*K\n",
    "# 可以在这里把K维的结果加和，这样在x都是1的情况下就等价于所有两两相乘的内积加和\n",
    "# 也可以保留K维，在后面concat到一起过全连接层\n",
    "fm_2nd = tf.reduce_sum(fm_2nd,axis=1,keepdims=True) # None*1\n",
    "\n",
    "fm_1st.shape\n",
    "fm_2nd.shape"
   ]
  },
  {
   "cell_type": "markdown",
   "metadata": {},
   "source": [
    "算NN"
   ]
  },
  {
   "cell_type": "code",
   "execution_count": 234,
   "metadata": {
    "ExecuteTime": {
     "end_time": "2020-05-13T11:18:33.755093Z",
     "start_time": "2020-05-13T11:18:33.726641Z"
    }
   },
   "outputs": [
    {
     "data": {
      "text/plain": [
       "TensorShape([1000, 117])"
      ]
     },
     "execution_count": 234,
     "metadata": {},
     "output_type": "execute_result"
    },
    {
     "data": {
      "text/plain": [
       "117"
      ]
     },
     "execution_count": 234,
     "metadata": {},
     "output_type": "execute_result"
    },
    {
     "data": {
      "text/plain": [
       "TensorShape([117, 4])"
      ]
     },
     "execution_count": 234,
     "metadata": {},
     "output_type": "execute_result"
    },
    {
     "data": {
      "text/plain": [
       "TensorShape([1000, 4])"
      ]
     },
     "execution_count": 234,
     "metadata": {},
     "output_type": "execute_result"
    },
    {
     "data": {
      "text/plain": [
       "TensorShape([4, 4])"
      ]
     },
     "execution_count": 234,
     "metadata": {},
     "output_type": "execute_result"
    },
    {
     "data": {
      "text/plain": [
       "TensorShape([1000, 4])"
      ]
     },
     "execution_count": 234,
     "metadata": {},
     "output_type": "execute_result"
    },
    {
     "data": {
      "text/plain": [
       "TensorShape([4, 1])"
      ]
     },
     "execution_count": 234,
     "metadata": {},
     "output_type": "execute_result"
    },
    {
     "data": {
      "text/plain": [
       "TensorShape([1000, 1])"
      ]
     },
     "execution_count": 234,
     "metadata": {},
     "output_type": "execute_result"
    }
   ],
   "source": [
    "nn_inp = tf.concat([tf.reshape(cat_emb,(-1,M.emb_size*(M.onehot_size+M.multihot_size))),num_features],axis=1)\n",
    "nn_inp.shape\n",
    "M.nn_input_size\n",
    "\n",
    "nn_res = nn_inp\n",
    "for l in M.nn_layers:\n",
    "    nn_res=tf.matmul(nn_res,l)"
   ]
  },
  {
   "cell_type": "markdown",
   "metadata": {},
   "source": [
    "## DeepFM 草稿2"
   ]
  },
  {
   "cell_type": "code",
   "execution_count": 636,
   "metadata": {
    "ExecuteTime": {
     "end_time": "2020-05-13T02:45:38.902468Z",
     "start_time": "2020-05-13T02:45:38.875672Z"
    },
    "code_folding": [
     0
    ],
    "deletable": false,
    "editable": false,
    "run_control": {
     "frozen": true
    }
   },
   "outputs": [],
   "source": [
    "class DeepFM(tf.keras.Model):\n",
    "    def __init__(self, layer_units, feature_size, emb_size=30,dense_size=13,onehot_size=26,multihot_size=0):\n",
    "        super().__init__()\n",
    "#         self.dense_idx=dense_size\n",
    "#         self.onehot_idx=dense_idx+onehot_size\n",
    "#         self.multihot_idx=onehot_idx+multihot_size\n",
    "        self.feature_size = feature_size\n",
    "        self.emb_size = emb_size\n",
    "        self.layer_units = layer_units\n",
    "        self.nn = MultiFCLayers(layer_units)\n",
    "        self.fm = FMLayer(feature_size,emb_size)\n",
    "        assert layer_units[-1]==1,\"nn最后一层要输出1维，方便和fm的结果加和\"\n",
    "        nn_input_shape=(None,onehot_size*self.emb_size+dense_size)\n",
    "        self.nn.build(nn_input_shape)\n",
    "\n",
    "\n",
    "    \n",
    "    def call(self,inputs,training=None):\n",
    "        \"\"\"\n",
    "        注意inputs接受的参数顺序\n",
    "        \"\"\"\n",
    "        dense=inputs[0]\n",
    "        onehot=inputs[1]\n",
    "        multihot = inputs[2]\n",
    "        onehot=tf.cast(onehot,tf.int32)\n",
    "        multihot=tf.cast(multihot,tf.int32)\n",
    "        assert dense.shape[0]==onehot.shape[0]==multihot.shape[0],\"三类特征的batchsize不一致\"\n",
    "        \n",
    "        fm_res=self.fm(onehot)\n",
    "        emb=tf.nn.embedding_lookup(self.fm.kernel_emb,onehot)\n",
    "        nn_emb_part=tf.reshape(emb,(-1,onehot.shape[-1]*self.emb_size))\n",
    "        nn_res=self.nn(tf.concat([dense,nn_emb_part],axis=1))\n",
    "        \n",
    "        return tf.nn.sigmoid(fm_res+nn_res) #fm_res,nn_res\n",
    "        \n"
   ]
  },
  {
   "cell_type": "code",
   "execution_count": 638,
   "metadata": {
    "ExecuteTime": {
     "end_time": "2020-05-13T02:45:41.988481Z",
     "start_time": "2020-05-13T02:45:41.701867Z"
    },
    "scrolled": true
   },
   "outputs": [
    {
     "data": {
      "text/plain": [
       "(1000, 26)"
      ]
     },
     "execution_count": 638,
     "metadata": {},
     "output_type": "execute_result"
    },
    {
     "data": {
      "text/plain": [
       "(1000, 13)"
      ]
     },
     "execution_count": 638,
     "metadata": {},
     "output_type": "execute_result"
    },
    {
     "data": {
      "text/plain": [
       "(1000, 39)"
      ]
     },
     "execution_count": 638,
     "metadata": {},
     "output_type": "execute_result"
    },
    {
     "name": "stdout",
     "output_type": "stream",
     "text": [
      ">>> 在Model里按索引取的dennse onehot multihot的shape依次如下:\n"
     ]
    },
    {
     "data": {
      "text/plain": [
       "(1000, 13)"
      ]
     },
     "execution_count": 638,
     "metadata": {},
     "output_type": "execute_result"
    },
    {
     "data": {
      "text/plain": [
       "(1000, 26)"
      ]
     },
     "execution_count": 638,
     "metadata": {},
     "output_type": "execute_result"
    },
    {
     "data": {
      "text/plain": [
       "((1000, 0), '注意到multihot即使是空数组，也可以有shape')"
      ]
     },
     "execution_count": 638,
     "metadata": {},
     "output_type": "execute_result"
    },
    {
     "name": "stdout",
     "output_type": "stream",
     "text": [
      ">>> Model.call\n"
     ]
    },
    {
     "data": {
      "text/plain": [
       "(1000, 1)"
      ]
     },
     "execution_count": 638,
     "metadata": {},
     "output_type": "execute_result"
    },
    {
     "data": {
      "text/plain": [
       "array([[0.6245435 ],\n",
       "       [0.60735524],\n",
       "       [0.6206708 ],\n",
       "       [0.6176917 ],\n",
       "       [0.61921376],\n",
       "       [0.6203529 ],\n",
       "       [0.623002  ],\n",
       "       [0.61810505],\n",
       "       [0.6220764 ],\n",
       "       [0.6262502 ]], dtype=float32)"
      ]
     },
     "execution_count": 638,
     "metadata": {},
     "output_type": "execute_result"
    },
    {
     "name": "stdout",
     "output_type": "stream",
     "text": [
      ">>> Model.predict\n"
     ]
    },
    {
     "data": {
      "text/plain": [
       "(1000, 1)"
      ]
     },
     "execution_count": 638,
     "metadata": {},
     "output_type": "execute_result"
    },
    {
     "data": {
      "text/plain": [
       "array([[0.6245435 ],\n",
       "       [0.60735524],\n",
       "       [0.6206708 ],\n",
       "       [0.6176917 ],\n",
       "       [0.61921376],\n",
       "       [0.6203529 ],\n",
       "       [0.623002  ],\n",
       "       [0.61810505],\n",
       "       [0.6220764 ],\n",
       "       [0.6262502 ]], dtype=float32)"
      ]
     },
     "execution_count": 638,
     "metadata": {},
     "output_type": "execute_result"
    }
   ],
   "source": [
    "cat_features.shape\n",
    "num_features.shape\n",
    "inp=np.concatenate([num_features,cat_features],axis=1).astype(np.float32)\n",
    "inp.shape\n",
    "print(\">>> 在Model里按索引取的dennse onehot multihot的shape依次如下:\")\n",
    "dense=inp[:,:M.dense_idx]\n",
    "onehot=inp[:,M.dense_idx:M.onehot_idx]\n",
    "multihot=inp[:,M.onehot_idx:M.multihot_idx]\n",
    "dense.shape\n",
    "onehot.shape\n",
    "multihot.shape,\"注意到multihot即使是空数组，也可以有shape\"\n",
    "\n",
    "call_res=M([dense,onehot,multihot]).numpy()\n",
    "print(\">>> Model.call\")\n",
    "call_res.shape\n",
    "call_res[:10]\n",
    "\n",
    "pred_res=M.predict([dense,onehot,multihot])\n",
    "print(\">>> Model.predict\")\n",
    "pred_res.shape\n",
    "pred_res[:10]\n"
   ]
  },
  {
   "cell_type": "markdown",
   "metadata": {},
   "source": [
    "# 完整pipline"
   ]
  },
  {
   "cell_type": "markdown",
   "metadata": {},
   "source": [
    "## load data"
   ]
  },
  {
   "cell_type": "markdown",
   "metadata": {},
   "source": [
    "formal"
   ]
  },
  {
   "cell_type": "code",
   "execution_count": 4,
   "metadata": {
    "ExecuteTime": {
     "end_time": "2020-05-19T12:32:51.671878Z",
     "start_time": "2020-05-19T12:32:50.346209Z"
    }
   },
   "outputs": [],
   "source": [
    "base_dir=\"/home/zhoutong/notebook_collection/tmp/CTR\"\n",
    "with open(os.path.join(base_dir,\"cat_featureMap.pkl\"),\"rb\") as frb:\n",
    "    cat_featureMap = pickle.load(frb)\n",
    "cat_feat=[\"C{}\".format(i) for i in range(1,29)]\n",
    "num_feat=[\"I{}\".format(i) for i in range(1,14)]\n",
    "onehot_feat=[\"C{}\".format(i) for i in range(1,27)]\n",
    "multihot_feat = [\"C27\",\"C28\"]"
   ]
  },
  {
   "cell_type": "markdown",
   "metadata": {},
   "source": [
    "load 1k chunk data"
   ]
  },
  {
   "cell_type": "code",
   "execution_count": 4,
   "metadata": {
    "ExecuteTime": {
     "end_time": "2020-05-18T12:51:45.136063Z",
     "start_time": "2020-05-18T12:51:43.749447Z"
    },
    "code_folding": [
     0,
     18,
     21
    ],
    "collapsed": true,
    "deletable": false,
    "editable": false,
    "run_control": {
     "frozen": true
    }
   },
   "outputs": [
    {
     "name": "stdout",
     "output_type": "stream",
     "text": [
      "[data_fp]: /home/zhoutong/notebook_collection/tmp/CTR/criteo_data_sampled_60k_add_multihot_C27C28_idx_processed.csv\n"
     ]
    },
    {
     "data": {
      "text/plain": [
       "'num_features.shape (341, 13); onehot_features.shape (341, 26); multihot_features.shape (341, 2)'"
      ]
     },
     "execution_count": 4,
     "metadata": {},
     "output_type": "execute_result"
    },
    {
     "data": {
      "text/plain": [
       "('num_features[0]',\n",
       " array([4.67289720e-03, 1.61952062e-04, 7.62951095e-05, 0.00000000e+00,\n",
       "        8.54081794e-04, 3.28758116e-04, 9.04704463e-03, 2.93255132e-03,\n",
       "        2.46762100e-02, 1.66666667e-01, 2.53164557e-02, 9.12285444e-03,\n",
       "        2.59740260e-03]))"
      ]
     },
     "execution_count": 4,
     "metadata": {},
     "output_type": "execute_result"
    },
    {
     "data": {
      "text/plain": [
       "('onehot_features[0]',\n",
       " array([861252, 305911, 306239,   1259, 668709, 829072,  99905, 524302,\n",
       "        499124, 876597, 513238, 295108, 301655, 235361, 516182, 857204,\n",
       "        295357, 829086, 335457, 668551, 663340, 323633, 573615, 769606,\n",
       "        666517,    605]))"
      ]
     },
     "execution_count": 4,
     "metadata": {},
     "output_type": "execute_result"
    },
    {
     "data": {
      "text/plain": [
       "('multihot_features[0]',\n",
       " array([list([886987, 887506, 887434, 886882, 886184, 886666, 887514, 886356, 885693, 887081, 886415, 887416, 887247, 886244, 886982, 885772, 887670, 887295, 887482, 887201, 886954, 887494, 886973, 887250, 887186, 887408, 887545, 886883, 886870, 887652, 887506, 886444, 885795, 885906, 887402, 886843, 886049, 886083, 886996, 886941, 885942, 886531, 886058, 886957, 885891, 885878, 887598, 886440, 886351, 887076, 886498, 886326, 886597, 886773, 886696, 886316, 886533, 887139, 886347, 885876, 887518, 886761, 886882, 885773, 887142, 886932, 886555, 887018, 887218, 886584, 887489, 886152, 887611, 887310, 886084, 886148]),\n",
       "        list([887764, 887733, 887727, 887747, 887774, 887701, 887723, 887760, 887785, 887744, 887708])],\n",
       "       dtype=object))"
      ]
     },
     "execution_count": 4,
     "metadata": {},
     "output_type": "execute_result"
    }
   ],
   "source": [
    "##########\n",
    "# data_fp\n",
    "##########\n",
    "base_dir=\"/home/zhoutong/notebook_collection/tmp/CTR\"\n",
    "data_fp=os.path.join(base_dir,\"criteo_data_sampled_60k_add_multihot_C27C28_idx_processed.csv\")\n",
    "print(\"[data_fp]: \"+data_fp)\n",
    "\n",
    "##################\n",
    "# 3 kinds feature\n",
    "##################\n",
    "cat_feat=[\"C{}\".format(i) for i in range(1,29)]\n",
    "num_feat=[\"I{}\".format(i) for i in range(1,14)]\n",
    "onehot_feat=[\"C{}\".format(i) for i in range(1,27)]\n",
    "multihot_feat = [\"C27\",\"C28\"]\n",
    "\n",
    "##################\n",
    "# load featureMap\n",
    "##################\n",
    "with open(os.path.join(base_dir,\"cat_featureMap.pkl\"),\"rb\") as frb:\n",
    "    cat_featureMap = pickle.load(frb)\n",
    "    \n",
    "with open(os.path.join(base_dir,\"cat_featureIdx_beginAt.pkl\"),\"rb\") as frb:\n",
    "    cat_featureIdx_beginAt = pickle.load(frb)\n",
    "    \n",
    "\n",
    "#####################################\n",
    "# load 1k data & split to 3 features\n",
    "#####################################\n",
    "fn_split2list=lambda x:[int(i) for i in x.strip(\"[]\").split(\",\") if i != \"\"]\n",
    "# 350 375\n",
    "df_idx_ = pd.read_csv(data_fp,nrows=341,converters={\"C27\":fn_split2list,\"C28\":fn_split2list})\n",
    "\n",
    "label=df_idx_.pop(\"label\").values\n",
    "num_features=df_idx_[num_feat].values\n",
    "cat_features=df_idx_[cat_feat].values\n",
    "multihot_features=df_idx_[multihot_feat].values\n",
    "onehot_features = df_idx_[list(set(cat_feat) - set(multihot_feat))].values\n",
    "\n",
    "\"num_features.shape {}; onehot_features.shape {}; multihot_features.shape {}\".format(num_features.shape,onehot_features.shape,multihot_features.shape)\n",
    "\n",
    "\n",
    "\"num_features[0]\",num_features[0]\n",
    "\"onehot_features[0]\",onehot_features[0]\n",
    "\"multihot_features[0]\",multihot_features[0]"
   ]
  },
  {
   "cell_type": "markdown",
   "metadata": {},
   "source": [
    "load pickle data"
   ]
  },
  {
   "cell_type": "code",
   "execution_count": 150,
   "metadata": {
    "ExecuteTime": {
     "end_time": "2020-05-18T08:02:17.783744Z",
     "start_time": "2020-05-18T08:02:17.756345Z"
    },
    "collapsed": true,
    "deletable": false,
    "editable": false,
    "run_control": {
     "frozen": true
    }
   },
   "outputs": [
    {
     "data": {
      "text/plain": [
       "(1000, 13)"
      ]
     },
     "execution_count": 150,
     "metadata": {},
     "output_type": "execute_result"
    },
    {
     "data": {
      "text/plain": [
       "(1000, 26)"
      ]
     },
     "execution_count": 150,
     "metadata": {},
     "output_type": "execute_result"
    },
    {
     "data": {
      "text/plain": [
       "(1000, 2)"
      ]
     },
     "execution_count": 150,
     "metadata": {},
     "output_type": "execute_result"
    }
   ],
   "source": [
    "import pickle\n",
    "with open(os.path.join(base_dir,\"num_features.pkl\"),\"rb\") as frb:\n",
    "    num_features_pkl = pickle.load(frb)\n",
    "    \n",
    "with open(os.path.join(base_dir,\"onehot_features.pkl\"),\"rb\") as frb:\n",
    "    onehot_features_pkl = pickle.load(frb)\n",
    "    \n",
    "with open(os.path.join(base_dir,\"multihot_features.pkl\"),\"rb\") as frb:\n",
    "    multihot_features_pkl = pickle.load(frb)\n",
    "num_features_pkl.shape\n",
    "onehot_features_pkl.shape\n",
    "multihot_features_pkl.shape"
   ]
  },
  {
   "cell_type": "markdown",
   "metadata": {},
   "source": [
    "## DeepFM 接受SparseTensor\n",
    "\n",
    "处理诸如 多个multihot特征的处理、一个batch里最后一个样本的multihot特征里存在空数组时的兼容 等"
   ]
  },
  {
   "cell_type": "code",
   "execution_count": 13,
   "metadata": {
    "ExecuteTime": {
     "end_time": "2020-05-19T07:47:13.740679Z",
     "start_time": "2020-05-19T07:47:13.687649Z"
    },
    "code_folding": [
     1,
     44,
     64,
     88,
     97,
     114,
     124,
     142
    ]
   },
   "outputs": [],
   "source": [
    "# 版本1: sigmoid(fm1st+fm2nd+nn)  | fm2nd是None*1的shape\n",
    "class DeepFM(tf.keras.Model):\n",
    "    \"\"\"\n",
    "    注: 这里想支持多个multihot特征\n",
    "    一个multihot特征如何去查embeding，其实现问题主要在于multihot特征是不定长的，ndarray是object类型不能直接转tensor的\n",
    "    每个样本的multihot都是变长的，这最适合的解法就是表示为SparseTensor然后用tf.nn.embedding_lookup_sparse了\n",
    "    多值特征从 (batch_size,1) 的object-arr变成 (batch_size,max_len) 的sparseTensor，经过lookup变成 (batch_size,emb_size)\n",
    "    \"\"\"\n",
    "    def __init__(self, layer_units, feature_size, emb_size=30,dense_size=13,onehot_size=26,multihot_size=2,deep_only=False):\n",
    "        multihot_size=[] if multihot_size is None else multihot_size\n",
    "        assert layer_units[-1]==1,\"nn最后一层要输出1维，方便和fm的结果加和\"\n",
    "        super().__init__()\n",
    "        \n",
    "        self.deep_only = deep_only\n",
    "        \n",
    "        self.dense_size=dense_size\n",
    "        self.onehot_size=onehot_size\n",
    "        self.multihot_size=multihot_size\n",
    "\n",
    "        self.feature_size = feature_size\n",
    "        self.emb_size = emb_size\n",
    "        self.layer_units = layer_units\n",
    "        \n",
    "        # FM kernels\n",
    "        self.fm_w = self.add_weight(name=\"fm_w\",shape=(self.feature_size,1),initializer=\"glorot_uniform\",trainable=True)\n",
    "        self.fm_emb = self.add_weight(name=\"fm_emb\",shape=(self.feature_size,self.emb_size),initializer=\"glorot_uniform\",trainable=True)\n",
    "        # NN kernels\n",
    "        self.nn_w_b = []\n",
    "        self.nn_input_size = emb_size*(onehot_size+multihot_size)+dense_size\n",
    "        for idx,units in enumerate(self.layer_units):\n",
    "            if idx==0:\n",
    "                w = self.add_weight(name=f\"nn_layer_{idx}_w\",shape=(self.nn_input_size,units),initializer=\"glorot_uniform\",trainable=True)                \n",
    "            else:\n",
    "                w = self.add_weight(name=f\"nn_layer_{idx}_w\",shape=(self.layer_units[idx-1],units),initializer=\"glorot_uniform\",trainable=True)                \n",
    "            b = self.add_weight(name=f\"nn_layer_{idx}_b\",shape=((units,)))\n",
    "            self.nn_w_b.append([w,b])\n",
    "        # Input placeholder\n",
    "        self.inp_dense = tf.keras.Input((self.dense_size),dtype=tf.float32)\n",
    "        self.inp_onehot = tf.keras.Input((self.onehot_size),dtype=tf.int32)\n",
    "        self.inp_multihot_list = [tf.keras.Input((None,), sparse=True,dtype=tf.int32) for i in range(self.multihot_size)]\n",
    "        self._set_inputs([self.inp_dense,self.inp_onehot]+self.inp_multihot_list)\n",
    "        \n",
    "    \n",
    "    @tf.function\n",
    "    def calc_multihot_emb(self,multihot_sparse_list):\n",
    "        \"\"\"\n",
    "        multihot_sparse_list: \n",
    "        batch_size 自行计算一下，用来针对性地用tf.pad处理了一个batch里最后一个样本的N个multihot；\n",
    "        最后一个样本的多个multihot特征如果有某个为空时，恰巧又是最后一个样本，由于embedding_lookup_sparse的特性，indices写到[339,x]它返回的结果就只有339行，和外面的340的batch_size对不上了\n",
    "        又或者multihot中有的有值有的没值，那直接在 tf.satck 时就报错了\n",
    "        shape示例: multihot_emb_.shape=(multihot_sparse.indices最大的行号,K) 需要pad成 multihot_emb_.shape=(batch_size,K)\n",
    "        \"\"\"\n",
    "        multihot_embs = []\n",
    "        for multihot_sparse in multihot_sparse_list:\n",
    "            multihot_sparse = tf.cast(multihot_sparse,tf.int32)\n",
    "            multihot_emb_ = tf.nn.embedding_lookup_sparse(params=self.fm_emb,sp_ids=multihot_sparse,sp_weights=None,combiner=\"mean\")\n",
    "            # 注意这里拿multihot_emb_的shape时必须用 tf.shape 不能用 multihot_emb_.shape 因为在predict中这里动态的，相当于拿placeholder的shape一样\n",
    "            pad_size = multihot_sparse.dense_shape[0]-tf.cast(tf.shape(multihot_emb_)[0],tf.int64)\n",
    "            multihot_emb_ = tf.pad(multihot_emb_,paddings=[[0,pad_size],[0,0]])\n",
    "            multihot_embs.append(multihot_emb_)\n",
    "        multihot_emb = tf.stack(multihot_embs,axis=1)\n",
    "        return multihot_emb\n",
    "        \n",
    "    @tf.function\n",
    "    def calc_emb(self,inputs):\n",
    "        \"\"\"\n",
    "        主要进行emb的查询操作\n",
    "        inputs拆解成dense、onehot、multihot_sparse_list三项，其中multihot_sparse_list是一个list包含的SparseTensor\n",
    "        这里主要逻辑是onehot直接查映射表，multihot需要用到embedding_lookup_sparse，用这个api主因是multihot的特征是变长的ragged-list，必须用sparseTensor才能输入，所以只能用embedding_lookup_sparse，不过这个api还顺带提供了combiner功能\n",
    "        todo: 后面可以改进一下，支持attention的加和——取SparseTensor的values，然后做embedding_lookup，结果保留下来在外面做attention的加和\n",
    "        \"\"\"\n",
    "        dense=inputs[0]\n",
    "        onehot=inputs[1]\n",
    "        multihot_sparse_list=inputs[2:2+self.multihot_size]\n",
    "        # onehot查emb | None*26*K\n",
    "        onehot_emb=tf.nn.embedding_lookup(params=self.fm_emb,ids=onehot)\n",
    "        # multihot查emb | None*2*K\n",
    "        if self.multihot_size > 0:\n",
    "            multihot_emb = self.calc_multihot_emb(multihot_sparse_list)\n",
    "            # cat_emb | onehot+multihot的emb | None*28*K\n",
    "            cat_emb = tf.concat([onehot_emb,multihot_emb],axis=1)\n",
    "        else:\n",
    "            cat_emb = onehot_emb\n",
    "            multihot_emb = None\n",
    "        \n",
    "        return cat_emb\n",
    "\n",
    "    @tf.function\n",
    "    def calc_fm_1st(self,onehot):\n",
    "        \"\"\"\n",
    "        FM 1st order | sum(Wi*Xi) 因为Xi=1所以直接就是 sum(Wi)\n",
    "        [return shape] None*1\n",
    "        \"\"\"\n",
    "        fm_1st = tf.reduce_sum(tf.nn.embedding_lookup(params=self.fm_w,ids=onehot),axis=1) # None*1\n",
    "        return fm_1st\n",
    "    \n",
    "    @tf.function\n",
    "    def calc_fm_2nd(self,cat_emb,keep_k_dims=False):\n",
    "        \"\"\"\n",
    "        FM 2nd order | 0.5*((a+b+c)^2-a^2-b^2-c^2)\n",
    "        [return shape] None*K or None*1. controlled by \"keep_k_dims\"\n",
    "        \"\"\"\n",
    "        a = tf.square(tf.reduce_sum(cat_emb,axis=1)) \n",
    "        b = tf.reduce_sum(tf.square(cat_emb),axis=1)\n",
    "        if keep_k_dims:\n",
    "            # 可以保留K维，在后面concat到一起过全连接层\n",
    "            fm_2nd = 0.5*(a-b)  # None*K\n",
    "        else:\n",
    "            # 也可以在这里把K维的结果加和，这样在x都是1的情况下就等价于所有两两相乘的内积加和\n",
    "            fm_2nd = 0.5*(a-b)  # None*K\n",
    "            fm_2nd = tf.reduce_sum(fm_2nd,axis=1,keepdims=True) # None*1\n",
    "        return fm_2nd\n",
    "    \n",
    "    @tf.function\n",
    "    def calc_nn(self,dense,cat_emb):\n",
    "        \"\"\"\n",
    "        查到的所有cat_emb直接拼接到一起,再和dense特征拼到一起，然后过FC\n",
    "        \"\"\"\n",
    "        nn_inp = tf.concat([tf.reshape(cat_emb,(-1,self.emb_size*(self.onehot_size+self.multihot_size))),dense],axis=1)\n",
    "        nn_res = nn_inp\n",
    "        for w,b in self.nn_w_b:\n",
    "            nn_res=tf.nn.relu(tf.matmul(nn_res,w)+b)\n",
    "        return nn_res    \n",
    "        \n",
    "    def call(self,inputs,training=False):\n",
    "        dense=tf.convert_to_tensor(inputs[0])\n",
    "        onehot=tf.convert_to_tensor(inputs[1])\n",
    "        multihot_sparse_list=inputs[2:2+self.multihot_size]\n",
    "        cat_emb = self.calc_emb(inputs)\n",
    "        #onehot_emb,multihot_emb = cat_emb[:,0:self.onehot_size],cat_emb[:,self.onehot_size:self.multihot_size]\n",
    "\n",
    "        fm_1st = self.calc_fm_1st(onehot) # None*1\n",
    "        fm_2nd = self.calc_fm_2nd(cat_emb) # None*1 or None*K (K这个估计要重写一个类)\n",
    "        nn_res = self.calc_nn(dense,cat_emb) # None*1\n",
    "        \n",
    "        if self.deep_only:\n",
    "            deepfm_res = tf.nn.sigmoid(nn_res)\n",
    "        else:\n",
    "            deepfm_res=tf.nn.sigmoid(fm_1st+fm_2nd+nn_res)\n",
    "        return deepfm_res\n",
    "\n",
    "    @staticmethod\n",
    "    def multihot_ragged_idx_to_sparse_tensor(multihot):\n",
    "        \"\"\"\n",
    "        multihot: 多值特征从 (batch_size,1) 的object-arr变成 (batch_size,max_len) 的sparseTensor\n",
    "        [[239,577,833,2834],\n",
    "         [231,627,913],\n",
    "         [],\n",
    "         [19,455,733,1000,1020]]\n",
    "         变成\n",
    "        indices=[[0,0],[0,1],[0,2],[0,3],\n",
    "                 [1,0],[1,1],[1,2],\n",
    "                 [3,0],[3,1],[3,2],[3,3],[3,4]]\n",
    "        values=[239,577,833,2834,231,627,913,19,455,733,1000,1020]\n",
    "         的SparseTensor\n",
    "        \n",
    "        检验:\n",
    "        idx=0\n",
    "        multihot_features_list[0].shape\n",
    "        tf.sparse.to_dense(sp).numpy().shape\n",
    "\n",
    "        len(multihot_features_list[0][idx])\n",
    "        len(tf.sparse.to_dense(sp).numpy()[idx])\n",
    "        multihot_features_list[0][idx]\n",
    "        tf.sparse.to_dense(sp).numpy()[idx]\n",
    "\n",
    "        \"\"\"\n",
    "        \n",
    "        sp_values=[]\n",
    "        sp_indices=[]\n",
    "        max_len = 0\n",
    "        for idx,row in enumerate(multihot):\n",
    "            sp_values.extend(row)\n",
    "            sp_indices.extend([[idx,i] for i in range(len(row))])\n",
    "            max_len = max_len if len(row) <= max_len else len(row)\n",
    "#         dense_shape=[len(multihot),max_len]\n",
    "#         return sp_indices,sp_values,dense_shape\n",
    "        return tf.sparse.SparseTensor(indices=sp_indices,values=sp_values,dense_shape=[len(multihot),max_len])"
   ]
  },
  {
   "cell_type": "code",
   "execution_count": 5,
   "metadata": {
    "ExecuteTime": {
     "end_time": "2020-05-19T12:32:56.046420Z",
     "start_time": "2020-05-19T12:32:55.989910Z"
    },
    "code_folding": [
     47,
     67,
     91,
     100,
     117,
     146
    ]
   },
   "outputs": [],
   "source": [
    "# 版本2: FC(concat([fm1st,fm2nd,nn]))  | fm2nd是None*K的shape\n",
    "class DeepFM(tf.keras.Model):\n",
    "    \"\"\"\n",
    "    注: 这里想支持多个multihot特征\n",
    "    一个multihot特征如何去查embeding，其实现问题主要在于multihot特征是不定长的，ndarray是object类型不能直接转tensor的\n",
    "    每个样本的multihot都是变长的，这最适合的解法就是表示为SparseTensor然后用tf.nn.embedding_lookup_sparse了\n",
    "    多值特征从 (batch_size,1) 的object-arr变成 (batch_size,max_len) 的sparseTensor，经过lookup变成 (batch_size,emb_size)\n",
    "    \"\"\"\n",
    "    def __init__(self, layer_units, feature_size, emb_size=30,dense_size=13,onehot_size=26,multihot_size=2,deep_only=False):\n",
    "        multihot_size=[] if multihot_size is None else multihot_size\n",
    "        super().__init__()\n",
    "        \n",
    "        self.deep_only = deep_only\n",
    "        \n",
    "        self.dense_size=dense_size\n",
    "        self.onehot_size=onehot_size\n",
    "        self.multihot_size=multihot_size\n",
    "\n",
    "        self.feature_size = feature_size\n",
    "        self.emb_size = emb_size\n",
    "        self.layer_units = layer_units\n",
    "        \n",
    "        # FM kernels\n",
    "        self.fm_w = self.add_weight(name=\"fm_w\",shape=(self.feature_size,1),initializer=\"glorot_uniform\",trainable=True)\n",
    "        self.fm_emb = self.add_weight(name=\"fm_emb\",shape=(self.feature_size,self.emb_size),initializer=\"glorot_uniform\",trainable=True)\n",
    "        # NN kernels\n",
    "        self.nn_w_b = []\n",
    "        self.nn_input_size = emb_size*(onehot_size+multihot_size)+dense_size\n",
    "        for idx,units in enumerate(self.layer_units):\n",
    "            if idx==0:\n",
    "                w = self.add_weight(name=f\"nn_layer_{idx}_w\",shape=(self.nn_input_size,units),initializer=\"glorot_uniform\",trainable=True)                \n",
    "            else:\n",
    "                w = self.add_weight(name=f\"nn_layer_{idx}_w\",shape=(self.layer_units[idx-1],units),initializer=\"glorot_uniform\",trainable=True)                \n",
    "            b = self.add_weight(name=f\"nn_layer_{idx}_b\",shape=((units,)))\n",
    "            self.nn_w_b.append([w,b])\n",
    "        # Concat kernels | fm1st,fm2nd,nn\n",
    "        self.concat_input_size = 1+emb_size+self.layer_units[-1]\n",
    "        self.concat_w = self.add_weight(name=f\"concat_layer_w\",shape=(self.concat_input_size,1),initializer=\"glorot_uniform\",trainable=True)                \n",
    "        self.concat_b = self.add_weight(name=f\"concat_layer_b\",shape=((1,)))\n",
    "        # Input placeholder\n",
    "        self.inp_dense = tf.keras.Input((self.dense_size),dtype=tf.float32)\n",
    "        self.inp_onehot = tf.keras.Input((self.onehot_size),dtype=tf.int32)\n",
    "        self.inp_multihot_list = [tf.keras.Input((None,), sparse=True,dtype=tf.int32) for i in range(self.multihot_size)]\n",
    "        self._set_inputs([self.inp_dense,self.inp_onehot]+self.inp_multihot_list)\n",
    "        \n",
    "    \n",
    "    @tf.function\n",
    "    def calc_multihot_emb(self,multihot_sparse_list):\n",
    "        \"\"\"\n",
    "        multihot_sparse_list: \n",
    "        batch_size 自行计算一下，用来针对性地用tf.pad处理了一个batch里最后一个样本的N个multihot；\n",
    "        最后一个样本的多个multihot特征如果有某个为空时，恰巧又是最后一个样本，由于embedding_lookup_sparse的特性，indices写到[339,x]它返回的结果就只有339行，和外面的340的batch_size对不上了\n",
    "        又或者multihot中有的有值有的没值，那直接在 tf.satck 时就报错了\n",
    "        shape示例: multihot_emb_.shape=(multihot_sparse.indices最大的行号,K) 需要pad成 multihot_emb_.shape=(batch_size,K)\n",
    "        \"\"\"\n",
    "        multihot_embs = []\n",
    "        for multihot_sparse in multihot_sparse_list:\n",
    "            multihot_sparse = tf.cast(multihot_sparse,tf.int32)\n",
    "            multihot_emb_ = tf.nn.embedding_lookup_sparse(params=self.fm_emb,sp_ids=multihot_sparse,sp_weights=None,combiner=\"mean\")\n",
    "            # 注意这里拿multihot_emb_的shape时必须用 tf.shape 不能用 multihot_emb_.shape 因为在predict中这里动态的，相当于拿placeholder的shape一样\n",
    "            pad_size = multihot_sparse.dense_shape[0]-tf.cast(tf.shape(multihot_emb_)[0],tf.int64)\n",
    "            multihot_emb_ = tf.pad(multihot_emb_,paddings=[[0,pad_size],[0,0]])\n",
    "            multihot_embs.append(multihot_emb_)\n",
    "        multihot_emb = tf.stack(multihot_embs,axis=1)\n",
    "        return multihot_emb\n",
    "        \n",
    "    @tf.function\n",
    "    def calc_emb(self,inputs):\n",
    "        \"\"\"\n",
    "        主要进行emb的查询操作\n",
    "        inputs拆解成dense、onehot、multihot_sparse_list三项，其中multihot_sparse_list是一个list包含的SparseTensor\n",
    "        这里主要逻辑是onehot直接查映射表，multihot需要用到embedding_lookup_sparse，用这个api主因是multihot的特征是变长的ragged-list，必须用sparseTensor才能输入，所以只能用embedding_lookup_sparse，不过这个api还顺带提供了combiner功能\n",
    "        todo: 后面可以改进一下，支持attention的加和——取SparseTensor的values，然后做embedding_lookup，结果保留下来在外面做attention的加和\n",
    "        \"\"\"\n",
    "        dense=inputs[0]\n",
    "        onehot=inputs[1]\n",
    "        multihot_sparse_list=inputs[2:2+self.multihot_size]\n",
    "        # onehot查emb | None*26*K\n",
    "        onehot_emb=tf.nn.embedding_lookup(params=self.fm_emb,ids=onehot)\n",
    "        # multihot查emb | None*2*K\n",
    "        if self.multihot_size > 0:\n",
    "            multihot_emb = self.calc_multihot_emb(multihot_sparse_list)\n",
    "            # cat_emb | onehot+multihot的emb | None*28*K\n",
    "            cat_emb = tf.concat([onehot_emb,multihot_emb],axis=1)\n",
    "        else:\n",
    "            cat_emb = onehot_emb\n",
    "            multihot_emb = None\n",
    "        \n",
    "        return cat_emb\n",
    "\n",
    "    @tf.function\n",
    "    def calc_fm_1st(self,onehot):\n",
    "        \"\"\"\n",
    "        FM 1st order | sum(Wi*Xi) 因为Xi=1所以直接就是 sum(Wi)\n",
    "        [return shape] None*1\n",
    "        \"\"\"\n",
    "        fm_1st = tf.reduce_sum(tf.nn.embedding_lookup(params=self.fm_w,ids=onehot),axis=1) # None*1\n",
    "        return fm_1st\n",
    "    \n",
    "    @tf.function\n",
    "    def calc_fm_2nd(self,cat_emb,keep_k_dims=False):\n",
    "        \"\"\"\n",
    "        FM 2nd order | 0.5*((a+b+c)^2-a^2-b^2-c^2)\n",
    "        [return shape] None*K or None*1. controlled by \"keep_k_dims\"\n",
    "        \"\"\"\n",
    "        a = tf.square(tf.reduce_sum(cat_emb,axis=1)) \n",
    "        b = tf.reduce_sum(tf.square(cat_emb),axis=1)\n",
    "        if keep_k_dims:\n",
    "            # 可以保留K维，在后面concat到一起过全连接层\n",
    "            fm_2nd = 0.5*(a-b)  # None*K\n",
    "        else:\n",
    "            # 也可以在这里把K维的结果加和，这样在x都是1的情况下就等价于所有两两相乘的内积加和\n",
    "            fm_2nd = 0.5*(a-b)  # None*K\n",
    "            fm_2nd = tf.reduce_sum(fm_2nd,axis=1,keepdims=True) # None*1\n",
    "        return fm_2nd\n",
    "    \n",
    "    @tf.function\n",
    "    def calc_nn(self,dense,cat_emb):\n",
    "        \"\"\"\n",
    "        查到的所有cat_emb直接拼接到一起,再和dense特征拼到一起，然后过FC\n",
    "        \"\"\"\n",
    "        nn_inp = tf.concat([tf.reshape(cat_emb,(-1,self.emb_size*(self.onehot_size+self.multihot_size))),dense],axis=1)\n",
    "        nn_res = nn_inp\n",
    "        for w,b in self.nn_w_b:\n",
    "            nn_res=tf.nn.relu(tf.matmul(nn_res,w)+b)\n",
    "        return nn_res    \n",
    "        \n",
    "    def call(self,inputs,training=False):\n",
    "        dense=tf.convert_to_tensor(inputs[0])\n",
    "        onehot=tf.convert_to_tensor(inputs[1])\n",
    "        multihot_sparse_list=inputs[2:2+self.multihot_size]\n",
    "        cat_emb = self.calc_emb(inputs)\n",
    "        #onehot_emb,multihot_emb = cat_emb[:,0:self.onehot_size],cat_emb[:,self.onehot_size:self.multihot_size]\n",
    "\n",
    "        fm_1st = self.calc_fm_1st(onehot) # None*1\n",
    "        fm_2nd = self.calc_fm_2nd(cat_emb,keep_k_dims=True) # None*K \n",
    "        nn_res = self.calc_nn(dense,cat_emb) # None*1\n",
    "        \n",
    "        if self.deep_only:\n",
    "            deepfm_res = tf.nn.sigmoid(nn_res)\n",
    "        else:\n",
    "            concat_inp = tf.concat([fm_1st,fm_2nd,nn_res],axis=1)\n",
    "            deepfm_res = tf.nn.sigmoid(tf.matmul(concat_inp,self.concat_w)+self.concat_b)\n",
    "        return deepfm_res\n",
    "\n",
    "    @staticmethod\n",
    "    def multihot_ragged_idx_to_sparse_tensor(multihot):\n",
    "        \"\"\"\n",
    "        multihot: 多值特征从 (batch_size,1) 的object-arr变成 (batch_size,max_len) 的sparseTensor\n",
    "        [[239,577,833,2834],\n",
    "         [231,627,913],\n",
    "         [],\n",
    "         [19,455,733,1000,1020]]\n",
    "         变成\n",
    "        indices=[[0,0],[0,1],[0,2],[0,3],\n",
    "                 [1,0],[1,1],[1,2],\n",
    "                 [3,0],[3,1],[3,2],[3,3],[3,4]]\n",
    "        values=[239,577,833,2834,231,627,913,19,455,733,1000,1020]\n",
    "         的SparseTensor\n",
    "        \n",
    "        检验:\n",
    "        idx=0\n",
    "        multihot_features_list[0].shape\n",
    "        tf.sparse.to_dense(sp).numpy().shape\n",
    "\n",
    "        len(multihot_features_list[0][idx])\n",
    "        len(tf.sparse.to_dense(sp).numpy()[idx])\n",
    "        multihot_features_list[0][idx]\n",
    "        tf.sparse.to_dense(sp).numpy()[idx]\n",
    "\n",
    "        \"\"\"\n",
    "        \n",
    "        sp_values=[]\n",
    "        sp_indices=[]\n",
    "        max_len = 0\n",
    "        for idx,row in enumerate(multihot):\n",
    "            sp_values.extend(row)\n",
    "            sp_indices.extend([[idx,i] for i in range(len(row))])\n",
    "            max_len = max_len if len(row) <= max_len else len(row)\n",
    "#         dense_shape=[len(multihot),max_len]\n",
    "#         return sp_indices,sp_values,dense_shape\n",
    "        return tf.sparse.SparseTensor(indices=sp_indices,values=sp_values,dense_shape=[len(multihot),max_len])"
   ]
  },
  {
   "cell_type": "markdown",
   "metadata": {},
   "source": [
    "init M"
   ]
  },
  {
   "cell_type": "code",
   "execution_count": 6,
   "metadata": {
    "ExecuteTime": {
     "end_time": "2020-05-19T12:32:59.544636Z",
     "start_time": "2020-05-19T12:32:58.634365Z"
    },
    "scrolled": false
   },
   "outputs": [
    {
     "data": {
      "text/plain": [
       "[]"
      ]
     },
     "execution_count": 6,
     "metadata": {},
     "output_type": "execute_result"
    },
    {
     "data": {
      "text/plain": [
       "[('nn_layer_0_w:0', TensorShape([125, 64])),\n",
       " ('nn_layer_0_b:0', TensorShape([64])),\n",
       " ('nn_layer_1_w:0', TensorShape([64, 12])),\n",
       " ('nn_layer_1_b:0', TensorShape([12])),\n",
       " ('fm_w:0', TensorShape([887786, 1])),\n",
       " ('fm_emb:0', TensorShape([887786, 4])),\n",
       " ('concat_layer_w:0', TensorShape([17, 1])),\n",
       " ('concat_layer_b:0', TensorShape([1]))]"
      ]
     },
     "execution_count": 6,
     "metadata": {},
     "output_type": "execute_result"
    }
   ],
   "source": [
    "params={\n",
    "    \"layer_units\":[64,12],\n",
    "    \"feature_size\":sum([len(v) for k,v in cat_featureMap.items()]),\n",
    "    \"emb_size\":4,\n",
    "    \"dense_size\":13,\n",
    "    \"onehot_size\":26,\n",
    "    \"multihot_size\":2,\n",
    "    \"deep_only\":False\n",
    "}\n",
    "M=DeepFM(**params)\n",
    "M.layers\n",
    "[(w.name,w.shape) for w in M.weights]"
   ]
  },
  {
   "cell_type": "markdown",
   "metadata": {},
   "source": [
    "### Run Test"
   ]
  },
  {
   "cell_type": "markdown",
   "metadata": {},
   "source": [
    "call&predict on test"
   ]
  },
  {
   "cell_type": "code",
   "execution_count": 25,
   "metadata": {
    "ExecuteTime": {
     "end_time": "2020-05-19T11:58:17.243145Z",
     "start_time": "2020-05-19T11:58:16.832177Z"
    },
    "collapsed": true,
    "deletable": false,
    "editable": false,
    "run_control": {
     "frozen": true
    }
   },
   "outputs": [
    {
     "data": {
      "text/plain": [
       "(1000, 13)"
      ]
     },
     "execution_count": 25,
     "metadata": {},
     "output_type": "execute_result"
    },
    {
     "data": {
      "text/plain": [
       "(1000, 26)"
      ]
     },
     "execution_count": 25,
     "metadata": {},
     "output_type": "execute_result"
    },
    {
     "data": {
      "text/plain": [
       "(1000, 2)"
      ]
     },
     "execution_count": 25,
     "metadata": {},
     "output_type": "execute_result"
    },
    {
     "name": "stdout",
     "output_type": "stream",
     "text": [
      "WARNING:tensorflow:Layer deep_fm_4 is casting an input tensor from dtype float64 to the layer's dtype of float32, which is new behavior in TensorFlow 2.  The layer has dtype float32 because it's dtype defaults to floatx.\n",
      "\n",
      "If you intended to run this layer in float32, you can safely ignore this warning. If in doubt, this warning is likely only an issue if you are porting a TensorFlow 1.X model to TensorFlow 2.\n",
      "\n",
      "To change all layers to have dtype float64 by default, call `tf.keras.backend.set_floatx('float64')`. To change just this layer, pass dtype='float64' to the layer constructor. If you are the author of this layer, you can disable autocasting by passing autocast=False to the base Layer constructor.\n",
      "\n"
     ]
    },
    {
     "data": {
      "text/plain": [
       "'>>> call res: [shape] (1000, 1)'"
      ]
     },
     "execution_count": 25,
     "metadata": {},
     "output_type": "execute_result"
    },
    {
     "data": {
      "text/plain": [
       "array([[0.34394413],\n",
       "       [0.34973675],\n",
       "       [0.35537377],\n",
       "       [0.3526287 ],\n",
       "       [0.3550778 ],\n",
       "       [0.34533054],\n",
       "       [0.34573203],\n",
       "       [0.35090762],\n",
       "       [0.3448569 ],\n",
       "       [0.33761913]], dtype=float32)"
      ]
     },
     "execution_count": 25,
     "metadata": {},
     "output_type": "execute_result"
    },
    {
     "name": "stdout",
     "output_type": "stream",
     "text": [
      "1000/1000 [==============================] - 0s 138us/sample\n"
     ]
    },
    {
     "data": {
      "text/plain": [
       "'>>> pred res: [shape] (1000, 1)'"
      ]
     },
     "execution_count": 25,
     "metadata": {},
     "output_type": "execute_result"
    },
    {
     "data": {
      "text/plain": [
       "array([[0.34394413],\n",
       "       [0.34973675],\n",
       "       [0.35537377],\n",
       "       [0.3526287 ],\n",
       "       [0.3550778 ],\n",
       "       [0.34533054],\n",
       "       [0.34573203],\n",
       "       [0.35090762],\n",
       "       [0.3448569 ],\n",
       "       [0.33761913]], dtype=float32)"
      ]
     },
     "execution_count": 25,
     "metadata": {},
     "output_type": "execute_result"
    }
   ],
   "source": [
    "import pickle\n",
    "with open(os.path.join(base_dir,\"num_features.pkl\"),\"rb\") as frb:\n",
    "    num_features = pickle.load(frb)\n",
    "    \n",
    "with open(os.path.join(base_dir,\"onehot_features.pkl\"),\"rb\") as frb:\n",
    "    onehot_features = pickle.load(frb)\n",
    "    \n",
    "with open(os.path.join(base_dir,\"multihot_features.pkl\"),\"rb\") as frb:\n",
    "    multihot_features = pickle.load(frb)\n",
    "num_features.shape\n",
    "onehot_features.shape\n",
    "multihot_features.shape\n",
    "\n",
    "multihot_features_list=[multihot_features[:,i] for i in range(multihot_features.shape[1])]\n",
    "sp_tensor_list=[M.multihot_ragged_idx_to_sparse_tensor(multihot_ragged) for multihot_ragged in multihot_features_list]\n",
    "merged_inp = [num_features,onehot_features]+sp_tensor_list\n",
    "\n",
    "res_call = M(merged_inp).numpy()\n",
    "\">>> call res: [shape] {}\".format(res_call.shape)\n",
    "res_call[:10]\n",
    "res_pred = M.predict(merged_inp,verbose=1)\n",
    "\">>> pred res: [shape] {}\".format(res_pred.shape)\n",
    "res_pred[:10]"
   ]
  },
  {
   "cell_type": "markdown",
   "metadata": {},
   "source": [
    "### Preprocess\n",
    "如何参考 [这个官方例子](https://www.tensorflow.org/tutorials/structured_data/feature_columns) 把特征预处理这块用 feature_column 的api搞定？\n",
    "\n",
    "`tf.feature_column`这条路目前还是卡在了不能处理ragged-arr上 试了`tf.keras.experimental.SequenceFeatures`也不行"
   ]
  },
  {
   "cell_type": "code",
   "execution_count": 7,
   "metadata": {
    "ExecuteTime": {
     "end_time": "2020-05-19T12:33:05.848584Z",
     "start_time": "2020-05-19T12:33:05.790357Z"
    },
    "code_folding": [
     0,
     54
    ],
    "scrolled": false
   },
   "outputs": [
    {
     "data": {
      "text/plain": [
       "'I1,I2,I3,I4,I5,I6,I7,I8,I9,I10,I11,I12,I13'"
      ]
     },
     "execution_count": 7,
     "metadata": {},
     "output_type": "execute_result"
    },
    {
     "data": {
      "text/plain": [
       "'C1,C2,C3,C4,C5,C6,C7,C8,C9,C10,C11,C12,C13,C14,C15,C16,C17,C18,C19,C20,C21,C22,C23,C24,C25,C26,C27,C28'"
      ]
     },
     "execution_count": 7,
     "metadata": {},
     "output_type": "execute_result"
    },
    {
     "data": {
      "text/plain": [
       "'C27,C28'"
      ]
     },
     "execution_count": 7,
     "metadata": {},
     "output_type": "execute_result"
    }
   ],
   "source": [
    "# 训练需要的东西\n",
    "opt = tf.keras.optimizers.Adam(learning_rate=1e-4)\n",
    "auc_calc = tf.keras.metrics.AUC()\n",
    "\n",
    "def train(model, data, labels, cur_step):\n",
    "    \"\"\"\n",
    "    model: 要迭代的模型\n",
    "    opt: 优化器\n",
    "    cur_step: 当前是第几个step(提前乘好epoch)\n",
    "    \"\"\"\n",
    "    with tf.GradientTape() as tape:\n",
    "        preds = model(data, training=True)\n",
    "        loss_batch = tf.keras.losses.binary_crossentropy(labels,preds)\n",
    "        acc_batch = tf.keras.metrics.binary_accuracy(labels,preds)\n",
    "        auc_calc.update_state(labels,preds)\n",
    "        avg_auc = auc_calc.result()\n",
    "        auc_calc.reset_states() # 只算一个step（一个batch）里的auc\n",
    "#     print(\"labels\",labels)\n",
    "#     print(\"preds\",preds)\n",
    "#     print(\"loss_batch\",loss_batch)\n",
    "    gradients = tape.gradient(loss_batch,model.trainable_variables)\n",
    "    _ = opt.apply_gradients(zip(gradients,model.trainable_variables))\n",
    "    avg_loss, avg_acc = tf.math.reduce_mean(loss_batch),tf.math.reduce_mean(acc_batch)\n",
    "    _ = tf.summary.scalar('train_loss', avg_loss, step=cur_step)\n",
    "    _ = tf.summary.scalar('train_acc', avg_acc, step=cur_step)\n",
    "    _ = tf.summary.scalar('train_auc', avg_auc, step=cur_step)\n",
    "    \n",
    "    for i in model.trainable_variables:\n",
    "        _ = tf.summary.histogram(i.name,i,step=cur_step)\n",
    "    for idx,i in enumerate(gradients):\n",
    "        _ = tf.summary.histogram(\"grad_\"+model.trainable_variables[idx].name,i,step=cur_step)\n",
    "    return avg_loss, avg_acc, avg_auc\n",
    "\n",
    "\n",
    "def test(model, data, labels, cur_step):\n",
    "    \"\"\"\n",
    "    valid data \n",
    "    \"\"\"\n",
    "    preds = model.predict(data)\n",
    "    loss_batch = tf.keras.losses.binary_crossentropy(labels,preds)\n",
    "    acc_batch = tf.keras.metrics.binary_accuracy(labels,preds)\n",
    "    auc_calc.update_state(labels,preds)\n",
    "    avg_auc = auc_calc.result()\n",
    "    auc_calc.reset_states() # 只算一个step（一个batch）里的auc\n",
    "    avg_loss, avg_acc = tf.math.reduce_mean(loss_batch),tf.math.reduce_mean(acc_batch)\n",
    "    _ = tf.summary.scalar('test_loss', avg_loss, step=cur_step)\n",
    "    _ = tf.summary.scalar('test_acc', avg_acc, step=cur_step)\n",
    "    _ = tf.summary.scalar('test_auc', avg_auc, step=cur_step)\n",
    "    return avg_loss, avg_acc, avg_auc\n",
    "\n",
    "\n",
    "\",\".join(num_feat)\n",
    "\",\".join(cat_feat)\n",
    "\",\".join(multihot_feat)\n",
    "def get_merged_inp(chunk):\n",
    "    \"\"\"\n",
    "    整合三类特征\n",
    "    \"\"\"\n",
    "    labels=chunk[\"label\"].values.reshape(-1,1)\n",
    "    # dense\n",
    "    num_features=chunk[num_feat].values\n",
    "    # onehot\n",
    "    onehot_features = chunk[list(set(cat_feat) - set(multihot_feat))].values\n",
    "    # multihot | 构造list[sparseTensor]结构\n",
    "    multihot_features=chunk[multihot_feat].values\n",
    "    multihot_features_list=[multihot_features[:,i] for i in range(multihot_features.shape[1])]\n",
    "    sp_tensor_list=[M.multihot_ragged_idx_to_sparse_tensor(multihot_ragged) for multihot_ragged in multihot_features_list]\n",
    "    # [dense,onehot,multihot]\n",
    "    merged_inp = [num_features,onehot_features]+sp_tensor_list\n",
    "    return merged_inp,labels"
   ]
  },
  {
   "cell_type": "code",
   "execution_count": null,
   "metadata": {
    "ExecuteTime": {
     "end_time": "2020-05-19T06:22:16.423326Z",
     "start_time": "2020-05-19T06:22:16.350825Z"
    },
    "code_folding": [
     0
    ],
    "deletable": false,
    "editable": false,
    "run_control": {
     "frozen": true
    },
    "scrolled": false
   },
   "outputs": [],
   "source": [
    "with summary_writer.as_default():\n",
    "    tf.summary.trace_on()\n",
    "    with tf.GradientTape() as t:\n",
    "        pred=M(merged_inp_train)\n",
    "        loss = tf.keras.losses.binary_crossentropy(labels_train,pred)\n",
    "        g = t.gradient(loss,M.trainable_variables)\n",
    "        g_name=list(zip(g,[i.name for i in M.trainable_variables]))\n",
    "        \"label\",labels_train[:5]\n",
    "        \"pred\",pred[:5]\n",
    "        \"loss\",loss[:5]\n",
    "    tf.summary.trace_export(name=\"model_trace\",step=0,profiler_outdir=os.path.join(base_dir,\"profile\"))\n",
    "    tf.summary.trace_off()\n",
    "    \n",
    "\n",
    "    g_name[0]\n",
    "    \">>> all_zero?\",np.equal(np.zeros_like(g_name[0][0]),g_name[0][0].numpy())\n",
    "\n",
    "    g_name[4]\n",
    "    g_name[5]\n",
    "    print(g_name[4][0])"
   ]
  },
  {
   "cell_type": "markdown",
   "metadata": {},
   "source": [
    "### Loop"
   ]
  },
  {
   "cell_type": "code",
   "execution_count": 8,
   "metadata": {
    "ExecuteTime": {
     "end_time": "2020-05-19T14:08:37.553491Z",
     "start_time": "2020-05-19T12:33:17.300157Z"
    },
    "code_folding": [
     16
    ],
    "scrolled": false
   },
   "outputs": [
    {
     "name": "stdout",
     "output_type": "stream",
     "text": [
      "[train_data_fp]: /home/zhoutong/notebook_collection/tmp/CTR/criteo_data_sampled_50k_add_multihot_C27C28_idx_processed.csv\n",
      "[test_data_fp]: /home/zhoutong/notebook_collection/tmp/CTR/criteo_data_sampled_10k_add_multihot_C27C28_idx_processed.csv\n",
      "[converters_dict]:  {'C27': <function <lambda> at 0x7fd3de5ac400>, 'C28': <function <lambda> at 0x7fd3de5ac400>}\n"
     ]
    },
    {
     "data": {
      "application/vnd.jupyter.widget-view+json": {
       "model_id": "6d4d6f9e75f2479cb0e54a7924ad5b80",
       "version_major": 2,
       "version_minor": 0
      },
      "text/plain": [
       "HBox(children=(FloatProgress(value=0.0, max=500.0), HTML(value='')))"
      ]
     },
     "metadata": {},
     "output_type": "display_data"
    },
    {
     "name": "stdout",
     "output_type": "stream",
     "text": [
      "WARNING:tensorflow:Layer deep_fm is casting an input tensor from dtype float64 to the layer's dtype of float32, which is new behavior in TensorFlow 2.  The layer has dtype float32 because it's dtype defaults to floatx.\n",
      "\n",
      "If you intended to run this layer in float32, you can safely ignore this warning. If in doubt, this warning is likely only an issue if you are porting a TensorFlow 1.X model to TensorFlow 2.\n",
      "\n",
      "To change all layers to have dtype float64 by default, call `tf.keras.backend.set_floatx('float64')`. To change just this layer, pass dtype='float64' to the layer constructor. If you are the author of this layer, you can disable autocasting by passing autocast=False to the base Layer constructor.\n",
      "\n",
      "[e]: 0 [step]:0 [loss_train]:1.4462 [acc_train]:0.2050 [auc_train]:0.5427 [loss_valid]:1.3556 [acc_valid]:0.2591 [auc_valid]:0.5577\n",
      "[e]: 0 [step]:50 [loss_train]:1.3396 [acc_train]:0.2390 [auc_train]:0.5307 [loss_valid]:1.3023 [acc_valid]:0.2591 [auc_valid]:0.5468\n",
      "[e]: 0 [step]:100 [loss_train]:1.2816 [acc_train]:0.2280 [auc_train]:0.5858 [loss_valid]:1.2354 [acc_valid]:0.2591 [auc_valid]:0.5609\n",
      "[e]: 0 [step]:150 [loss_train]:1.1370 [acc_train]:0.2750 [auc_train]:0.5929 [loss_valid]:1.1485 [acc_valid]:0.2591 [auc_valid]:0.5593\n",
      "[e]: 0 [step]:200 [loss_train]:1.0421 [acc_train]:0.2800 [auc_train]:0.5644 [loss_valid]:1.0637 [acc_valid]:0.2591 [auc_valid]:0.5479\n",
      "[e]: 0 [step]:250 [loss_train]:0.9734 [acc_train]:0.2740 [auc_train]:0.5832 [loss_valid]:0.9848 [acc_valid]:0.2591 [auc_valid]:0.5444\n",
      "[e]: 0 [step]:300 [loss_train]:0.8953 [acc_train]:0.2570 [auc_train]:0.5334 [loss_valid]:0.8870 [acc_valid]:0.2591 [auc_valid]:0.5458\n",
      "[e]: 0 [step]:350 [loss_train]:0.7837 [acc_train]:0.2710 [auc_train]:0.5716 [loss_valid]:0.7876 [acc_valid]:0.2604 [auc_valid]:0.5494\n",
      "[e]: 0 [step]:400 [loss_train]:0.7034 [acc_train]:0.4640 [auc_train]:0.5533 [loss_valid]:0.6986 [acc_valid]:0.4840 [auc_valid]:0.5563\n",
      "[e]: 0 [step]:450 [loss_train]:0.6276 [acc_train]:0.7050 [auc_train]:0.5791 [loss_valid]:0.6300 [acc_valid]:0.7265 [auc_valid]:0.5664\n",
      "\n"
     ]
    },
    {
     "data": {
      "application/vnd.jupyter.widget-view+json": {
       "model_id": "1f872f5482c74d8297566915217dec4e",
       "version_major": 2,
       "version_minor": 0
      },
      "text/plain": [
       "HBox(children=(FloatProgress(value=0.0, max=500.0), HTML(value='')))"
      ]
     },
     "metadata": {},
     "output_type": "display_data"
    },
    {
     "name": "stdout",
     "output_type": "stream",
     "text": [
      "[e]: 1 [step]:0 [loss_train]:0.5776 [acc_train]:0.7970 [auc_train]:0.6083 [loss_valid]:0.5895 [acc_valid]:0.7410 [auc_valid]:0.5790\n",
      "[e]: 1 [step]:150 [loss_train]:0.5630 [acc_train]:0.7250 [auc_train]:0.6662 [loss_valid]:0.5569 [acc_valid]:0.7409 [auc_valid]:0.6204\n",
      "[e]: 1 [step]:200 [loss_train]:0.5712 [acc_train]:0.7200 [auc_train]:0.6518 [loss_valid]:0.5531 [acc_valid]:0.7410 [auc_valid]:0.6353\n",
      "[e]: 1 [step]:250 [loss_train]:0.5579 [acc_train]:0.7250 [auc_train]:0.6785 [loss_valid]:0.5495 [acc_valid]:0.7411 [auc_valid]:0.6485\n",
      "[e]: 1 [step]:300 [loss_train]:0.5427 [acc_train]:0.7430 [auc_train]:0.6673 [loss_valid]:0.5462 [acc_valid]:0.7412 [auc_valid]:0.6593\n",
      "[e]: 1 [step]:350 [loss_train]:0.5432 [acc_train]:0.7330 [auc_train]:0.7005 [loss_valid]:0.5427 [acc_valid]:0.7413 [auc_valid]:0.6698\n",
      "[e]: 1 [step]:400 [loss_train]:0.5224 [acc_train]:0.7530 [auc_train]:0.7020 [loss_valid]:0.5392 [acc_valid]:0.7421 [auc_valid]:0.6784\n",
      "[e]: 1 [step]:450 [loss_train]:0.5501 [acc_train]:0.7310 [auc_train]:0.6840 [loss_valid]:0.5357 [acc_valid]:0.7433 [auc_valid]:0.6866\n",
      "\n"
     ]
    },
    {
     "data": {
      "application/vnd.jupyter.widget-view+json": {
       "model_id": "bab5341dc84f4914a7bbcc6f362d4823",
       "version_major": 2,
       "version_minor": 0
      },
      "text/plain": [
       "HBox(children=(FloatProgress(value=0.0, max=500.0), HTML(value='')))"
      ]
     },
     "metadata": {},
     "output_type": "display_data"
    },
    {
     "name": "stdout",
     "output_type": "stream",
     "text": [
      "[e]: 2 [step]:0 [loss_train]:0.4743 [acc_train]:0.8020 [auc_train]:0.7285 [loss_valid]:0.5323 [acc_valid]:0.7457 [auc_valid]:0.6931\n",
      "[e]: 2 [step]:50 [loss_train]:0.4964 [acc_train]:0.7640 [auc_train]:0.7465 [loss_valid]:0.5310 [acc_valid]:0.7444 [auc_valid]:0.6963\n",
      "[e]: 2 [step]:100 [loss_train]:0.4703 [acc_train]:0.7790 [auc_train]:0.7677 [loss_valid]:0.5293 [acc_valid]:0.7453 [auc_valid]:0.7005\n",
      "[e]: 2 [step]:150 [loss_train]:0.5227 [acc_train]:0.7380 [auc_train]:0.7503 [loss_valid]:0.5243 [acc_valid]:0.7492 [auc_valid]:0.7042\n",
      "[e]: 2 [step]:200 [loss_train]:0.5340 [acc_train]:0.7300 [auc_train]:0.7294 [loss_valid]:0.5208 [acc_valid]:0.7519 [auc_valid]:0.7090\n",
      "[e]: 2 [step]:250 [loss_train]:0.5236 [acc_train]:0.7360 [auc_train]:0.7402 [loss_valid]:0.5179 [acc_valid]:0.7546 [auc_valid]:0.7133\n",
      "[e]: 2 [step]:300 [loss_train]:0.5046 [acc_train]:0.7660 [auc_train]:0.7335 [loss_valid]:0.5154 [acc_valid]:0.7557 [auc_valid]:0.7168\n",
      "[e]: 2 [step]:350 [loss_train]:0.5023 [acc_train]:0.7640 [auc_train]:0.7566 [loss_valid]:0.5129 [acc_valid]:0.7577 [auc_valid]:0.7205\n",
      "[e]: 2 [step]:400 [loss_train]:0.4833 [acc_train]:0.7840 [auc_train]:0.7578 [loss_valid]:0.5107 [acc_valid]:0.7584 [auc_valid]:0.7236\n",
      "[e]: 2 [step]:450 [loss_train]:0.5213 [acc_train]:0.7430 [auc_train]:0.7227 [loss_valid]:0.5085 [acc_valid]:0.7597 [auc_valid]:0.7267\n",
      "\n"
     ]
    },
    {
     "data": {
      "application/vnd.jupyter.widget-view+json": {
       "model_id": "d3840abb79cd4b48b06ede6e7977a6fe",
       "version_major": 2,
       "version_minor": 0
      },
      "text/plain": [
       "HBox(children=(FloatProgress(value=0.0, max=500.0), HTML(value='')))"
      ]
     },
     "metadata": {},
     "output_type": "display_data"
    },
    {
     "name": "stdout",
     "output_type": "stream",
     "text": [
      "[e]: 3 [step]:0 [loss_train]:0.4362 [acc_train]:0.8160 [auc_train]:0.7716 [loss_valid]:0.5065 [acc_valid]:0.7603 [auc_valid]:0.7294\n",
      "[e]: 3 [step]:50 [loss_train]:0.4617 [acc_train]:0.7870 [auc_train]:0.7821 [loss_valid]:0.5073 [acc_valid]:0.7590 [auc_valid]:0.7303\n",
      "[e]: 3 [step]:100 [loss_train]:0.4291 [acc_train]:0.8090 [auc_train]:0.8121 [loss_valid]:0.5061 [acc_valid]:0.7596 [auc_valid]:0.7317\n",
      "[e]: 3 [step]:150 [loss_train]:0.4860 [acc_train]:0.7660 [auc_train]:0.7854 [loss_valid]:0.5030 [acc_valid]:0.7624 [auc_valid]:0.7327\n",
      "[e]: 3 [step]:200 [loss_train]:0.4985 [acc_train]:0.7580 [auc_train]:0.7769 [loss_valid]:0.5016 [acc_valid]:0.7635 [auc_valid]:0.7345\n",
      "[e]: 3 [step]:250 [loss_train]:0.4963 [acc_train]:0.7560 [auc_train]:0.7717 [loss_valid]:0.5005 [acc_valid]:0.7639 [auc_valid]:0.7360\n",
      "[e]: 3 [step]:300 [loss_train]:0.4731 [acc_train]:0.7990 [auc_train]:0.7690 [loss_valid]:0.4996 [acc_valid]:0.7642 [auc_valid]:0.7373\n",
      "[e]: 3 [step]:350 [loss_train]:0.4695 [acc_train]:0.7830 [auc_train]:0.7931 [loss_valid]:0.4987 [acc_valid]:0.7645 [auc_valid]:0.7387\n",
      "[e]: 3 [step]:400 [loss_train]:0.4559 [acc_train]:0.7960 [auc_train]:0.7894 [loss_valid]:0.4979 [acc_valid]:0.7648 [auc_valid]:0.7402\n",
      "[e]: 3 [step]:450 [loss_train]:0.4968 [acc_train]:0.7650 [auc_train]:0.7570 [loss_valid]:0.4969 [acc_valid]:0.7648 [auc_valid]:0.7415\n"
     ]
    },
    {
     "name": "stderr",
     "output_type": "stream",
     "text": [
      "IOPub message rate exceeded.\n",
      "The notebook server will temporarily stop sending output\n",
      "to the client in order to avoid crashing it.\n",
      "To change this limit, set the config variable\n",
      "`--NotebookApp.iopub_msg_rate_limit`.\n",
      "\n",
      "Current values:\n",
      "NotebookApp.iopub_msg_rate_limit=1000.0 (msgs/sec)\n",
      "NotebookApp.rate_limit_window=3.0 (secs)\n",
      "\n"
     ]
    }
   ],
   "source": [
    "base_dir=\"/home/zhoutong/notebook_collection/tmp/CTR\"\n",
    "train_data_fp=os.path.join(base_dir,\"criteo_data_sampled_50k_add_multihot_C27C28_idx_processed.csv\")\n",
    "test_data_fp=os.path.join(base_dir,\"criteo_data_sampled_10k_add_multihot_C27C28_idx_processed.csv\")\n",
    "print(\"[train_data_fp]: \"+train_data_fp)\n",
    "print(\"[test_data_fp]: \"+test_data_fp)\n",
    "fn_split2list=lambda x:[int(i) for i in x.strip(\"[]\").split(\",\") if i != \"\"]\n",
    "converters_dict = {\"C27\":fn_split2list,\"C28\":fn_split2list}\n",
    "print(\"[converters_dict]: \",converters_dict)\n",
    "\n",
    "summary_writer = tf.summary.create_file_writer(os.path.join(base_dir,\"tensorboard\"))\n",
    "\n",
    "df_valid = pd.read_csv(test_data_fp,converters=converters_dict)\n",
    "\n",
    "epoch = 10\n",
    "batch_size = 1000\n",
    "total_step = 0\n",
    "for e in range(0,epoch):\n",
    "    df_total_iter=pd.read_csv(train_data_fp, chunksize=batch_size, converters=converters_dict)\n",
    "    for step,chunk in tqdm(enumerate(df_total_iter),total=50*10000/batch_size):\n",
    "        merged_inp_train,labels_train = get_merged_inp(chunk)\n",
    "        # Train\n",
    "        with summary_writer.as_default():\n",
    "            avg_loss_train, avg_acc_train, avg_auc_train = train(model=M,data=merged_inp_train,labels=labels_train,cur_step=total_step)\n",
    "        \n",
    "        # Valid per 50\n",
    "        if total_step % 50 == 0:\n",
    "            with summary_writer.as_default():\n",
    "                merged_inp_valid,labels_valid = get_merged_inp(df_valid)\n",
    "                avg_loss_valid, avg_acc_valid, avg_auc_valid = test(model=M,data=merged_inp_valid,labels=labels_valid,cur_step=total_step)\n",
    "            print(f\"[e]: {e} [step]:{step} [loss_train]:{avg_loss_train:.4f} [acc_train]:{avg_acc_train:.4f} [auc_train]:{avg_auc_train:.4f} [loss_valid]:{avg_loss_valid:.4f} [acc_valid]:{avg_acc_valid:.4f} [auc_valid]:{avg_auc_valid:.4f}\")\n",
    "\n",
    "        \n",
    "        total_step += 1\n",
    "#         break\n",
    "#     break\n",
    "\n",
    "\n",
    "    \n",
    "    \n",
    "        "
   ]
  },
  {
   "cell_type": "markdown",
   "metadata": {},
   "source": [
    "## DeepFM 接受RaggedArr"
   ]
  },
  {
   "cell_type": "code",
   "execution_count": null,
   "metadata": {},
   "outputs": [],
   "source": []
  },
  {
   "cell_type": "code",
   "execution_count": null,
   "metadata": {},
   "outputs": [],
   "source": []
  },
  {
   "cell_type": "code",
   "execution_count": null,
   "metadata": {},
   "outputs": [],
   "source": []
  },
  {
   "cell_type": "code",
   "execution_count": null,
   "metadata": {},
   "outputs": [],
   "source": []
  },
  {
   "cell_type": "code",
   "execution_count": null,
   "metadata": {},
   "outputs": [],
   "source": []
  },
  {
   "cell_type": "code",
   "execution_count": null,
   "metadata": {},
   "outputs": [],
   "source": []
  },
  {
   "cell_type": "code",
   "execution_count": null,
   "metadata": {},
   "outputs": [],
   "source": []
  },
  {
   "cell_type": "markdown",
   "metadata": {},
   "source": [
    "# Train"
   ]
  },
  {
   "cell_type": "code",
   "execution_count": null,
   "metadata": {},
   "outputs": [],
   "source": []
  },
  {
   "cell_type": "code",
   "execution_count": null,
   "metadata": {},
   "outputs": [],
   "source": []
  },
  {
   "cell_type": "markdown",
   "metadata": {},
   "source": [
    "# Others"
   ]
  },
  {
   "cell_type": "markdown",
   "metadata": {},
   "source": [
    "## GD求解开方"
   ]
  },
  {
   "cell_type": "code",
   "execution_count": 5,
   "metadata": {
    "ExecuteTime": {
     "end_time": "2020-09-10T09:39:14.376338Z",
     "start_time": "2020-09-10T09:39:14.365854Z"
    }
   },
   "outputs": [
    {
     "name": "stdout",
     "output_type": "stream",
     "text": [
      "[根]:8.0000, [梯度]:1536.0000, [更新后的根]:-7.3600\n",
      "[根]:-7.3600, [梯度]:-1123.7130, [更新后的根]:3.8771\n",
      "[根]:3.8771, [梯度]:-15.0101, [更新后的根]:4.0272\n",
      "[根]:4.0272, [梯度]:3.5213, [更新后的根]:3.9920\n",
      "[根]:3.9920, [梯度]:-1.0186, [更新后的根]:4.0022\n",
      "[根]:4.0022, [梯度]:0.2824, [更新后的根]:3.9994\n",
      "[根]:3.9994, [梯度]:-0.0793, [更新后的根]:4.0002\n",
      "[根]:4.0002, [梯度]:0.0222, [更新后的根]:4.0000\n",
      "[根]:4.0000, [梯度]:-0.0062, [更新后的根]:4.0000\n",
      "[根]:4.0000, [梯度]:0.0017, [更新后的根]:4.0000\n",
      "[根]:4.0000, [梯度]:-0.0005, [更新后的根]:4.0000\n",
      "求解 16 的平方根 [result]: 4.0000\n"
     ]
    }
   ],
   "source": [
    "# 梯度下降方式求解平方根\n",
    "import math\n",
    "x=16\n",
    "a=int(x/2)\n",
    "lr=0.01\n",
    "cnt=0\n",
    "\n",
    "while True:\n",
    "    # 手动求导后得到梯度的解析式\n",
    "    grad=2*(a*a-x)*2*a\n",
    "    print(f\"[根]:{a:.4f}, [梯度]:{grad:.4f}, [更新后的根]:{a-grad*lr:.4f}\")\n",
    "    a -= grad*lr\n",
    "    if abs(a*a - x) < 0.00000001:\n",
    "        print(\"stop at:\", a)\n",
    "        break\n",
    "    cnt += 1\n",
    "    if cnt > 10:\n",
    "        break\n",
    "\n",
    "print(f\"求解 {x} 的平方根 [result]: {a:.4f}\")"
   ]
  },
  {
   "cell_type": "markdown",
   "metadata": {},
   "source": [
    "## tf.GradientTape"
   ]
  },
  {
   "cell_type": "markdown",
   "metadata": {},
   "source": [
    "解方程"
   ]
  },
  {
   "cell_type": "code",
   "execution_count": 377,
   "metadata": {
    "ExecuteTime": {
     "end_time": "2020-05-15T08:25:43.158933Z",
     "start_time": "2020-05-15T08:25:42.477478Z"
    },
    "scrolled": false
   },
   "outputs": [
    {
     "data": {
      "text/plain": [
       "('x', array([[0., 8., 3.],\n",
       "        [6., 3., 3.],\n",
       "        [7., 8., 0.],\n",
       "        [0., 8., 9.]]))"
      ]
     },
     "execution_count": 377,
     "metadata": {},
     "output_type": "execute_result"
    },
    {
     "data": {
      "text/plain": [
       "('y', array([[36.],\n",
       "        [33.],\n",
       "        [38.],\n",
       "        [60.]]))"
      ]
     },
     "execution_count": 377,
     "metadata": {},
     "output_type": "execute_result"
    },
    {
     "data": {
      "text/plain": [
       "('w', array([[4.],\n",
       "        [4.],\n",
       "        [4.]]))"
      ]
     },
     "execution_count": 377,
     "metadata": {},
     "output_type": "execute_result"
    },
    {
     "data": {
      "application/vnd.jupyter.widget-view+json": {
       "model_id": "708eef3e7788485e93090d1cf2e12549",
       "version_major": 2,
       "version_minor": 0
      },
      "text/plain": [
       "HBox(children=(FloatProgress(value=0.0), HTML(value='')))"
      ]
     },
     "metadata": {},
     "output_type": "display_data"
    },
    {
     "name": "stdout",
     "output_type": "stream",
     "text": [
      "\n"
     ]
    },
    {
     "data": {
      "image/png": "[encoded data removed]",
      "text/plain": [
       "<Figure size 432x288 with 1 Axes>"
      ]
     },
     "metadata": {
      "needs_background": "light"
     },
     "output_type": "display_data"
    },
    {
     "data": {
      "image/png": "[encoded data removed]",
      "text/plain": [
       "<Figure size 432x288 with 1 Axes>"
      ]
     },
     "metadata": {
      "needs_background": "light"
     },
     "output_type": "display_data"
    },
    {
     "data": {
      "image/png": "[encoded data removed]",
      "text/plain": [
       "<Figure size 432x288 with 1 Axes>"
      ]
     },
     "metadata": {
      "needs_background": "light"
     },
     "output_type": "display_data"
    }
   ],
   "source": [
    "# y=w1x1+w2x2+w3x3\n",
    "use_opt = False\n",
    "np.random.seed(2020)\n",
    "lr=0.0001\n",
    "sample_cnt=4\n",
    "fnc = lambda x1,x2,x3: 2*x1+3*x2+4*x3\n",
    "x = np.random.randint(0,10,(sample_cnt,3)).astype(np.float64)\n",
    "w = np.random.randint(1,5,(3,)).reshape(-1,1).astype(np.float64)\n",
    "y = np.array([fnc(*i) for i in x]).reshape(-1,1)\n",
    "x = tf.Variable(x,trainable=False,name=\"x\")\n",
    "w = tf.Variable(w,trainable=True,name=\"w\")\n",
    "y = tf.Variable(y,trainable=False,name=\"y\")\n",
    "\"x\",x.numpy()\n",
    "\"y\",y.numpy()\n",
    "\"w\",w.numpy()\n",
    "w_history = []\n",
    "g_history = []\n",
    "loss_history=[]\n",
    "opt = tf.keras.optimizers.Adam(learning_rate=1e-1)\n",
    "for i in tqdm(range(100)):\n",
    "    with tf.GradientTape() as tape:\n",
    "        tape.watch(w)\n",
    "        pred = tf.matmul(x,w)\n",
    "        loss = tf.keras.losses.MSE(y,pred)\n",
    "    g = tape.gradient(loss,w)\n",
    "    g_manually = -2*(y-pred)*x\n",
    "    loss_history.append(np.sum(y-pred))\n",
    "    if use_opt:\n",
    "        _ = opt.apply_gradients(zip([g],[w]))\n",
    "    else:\n",
    "        w = w - lr*g\n",
    "    g_history.append(g.numpy().flatten())\n",
    "    w_history.append(w.numpy().flatten())\n",
    "g_history = np.array(g_history)\n",
    "w_history = np.array(w_history)\n",
    "\n",
    "\n",
    "# plot W\n",
    "_ = plt.plot(w_history[:,0],color='orange',label='w1')\n",
    "_ = plt.plot(w_history[:,1],color='blue',label='w2')\n",
    "_ = plt.plot(w_history[:,2],color='cyan',label='w3')\n",
    "_ = plt.legend()\n",
    "_ = plt.ylim(bottom=np.min(w_history)*0.9,top=np.max(w_history)*1.1)\n",
    "_ = plt.title(\"w\")\n",
    "plt.show()\n",
    "\n",
    "\n",
    "# plot Gradient\n",
    "_ = plt.plot(g_history[:,0],color='orange',label='g_w1')\n",
    "_ = plt.plot(g_history[:,1],color='blue',label='g_w2')\n",
    "_ = plt.plot(g_history[:,2],color='cyan',label='g_w3')\n",
    "_ = plt.legend()\n",
    "_ = plt.ylim(bottom=np.min(g_history)*0.9,top=np.max(g_history)*1.1)\n",
    "_ = plt.title(\"gradient of w\")\n",
    "plt.show()\n",
    "\n",
    "# plot loss=y - pred\n",
    "_ = plt.plot(loss_history)\n",
    "_ = plt.title(\"y - pred\")\n",
    "plt.show()"
   ]
  },
  {
   "cell_type": "markdown",
   "metadata": {},
   "source": [
    "## feature_column"
   ]
  },
  {
   "cell_type": "markdown",
   "metadata": {},
   "source": [
    "feature_column处理单独一列"
   ]
  },
  {
   "cell_type": "code",
   "execution_count": 125,
   "metadata": {
    "ExecuteTime": {
     "end_time": "2020-05-14T08:48:07.725845Z",
     "start_time": "2020-05-14T08:48:07.624851Z"
    },
    "scrolled": false
   },
   "outputs": [
    {
     "name": "stdout",
     "output_type": "stream",
     "text": [
      ">>> featureMap:\n"
     ]
    },
    {
     "data": {
      "text/plain": [
       "'2,36,19,20,85,84,42,63,38,48,97,66,88,78,15,22,61,23,72,75,76,98,95,87,54,91,58,6,93,14,65,7,46,18,100,17,44,40,43,86,1,82,45,25,57,13,79,90,39,74,77,8,89,96,70,80,99,3,52,41,81,69,37,31,59,26,47,34,35,92,49,50,53,94,21,71,56,12,24,9,32,67,11,27,5,62,60,29,51,30,55,0,73,68,83,10,4,28,64,16,33'"
      ]
     },
     "execution_count": 125,
     "metadata": {},
     "output_type": "execute_result"
    },
    {
     "name": "stdout",
     "output_type": "stream",
     "text": [
      ">>> original:\n"
     ]
    },
    {
     "data": {
      "text/plain": [
       "599000     [63, 41, 65, 80, 70, 49, 57, 94, 27, 46, 56, 69]\n",
       "599001    [4, 38, 11, 43, 29, 11, 50, 43, 67, 25, 1, 1, ...\n",
       "599002    [89, 98, 6, 5, 49, 64, 85, 19, 93, 47, 73, 87,...\n",
       "599003    [87, 8, 71, 9, 84, 24, 100, 65, 8, 99, 60, 87,...\n",
       "599004    [43, 76, 95, 75, 45, 98, 67, 8, 14, 51, 17, 44...\n",
       "                                ...                        \n",
       "599995    [6, 35, 49, 38, 56, 0, 5, 98, 55, 44, 87, 68, ...\n",
       "599996                          [81, 92, 6, 14, 63, 31, 45]\n",
       "599997    [80, 62, 92, 31, 51, 36, 22, 44, 18, 34, 95, 5...\n",
       "599998                                                 [25]\n",
       "599999    [71, 38, 67, 73, 14, 40, 3, 44, 69, 87, 20, 78...\n",
       "Name: C28, Length: 1000, dtype: object"
      ]
     },
     "execution_count": 125,
     "metadata": {},
     "output_type": "execute_result"
    },
    {
     "name": "stdout",
     "output_type": "stream",
     "text": [
      ">>> feature_columned:\n"
     ]
    },
    {
     "ename": "ValueError",
     "evalue": "Can't convert non-rectangular Python sequence to Tensor.",
     "output_type": "error",
     "traceback": [
      "\u001b[0;31m---------------------------------------------------------------------------\u001b[0m",
      "\u001b[0;31mValueError\u001b[0m                                Traceback (most recent call last)",
      "\u001b[0;32m<ipython-input-125-ea4230f08088>\u001b[0m in \u001b[0;36m<module>\u001b[0;34m\u001b[0m\n\u001b[1;32m     11\u001b[0m \u001b[0mchunk_fillna\u001b[0m\u001b[0;34m[\u001b[0m\u001b[0mf\u001b[0m\u001b[0;34m]\u001b[0m\u001b[0;34m\u001b[0m\u001b[0;34m\u001b[0m\u001b[0m\n\u001b[1;32m     12\u001b[0m \u001b[0mprint\u001b[0m\u001b[0;34m(\u001b[0m\u001b[0;34m\">>> feature_columned:\"\u001b[0m\u001b[0;34m)\u001b[0m\u001b[0;34m\u001b[0m\u001b[0;34m\u001b[0m\u001b[0m\n\u001b[0;32m---> 13\u001b[0;31m \u001b[0mtf\u001b[0m\u001b[0;34m.\u001b[0m\u001b[0mkeras\u001b[0m\u001b[0;34m.\u001b[0m\u001b[0mexperimental\u001b[0m\u001b[0;34m.\u001b[0m\u001b[0mSequenceFeatures\u001b[0m\u001b[0;34m(\u001b[0m\u001b[0mtfc\u001b[0m\u001b[0;34m)\u001b[0m\u001b[0;34m(\u001b[0m\u001b[0mdict\u001b[0m\u001b[0;34m(\u001b[0m\u001b[0mchunk_fillna\u001b[0m\u001b[0;34m)\u001b[0m\u001b[0;34m)\u001b[0m\u001b[0;34m\u001b[0m\u001b[0;34m\u001b[0m\u001b[0m\n\u001b[0m",
      "\u001b[0;32m~/anaconda3/envs/tf2/lib/python3.6/site-packages/tensorflow_core/python/keras/engine/base_layer.py\u001b[0m in \u001b[0;36m__call__\u001b[0;34m(self, inputs, *args, **kwargs)\u001b[0m\n\u001b[1;32m    820\u001b[0m           with base_layer_utils.autocast_context_manager(\n\u001b[1;32m    821\u001b[0m               self._compute_dtype):\n\u001b[0;32m--> 822\u001b[0;31m             \u001b[0moutputs\u001b[0m \u001b[0;34m=\u001b[0m \u001b[0mself\u001b[0m\u001b[0;34m.\u001b[0m\u001b[0mcall\u001b[0m\u001b[0;34m(\u001b[0m\u001b[0mcast_inputs\u001b[0m\u001b[0;34m,\u001b[0m \u001b[0;34m*\u001b[0m\u001b[0margs\u001b[0m\u001b[0;34m,\u001b[0m \u001b[0;34m**\u001b[0m\u001b[0mkwargs\u001b[0m\u001b[0;34m)\u001b[0m\u001b[0;34m\u001b[0m\u001b[0;34m\u001b[0m\u001b[0m\n\u001b[0m\u001b[1;32m    823\u001b[0m           \u001b[0mself\u001b[0m\u001b[0;34m.\u001b[0m\u001b[0m_handle_activity_regularization\u001b[0m\u001b[0;34m(\u001b[0m\u001b[0minputs\u001b[0m\u001b[0;34m,\u001b[0m \u001b[0moutputs\u001b[0m\u001b[0;34m)\u001b[0m\u001b[0;34m\u001b[0m\u001b[0;34m\u001b[0m\u001b[0m\n\u001b[1;32m    824\u001b[0m           \u001b[0mself\u001b[0m\u001b[0;34m.\u001b[0m\u001b[0m_set_mask_metadata\u001b[0m\u001b[0;34m(\u001b[0m\u001b[0minputs\u001b[0m\u001b[0;34m,\u001b[0m \u001b[0moutputs\u001b[0m\u001b[0;34m,\u001b[0m \u001b[0minput_masks\u001b[0m\u001b[0;34m)\u001b[0m\u001b[0;34m\u001b[0m\u001b[0;34m\u001b[0m\u001b[0m\n",
      "\u001b[0;32m~/anaconda3/envs/tf2/lib/python3.6/site-packages/tensorflow_core/python/feature_column/sequence_feature_column.py\u001b[0m in \u001b[0;36mcall\u001b[0;34m(self, features)\u001b[0m\n\u001b[1;32m    141\u001b[0m       \u001b[0;32mwith\u001b[0m \u001b[0mops\u001b[0m\u001b[0;34m.\u001b[0m\u001b[0mname_scope\u001b[0m\u001b[0;34m(\u001b[0m\u001b[0mcolumn\u001b[0m\u001b[0;34m.\u001b[0m\u001b[0mname\u001b[0m\u001b[0;34m)\u001b[0m\u001b[0;34m:\u001b[0m\u001b[0;34m\u001b[0m\u001b[0;34m\u001b[0m\u001b[0m\n\u001b[1;32m    142\u001b[0m         dense_tensor, sequence_length = column.get_sequence_dense_tensor(\n\u001b[0;32m--> 143\u001b[0;31m             transformation_cache, self._state_manager)\n\u001b[0m\u001b[1;32m    144\u001b[0m         \u001b[0;31m# Flattens the final dimension to produce a 3D Tensor.\u001b[0m\u001b[0;34m\u001b[0m\u001b[0;34m\u001b[0m\u001b[0;34m\u001b[0m\u001b[0m\n\u001b[1;32m    145\u001b[0m         \u001b[0moutput_tensors\u001b[0m\u001b[0;34m.\u001b[0m\u001b[0mappend\u001b[0m\u001b[0;34m(\u001b[0m\u001b[0mself\u001b[0m\u001b[0;34m.\u001b[0m\u001b[0m_process_dense_tensor\u001b[0m\u001b[0;34m(\u001b[0m\u001b[0mcolumn\u001b[0m\u001b[0;34m,\u001b[0m \u001b[0mdense_tensor\u001b[0m\u001b[0;34m)\u001b[0m\u001b[0;34m)\u001b[0m\u001b[0;34m\u001b[0m\u001b[0;34m\u001b[0m\u001b[0m\n",
      "\u001b[0;32m~/anaconda3/envs/tf2/lib/python3.6/site-packages/tensorflow_core/python/feature_column/feature_column_v2.py\u001b[0m in \u001b[0;36mget_sequence_dense_tensor\u001b[0;34m(self, transformation_cache, state_manager)\u001b[0m\n\u001b[1;32m   4384\u001b[0m     \u001b[0;31m# Feature has been already transformed. Return the intermediate\u001b[0m\u001b[0;34m\u001b[0m\u001b[0;34m\u001b[0m\u001b[0;34m\u001b[0m\u001b[0m\n\u001b[1;32m   4385\u001b[0m     \u001b[0;31m# representation created by transform_feature.\u001b[0m\u001b[0;34m\u001b[0m\u001b[0;34m\u001b[0m\u001b[0;34m\u001b[0m\u001b[0m\n\u001b[0;32m-> 4386\u001b[0;31m     \u001b[0mdense_tensor\u001b[0m \u001b[0;34m=\u001b[0m \u001b[0mtransformation_cache\u001b[0m\u001b[0;34m.\u001b[0m\u001b[0mget\u001b[0m\u001b[0;34m(\u001b[0m\u001b[0mself\u001b[0m\u001b[0;34m,\u001b[0m \u001b[0mstate_manager\u001b[0m\u001b[0;34m)\u001b[0m\u001b[0;34m\u001b[0m\u001b[0;34m\u001b[0m\u001b[0m\n\u001b[0m\u001b[1;32m   4387\u001b[0m     sparse_tensors = self.categorical_column.get_sparse_tensors(\n\u001b[1;32m   4388\u001b[0m         transformation_cache, state_manager)\n",
      "\u001b[0;32m~/anaconda3/envs/tf2/lib/python3.6/site-packages/tensorflow_core/python/feature_column/feature_column_v2.py\u001b[0m in \u001b[0;36mget\u001b[0;34m(self, key, state_manager)\u001b[0m\n\u001b[1;32m   2613\u001b[0m     \u001b[0mcolumn\u001b[0m \u001b[0;34m=\u001b[0m \u001b[0mkey\u001b[0m\u001b[0;34m\u001b[0m\u001b[0;34m\u001b[0m\u001b[0m\n\u001b[1;32m   2614\u001b[0m     \u001b[0mlogging\u001b[0m\u001b[0;34m.\u001b[0m\u001b[0mdebug\u001b[0m\u001b[0;34m(\u001b[0m\u001b[0;34m'Transforming feature_column %s.'\u001b[0m\u001b[0;34m,\u001b[0m \u001b[0mcolumn\u001b[0m\u001b[0;34m)\u001b[0m\u001b[0;34m\u001b[0m\u001b[0;34m\u001b[0m\u001b[0m\n\u001b[0;32m-> 2615\u001b[0;31m     \u001b[0mtransformed\u001b[0m \u001b[0;34m=\u001b[0m \u001b[0mcolumn\u001b[0m\u001b[0;34m.\u001b[0m\u001b[0mtransform_feature\u001b[0m\u001b[0;34m(\u001b[0m\u001b[0mself\u001b[0m\u001b[0;34m,\u001b[0m \u001b[0mstate_manager\u001b[0m\u001b[0;34m)\u001b[0m\u001b[0;34m\u001b[0m\u001b[0;34m\u001b[0m\u001b[0m\n\u001b[0m\u001b[1;32m   2616\u001b[0m     \u001b[0;32mif\u001b[0m \u001b[0mtransformed\u001b[0m \u001b[0;32mis\u001b[0m \u001b[0;32mNone\u001b[0m\u001b[0;34m:\u001b[0m\u001b[0;34m\u001b[0m\u001b[0;34m\u001b[0m\u001b[0m\n\u001b[1;32m   2617\u001b[0m       \u001b[0;32mraise\u001b[0m \u001b[0mValueError\u001b[0m\u001b[0;34m(\u001b[0m\u001b[0;34m'Column {} is not supported.'\u001b[0m\u001b[0;34m.\u001b[0m\u001b[0mformat\u001b[0m\u001b[0;34m(\u001b[0m\u001b[0mcolumn\u001b[0m\u001b[0;34m.\u001b[0m\u001b[0mname\u001b[0m\u001b[0;34m)\u001b[0m\u001b[0;34m)\u001b[0m\u001b[0;34m\u001b[0m\u001b[0;34m\u001b[0m\u001b[0m\n",
      "\u001b[0;32m~/anaconda3/envs/tf2/lib/python3.6/site-packages/tensorflow_core/python/feature_column/feature_column_v2.py\u001b[0m in \u001b[0;36mtransform_feature\u001b[0;34m(self, transformation_cache, state_manager)\u001b[0m\n\u001b[1;32m   4288\u001b[0m     \"\"\"\n\u001b[1;32m   4289\u001b[0m     id_weight_pair = self.categorical_column.get_sparse_tensors(\n\u001b[0;32m-> 4290\u001b[0;31m         transformation_cache, state_manager)\n\u001b[0m\u001b[1;32m   4291\u001b[0m     \u001b[0;32mreturn\u001b[0m \u001b[0mself\u001b[0m\u001b[0;34m.\u001b[0m\u001b[0m_transform_id_weight_pair\u001b[0m\u001b[0;34m(\u001b[0m\u001b[0mid_weight_pair\u001b[0m\u001b[0;34m)\u001b[0m\u001b[0;34m\u001b[0m\u001b[0;34m\u001b[0m\u001b[0m\n\u001b[1;32m   4292\u001b[0m \u001b[0;34m\u001b[0m\u001b[0m\n",
      "\u001b[0;32m~/anaconda3/envs/tf2/lib/python3.6/site-packages/tensorflow_core/python/feature_column/feature_column_v2.py\u001b[0m in \u001b[0;36mget_sparse_tensors\u001b[0;34m(self, transformation_cache, state_manager)\u001b[0m\n\u001b[1;32m   4557\u001b[0m     \"\"\"\n\u001b[1;32m   4558\u001b[0m     sparse_tensors = self.categorical_column.get_sparse_tensors(\n\u001b[0;32m-> 4559\u001b[0;31m         transformation_cache, state_manager)\n\u001b[0m\u001b[1;32m   4560\u001b[0m     \u001b[0;32mreturn\u001b[0m \u001b[0mself\u001b[0m\u001b[0;34m.\u001b[0m\u001b[0m_get_sparse_tensors_helper\u001b[0m\u001b[0;34m(\u001b[0m\u001b[0msparse_tensors\u001b[0m\u001b[0;34m)\u001b[0m\u001b[0;34m\u001b[0m\u001b[0;34m\u001b[0m\u001b[0m\n\u001b[1;32m   4561\u001b[0m \u001b[0;34m\u001b[0m\u001b[0m\n",
      "\u001b[0;32m~/anaconda3/envs/tf2/lib/python3.6/site-packages/tensorflow_core/python/feature_column/feature_column_v2.py\u001b[0m in \u001b[0;36mget_sparse_tensors\u001b[0;34m(self, transformation_cache, state_manager)\u001b[0m\n\u001b[1;32m   3770\u001b[0m     \u001b[0;34m\"\"\"See `CategoricalColumn` base class.\"\"\"\u001b[0m\u001b[0;34m\u001b[0m\u001b[0;34m\u001b[0m\u001b[0m\n\u001b[1;32m   3771\u001b[0m     return CategoricalColumn.IdWeightPair(\n\u001b[0;32m-> 3772\u001b[0;31m         transformation_cache.get(self, state_manager), None)\n\u001b[0m\u001b[1;32m   3773\u001b[0m \u001b[0;34m\u001b[0m\u001b[0m\n\u001b[1;32m   3774\u001b[0m   @deprecation.deprecated(_FEATURE_COLUMN_DEPRECATION_DATE,\n",
      "\u001b[0;32m~/anaconda3/envs/tf2/lib/python3.6/site-packages/tensorflow_core/python/feature_column/feature_column_v2.py\u001b[0m in \u001b[0;36mget\u001b[0;34m(self, key, state_manager)\u001b[0m\n\u001b[1;32m   2613\u001b[0m     \u001b[0mcolumn\u001b[0m \u001b[0;34m=\u001b[0m \u001b[0mkey\u001b[0m\u001b[0;34m\u001b[0m\u001b[0;34m\u001b[0m\u001b[0m\n\u001b[1;32m   2614\u001b[0m     \u001b[0mlogging\u001b[0m\u001b[0;34m.\u001b[0m\u001b[0mdebug\u001b[0m\u001b[0;34m(\u001b[0m\u001b[0;34m'Transforming feature_column %s.'\u001b[0m\u001b[0;34m,\u001b[0m \u001b[0mcolumn\u001b[0m\u001b[0;34m)\u001b[0m\u001b[0;34m\u001b[0m\u001b[0;34m\u001b[0m\u001b[0m\n\u001b[0;32m-> 2615\u001b[0;31m     \u001b[0mtransformed\u001b[0m \u001b[0;34m=\u001b[0m \u001b[0mcolumn\u001b[0m\u001b[0;34m.\u001b[0m\u001b[0mtransform_feature\u001b[0m\u001b[0;34m(\u001b[0m\u001b[0mself\u001b[0m\u001b[0;34m,\u001b[0m \u001b[0mstate_manager\u001b[0m\u001b[0;34m)\u001b[0m\u001b[0;34m\u001b[0m\u001b[0;34m\u001b[0m\u001b[0m\n\u001b[0m\u001b[1;32m   2616\u001b[0m     \u001b[0;32mif\u001b[0m \u001b[0mtransformed\u001b[0m \u001b[0;32mis\u001b[0m \u001b[0;32mNone\u001b[0m\u001b[0;34m:\u001b[0m\u001b[0;34m\u001b[0m\u001b[0;34m\u001b[0m\u001b[0m\n\u001b[1;32m   2617\u001b[0m       \u001b[0;32mraise\u001b[0m \u001b[0mValueError\u001b[0m\u001b[0;34m(\u001b[0m\u001b[0;34m'Column {} is not supported.'\u001b[0m\u001b[0;34m.\u001b[0m\u001b[0mformat\u001b[0m\u001b[0;34m(\u001b[0m\u001b[0mcolumn\u001b[0m\u001b[0;34m.\u001b[0m\u001b[0mname\u001b[0m\u001b[0;34m)\u001b[0m\u001b[0;34m)\u001b[0m\u001b[0;34m\u001b[0m\u001b[0;34m\u001b[0m\u001b[0m\n",
      "\u001b[0;32m~/anaconda3/envs/tf2/lib/python3.6/site-packages/tensorflow_core/python/feature_column/feature_column_v2.py\u001b[0m in \u001b[0;36mtransform_feature\u001b[0;34m(self, transformation_cache, state_manager)\u001b[0m\n\u001b[1;32m   3747\u001b[0m     \u001b[0;34m\"\"\"Creates a lookup table for the vocabulary list.\"\"\"\u001b[0m\u001b[0;34m\u001b[0m\u001b[0;34m\u001b[0m\u001b[0m\n\u001b[1;32m   3748\u001b[0m     input_tensor = _to_sparse_input_and_drop_ignore_values(\n\u001b[0;32m-> 3749\u001b[0;31m         transformation_cache.get(self.key, state_manager))\n\u001b[0m\u001b[1;32m   3750\u001b[0m     \u001b[0;32mreturn\u001b[0m \u001b[0mself\u001b[0m\u001b[0;34m.\u001b[0m\u001b[0m_transform_input_tensor\u001b[0m\u001b[0;34m(\u001b[0m\u001b[0minput_tensor\u001b[0m\u001b[0;34m,\u001b[0m \u001b[0mstate_manager\u001b[0m\u001b[0;34m)\u001b[0m\u001b[0;34m\u001b[0m\u001b[0;34m\u001b[0m\u001b[0m\n\u001b[1;32m   3751\u001b[0m \u001b[0;34m\u001b[0m\u001b[0m\n",
      "\u001b[0;32m~/anaconda3/envs/tf2/lib/python3.6/site-packages/tensorflow_core/python/feature_column/feature_column_v2.py\u001b[0m in \u001b[0;36mget\u001b[0;34m(self, key, state_manager)\u001b[0m\n\u001b[1;32m   2600\u001b[0m \u001b[0;34m\u001b[0m\u001b[0m\n\u001b[1;32m   2601\u001b[0m     \u001b[0;32mif\u001b[0m \u001b[0mkey\u001b[0m \u001b[0;32min\u001b[0m \u001b[0mself\u001b[0m\u001b[0;34m.\u001b[0m\u001b[0m_features\u001b[0m\u001b[0;34m:\u001b[0m\u001b[0;34m\u001b[0m\u001b[0;34m\u001b[0m\u001b[0m\n\u001b[0;32m-> 2602\u001b[0;31m       \u001b[0mfeature_tensor\u001b[0m \u001b[0;34m=\u001b[0m \u001b[0mself\u001b[0m\u001b[0;34m.\u001b[0m\u001b[0m_get_raw_feature_as_tensor\u001b[0m\u001b[0;34m(\u001b[0m\u001b[0mkey\u001b[0m\u001b[0;34m)\u001b[0m\u001b[0;34m\u001b[0m\u001b[0;34m\u001b[0m\u001b[0m\n\u001b[0m\u001b[1;32m   2603\u001b[0m       \u001b[0mself\u001b[0m\u001b[0;34m.\u001b[0m\u001b[0m_feature_tensors\u001b[0m\u001b[0;34m[\u001b[0m\u001b[0mkey\u001b[0m\u001b[0;34m]\u001b[0m \u001b[0;34m=\u001b[0m \u001b[0mfeature_tensor\u001b[0m\u001b[0;34m\u001b[0m\u001b[0;34m\u001b[0m\u001b[0m\n\u001b[1;32m   2604\u001b[0m       \u001b[0;32mreturn\u001b[0m \u001b[0mfeature_tensor\u001b[0m\u001b[0;34m\u001b[0m\u001b[0;34m\u001b[0m\u001b[0m\n",
      "\u001b[0;32m~/anaconda3/envs/tf2/lib/python3.6/site-packages/tensorflow_core/python/feature_column/feature_column_v2.py\u001b[0m in \u001b[0;36m_get_raw_feature_as_tensor\u001b[0;34m(self, key)\u001b[0m\n\u001b[1;32m   2639\u001b[0m     \u001b[0mraw_feature\u001b[0m \u001b[0;34m=\u001b[0m \u001b[0mself\u001b[0m\u001b[0;34m.\u001b[0m\u001b[0m_features\u001b[0m\u001b[0;34m[\u001b[0m\u001b[0mkey\u001b[0m\u001b[0;34m]\u001b[0m\u001b[0;34m\u001b[0m\u001b[0;34m\u001b[0m\u001b[0m\n\u001b[1;32m   2640\u001b[0m     feature_tensor = sparse_tensor_lib.convert_to_tensor_or_sparse_tensor(\n\u001b[0;32m-> 2641\u001b[0;31m         raw_feature)\n\u001b[0m\u001b[1;32m   2642\u001b[0m \u001b[0;34m\u001b[0m\u001b[0m\n\u001b[1;32m   2643\u001b[0m     \u001b[0;32mdef\u001b[0m \u001b[0mexpand_dims\u001b[0m\u001b[0;34m(\u001b[0m\u001b[0minput_tensor\u001b[0m\u001b[0;34m)\u001b[0m\u001b[0;34m:\u001b[0m\u001b[0;34m\u001b[0m\u001b[0;34m\u001b[0m\u001b[0m\n",
      "\u001b[0;32m~/anaconda3/envs/tf2/lib/python3.6/site-packages/tensorflow_core/python/framework/sparse_tensor.py\u001b[0m in \u001b[0;36mconvert_to_tensor_or_sparse_tensor\u001b[0;34m(value, dtype, name)\u001b[0m\n\u001b[1;32m    430\u001b[0m                          (dtype.name, value.dtype.name))\n\u001b[1;32m    431\u001b[0m     \u001b[0;32mreturn\u001b[0m \u001b[0mvalue\u001b[0m\u001b[0;34m\u001b[0m\u001b[0;34m\u001b[0m\u001b[0m\n\u001b[0;32m--> 432\u001b[0;31m   \u001b[0;32mreturn\u001b[0m \u001b[0mops\u001b[0m\u001b[0;34m.\u001b[0m\u001b[0mconvert_to_tensor\u001b[0m\u001b[0;34m(\u001b[0m\u001b[0mvalue\u001b[0m\u001b[0;34m,\u001b[0m \u001b[0mdtype\u001b[0m\u001b[0;34m=\u001b[0m\u001b[0mdtype\u001b[0m\u001b[0;34m,\u001b[0m \u001b[0mname\u001b[0m\u001b[0;34m=\u001b[0m\u001b[0mname\u001b[0m\u001b[0;34m)\u001b[0m\u001b[0;34m\u001b[0m\u001b[0;34m\u001b[0m\u001b[0m\n\u001b[0m\u001b[1;32m    433\u001b[0m \u001b[0;34m\u001b[0m\u001b[0m\n\u001b[1;32m    434\u001b[0m \u001b[0;34m\u001b[0m\u001b[0m\n",
      "\u001b[0;32m~/anaconda3/envs/tf2/lib/python3.6/site-packages/tensorflow_core/python/framework/ops.py\u001b[0m in \u001b[0;36mconvert_to_tensor\u001b[0;34m(value, dtype, name, as_ref, preferred_dtype, dtype_hint, ctx, accepted_result_types)\u001b[0m\n\u001b[1;32m   1312\u001b[0m \u001b[0;34m\u001b[0m\u001b[0m\n\u001b[1;32m   1313\u001b[0m     \u001b[0;32mif\u001b[0m \u001b[0mret\u001b[0m \u001b[0;32mis\u001b[0m \u001b[0;32mNone\u001b[0m\u001b[0;34m:\u001b[0m\u001b[0;34m\u001b[0m\u001b[0;34m\u001b[0m\u001b[0m\n\u001b[0;32m-> 1314\u001b[0;31m       \u001b[0mret\u001b[0m \u001b[0;34m=\u001b[0m \u001b[0mconversion_func\u001b[0m\u001b[0;34m(\u001b[0m\u001b[0mvalue\u001b[0m\u001b[0;34m,\u001b[0m \u001b[0mdtype\u001b[0m\u001b[0;34m=\u001b[0m\u001b[0mdtype\u001b[0m\u001b[0;34m,\u001b[0m \u001b[0mname\u001b[0m\u001b[0;34m=\u001b[0m\u001b[0mname\u001b[0m\u001b[0;34m,\u001b[0m \u001b[0mas_ref\u001b[0m\u001b[0;34m=\u001b[0m\u001b[0mas_ref\u001b[0m\u001b[0;34m)\u001b[0m\u001b[0;34m\u001b[0m\u001b[0;34m\u001b[0m\u001b[0m\n\u001b[0m\u001b[1;32m   1315\u001b[0m \u001b[0;34m\u001b[0m\u001b[0m\n\u001b[1;32m   1316\u001b[0m     \u001b[0;32mif\u001b[0m \u001b[0mret\u001b[0m \u001b[0;32mis\u001b[0m \u001b[0mNotImplemented\u001b[0m\u001b[0;34m:\u001b[0m\u001b[0;34m\u001b[0m\u001b[0;34m\u001b[0m\u001b[0m\n",
      "\u001b[0;32m~/anaconda3/envs/tf2/lib/python3.6/site-packages/tensorflow_core/python/framework/constant_op.py\u001b[0m in \u001b[0;36m_constant_tensor_conversion_function\u001b[0;34m(v, dtype, name, as_ref)\u001b[0m\n\u001b[1;32m    315\u001b[0m                                          as_ref=False):\n\u001b[1;32m    316\u001b[0m   \u001b[0m_\u001b[0m \u001b[0;34m=\u001b[0m \u001b[0mas_ref\u001b[0m\u001b[0;34m\u001b[0m\u001b[0;34m\u001b[0m\u001b[0m\n\u001b[0;32m--> 317\u001b[0;31m   \u001b[0;32mreturn\u001b[0m \u001b[0mconstant\u001b[0m\u001b[0;34m(\u001b[0m\u001b[0mv\u001b[0m\u001b[0;34m,\u001b[0m \u001b[0mdtype\u001b[0m\u001b[0;34m=\u001b[0m\u001b[0mdtype\u001b[0m\u001b[0;34m,\u001b[0m \u001b[0mname\u001b[0m\u001b[0;34m=\u001b[0m\u001b[0mname\u001b[0m\u001b[0;34m)\u001b[0m\u001b[0;34m\u001b[0m\u001b[0;34m\u001b[0m\u001b[0m\n\u001b[0m\u001b[1;32m    318\u001b[0m \u001b[0;34m\u001b[0m\u001b[0m\n\u001b[1;32m    319\u001b[0m \u001b[0;34m\u001b[0m\u001b[0m\n",
      "\u001b[0;32m~/anaconda3/envs/tf2/lib/python3.6/site-packages/tensorflow_core/python/framework/constant_op.py\u001b[0m in \u001b[0;36mconstant\u001b[0;34m(value, dtype, shape, name)\u001b[0m\n\u001b[1;32m    256\u001b[0m   \"\"\"\n\u001b[1;32m    257\u001b[0m   return _constant_impl(value, dtype, shape, name, verify_shape=False,\n\u001b[0;32m--> 258\u001b[0;31m                         allow_broadcast=True)\n\u001b[0m\u001b[1;32m    259\u001b[0m \u001b[0;34m\u001b[0m\u001b[0m\n\u001b[1;32m    260\u001b[0m \u001b[0;34m\u001b[0m\u001b[0m\n",
      "\u001b[0;32m~/anaconda3/envs/tf2/lib/python3.6/site-packages/tensorflow_core/python/framework/constant_op.py\u001b[0m in \u001b[0;36m_constant_impl\u001b[0;34m(value, dtype, shape, name, verify_shape, allow_broadcast)\u001b[0m\n\u001b[1;32m    264\u001b[0m   \u001b[0mctx\u001b[0m \u001b[0;34m=\u001b[0m \u001b[0mcontext\u001b[0m\u001b[0;34m.\u001b[0m\u001b[0mcontext\u001b[0m\u001b[0;34m(\u001b[0m\u001b[0;34m)\u001b[0m\u001b[0;34m\u001b[0m\u001b[0;34m\u001b[0m\u001b[0m\n\u001b[1;32m    265\u001b[0m   \u001b[0;32mif\u001b[0m \u001b[0mctx\u001b[0m\u001b[0;34m.\u001b[0m\u001b[0mexecuting_eagerly\u001b[0m\u001b[0;34m(\u001b[0m\u001b[0;34m)\u001b[0m\u001b[0;34m:\u001b[0m\u001b[0;34m\u001b[0m\u001b[0;34m\u001b[0m\u001b[0m\n\u001b[0;32m--> 266\u001b[0;31m     \u001b[0mt\u001b[0m \u001b[0;34m=\u001b[0m \u001b[0mconvert_to_eager_tensor\u001b[0m\u001b[0;34m(\u001b[0m\u001b[0mvalue\u001b[0m\u001b[0;34m,\u001b[0m \u001b[0mctx\u001b[0m\u001b[0;34m,\u001b[0m \u001b[0mdtype\u001b[0m\u001b[0;34m)\u001b[0m\u001b[0;34m\u001b[0m\u001b[0;34m\u001b[0m\u001b[0m\n\u001b[0m\u001b[1;32m    267\u001b[0m     \u001b[0;32mif\u001b[0m \u001b[0mshape\u001b[0m \u001b[0;32mis\u001b[0m \u001b[0;32mNone\u001b[0m\u001b[0;34m:\u001b[0m\u001b[0;34m\u001b[0m\u001b[0;34m\u001b[0m\u001b[0m\n\u001b[1;32m    268\u001b[0m       \u001b[0;32mreturn\u001b[0m \u001b[0mt\u001b[0m\u001b[0;34m\u001b[0m\u001b[0;34m\u001b[0m\u001b[0m\n",
      "\u001b[0;32m~/anaconda3/envs/tf2/lib/python3.6/site-packages/tensorflow_core/python/framework/constant_op.py\u001b[0m in \u001b[0;36mconvert_to_eager_tensor\u001b[0;34m(value, ctx, dtype)\u001b[0m\n\u001b[1;32m     94\u001b[0m       \u001b[0mdtype\u001b[0m \u001b[0;34m=\u001b[0m \u001b[0mdtypes\u001b[0m\u001b[0;34m.\u001b[0m\u001b[0mas_dtype\u001b[0m\u001b[0;34m(\u001b[0m\u001b[0mdtype\u001b[0m\u001b[0;34m)\u001b[0m\u001b[0;34m.\u001b[0m\u001b[0mas_datatype_enum\u001b[0m\u001b[0;34m\u001b[0m\u001b[0;34m\u001b[0m\u001b[0m\n\u001b[1;32m     95\u001b[0m   \u001b[0mctx\u001b[0m\u001b[0;34m.\u001b[0m\u001b[0mensure_initialized\u001b[0m\u001b[0;34m(\u001b[0m\u001b[0;34m)\u001b[0m\u001b[0;34m\u001b[0m\u001b[0;34m\u001b[0m\u001b[0m\n\u001b[0;32m---> 96\u001b[0;31m   \u001b[0;32mreturn\u001b[0m \u001b[0mops\u001b[0m\u001b[0;34m.\u001b[0m\u001b[0mEagerTensor\u001b[0m\u001b[0;34m(\u001b[0m\u001b[0mvalue\u001b[0m\u001b[0;34m,\u001b[0m \u001b[0mctx\u001b[0m\u001b[0;34m.\u001b[0m\u001b[0mdevice_name\u001b[0m\u001b[0;34m,\u001b[0m \u001b[0mdtype\u001b[0m\u001b[0;34m)\u001b[0m\u001b[0;34m\u001b[0m\u001b[0;34m\u001b[0m\u001b[0m\n\u001b[0m\u001b[1;32m     97\u001b[0m \u001b[0;34m\u001b[0m\u001b[0m\n\u001b[1;32m     98\u001b[0m \u001b[0;34m\u001b[0m\u001b[0m\n",
      "\u001b[0;31mValueError\u001b[0m: Can't convert non-rectangular Python sequence to Tensor."
     ]
    }
   ],
   "source": [
    "na_fill_dict = {f:0 for f in num_feat}\n",
    "na_fill_dict.update({f:\"nan\" for f in cat_feat})\n",
    "chunk_fillna = chunk.fillna(na_fill_dict)\n",
    "f=\"C28\"\n",
    "print(\">>> featureMap:\")\n",
    "\",\".join(cat_featureMap[f])\n",
    "# tfc=tf.feature_column.categorical_column_with_vocabulary_list(key=f,vocabulary_list=cat_featureMap[f])\n",
    "tfc=tf.feature_column.sequence_categorical_column_with_vocabulary_list(key=f,vocabulary_list=cat_featureMap[f])\n",
    "tfc=tf.feature_column.indicator_column(tfc)\n",
    "print(\">>> original:\")\n",
    "chunk_fillna[f]\n",
    "print(\">>> feature_columned:\")\n",
    "tf.keras.experimental.SequenceFeatures(tfc)(dict(chunk_fillna))\n"
   ]
  },
  {
   "cell_type": "code",
   "execution_count": null,
   "metadata": {},
   "outputs": [],
   "source": []
  },
  {
   "cell_type": "markdown",
   "metadata": {},
   "source": [
    "## Custom Embedding Lookup"
   ]
  },
  {
   "cell_type": "code",
   "execution_count": 228,
   "metadata": {
    "ExecuteTime": {
     "end_time": "2020-05-18T12:07:27.497148Z",
     "start_time": "2020-05-18T12:07:27.473854Z"
    }
   },
   "outputs": [
    {
     "data": {
      "text/plain": [
       "<tf.Tensor: shape=(3376, 4), dtype=float64, numpy=\n",
       "array([[ 2.00076738e-03, -1.66938190e-03,  1.96094384e-03,\n",
       "        -2.17433416e-03],\n",
       "       [-3.04468341e-04, -1.02538260e-04,  1.23791813e-03,\n",
       "         1.66362127e-03],\n",
       "       [-2.52451650e-03, -7.69125247e-04, -1.15973723e-03,\n",
       "         6.60721851e-04],\n",
       "       ...,\n",
       "       [-1.59397120e-03,  5.35684171e-04,  5.27355848e-05,\n",
       "         1.72061028e-03],\n",
       "       [ 7.86939315e-04, -2.44646838e-03, -2.19798721e-03,\n",
       "         1.39865879e-03],\n",
       "       [-1.36939802e-04, -2.03143836e-03,  6.35664960e-04,\n",
       "        -4.19421690e-04]])>"
      ]
     },
     "execution_count": 228,
     "metadata": {},
     "output_type": "execute_result"
    },
    {
     "data": {
      "text/plain": [
       "<tf.Tensor: shape=(341, 4), dtype=float64, numpy=\n",
       "array([[-2.69064183e-04, -5.21357485e-05, -1.55130023e-04,\n",
       "        -2.37630000e-05],\n",
       "       [ 2.48563584e-04,  1.39643976e-04,  9.58589066e-06,\n",
       "         1.97786267e-04],\n",
       "       [-3.62223776e-05,  1.58399234e-04, -5.98115319e-05,\n",
       "        -5.39664499e-05],\n",
       "       ...,\n",
       "       [-3.08652133e-04, -8.11051590e-06, -5.49057017e-05,\n",
       "         1.77924917e-05],\n",
       "       [-1.75004790e-04, -1.59730090e-04,  2.42082631e-04,\n",
       "        -3.78833239e-04],\n",
       "       [-3.21719650e-04,  2.67135174e-04,  2.79550813e-04,\n",
       "        -9.11520983e-05]])>"
      ]
     },
     "execution_count": 228,
     "metadata": {},
     "output_type": "execute_result"
    },
    {
     "data": {
      "text/plain": [
       "<tf.Tensor: shape=(340, 4), dtype=float64, numpy=\n",
       "array([[-1.68139194e-05, -2.56742443e-04, -5.35781567e-04,\n",
       "         6.07935337e-04],\n",
       "       [-5.02708935e-05, -2.16739308e-04, -4.52237156e-04,\n",
       "         9.08683770e-05],\n",
       "       [-1.54491083e-04, -3.45392266e-04, -3.46641676e-04,\n",
       "         5.36590049e-06],\n",
       "       ...,\n",
       "       [-4.63030444e-05,  5.43878383e-04, -3.08475267e-04,\n",
       "         3.33819764e-04],\n",
       "       [ 3.47294193e-04, -4.29777664e-05, -2.27120495e-04,\n",
       "         7.02353703e-04],\n",
       "       [ 6.78620270e-05, -8.04858576e-04, -9.91656688e-04,\n",
       "         1.45940236e-04]])>"
      ]
     },
     "execution_count": 228,
     "metadata": {},
     "output_type": "execute_result"
    }
   ],
   "source": [
    "multihot_sparse = sp_tensor_list[1]\n",
    "tf.nn.embedding_lookup(params=M.fm_emb,ids=multihot_sparse.values)\n",
    "tf.nn.embedding_lookup_sparse(params=M.fm_emb,sp_ids=sp_tensor_list[0],sp_weights=None,combiner=\"mean\")\n",
    "tf.nn.embedding_lookup_sparse(params=M.fm_emb,sp_ids=sp_tensor_list[1],sp_weights=None,combiner=\"mean\")"
   ]
  },
  {
   "cell_type": "code",
   "execution_count": 123,
   "metadata": {
    "ExecuteTime": {
     "end_time": "2020-05-14T08:47:28.251444Z",
     "start_time": "2020-05-14T08:47:28.243028Z"
    }
   },
   "outputs": [
    {
     "data": {
      "text/plain": [
       "tensorflow.python.feature_column.dense_features_v2.DenseFeatures"
      ]
     },
     "execution_count": 123,
     "metadata": {},
     "output_type": "execute_result"
    },
    {
     "data": {
      "text/plain": [
       "tensorflow.python.feature_column.sequence_feature_column.SequenceFeatures"
      ]
     },
     "execution_count": 123,
     "metadata": {},
     "output_type": "execute_result"
    }
   ],
   "source": [
    "tf.keras.layers.DenseFeatures\n",
    "tf.keras.experimental.SequenceFeatures"
   ]
  },
  {
   "cell_type": "code",
   "execution_count": null,
   "metadata": {},
   "outputs": [],
   "source": []
  }
 ],
 "metadata": {
  "kernelspec": {
   "display_name": "Py3.7(zt)",
   "language": "python",
   "name": "zt"
  },
  "language_info": {
   "codemirror_mode": {
    "name": "ipython",
    "version": 3
   },
   "file_extension": ".py",
   "mimetype": "text/x-python",
   "name": "python",
   "nbconvert_exporter": "python",
   "pygments_lexer": "ipython3",
   "version": "3.7.9"
  },
  "toc": {
   "base_numbering": 1,
   "nav_menu": {},
   "number_sections": true,
   "sideBar": true,
   "skip_h1_title": false,
   "title_cell": "Table of Contents",
   "title_sidebar": "Contents",
   "toc_cell": false,
   "toc_position": {
    "height": "calc(100% - 180px)",
    "left": "10px",
    "top": "150px",
    "width": "205px"
   },
   "toc_section_display": true,
   "toc_window_display": true
  },
  "varInspector": {
   "cols": {
    "lenName": 16,
    "lenType": 16,
    "lenVar": 40
   },
   "kernels_config": {
    "python": {
     "delete_cmd_postfix": "",
     "delete_cmd_prefix": "del ",
     "library": "var_list.py",
     "varRefreshCmd": "print(var_dic_list())"
    },
    "r": {
     "delete_cmd_postfix": ") ",
     "delete_cmd_prefix": "rm(",
     "library": "var_list.r",
     "varRefreshCmd": "cat(var_dic_list()) "
    }
   },
   "types_to_exclude": [
    "module",
    "function",
    "builtin_function_or_method",
    "instance",
    "_Feature"
   ],
   "window_display": false
  }
 },
 "nbformat": 4,
 "nbformat_minor": 2
}
