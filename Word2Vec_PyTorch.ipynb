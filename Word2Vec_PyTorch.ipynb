{
 "cells": [
  {
   "cell_type": "code",
   "execution_count": 16,
   "metadata": {
    "ExecuteTime": {
     "end_time": "2021-02-26T09:22:29.578539Z",
     "start_time": "2021-02-26T09:22:29.133995Z"
    }
   },
   "outputs": [],
   "source": [
    "from IPython.core.interactiveshell import InteractiveShell\n",
    "InteractiveShell.ast_node_interactivity = \"all\"\n",
    "%matplotlib inline\n",
    "from tqdm.auto import tqdm\n",
    "import concurrent.futures\n",
    "from multiprocessing import Pool\n",
    "import copy,os,sys\n",
    "from collections import Counter,deque\n",
    "import matplotlib.pyplot as plt\n",
    "import json\n",
    "import functools\n",
    "import itertools\n",
    "import math"
   ]
  },
  {
   "cell_type": "code",
   "execution_count": 2,
   "metadata": {
    "ExecuteTime": {
     "end_time": "2021-02-26T08:23:31.041564Z",
     "start_time": "2021-02-26T08:23:21.322224Z"
    }
   },
   "outputs": [],
   "source": [
    "import torch"
   ]
  },
  {
   "cell_type": "code",
   "execution_count": 40,
   "metadata": {
    "ExecuteTime": {
     "end_time": "2021-02-26T09:33:24.164674Z",
     "start_time": "2021-02-26T09:33:24.149941Z"
    }
   },
   "outputs": [
    {
     "data": {
      "text/plain": [
       "Parameter containing:\n",
       "tensor([[-0.2176,  0.2311, -0.1036],\n",
       "        [ 0.0611,  0.1926, -0.2174],\n",
       "        [ 0.2406,  0.1752,  0.0449],\n",
       "        [-0.1772, -0.2120, -0.0990],\n",
       "        [-0.0699, -0.1236, -0.1812],\n",
       "        [-0.1649,  0.1863, -0.1928],\n",
       "        [ 0.2110, -0.0783,  0.0201],\n",
       "        [ 0.0808,  0.0801,  0.0208],\n",
       "        [ 0.0301, -0.2290, -0.0842],\n",
       "        [-0.2400, -0.0680,  0.0410]], requires_grad=True)"
      ]
     },
     "execution_count": 40,
     "metadata": {},
     "output_type": "execute_result"
    },
    {
     "data": {
      "text/plain": [
       "Parameter containing:\n",
       "tensor([[-0.0676, -0.1233, -0.1751],\n",
       "        [-0.1638,  0.0504, -0.2271],\n",
       "        [-0.0458,  0.2188,  0.2253],\n",
       "        [ 0.1069, -0.2410,  0.2020],\n",
       "        [ 0.1209,  0.2178, -0.0388],\n",
       "        [ 0.1979, -0.0137, -0.1540],\n",
       "        [-0.1406,  0.0408, -0.2246],\n",
       "        [ 0.1237,  0.1747, -0.0564],\n",
       "        [ 0.1977,  0.1329,  0.1071],\n",
       "        [ 0.0365, -0.1141,  0.1727]], requires_grad=True)"
      ]
     },
     "execution_count": 40,
     "metadata": {},
     "output_type": "execute_result"
    }
   ],
   "source": [
    "nwords=10\n",
    "emb_size=3\n",
    "# input matrix\n",
    "emb = torch.nn.Embedding(nwords,emb_size)\n",
    "torch.nn.init.uniform_(emb.weight,-0.25,0.25)\n",
    "# output matrix\n",
    "projection = torch.nn.Linear(emb_size, nwords)\n",
    "torch.nn.init.uniform_(projection.weight, -0.25, 0.25)"
   ]
  },
  {
   "cell_type": "code",
   "execution_count": 51,
   "metadata": {
    "ExecuteTime": {
     "end_time": "2021-02-26T09:38:05.759261Z",
     "start_time": "2021-02-26T09:38:05.752564Z"
    }
   },
   "outputs": [],
   "source": [
    "words=torch.LongTensor([0,1])\n",
    "emb_res = emb(words)\n",
    "emb_sum = torch.sum(emb_res, dim=0) # emb_size\n",
    "# emb_sum = emb_sum.view(1, -1) # 1, emb_size\n",
    "# out = projection(emb_sum)"
   ]
  },
  {
   "cell_type": "code",
   "execution_count": 52,
   "metadata": {
    "ExecuteTime": {
     "end_time": "2021-02-26T09:38:06.484612Z",
     "start_time": "2021-02-26T09:38:06.474787Z"
    }
   },
   "outputs": [
    {
     "data": {
      "text/plain": [
       "tensor([-0.1565,  0.4237, -0.3210], grad_fn=<SumBackward1>)"
      ]
     },
     "execution_count": 52,
     "metadata": {},
     "output_type": "execute_result"
    },
    {
     "data": {
      "text/plain": [
       "tensor([[-0.1565,  0.4237, -0.3210]], grad_fn=<ViewBackward>)"
      ]
     },
     "execution_count": 52,
     "metadata": {},
     "output_type": "execute_result"
    }
   ],
   "source": [
    "emb_sum\n",
    "emb_sum.view(1,-1)"
   ]
  },
  {
   "cell_type": "code",
   "execution_count": 55,
   "metadata": {
    "ExecuteTime": {
     "end_time": "2021-02-26T09:39:02.408950Z",
     "start_time": "2021-02-26T09:39:02.387397Z"
    }
   },
   "outputs": [
    {
     "data": {
      "text/plain": [
       "tensor([-0.5090,  0.0828, -0.1603, -0.4850,  0.3798, -0.2147,  0.4598, -0.2401,\n",
       "        -0.5520, -0.3378], grad_fn=<AddBackward0>)"
      ]
     },
     "execution_count": 55,
     "metadata": {},
     "output_type": "execute_result"
    },
    {
     "data": {
      "text/plain": [
       "tensor([[-0.5090,  0.0828, -0.1603, -0.4850,  0.3798, -0.2147,  0.4598, -0.2401,\n",
       "         -0.5520, -0.3378]], grad_fn=<AddmmBackward>)"
      ]
     },
     "execution_count": 55,
     "metadata": {},
     "output_type": "execute_result"
    }
   ],
   "source": [
    "projection(emb_sum)\n",
    "projection(emb_sum.view(1,-1))"
   ]
  },
  {
   "cell_type": "code",
   "execution_count": 48,
   "metadata": {
    "ExecuteTime": {
     "end_time": "2021-02-26T09:35:39.377593Z",
     "start_time": "2021-02-26T09:35:39.371536Z"
    }
   },
   "outputs": [
    {
     "data": {
      "text/plain": [
       "torch.Size([2, 3])"
      ]
     },
     "execution_count": 48,
     "metadata": {},
     "output_type": "execute_result"
    },
    {
     "data": {
      "text/plain": [
       "torch.Size([10, 3])"
      ]
     },
     "execution_count": 48,
     "metadata": {},
     "output_type": "execute_result"
    }
   ],
   "source": [
    "emb_sum.shape\n",
    "projection.weight.shape"
   ]
  },
  {
   "cell_type": "code",
   "execution_count": null,
   "metadata": {},
   "outputs": [],
   "source": []
  },
  {
   "cell_type": "code",
   "execution_count": null,
   "metadata": {},
   "outputs": [],
   "source": [
    "class cbow(torch.nn.Module):\n",
    "    def __init__(self, nwords, emb_size):\n",
    "        super(cbow, self).__init__()\n",
    "        #input matrix\n",
    "        self.emb = torch.nn.Embedding(nwords, emb_size)\n",
    "        torch.nn.init.uniform_(self.emb.weight, -0.25, 0.25)\n",
    "        #output matrix\n",
    "        self.projection = torch.nn.Linear(emb_size, nwords)\n",
    "        torch.nn.init.uniform_(self.projection.weight, -0.25, 0.25)\n",
    "\n",
    "    def forward(self, words):\n",
    "        emb = self.emb(words)\n",
    "        emb_sum = torch.sum(emb, dim=0) # emb_size\n",
    "        emb_sum = emb_sum.view(1, -1) # 1, emb_size\n",
    "        out = self.projection(emb_sum)\n",
    "        return out\n",
    "\n",
    "class skip(torch.nn.Module):\n",
    "    def __init__(self, nwords, emb_size):\n",
    "        super(skip, self).__init__()\n",
    "        #input matrix\n",
    "        self.emb = torch.nn.Embedding(nwords, emb_size)\n",
    "        torch.nn.init.uniform_(self.emb.weight, -0.25, 0.25)\n",
    "        #output matrix\n",
    "        # self.context_emb = torch.nn.Parameter(torch.randn(emb_size, nwords))\n",
    "        self.context_emb = torch.empty(emb_size, nwords, requires_grad=True).type(torch.cuda.FloatTensor)\n",
    "\n",
    "    def forward(self, word):\n",
    "        emb = self.emb(word) # 1, emb_size\n",
    "        out = torch.matmul(emb, self.context_emb) # 1, nwords\n",
    "        return out\n",
    "    "
   ]
  },
  {
   "cell_type": "code",
   "execution_count": null,
   "metadata": {},
   "outputs": [],
   "source": [
    "embeddings_path = \"embeddings.txt\"\n",
    "\n",
    "#saving embedding files\n",
    "with open(embeddings_path, 'w') as embeddings_file:\n",
    "    W = model.emb.weight.data.cpu().numpy()\n",
    "    for i in range(nword):\n",
    "        ith_embedding = '\\t'.join(map(str, W[i]))\n",
    "        embeddings_file.write(ith_embedding + '\\n')"
   ]
  },
  {
   "cell_type": "code",
   "execution_count": null,
   "metadata": {},
   "outputs": [],
   "source": []
  },
  {
   "cell_type": "code",
   "execution_count": null,
   "metadata": {},
   "outputs": [],
   "source": []
  }
 ],
 "metadata": {
  "kernelspec": {
   "display_name": "Python3.7(tf2)",
   "language": "python",
   "name": "tf2"
  },
  "language_info": {
   "codemirror_mode": {
    "name": "ipython",
    "version": 3
   },
   "file_extension": ".py",
   "mimetype": "text/x-python",
   "name": "python",
   "nbconvert_exporter": "python",
   "pygments_lexer": "ipython3",
   "version": "3.7.9"
  },
  "toc": {
   "base_numbering": 1,
   "nav_menu": {},
   "number_sections": true,
   "sideBar": true,
   "skip_h1_title": false,
   "title_cell": "Table of Contents",
   "title_sidebar": "Contents",
   "toc_cell": false,
   "toc_position": {},
   "toc_section_display": true,
   "toc_window_display": false
  }
 },
 "nbformat": 4,
 "nbformat_minor": 4
}
