{
 "cells": [
  {
   "cell_type": "code",
   "execution_count": 1,
   "metadata": {
    "ExecuteTime": {
     "end_time": "2019-05-28T10:29:35.248997Z",
     "start_time": "2019-05-28T10:29:34.959003Z"
    }
   },
   "outputs": [],
   "source": [
    "from IPython.core.interactiveshell import InteractiveShell\n",
    "InteractiveShell.ast_node_interactivity = \"all\"\n",
    "%matplotlib inline\n",
    "from tqdm import tqdm_notebook\n",
    "import concurrent.futures\n",
    "from multiprocessing import Pool"
   ]
  },
  {
   "cell_type": "code",
   "execution_count": 2,
   "metadata": {
    "ExecuteTime": {
     "end_time": "2019-05-28T10:29:35.369791Z",
     "start_time": "2019-05-28T10:29:35.250395Z"
    }
   },
   "outputs": [],
   "source": [
    "from zac_pyutils import ExqUtils\n",
    "import pandas as pd"
   ]
  },
  {
   "cell_type": "code",
   "execution_count": null,
   "metadata": {
    "ExecuteTime": {
     "end_time": "2019-05-28T10:07:23.369178Z",
     "start_time": "2019-05-28T10:07:23.349021Z"
    }
   },
   "outputs": [],
   "source": [
    "fileIter = ExqUtils.load_file_as_iter(\"./data/nlp/sample_data.txt\")\n",
    "def func(iter_list): return [i.split(\"\\t\") for i in iter_list]\n",
    "ExqUtils.map_on_iter(fileIter,func,chunk_size=5)"
   ]
  },
  {
   "cell_type": "code",
   "execution_count": 9,
   "metadata": {
    "ExecuteTime": {
     "end_time": "2019-05-28T10:32:15.492836Z",
     "start_time": "2019-05-28T10:32:15.476534Z"
    }
   },
   "outputs": [],
   "source": [
    "?pd.read_csv"
   ]
  },
  {
   "cell_type": "code",
   "execution_count": 29,
   "metadata": {
    "ExecuteTime": {
     "end_time": "2019-05-28T10:52:28.842821Z",
     "start_time": "2019-05-28T10:52:28.768147Z"
    }
   },
   "outputs": [
    {
     "name": "stdout",
     "output_type": "stream",
     "text": [
      "chunk: \n",
      "\n"
     ]
    },
    {
     "data": {
      "text/html": [
       "<div>\n",
       "<style scoped>\n",
       "    .dataframe tbody tr th:only-of-type {\n",
       "        vertical-align: middle;\n",
       "    }\n",
       "\n",
       "    .dataframe tbody tr th {\n",
       "        vertical-align: top;\n",
       "    }\n",
       "\n",
       "    .dataframe thead th {\n",
       "        text-align: right;\n",
       "    }\n",
       "</style>\n",
       "<table border=\"1\" class=\"dataframe\">\n",
       "  <thead>\n",
       "    <tr style=\"text-align: right;\">\n",
       "      <th></th>\n",
       "      <th>id</th>\n",
       "      <th>label</th>\n",
       "      <th>weight</th>\n",
       "      <th>feature</th>\n",
       "      <th>id+label</th>\n",
       "    </tr>\n",
       "  </thead>\n",
       "  <tbody>\n",
       "    <tr>\n",
       "      <th>0</th>\n",
       "      <td>1547316214767546</td>\n",
       "      <td>0</td>\n",
       "      <td>1.0</td>\n",
       "      <td>[-2.1138265782272E11, 1.9136756786176E11, 1.37...</td>\n",
       "      <td>1547316214767546\\t0</td>\n",
       "    </tr>\n",
       "    <tr>\n",
       "      <th>1</th>\n",
       "      <td>1547359265142185</td>\n",
       "      <td>1</td>\n",
       "      <td>1.5</td>\n",
       "      <td>[-3.332587574553254E10, 1.2432920995661206E11,...</td>\n",
       "      <td>1547359265142185\\t1</td>\n",
       "    </tr>\n",
       "    <tr>\n",
       "      <th>2</th>\n",
       "      <td>1547359265142185</td>\n",
       "      <td>0</td>\n",
       "      <td>1.0</td>\n",
       "      <td>[-3.332587574553254E10, 1.2432920995661206E11,...</td>\n",
       "      <td>1547359265142185\\t0</td>\n",
       "    </tr>\n",
       "    <tr>\n",
       "      <th>3</th>\n",
       "      <td>1547395712913576</td>\n",
       "      <td>1</td>\n",
       "      <td>1.0</td>\n",
       "      <td>[-3.536337856672146E10, 1.7456384445954337E11,...</td>\n",
       "      <td>1547395712913576\\t1</td>\n",
       "    </tr>\n",
       "    <tr>\n",
       "      <th>4</th>\n",
       "      <td>1547395712913576</td>\n",
       "      <td>0</td>\n",
       "      <td>1.0</td>\n",
       "      <td>[-3.536337856672146E10, 1.7456384445954337E11,...</td>\n",
       "      <td>1547395712913576\\t0</td>\n",
       "    </tr>\n",
       "  </tbody>\n",
       "</table>\n",
       "</div>"
      ],
      "text/plain": [
       "                 id  label  weight  \\\n",
       "0  1547316214767546      0     1.0   \n",
       "1  1547359265142185      1     1.5   \n",
       "2  1547359265142185      0     1.0   \n",
       "3  1547395712913576      1     1.0   \n",
       "4  1547395712913576      0     1.0   \n",
       "\n",
       "                                             feature             id+label  \n",
       "0  [-2.1138265782272E11, 1.9136756786176E11, 1.37...  1547316214767546\\t0  \n",
       "1  [-3.332587574553254E10, 1.2432920995661206E11,...  1547359265142185\\t1  \n",
       "2  [-3.332587574553254E10, 1.2432920995661206E11,...  1547359265142185\\t0  \n",
       "3  [-3.536337856672146E10, 1.7456384445954337E11,...  1547395712913576\\t1  \n",
       "4  [-3.536337856672146E10, 1.7456384445954337E11,...  1547395712913576\\t0  "
      ]
     },
     "execution_count": 29,
     "metadata": {},
     "output_type": "execute_result"
    },
    {
     "name": "stdout",
     "output_type": "stream",
     "text": [
      "chunk: \n",
      "\n"
     ]
    },
    {
     "data": {
      "text/html": [
       "<div>\n",
       "<style scoped>\n",
       "    .dataframe tbody tr th:only-of-type {\n",
       "        vertical-align: middle;\n",
       "    }\n",
       "\n",
       "    .dataframe tbody tr th {\n",
       "        vertical-align: top;\n",
       "    }\n",
       "\n",
       "    .dataframe thead th {\n",
       "        text-align: right;\n",
       "    }\n",
       "</style>\n",
       "<table border=\"1\" class=\"dataframe\">\n",
       "  <thead>\n",
       "    <tr style=\"text-align: right;\">\n",
       "      <th></th>\n",
       "      <th>id</th>\n",
       "      <th>label</th>\n",
       "      <th>weight</th>\n",
       "      <th>feature</th>\n",
       "      <th>id+label</th>\n",
       "    </tr>\n",
       "  </thead>\n",
       "  <tbody>\n",
       "    <tr>\n",
       "      <th>5</th>\n",
       "      <td>1547479463982752</td>\n",
       "      <td>1</td>\n",
       "      <td>1.5</td>\n",
       "      <td>[-5.4163746911075E10, 9.795769548778902E10, 8....</td>\n",
       "      <td>1547479463982752\\t1</td>\n",
       "    </tr>\n",
       "    <tr>\n",
       "      <th>6</th>\n",
       "      <td>1547492493344249</td>\n",
       "      <td>1</td>\n",
       "      <td>1.0</td>\n",
       "      <td>[-5.078099235485994E10, 1.4369949748783133E11,...</td>\n",
       "      <td>1547492493344249\\t1</td>\n",
       "    </tr>\n",
       "    <tr>\n",
       "      <th>7</th>\n",
       "      <td>1547599855726501</td>\n",
       "      <td>1</td>\n",
       "      <td>1.5</td>\n",
       "      <td>[-3.190228308965517E10, 1.869087108825747E11, ...</td>\n",
       "      <td>1547599855726501\\t1</td>\n",
       "    </tr>\n",
       "    <tr>\n",
       "      <th>8</th>\n",
       "      <td>1547649573536780</td>\n",
       "      <td>1</td>\n",
       "      <td>1.5</td>\n",
       "      <td>[-5.081451975792308E10, 6.6373391832E10, 9.546...</td>\n",
       "      <td>1547649573536780\\t1</td>\n",
       "    </tr>\n",
       "    <tr>\n",
       "      <th>9</th>\n",
       "      <td>1547649573536780</td>\n",
       "      <td>1</td>\n",
       "      <td>1.0</td>\n",
       "      <td>[-5.081451975792308E10, 6.6373391832E10, 9.546...</td>\n",
       "      <td>1547649573536780\\t1</td>\n",
       "    </tr>\n",
       "  </tbody>\n",
       "</table>\n",
       "</div>"
      ],
      "text/plain": [
       "                 id  label  weight  \\\n",
       "5  1547479463982752      1     1.5   \n",
       "6  1547492493344249      1     1.0   \n",
       "7  1547599855726501      1     1.5   \n",
       "8  1547649573536780      1     1.5   \n",
       "9  1547649573536780      1     1.0   \n",
       "\n",
       "                                             feature             id+label  \n",
       "5  [-5.4163746911075E10, 9.795769548778902E10, 8....  1547479463982752\\t1  \n",
       "6  [-5.078099235485994E10, 1.4369949748783133E11,...  1547492493344249\\t1  \n",
       "7  [-3.190228308965517E10, 1.869087108825747E11, ...  1547599855726501\\t1  \n",
       "8  [-5.081451975792308E10, 6.6373391832E10, 9.546...  1547649573536780\\t1  \n",
       "9  [-5.081451975792308E10, 6.6373391832E10, 9.546...  1547649573536780\\t1  "
      ]
     },
     "execution_count": 29,
     "metadata": {},
     "output_type": "execute_result"
    }
   ],
   "source": [
    "df_chunkList = pd.read_csv(\"./data/nlp/sample_data.txt\", \n",
    "            delimiter=\"\\t\",\n",
    "            names=['id','label','weight','feature'],\n",
    "            chunksize=5,\n",
    "#             iterator=False,\n",
    "           )\n",
    "\n",
    "def my_test(a,b): return str(a)+\"\\t\"+str(b)\n",
    "\n",
    "for chunk in df_chunkList:\n",
    "    print(\"chunk: \\n\")\n",
    "    chunk['feature'] = chunk['feature'].map(lambda x: x.split(\",\"))\n",
    "    chunk['id+label'] = chunk.apply(lambda row: my_test(row['id'],row['label']),axis=1)\n",
    "    chunk"
   ]
  },
  {
   "cell_type": "code",
   "execution_count": null,
   "metadata": {},
   "outputs": [],
   "source": []
  },
  {
   "cell_type": "code",
   "execution_count": null,
   "metadata": {},
   "outputs": [],
   "source": []
  },
  {
   "cell_type": "code",
   "execution_count": null,
   "metadata": {},
   "outputs": [],
   "source": []
  }
 ],
 "metadata": {
  "kernelspec": {
   "display_name": "Python 3",
   "language": "python",
   "name": "python3"
  },
  "language_info": {
   "codemirror_mode": {
    "name": "ipython",
    "version": 3
   },
   "file_extension": ".py",
   "mimetype": "text/x-python",
   "name": "python",
   "nbconvert_exporter": "python",
   "pygments_lexer": "ipython3",
   "version": "3.6.7"
  },
  "toc": {
   "base_numbering": 1,
   "nav_menu": {},
   "number_sections": true,
   "sideBar": true,
   "skip_h1_title": false,
   "title_cell": "Table of Contents",
   "title_sidebar": "Contents",
   "toc_cell": false,
   "toc_position": {},
   "toc_section_display": true,
   "toc_window_display": true
  }
 },
 "nbformat": 4,
 "nbformat_minor": 2
}
