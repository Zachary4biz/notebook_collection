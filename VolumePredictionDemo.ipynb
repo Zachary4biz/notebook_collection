{
 "cells": [
  {
   "cell_type": "code",
   "execution_count": 183,
   "metadata": {
    "ExecuteTime": {
     "end_time": "2021-01-20T07:39:33.435325Z",
     "start_time": "2021-01-20T07:39:32.886249Z"
    }
   },
   "outputs": [],
   "source": [
    "from IPython.core.interactiveshell import InteractiveShell\n",
    "InteractiveShell.ast_node_interactivity = \"all\"\n",
    "%matplotlib inline\n",
    "from tqdm.auto import tqdm\n",
    "import concurrent.futures\n",
    "from multiprocessing import Pool\n",
    "import copy,os,sys\n",
    "from collections import Counter,deque\n",
    "import matplotlib.pyplot as plt\n",
    "import json\n",
    "import functools\n",
    "import itertools\n",
    "import math"
   ]
  },
  {
   "cell_type": "code",
   "execution_count": 184,
   "metadata": {
    "ExecuteTime": {
     "end_time": "2021-01-20T07:39:33.570738Z",
     "start_time": "2021-01-20T07:39:33.441363Z"
    }
   },
   "outputs": [
    {
     "data": {
      "text/plain": [
       "'1.15.4'"
      ]
     },
     "execution_count": 184,
     "metadata": {},
     "output_type": "execute_result"
    }
   ],
   "source": [
    "import tensorflow as tf\n",
    "from tensorflow import feature_column\n",
    "tf.__version__\n",
    "tf.get_logger().setLevel(tf.logging.ERROR)\n",
    "import numpy as np\n",
    "import pandas as pd\n",
    "from glob import glob"
   ]
  },
  {
   "cell_type": "code",
   "execution_count": 185,
   "metadata": {
    "ExecuteTime": {
     "end_time": "2021-01-20T07:39:33.594155Z",
     "start_time": "2021-01-20T07:39:33.576471Z"
    }
   },
   "outputs": [],
   "source": [
    "import os\n",
    "os.environ[\"CUDA_VISIBLE_DEVICES\"]=\"-1\"  # 禁用GPU"
   ]
  },
  {
   "cell_type": "code",
   "execution_count": 211,
   "metadata": {
    "ExecuteTime": {
     "end_time": "2021-01-20T07:50:12.536600Z",
     "start_time": "2021-01-20T07:50:12.221596Z"
    }
   },
   "outputs": [
    {
     "data": {
      "text/plain": [
       "354102162.0"
      ]
     },
     "execution_count": 211,
     "metadata": {},
     "output_type": "execute_result"
    }
   ],
   "source": [
    "pd.read_csv(\"/Users/zac/Downloads/goods_wieght_volume_addCode_rename.csv\",sep=\"\\t\")[\"sale\"].sum()"
   ]
  },
  {
   "cell_type": "code",
   "execution_count": 219,
   "metadata": {
    "ExecuteTime": {
     "end_time": "2021-01-20T07:53:01.664715Z",
     "start_time": "2021-01-20T07:53:01.630842Z"
    }
   },
   "outputs": [
    {
     "data": {
      "text/plain": [
       "354102162.0"
      ]
     },
     "execution_count": 219,
     "metadata": {},
     "output_type": "execute_result"
    }
   ],
   "source": [
    "354102162.0"
   ]
  },
  {
   "cell_type": "code",
   "execution_count": 221,
   "metadata": {
    "ExecuteTime": {
     "end_time": "2021-01-20T08:22:09.668225Z",
     "start_time": "2021-01-20T08:22:09.146483Z"
    }
   },
   "outputs": [
    {
     "name": "stdout",
     "output_type": "stream",
     "text": [
      "1033\n",
      "145189576.0\n",
      "61329.0\n"
     ]
    }
   ],
   "source": [
    "s = 0\n",
    "for idx,i in enumerate(pd.read_csv(\"/Users/zac/Downloads/goods_wieght_volume_addCode_rename.csv\",sep=\"\\t\")[\"sale\"].to_list()):\n",
    "    s = s+i\n",
    "    if s / 354102162.0 >= 0.41:\n",
    "        print(idx)\n",
    "        print(s)\n",
    "        print(i)\n",
    "        break"
   ]
  },
  {
   "cell_type": "markdown",
   "metadata": {},
   "source": [
    "# Data"
   ]
  },
  {
   "cell_type": "markdown",
   "metadata": {},
   "source": [
    "## Analysis"
   ]
  },
  {
   "cell_type": "code",
   "execution_count": null,
   "metadata": {
    "ExecuteTime": {
     "end_time": "2021-01-09T08:08:33.446946Z",
     "start_time": "2021-01-09T08:08:32.718720Z"
    }
   },
   "outputs": [],
   "source": [
    "df = pd.read_csv(\"/Users/didi/Downloads/group_line_data.csv\",sep=\"\\t\")"
   ]
  },
  {
   "cell_type": "code",
   "execution_count": null,
   "metadata": {
    "ExecuteTime": {
     "end_time": "2021-01-09T08:08:37.342929Z",
     "start_time": "2021-01-09T08:08:36.988766Z"
    }
   },
   "outputs": [],
   "source": [
    "df[\"vl_volume\"].describe()\n",
    "df[\"vl_volume\"].apply(lambda x: 100 if x>=100 else x).hist(bins=50)"
   ]
  },
  {
   "cell_type": "code",
   "execution_count": null,
   "metadata": {
    "ExecuteTime": {
     "end_time": "2021-01-06T08:27:05.317723Z",
     "start_time": "2021-01-06T08:27:04.757794Z"
    }
   },
   "outputs": [],
   "source": [
    "df[\"vl_capacity\"].describe()\n",
    "df[\"vl_capacity\"].apply(lambda x: 100 if x>=100 else x).hist(bins=200)"
   ]
  },
  {
   "cell_type": "code",
   "execution_count": null,
   "metadata": {
    "ExecuteTime": {
     "end_time": "2021-01-09T08:09:07.956203Z",
     "start_time": "2021-01-09T08:09:07.452544Z"
    }
   },
   "outputs": [],
   "source": [
    "df[\"sku_cnt\"].describe()\n",
    "df[\"sku_cnt\"].apply(lambda x: 100 if x>=100 else x).hist(bins=200)"
   ]
  },
  {
   "cell_type": "code",
   "execution_count": null,
   "metadata": {
    "ExecuteTime": {
     "end_time": "2021-01-06T08:28:40.411169Z",
     "start_time": "2021-01-06T08:28:39.834057Z"
    }
   },
   "outputs": [],
   "source": [
    "df[\"user_cnt\"].describe()\n",
    "df[\"user_cnt\"].apply(lambda x: 100 if x>=100 else x).hist(bins=200)"
   ]
  },
  {
   "cell_type": "code",
   "execution_count": null,
   "metadata": {
    "ExecuteTime": {
     "end_time": "2021-01-06T10:09:49.745146Z",
     "start_time": "2021-01-06T10:09:49.413369Z"
    }
   },
   "outputs": [],
   "source": [
    "df[\"num_sum\"].describe()\n",
    "df[\"num_sum\"].apply(lambda x: 100 if x>=100 else x).hist(bins=50)"
   ]
  },
  {
   "cell_type": "code",
   "execution_count": null,
   "metadata": {
    "ExecuteTime": {
     "end_time": "2021-01-06T10:11:42.283842Z",
     "start_time": "2021-01-06T10:11:41.175146Z"
    }
   },
   "outputs": [],
   "source": [
    "import datetime\n",
    "help(datetime)\n",
    "datetime.isoformat(\"2020-10-29\")"
   ]
  },
  {
   "cell_type": "code",
   "execution_count": null,
   "metadata": {
    "ExecuteTime": {
     "end_time": "2021-01-06T11:19:18.281873Z",
     "start_time": "2021-01-06T11:19:18.274435Z"
    }
   },
   "outputs": [],
   "source": [
    "time_str=\"2020-12-02 07:18:55\"\n",
    "datetime.datetime.strptime(time_str, '%Y-%m-%d %H:%M:%S').timestamp()"
   ]
  },
  {
   "cell_type": "code",
   "execution_count": null,
   "metadata": {
    "ExecuteTime": {
     "end_time": "2021-01-06T11:16:07.872431Z",
     "start_time": "2021-01-06T11:16:05.127420Z"
    }
   },
   "outputs": [],
   "source": [
    "df[\"tocar_time\"].describe()\n",
    "def time_format(time_str):\n",
    "    try:\n",
    "        datetime.datetime.strptime(time_str, '%Y-%m-%d %H:%M:%S')\n",
    "    except Exception:\n",
    "        \n",
    "df[\"tocar_time\"].apply(lambda x: ).head(3)\n",
    "\n"
   ]
  },
  {
   "cell_type": "markdown",
   "metadata": {},
   "source": [
    "## simulation | numeric"
   ]
  },
  {
   "cell_type": "code",
   "execution_count": null,
   "metadata": {
    "ExecuteTime": {
     "end_time": "2021-01-05T13:11:20.707642Z",
     "start_time": "2021-01-05T13:11:20.544425Z"
    },
    "scrolled": true
   },
   "outputs": [],
   "source": [
    "np.random.seed(2020)\n",
    "def gen_func(x1,x2,x3):\n",
    "    y = 20*x1**3 + 10*x2*x2 + 5*x3 + 7\n",
    "    return y\n",
    "\n",
    "X = np.random.random((50,3))\n",
    "Y = np.apply_along_axis(lambda x: gen_func(*x), axis=1, arr=X)\n",
    "\n",
    "features = {}\n",
    "features[\"x0\"] = X[:,0]\n",
    "features[\"x1\"] = X[:,1]\n",
    "features[\"x2\"] = X[:,2]\n",
    "features[\"y\"] = np.where(Y>20,1,0)\n",
    "\n",
    "pd.DataFrame({k:v.tolist() for k,v in features.items()}).head(3)\n",
    "\n",
    "tf.reset_default_graph()  # required\n",
    "\n",
    "fc_numeric = list()\n",
    "fc_numeric.append(feature_column.numeric_column(\"x0\", default_value=0))\n",
    "fc_numeric.append(feature_column.numeric_column(\"x1\", default_value=0))\n",
    "fc_numeric.append(feature_column.numeric_column(\"x2\", default_value=0))\n",
    "\n",
    "# tf.estimator.LinearRegressor(feature_columns=fc_numeric)\n",
    "labels = np.expand_dims(features[\"y\"], -1)\n",
    "inp = feature_column.input_layer(features, fc_numeric)\n",
    "lr_logits = tf.layers.dense(inp, 1, activation=tf.sigmoid)\n",
    "loss = tf.losses.sigmoid_cross_entropy(labels, lr_logits)\n",
    "opt = tf.train.AdagradOptimizer(1e-3)\n",
    "opt.minimize(loss)"
   ]
  },
  {
   "cell_type": "code",
   "execution_count": null,
   "metadata": {},
   "outputs": [],
   "source": [
    "tf.estimator.LinearRegressor"
   ]
  },
  {
   "cell_type": "markdown",
   "metadata": {},
   "source": [
    "## simulation | trd"
   ]
  },
  {
   "cell_type": "code",
   "execution_count": null,
   "metadata": {
    "ExecuteTime": {
     "end_time": "2021-01-05T12:05:34.928478Z",
     "start_time": "2021-01-05T12:05:34.883222Z"
    },
    "deletable": false,
    "editable": false
   },
   "outputs": [],
   "source": [
    "np.random.seed(2020)\n",
    "num_buckets_deep=7\n",
    "dims_embs_deep=4\n",
    "_batch_size=2\n",
    "\n",
    "# features\n",
    "features = {}\n",
    "features[\"featA\"] = np.random.randint(num_buckets_deep, size=(_batch_size, 1))\n",
    "features[\"featB\"] = np.random.randint(num_buckets_deep, size=(_batch_size, 1))\n",
    "features[\"featC\"] = np.random.randint(num_buckets_deep, size=(_batch_size, 1))\n",
    "features[\"featD\"] = np.random.randint(num_buckets_deep, size=(_batch_size, 1))\n",
    "features[\"featE\"] = np.random.randint(num_buckets_deep, size=(_batch_size, 1))\n",
    "features[\"numA\"] = np.random.random((_batch_size,1))\n",
    "features[\"numB\"] = np.random.random((_batch_size,1))\n",
    "features[\"wideFeatures\"] = np.random.randint(100, size=(_batch_size, 4))\n",
    "# features\n",
    "pd.DataFrame({k:v.tolist() for k,v in features.items()})"
   ]
  },
  {
   "cell_type": "markdown",
   "metadata": {},
   "source": [
    "## simulation | titanic"
   ]
  },
  {
   "cell_type": "code",
   "execution_count": null,
   "metadata": {
    "code_folding": [
     0
    ],
    "deletable": false,
    "editable": false,
    "run_control": {
     "frozen": true
    }
   },
   "outputs": [],
   "source": [
    "####################\n",
    "# for massive data | not-yet\n",
    "# trainIterDF = pd.read_csv(\"/Users/zac/Downloads/titanic_train.csv\", \n",
    "#                           chunksize=16, dtype=str, converters={'age':float, 'fare':float})\n",
    "# evalIterDF = pd.read_csv(\"/Users/zac/Downloads/titanic_eval.csv\", \n",
    "#                          chunksize=16, dtype=str, converters={'age':float, 'fare':float})\n",
    "\n",
    "# def genIter(n=10):\n",
    "#     inp = trainIterDF.read(n)\n",
    "#     feats,lbls = (inp, inp.pop(\"survived\"))\n",
    "#     feats = feats.to_dict('list')\n",
    "#     lbls = np.expand_dims(np.array(lbls),-1)\n",
    "#     yield (feats,lbls)\n",
    "######################"
   ]
  },
  {
   "cell_type": "code",
   "execution_count": null,
   "metadata": {
    "ExecuteTime": {
     "end_time": "2021-01-05T16:44:12.953397Z",
     "start_time": "2021-01-05T16:44:11.688913Z"
    },
    "deletable": false,
    "editable": false,
    "run_control": {
     "frozen": true
    }
   },
   "outputs": [],
   "source": [
    "pd.read_csv('https://storage.googleapis.com/tf-datasets/titanic/train.csv').to_csv(\"/Users/zac/Downloads/titanic_train.csv\")\n",
    "pd.read_csv('https://storage.googleapis.com/tf-datasets/titanic/eval.csv').to_csv(\"/Users/zac/Downloads/titanic_eval.csv\")\n"
   ]
  },
  {
   "cell_type": "code",
   "execution_count": null,
   "metadata": {
    "ExecuteTime": {
     "end_time": "2021-01-05T18:34:02.699289Z",
     "start_time": "2021-01-05T18:34:02.693518Z"
    }
   },
   "outputs": [],
   "source": [
    "CATEGORICAL_COLUMNS = ['sex', 'n_siblings_spouses', 'parch', 'class', 'deck', 'embark_town', 'alone']\n",
    "EMB_COLUMNS = ['sex', 'n_siblings_spouses']\n",
    "CATEGORICAL_COLUMNS = ['parch', 'class', 'deck', 'embark_town', 'alone']\n",
    "NUMERIC_COLUMNS = ['age', 'fare']\n"
   ]
  },
  {
   "cell_type": "code",
   "execution_count": null,
   "metadata": {
    "ExecuteTime": {
     "end_time": "2021-01-05T18:39:57.320257Z",
     "start_time": "2021-01-05T18:39:57.189319Z"
    },
    "code_folding": [],
    "scrolled": true
   },
   "outputs": [],
   "source": [
    "trainDF = pd.read_csv(\"/Users/zac/Downloads/titanic_train.csv\", dtype=str, converters={'age':float, 'fare':float, 'survived':int})\n",
    "evalDF = pd.read_csv(\"/Users/zac/Downloads/titanic_eval.csv\", dtype=str, converters={'age':float, 'fare':float, 'survived':int})\n",
    "\n",
    "\n",
    "# for custom | not-yet as GBDT?\n",
    "def getIter(data_df, label_col=\"survived\", mode=None):\n",
    "    ds = tf.data.Dataset.from_tensor_slices((data_df.to_dict('list'), data_df[label_col]))\n",
    "    ds = ds.batch(16).repeat(1)\n",
    "    \n",
    "    if mode is not None and mode.upper() == \"EXP\":\n",
    "        iterator = ds.make_initializable_iterator()\n",
    "        feats,lbls = iterator.get_next()\n",
    "        lbls = tf.expand_dims(lbls,-1)\n",
    "        return (feats,lbls), iterator.initializer\n",
    "    \n",
    "    iterator = ds.make_one_shot_iterator()\n",
    "    feats,lbls = iterator.get_next()\n",
    "    lbls = tf.expand_dims(lbls,-1)\n",
    "    return (feats,lbls)\n",
    "\n",
    "# trainData = getIter(trainDF)\n",
    "# evData = getIter(evalDF)\n",
    "# evData,evInit = getIter(evalDF,mode=\"EXP\")\n",
    "# train_input_fn = functools.partial(getIter, trainDF)\n",
    "# eval_input_fn = functools.partial(getIter, evalDF)\n"
   ]
  },
  {
   "cell_type": "markdown",
   "metadata": {},
   "source": [
    "## ING"
   ]
  },
  {
   "cell_type": "code",
   "execution_count": null,
   "metadata": {
    "ExecuteTime": {
     "end_time": "2021-01-07T08:52:12.420576Z",
     "start_time": "2021-01-07T08:52:12.340385Z"
    },
    "code_folding": []
   },
   "outputs": [],
   "source": [
    "from glob import glob\n",
    "df = pd.concat([pd.read_csv(i) for i in glob(\"/Users/zac/Downloads/vl_regression.csv/part-*\")], ignore_index=True)\n",
    "df['vl_volume'] = df['vl_volume'].astype(np.float32)\n",
    "def bucketize(ser):\n",
    "    holds = ser.quantile([.25, .35, .5, .75, .95]).values\n",
    "    holds\n",
    "    def _bucketize(x):\n",
    "        for idx, i in enumerate(holds):\n",
    "            if x <= i:\n",
    "                return idx\n",
    "        return len(holds)\n",
    "    return ser.apply(_bucketize)\n",
    "\n",
    "df.head(3)\n",
    "# df['num_sum1'] = bucketize(df['num_sum1'])\n",
    "# df['sku_cnt'] = bucketize(df['sku_cnt'])\n",
    "df.head(3)\n",
    "\n",
    "trainDF = df.query(\"dt<='2020-12-28'\")\n",
    "evalDF = df.query(\"dt>='2020-12-28'\")\n",
    "\n",
    "trainDF.shape\n",
    "evalDF.shape"
   ]
  },
  {
   "cell_type": "code",
   "execution_count": null,
   "metadata": {
    "ExecuteTime": {
     "end_time": "2021-01-07T09:32:04.122204Z",
     "start_time": "2021-01-07T09:32:03.350334Z"
    }
   },
   "outputs": [],
   "source": [
    "def percentile(n):\n",
    "    def percentile_(x):\n",
    "        return np.percentile(x, n)\n",
    "    percentile_.__name__ = 'percentile_%s' % n\n",
    "    return percentile_\n",
    "\n",
    "evalDF.groupby(\"vl_type\").agg({\"vl_volume\":[\"count\",min,\"mean\",max]})\n",
    "evalDF.groupby(\"vl_type\").agg({\"num_sum1\":[min,percentile(10),percentile(90),max]})\n",
    "\n",
    "# evalDF.plot(subplots=True,kind='hist',y='vl_volume')\n",
    "for idx,(k,g) in enumerate(evalDF.groupby(\"vl_type\")):\n",
    "    g.plot(title=k,kind='hist',y='vl_volume')\n",
    "#     g['vl_volume'].plot.hist(tag=k)\n"
   ]
  },
  {
   "cell_type": "markdown",
   "metadata": {},
   "source": [
    "# parse_fn"
   ]
  },
  {
   "cell_type": "markdown",
   "metadata": {},
   "source": [
    "## schem verification"
   ]
  },
  {
   "cell_type": "code",
   "execution_count": 156,
   "metadata": {
    "ExecuteTime": {
     "end_time": "2021-01-13T11:02:42.304735Z",
     "start_time": "2021-01-13T11:02:41.328639Z"
    },
    "code_folding": []
   },
   "outputs": [
    {
     "name": "stdout",
     "output_type": "stream",
     "text": [
      "[featName]:categoryIds_indices [type]:bytes_list [value_example]:[b'1066', b'1068', b'1070', b'1072' ...] | len=13\n",
      "[featName]:categoryIds_values [type]:float_list [value_example]:[106.0, 194.0, 18.0, 63.0 ...] | len=13\n",
      "[featName]:specInfo_indices [type]:bytes_list [value_example]:[b'28268_500g/\\xe4\\xbb\\xbd', b'27774_400g/\\xe8\\xa2\\x8b', b'27616_100g/\\xe4\\xbb\\xbd', b'6713_200*200mm/\\xe5\\x8c\\x85' ...] | len=365\n",
      "[featName]:specInfo_values [type]:float_list [value_example]:[1.0, 1.0, 1.0, 2.0 ...] | len=365\n",
      "[featName]:vl_capacity [type]:bytes_list [value_example]:[b'11' ...] | len=1\n",
      "[featName]:vl_type [type]:bytes_list [value_example]:[b'MIDSIZE_CAR' ...] | len=1\n",
      "[featName]:vl_volume [type]:bytes_list [value_example]:[b'79' ...] | len=1\n"
     ]
    }
   ],
   "source": [
    "trd_fp = glob(\"/Users/zac/Downloads/cleanInfo_trd_train/*.tfrecord.gz\")\n",
    "trd=tf.data.TFRecordDataset(trd_fp,compression_type='GZIP')\n",
    "iterator=trd.make_one_shot_iterator()\n",
    "one=iterator.get_next()\n",
    "res = []\n",
    "with tf.Session() as sess:\n",
    "    one_ = sess.run(one)\n",
    "    featInfo = tf.train.Example.FromString(one_).features.feature # not dict\n",
    "    for key in featInfo:\n",
    "        info_list=[(key, attr, featInfo[key].__getattribute__(attr).value) for attr in [\"bytes_list\",\"float_list\",\"int64_list\"]]\n",
    "        info = [i for i in info_list if i[-1] != []][0] # 只应该有一个\n",
    "        info = list(info)\n",
    "        info[-1] = \"[%s ...] | len=%s\" % (\", \".join(map(str,info[-1][:4])), len(info[-1]))\n",
    "        res.append(\"[featName]:{} [type]:{} [value_example]:{}\".format(*info))\n",
    "\n",
    "print(\"\\n\".join(sorted(res)))\n"
   ]
  },
  {
   "cell_type": "markdown",
   "metadata": {},
   "source": [
    "## load_ds_fn | iterator load"
   ]
  },
  {
   "cell_type": "code",
   "execution_count": 157,
   "metadata": {
    "ExecuteTime": {
     "end_time": "2021-01-13T11:08:54.947956Z",
     "start_time": "2021-01-13T11:08:54.795609Z"
    },
    "code_folding": [
     7,
     16,
     30,
     51,
     54
    ],
    "scrolled": true
   },
   "outputs": [],
   "source": [
    "trd_train_fp = glob(\"/Users/zac/Downloads/cleanInfo_trd_train/*.tfrecord.gz\")  # 6478\n",
    "trd_test_fp = glob(\"/Users/zac/Downloads/cleanInfo_trd_test/*.tfrecord.gz\")    # 1291\n",
    "\n",
    "VL_TYPES = [\"SMALL_CAR\",\"MIDSIZE_CAR\",\"LARGE_CAR\",\"VAN_TYPE\"]\n",
    "LBL_WEIGHTS = [2.0,3.0,1.0,1.0]\n",
    "cls_labeler = lambda x: tf.where(tf.equal(x, VL_TYPES))\n",
    "\n",
    "features_schema={\n",
    "    \"vl_type\":tf.io.FixedLenFeature([], tf.string),\n",
    "    \"vl_volume\":tf.io.FixedLenFeature([], tf.string),\n",
    "    \"categoryIds_indices\":tf.io.VarLenFeature(tf.string),\n",
    "    \"categoryIds_values\":tf.io.VarLenFeature(tf.float32),\n",
    "    \"specInfo_indices\":tf.io.VarLenFeature(tf.string),\n",
    "    \"specInfo_values\":tf.io.VarLenFeature(tf.float32),\n",
    "}\n",
    "\n",
    "def _parse_func(model_type, inp):\n",
    "    parsed_features = tf.io.parse_single_example(inp,features_schema)\n",
    "    if model_type.lower() == \"reg\":\n",
    "        # regression\n",
    "        label = tf.strings.to_number(parsed_features[\"vl_volume\"],tf.float32)\n",
    "        labels = tf.expand_dims(label, -1)\n",
    "    elif model_type.lower() == \"cls\":\n",
    "        # classify\n",
    "        label = parsed_features[\"vl_type\"]\n",
    "        label = tf.reduce_min(tf.where(tf.equal(label, VL_TYPES)))\n",
    "        labels = tf.expand_dims(label, -1)\n",
    "        parsed_features[\"weights\"] = tf.squeeze(tf.gather(LBL_WEIGHTS,label))\n",
    "    return (parsed_features,labels)\n",
    "\n",
    "def load_ds(trd_fp, mode, batch_size=1024, epoch_num=10, model_type=\"reg\"):\n",
    "    _partial_parse_func = functools.partial(_parse_func,model_type)\n",
    "    \n",
    "    ds = tf.data.TFRecordDataset(trd_fp,compression_type='GZIP')\n",
    "    ds = ds.map(_partial_parse_func).shuffle(True)\n",
    "    if mode.lower() == \"train\":\n",
    "        ds = ds.batch(batch_size,drop_remainder=False).repeat(epoch_num)\n",
    "        iterator = ds.make_one_shot_iterator()\n",
    "        return iterator.get_next()\n",
    "    elif mode.lower() == \"test\":\n",
    "        ds = ds.batch(batch_size,drop_remainder=False).repeat(1)\n",
    "        iterator = ds.make_one_shot_iterator()\n",
    "        return iterator.get_next()\n",
    "    elif mode.lower() == \"exp\":\n",
    "        ds = ds.batch(batch_size,drop_remainder=False).repeat(1)\n",
    "        iterator = ds.make_initializable_iterator()\n",
    "        return iterator.get_next(), iterator.initializer\n",
    "    else:\n",
    "        raise\n",
    "\n",
    "\n",
    "if False:\n",
    "    trainData=load_ds(trd_test_fp,\"train\",model_type=\"cls\",epoch_num=2)\n",
    "    to_print = [\"weights\",\"vl_type\",\"specInfo_values\"]\n",
    "    with tf.Session() as sess:\n",
    "        i = sess.run(trainData)\n",
    "        feat = i[0]\n",
    "        label = i[1]\n",
    "        print(\">>> all keys: {}\\n\".format(\",\".join(feat.keys())))\n",
    "        print(\">>> labels: [{}...]\".format(\", \".join(map(str,label[:4]))))\n",
    "        print(\">>> labels distrib: {}\\n\".format(np.unique(label,return_counts=True)))\n",
    "        print(\">>> label-shape: {}\\n\".format(label.shape))\n",
    "        for key in to_print:\n",
    "            print(\">>> {}:\".format(key))\n",
    "            print(feat[key][:4])\n",
    "\n",
    "        try:\n",
    "            with tqdm(desc=\"batch\") as pbar:\n",
    "                while True:\n",
    "                    _ = sess.run(trainData)\n",
    "                    pbar.update()\n",
    "        except tf.errors.OutOfRangeError:\n",
    "            pass\n",
    "                \n",
    "    \n",
    "        \n",
    "        "
   ]
  },
  {
   "cell_type": "markdown",
   "metadata": {},
   "source": [
    "## wrapper_fc_list | feature_column"
   ]
  },
  {
   "cell_type": "code",
   "execution_count": 163,
   "metadata": {
    "ExecuteTime": {
     "end_time": "2021-01-13T11:10:39.683764Z",
     "start_time": "2021-01-13T11:10:39.679118Z"
    },
    "code_folding": []
   },
   "outputs": [],
   "source": [
    "# 为了配合reset graph ，它必须在reset之后执行，但是不想写成一坨\n",
    "def wrapper_fc_list(specInfo_hashBucket=3200):\n",
    "    fc_list = list()\n",
    "#     categoryID_weighted = feature_column.weighted_categorical_column(categorical_column=feature_column.categorical_column_with_hash_bucket(\"categoryIds_indices\",20),\n",
    "#                                                                      weight_feature_key='categoryIds_values')\n",
    "#     fc_list.append(feature_column.indicator_column(categoryID_weighted))\n",
    "\n",
    "    specInfo_weighted = feature_column.weighted_categorical_column(categorical_column=feature_column.categorical_column_with_hash_bucket(\"specInfo_indices\",specInfo_hashBucket), \n",
    "                                                                   weight_feature_key='specInfo_values')\n",
    "    fc_list.append(feature_column.indicator_column(specInfo_weighted))\n",
    "\n",
    "    return fc_list"
   ]
  },
  {
   "cell_type": "markdown",
   "metadata": {},
   "source": [
    "# LR/NN | Custom"
   ]
  },
  {
   "cell_type": "markdown",
   "metadata": {},
   "source": [
    "##  model_fn"
   ]
  },
  {
   "cell_type": "code",
   "execution_count": null,
   "metadata": {
    "ExecuteTime": {
     "end_time": "2021-01-11T12:00:59.623332Z",
     "start_time": "2021-01-11T12:00:59.620483Z"
    },
    "deletable": false,
    "editable": false,
    "run_control": {
     "frozen": true
    }
   },
   "outputs": [],
   "source": [
    "MODEL_TYPE=\"cls\"\n",
    "BATCH_SIZE=1024\n",
    "LOSS_TYPE=\"CE_W\""
   ]
  },
  {
   "cell_type": "code",
   "execution_count": null,
   "metadata": {
    "ExecuteTime": {
     "end_time": "2021-01-11T12:01:00.508555Z",
     "start_time": "2021-01-11T12:01:00.052704Z"
    },
    "code_folding": [
     2,
     24
    ],
    "deletable": false,
    "editable": false,
    "run_control": {
     "frozen": true
    }
   },
   "outputs": [],
   "source": [
    "tf.reset_default_graph()\n",
    "\n",
    "def my_loss_fn(kind,labels,preds,**kwargs):\n",
    "    if kind.upper() == \"RMSE\":\n",
    "        loss = tf.losses.mean_squared_error(labels,preds,reduction=tf.losses.Reduction.MEAN)\n",
    "        loss = tf.sqrt(loss)\n",
    "    elif kind.upper() == \"CE_W\":\n",
    "        weights = tf.squeeze(tf.gather(LBL_WEIGHTS,labels))\n",
    "        loss = tf.losses.sparse_softmax_cross_entropy(labels,preds,weights)\n",
    "    elif kind.upper() == \"CE\":\n",
    "        loss = tf.losses.sparse_softmax_cross_entropy(labels,preds)\n",
    "    elif kind.upper() == \"MAPE\":\n",
    "        _loss_each = tf.sqrt(tf.math.pow(labels - preds,2))/labels\n",
    "        loss = tf.reduce_mean(_loss_each)\n",
    "    else:\n",
    "        raise\n",
    "    return loss\n",
    "\n",
    "output_shape = len(VL_TYPES) if MODEL_TYPE.lower() == \"cls\" else 1\n",
    "loss_fn = functools.partial(my_loss_fn,LOSS_TYPE)\n",
    "logits_activation = None if MODEL_TYPE.lower()==\"cls\" else tf.nn.relu\n",
    "fc_list = wrapper_fc_list()\n",
    "\n",
    "\n",
    "def model_fn(features,lbls,fc_list,mode):\n",
    "    net_inp = feature_column.input_layer(features,fc_list)\n",
    "    net = net_inp\n",
    "#     net = tf.layers.dense(net_inp,128,activation=tf.nn.sigmoid,reuse=tf.AUTO_REUSE,name=\"l1\")\n",
    "#     net = tf.layers.dense(net_inp,32,activation=tf.nn.sigmoid,reuse=tf.AUTO_REUSE,name=\"l2\")\n",
    "    logits = tf.layers.dense(net,output_shape,activation=logits_activation,reuse=tf.AUTO_REUSE,name=\"logits\")\n",
    "#     initA = tf.constant_initializer(np.random.random(size=[net.shape[1],1])*0.1, verify_shape=True)\n",
    "#     logits = tf.layers.dense(net,1,activation=tf.nn.relu,\n",
    "#                              reuse=tf.AUTO_REUSE,\n",
    "#                              kernel_initializer=initA,\n",
    "#                              kernel_constraint=tf.keras.constraints.NonNeg(),\n",
    "#                              name=\"logits\") \n",
    "\n",
    "    if mode.lower() == \"predict\":\n",
    "        with tf.variable_scope(\"predict\", reuse=tf.AUTO_REUSE):\n",
    "            predictions = {\"logits\":logits, \"labels\":lbls}\n",
    "            return tf.estimator.EstimatorSpec(mode=mode,\n",
    "                                              predictions=predictions)\n",
    "    elif mode.lower() == \"eval\":\n",
    "        with tf.variable_scope(\"eval\", reuse=tf.AUTO_REUSE):\n",
    "            loss = loss_fn(labels=lbls,preds=logits)\n",
    "            predictions = {\"loss\":loss, \"logits\":logits, \"labels\":lbls}\n",
    "            return tf.estimator.EstimatorSpec(mode=mode,\n",
    "                                              loss=loss,\n",
    "                                              predictions=predictions)\n",
    "    elif mode.lower() == \"train\":\n",
    "        with tf.variable_scope(\"train\", reuse=tf.AUTO_REUSE):\n",
    "            loss = loss_fn(labels=lbls,preds=logits)\n",
    "            optimizer = tf.train.AdamOptimizer(1e-1)\n",
    "            opt = optimizer.minimize(loss)\n",
    "            return tf.estimator.EstimatorSpec(mode=mode,\n",
    "                                              loss=loss,\n",
    "                                              train_op=opt)\n",
    "    elif mode.lower() == \"testonly\":\n",
    "         return my_loss_fn(labels=lbls,preds=logits,kind=\"CE_W\")\n",
    "    else:\n",
    "        assert False,\"mode is %s\" % mode\n",
    "    \n",
    "\n",
    "trainData,trainDataInit=load_ds(trd_train_fp,\"exp\",batch_size=BATCH_SIZE,model_type=MODEL_TYPE)\n",
    "evalData,evalInit=load_ds(trd_test_fp,\"exp\",batch_size=BATCH_SIZE*10,model_type=MODEL_TYPE)\n",
    "\n",
    "train_spec = model_fn(trainData[0],trainData[1],fc_list,\"train\")\n",
    "_ = tf.get_variable_scope().reuse_variables()\n",
    "eval_spec = model_fn(evalData[0],evalData[1],fc_list,\"eval\")\n",
    "predict_spec = model_fn(evalData[0],evalData[1],fc_list,\"predict\")\n",
    "\n",
    "test_res = model_fn(evalData[0],evalData[1],fc_list,\"testOnly\")\n",
    "\n",
    "tf.trainable_variables()\n"
   ]
  },
  {
   "cell_type": "markdown",
   "metadata": {},
   "source": [
    "## exec_debug"
   ]
  },
  {
   "cell_type": "code",
   "execution_count": null,
   "metadata": {
    "ExecuteTime": {
     "end_time": "2021-01-11T12:01:03.387592Z",
     "start_time": "2021-01-11T12:01:01.862175Z"
    },
    "code_folding": [
     0
    ],
    "deletable": false,
    "editable": false,
    "scrolled": false
   },
   "outputs": [],
   "source": [
    "with tf.Session() as sess:\n",
    "    sess.run(tf.global_variables_initializer())\n",
    "    sess.run(tf.local_variables_initializer())\n",
    "    \n",
    "    sess.run(evalInit)\n",
    "    print(\">>> test_res: {}\".format(test_res.eval()))\n",
    "    \n",
    "    print(\">>> predictions\")\n",
    "    sess.run(evalInit)\n",
    "    pred = sess.run(eval_spec.predictions)\n",
    "    print(\"loss:  \",pred['loss'])\n",
    "    print(\"logits:\",pred['logits'][0])\n",
    "    print(\"labels:\",pred['labels'][0])\n",
    "    \n",
    "    print(\">>> logits/kernel\")\n",
    "    tf.get_default_graph().get_tensor_by_name(\"logits/kernel:0\").eval()[:10]\n",
    "    \n",
    "    "
   ]
  },
  {
   "cell_type": "markdown",
   "metadata": {},
   "source": [
    "## exec"
   ]
  },
  {
   "cell_type": "code",
   "execution_count": null,
   "metadata": {
    "ExecuteTime": {
     "end_time": "2021-01-11T12:01:30.802394Z",
     "start_time": "2021-01-11T12:01:21.980205Z"
    },
    "code_folding": [
     0
    ],
    "deletable": false,
    "editable": false,
    "run_control": {
     "frozen": true
    },
    "scrolled": false
   },
   "outputs": [],
   "source": [
    "with tf.Session() as sess:\n",
    "    sess.run(tf.global_variables_initializer())\n",
    "    \n",
    "    loss_train_list = []\n",
    "    loss_eval_list = []\n",
    "    step = 0\n",
    "    for i in tqdm(range(10)):\n",
    "        sess.run(tf.local_variables_initializer())\n",
    "        sess.run(trainDataInit)\n",
    "        try:\n",
    "            with tqdm(leave=False) as pbar:\n",
    "                while True:\n",
    "                    if step % 2 == 0:\n",
    "#                         head5=tf.get_default_graph().get_tensor_by_name(\"logits/kernel:0\").eval()[:5]\n",
    "#                         kernel_mean = np.mean(tf.get_default_graph().get_tensor_by_name(\"logits/kernel:0\").eval())\n",
    "#                         print(\"logits/kernel: [mean]:{}\".format(kernel_mean))\n",
    "#                         print(\",\".join(map(str,head5)))\n",
    "                        pass\n",
    "                    _,_loss_train = sess.run([train_spec.train_op, train_spec.loss])\n",
    "                    loss_train_list.append({\"step\":step,\"{}_train\".format(LOSS_TYPE):_loss_train})\n",
    "                    if step%10 == 0:\n",
    "                        try:\n",
    "                            sess.run(evalInit)\n",
    "                            _loss_eval,pred = sess.run([eval_spec.loss,eval_spec.predictions])\n",
    "                            loss_eval_list.append({\"step\":step,\"{}_test\".format(LOSS_TYPE):_loss_eval})\n",
    "#                             print(\"\\n[predictions_mean]:{:.4f}\".format(np.mean(pred['logits'])))\n",
    "#                             print(\"[loss]\",pred[\"loss\"])\n",
    "#                             print(\"[logits]\",\",\".join(map(str,pred[\"logits\"][10:15])))\n",
    "#                             print(\"[labels]\",\",\".join(map(str,pred[\"labels\"][10:15])))\n",
    "#                             print(\"[logits]\",\",\".join(map(str,pred[\"logits\"][-5:])))\n",
    "#                             print(\"[labels]\",\",\".join(map(str,pred[\"labels\"][-5:])))\n",
    "                        except tf.errors.OutOfRangeError:\n",
    "                            pass\n",
    "                    pbar.update()\n",
    "                    step = step+1\n",
    "        except tf.errors.OutOfRangeError:\n",
    "            pass\n",
    "#             print(\"done\")\n",
    "        "
   ]
  },
  {
   "cell_type": "markdown",
   "metadata": {
    "deletable": false,
    "editable": false,
    "run_control": {
     "frozen": true
    }
   },
   "source": [
    "## visualize"
   ]
  },
  {
   "cell_type": "markdown",
   "metadata": {
    "deletable": false,
    "editable": false,
    "run_control": {
     "frozen": true
    }
   },
   "source": [
    "### metrics of test"
   ]
  },
  {
   "cell_type": "code",
   "execution_count": null,
   "metadata": {
    "ExecuteTime": {
     "end_time": "2021-01-11T12:16:42.156994Z",
     "start_time": "2021-01-11T12:16:41.589122Z"
    },
    "deletable": false,
    "editable": false,
    "run_control": {
     "frozen": true
    }
   },
   "outputs": [],
   "source": [
    "print(\"logits, labels 分布\")\n",
    "fig,axes=plt.subplots(2,1)\n",
    "cur_axe=axes.flatten()[0]\n",
    "cur_axe.title.set_text(\"labels\")\n",
    "pd.Series(pred[\"labels\"].flatten()).hist(bins=100, ax=cur_axe)\n",
    "\n",
    "cur_axe=axes.flatten()[1]\n",
    "cur_axe.title.set_text(\"logits\")\n",
    "logits_processed=np.argmax(pred[\"logits\"],axis=1) if MODEL_TYPE.lower() == \"cls\" else pred[\"logits\"]\n",
    "pd.Series(logits_processed).hist(bins=100, ax=cur_axe)"
   ]
  },
  {
   "cell_type": "code",
   "execution_count": null,
   "metadata": {
    "ExecuteTime": {
     "end_time": "2021-01-11T12:19:32.156398Z",
     "start_time": "2021-01-11T12:19:32.128540Z"
    },
    "deletable": false,
    "editable": false,
    "run_control": {
     "frozen": true
    }
   },
   "outputs": [],
   "source": [
    "infoDF = pd.DataFrame({'labels':pred['labels'].flatten(),\n",
    "                       'logits':np.argmax(pred['logits'],axis=1).flatten()})\n",
    "\n",
    "for k,g in infoDF.groupby(\"labels\"):\n",
    "    head=\"acc_{}\".format(k)\n",
    "    detail=\"{}/{}\".format(g.query(\"logits == labels\").shape[0],g.shape[0])\n",
    "    res=g.query(\"logits == labels\").shape[0]/g.shape[0]\n",
    "    print(\"{}: {}={:.4f}\".format(head,detail,res))\n",
    "    \n",
    "    "
   ]
  },
  {
   "cell_type": "markdown",
   "metadata": {
    "deletable": false,
    "editable": false,
    "run_control": {
     "frozen": true
    }
   },
   "source": [
    "### loss of test"
   ]
  },
  {
   "cell_type": "code",
   "execution_count": null,
   "metadata": {
    "ExecuteTime": {
     "end_time": "2021-01-11T12:15:26.232090Z",
     "start_time": "2021-01-11T12:15:25.894118Z"
    },
    "deletable": false,
    "editable": false,
    "run_control": {
     "frozen": true
    },
    "scrolled": false
   },
   "outputs": [],
   "source": [
    "resDF = pd.DataFrame(loss_train_list).merge(pd.DataFrame(loss_eval_list),on=\"step\",how=\"left\")\n",
    "# resDF.head(3)\n",
    "resDF.interpolate(method='linear').plot(subplots=True, x=\"step\",y=['{}_train'.format(LOSS_TYPE),'{}_test'.format(LOSS_TYPE)])\n"
   ]
  },
  {
   "cell_type": "markdown",
   "metadata": {},
   "source": [
    "# LR | Linear Official"
   ]
  },
  {
   "cell_type": "code",
   "execution_count": 87,
   "metadata": {
    "ExecuteTime": {
     "end_time": "2021-01-12T09:05:37.677524Z",
     "start_time": "2021-01-12T09:05:37.673697Z"
    }
   },
   "outputs": [],
   "source": [
    "fc_list = wrapper_fc_list()\n",
    "train_input_fn = lambda : load_ds(trd_train_fp,\"train\",epoch_num=5,model_type=\"cls\")\n",
    "eval_input_fn = lambda : load_ds(trd_test_fp,\"test\",epoch_num=1,model_type=\"cls\")"
   ]
  },
  {
   "cell_type": "code",
   "execution_count": 88,
   "metadata": {
    "ExecuteTime": {
     "end_time": "2021-01-12T09:05:45.005602Z",
     "start_time": "2021-01-12T09:05:40.690153Z"
    },
    "scrolled": true
   },
   "outputs": [
    {
     "name": "stdout",
     "output_type": "stream",
     "text": [
      "{'accuracy': 0.6366907, 'average_loss': 10.433507, 'loss': 8701.545, 'global_step': 15}\n"
     ]
    }
   ],
   "source": [
    "linear_est = tf.estimator.LinearClassifier(feature_columns=fc_list,n_classes=len(VL_TYPES))\n",
    "_ = linear_est.train(train_input_fn)\n",
    "result = linear_est.evaluate(eval_input_fn)\n",
    "print(result)"
   ]
  },
  {
   "cell_type": "code",
   "execution_count": 106,
   "metadata": {
    "ExecuteTime": {
     "end_time": "2021-01-12T09:10:04.516557Z",
     "start_time": "2021-01-12T09:10:03.655489Z"
    }
   },
   "outputs": [
    {
     "data": {
      "text/plain": [
       "class_ids\n",
       "1    612\n",
       "0    222\n",
       "dtype: int64"
      ]
     },
     "execution_count": 106,
     "metadata": {},
     "output_type": "execute_result"
    },
    {
     "data": {
      "text/plain": [
       "labels\n",
       "1    686\n",
       "0    101\n",
       "3     24\n",
       "2     23\n",
       "dtype: int64"
      ]
     },
     "execution_count": 106,
     "metadata": {},
     "output_type": "execute_result"
    }
   ],
   "source": [
    "preds = []\n",
    "for i in linear_est.predict(eval_input_fn,predict_keys=[\"probabilities\",\"class_ids\"],yield_single_examples=True):\n",
    "    i['probabilities'] = np.max(i['probabilities'])\n",
    "    i['class_ids'] = i['class_ids'][0]\n",
    "    preds.append(i)\n",
    "\n",
    "lbls=[]\n",
    "with tf.Session() as sess:\n",
    "    try:\n",
    "        lbls.append(eval_input_fn()[1].eval().flatten())\n",
    "    except tf.errors.OutOfRangeError:\n",
    "        pass\n",
    "\n",
    "lbls = np.hstack(lbls)\n",
    "\n",
    "resDF = pd.DataFrame(preds)\n",
    "resDF['labels'] = lbls\n",
    "resDF.value_counts('class_ids')\n",
    "resDF.value_counts('labels')"
   ]
  },
  {
   "cell_type": "markdown",
   "metadata": {},
   "source": [
    "# GBDT+FM"
   ]
  },
  {
   "cell_type": "markdown",
   "metadata": {},
   "source": [
    "## ~GBDT from tensorflow~ | Failed\n",
    "会报错`ValueError: Cannot infer num from shape (?, ?)` 不明原因"
   ]
  },
  {
   "cell_type": "code",
   "execution_count": 107,
   "metadata": {
    "ExecuteTime": {
     "end_time": "2021-01-12T09:39:31.669547Z",
     "start_time": "2021-01-12T09:39:31.610331Z"
    },
    "deletable": false,
    "editable": false,
    "run_control": {
     "frozen": true
    }
   },
   "outputs": [],
   "source": [
    "fc_list = wrapper_fc_list()\n",
    "train_input_fn = lambda : load_ds(trd_train_fp,\"train\",epoch_num=5,model_type=\"cls\")\n",
    "eval_input_fn = lambda : load_ds(trd_test_fp,\"test\",epoch_num=1,model_type=\"cls\")"
   ]
  },
  {
   "cell_type": "code",
   "execution_count": 118,
   "metadata": {
    "ExecuteTime": {
     "end_time": "2021-01-12T09:47:26.680288Z",
     "start_time": "2021-01-12T09:47:26.560811Z"
    },
    "deletable": false,
    "editable": false,
    "run_control": {
     "frozen": true
    },
    "scrolled": true
   },
   "outputs": [
    {
     "ename": "ValueError",
     "evalue": "Cannot infer num from shape (?, ?)",
     "output_type": "error",
     "traceback": [
      "\u001b[0;31m---------------------------------------------------------------------------\u001b[0m",
      "\u001b[0;31mValueError\u001b[0m                                Traceback (most recent call last)",
      "\u001b[0;32m<ipython-input-118-e52b3825e846>\u001b[0m in \u001b[0;36m<module>\u001b[0;34m\u001b[0m\n\u001b[1;32m      9\u001b[0m }\n\u001b[1;32m     10\u001b[0m \u001b[0mest\u001b[0m \u001b[0;34m=\u001b[0m \u001b[0mtf\u001b[0m\u001b[0;34m.\u001b[0m\u001b[0mestimator\u001b[0m\u001b[0;34m.\u001b[0m\u001b[0mBoostedTreesClassifier\u001b[0m\u001b[0;34m(\u001b[0m\u001b[0mfc_list\u001b[0m\u001b[0;34m,\u001b[0m \u001b[0;34m**\u001b[0m\u001b[0mparams\u001b[0m\u001b[0;34m)\u001b[0m\u001b[0;34m\u001b[0m\u001b[0;34m\u001b[0m\u001b[0m\n\u001b[0;32m---> 11\u001b[0;31m \u001b[0m_\u001b[0m \u001b[0;34m=\u001b[0m \u001b[0mest\u001b[0m\u001b[0;34m.\u001b[0m\u001b[0mtrain\u001b[0m\u001b[0;34m(\u001b[0m\u001b[0mtrain_input_fn\u001b[0m\u001b[0;34m,\u001b[0m \u001b[0mmax_steps\u001b[0m\u001b[0;34m=\u001b[0m\u001b[0;36m100\u001b[0m\u001b[0;34m)\u001b[0m\u001b[0;34m\u001b[0m\u001b[0;34m\u001b[0m\u001b[0m\n\u001b[0m",
      "\u001b[0;32m/Users/didi/opt/miniconda3/lib/python3.7/site-packages/tensorflow_estimator/python/estimator/estimator.py\u001b[0m in \u001b[0;36mtrain\u001b[0;34m(self, input_fn, hooks, steps, max_steps, saving_listeners)\u001b[0m\n\u001b[1;32m    368\u001b[0m \u001b[0;34m\u001b[0m\u001b[0m\n\u001b[1;32m    369\u001b[0m       \u001b[0msaving_listeners\u001b[0m \u001b[0;34m=\u001b[0m \u001b[0m_check_listeners_type\u001b[0m\u001b[0;34m(\u001b[0m\u001b[0msaving_listeners\u001b[0m\u001b[0;34m)\u001b[0m\u001b[0;34m\u001b[0m\u001b[0;34m\u001b[0m\u001b[0m\n\u001b[0;32m--> 370\u001b[0;31m       \u001b[0mloss\u001b[0m \u001b[0;34m=\u001b[0m \u001b[0mself\u001b[0m\u001b[0;34m.\u001b[0m\u001b[0m_train_model\u001b[0m\u001b[0;34m(\u001b[0m\u001b[0minput_fn\u001b[0m\u001b[0;34m,\u001b[0m \u001b[0mhooks\u001b[0m\u001b[0;34m,\u001b[0m \u001b[0msaving_listeners\u001b[0m\u001b[0;34m)\u001b[0m\u001b[0;34m\u001b[0m\u001b[0;34m\u001b[0m\u001b[0m\n\u001b[0m\u001b[1;32m    371\u001b[0m       \u001b[0mlogging\u001b[0m\u001b[0;34m.\u001b[0m\u001b[0minfo\u001b[0m\u001b[0;34m(\u001b[0m\u001b[0;34m'Loss for final step: %s.'\u001b[0m\u001b[0;34m,\u001b[0m \u001b[0mloss\u001b[0m\u001b[0;34m)\u001b[0m\u001b[0;34m\u001b[0m\u001b[0;34m\u001b[0m\u001b[0m\n\u001b[1;32m    372\u001b[0m       \u001b[0;32mreturn\u001b[0m \u001b[0mself\u001b[0m\u001b[0;34m\u001b[0m\u001b[0;34m\u001b[0m\u001b[0m\n",
      "\u001b[0;32m/Users/didi/opt/miniconda3/lib/python3.7/site-packages/tensorflow_estimator/python/estimator/estimator.py\u001b[0m in \u001b[0;36m_train_model\u001b[0;34m(self, input_fn, hooks, saving_listeners)\u001b[0m\n\u001b[1;32m   1159\u001b[0m       \u001b[0;32mreturn\u001b[0m \u001b[0mself\u001b[0m\u001b[0;34m.\u001b[0m\u001b[0m_train_model_distributed\u001b[0m\u001b[0;34m(\u001b[0m\u001b[0minput_fn\u001b[0m\u001b[0;34m,\u001b[0m \u001b[0mhooks\u001b[0m\u001b[0;34m,\u001b[0m \u001b[0msaving_listeners\u001b[0m\u001b[0;34m)\u001b[0m\u001b[0;34m\u001b[0m\u001b[0;34m\u001b[0m\u001b[0m\n\u001b[1;32m   1160\u001b[0m     \u001b[0;32melse\u001b[0m\u001b[0;34m:\u001b[0m\u001b[0;34m\u001b[0m\u001b[0;34m\u001b[0m\u001b[0m\n\u001b[0;32m-> 1161\u001b[0;31m       \u001b[0;32mreturn\u001b[0m \u001b[0mself\u001b[0m\u001b[0;34m.\u001b[0m\u001b[0m_train_model_default\u001b[0m\u001b[0;34m(\u001b[0m\u001b[0minput_fn\u001b[0m\u001b[0;34m,\u001b[0m \u001b[0mhooks\u001b[0m\u001b[0;34m,\u001b[0m \u001b[0msaving_listeners\u001b[0m\u001b[0;34m)\u001b[0m\u001b[0;34m\u001b[0m\u001b[0;34m\u001b[0m\u001b[0m\n\u001b[0m\u001b[1;32m   1162\u001b[0m \u001b[0;34m\u001b[0m\u001b[0m\n\u001b[1;32m   1163\u001b[0m   \u001b[0;32mdef\u001b[0m \u001b[0m_train_model_default\u001b[0m\u001b[0;34m(\u001b[0m\u001b[0mself\u001b[0m\u001b[0;34m,\u001b[0m \u001b[0minput_fn\u001b[0m\u001b[0;34m,\u001b[0m \u001b[0mhooks\u001b[0m\u001b[0;34m,\u001b[0m \u001b[0msaving_listeners\u001b[0m\u001b[0;34m)\u001b[0m\u001b[0;34m:\u001b[0m\u001b[0;34m\u001b[0m\u001b[0;34m\u001b[0m\u001b[0m\n",
      "\u001b[0;32m/Users/didi/opt/miniconda3/lib/python3.7/site-packages/tensorflow_estimator/python/estimator/estimator.py\u001b[0m in \u001b[0;36m_train_model_default\u001b[0;34m(self, input_fn, hooks, saving_listeners)\u001b[0m\n\u001b[1;32m   1189\u001b[0m       \u001b[0mworker_hooks\u001b[0m\u001b[0;34m.\u001b[0m\u001b[0mextend\u001b[0m\u001b[0;34m(\u001b[0m\u001b[0minput_hooks\u001b[0m\u001b[0;34m)\u001b[0m\u001b[0;34m\u001b[0m\u001b[0;34m\u001b[0m\u001b[0m\n\u001b[1;32m   1190\u001b[0m       estimator_spec = self._call_model_fn(\n\u001b[0;32m-> 1191\u001b[0;31m           features, labels, ModeKeys.TRAIN, self.config)\n\u001b[0m\u001b[1;32m   1192\u001b[0m       \u001b[0mglobal_step_tensor\u001b[0m \u001b[0;34m=\u001b[0m \u001b[0mtraining_util\u001b[0m\u001b[0;34m.\u001b[0m\u001b[0mget_global_step\u001b[0m\u001b[0;34m(\u001b[0m\u001b[0mg\u001b[0m\u001b[0;34m)\u001b[0m\u001b[0;34m\u001b[0m\u001b[0;34m\u001b[0m\u001b[0m\n\u001b[1;32m   1193\u001b[0m       return self._train_with_estimator_spec(estimator_spec, worker_hooks,\n",
      "\u001b[0;32m/Users/didi/opt/miniconda3/lib/python3.7/site-packages/tensorflow_estimator/python/estimator/estimator.py\u001b[0m in \u001b[0;36m_call_model_fn\u001b[0;34m(self, features, labels, mode, config)\u001b[0m\n\u001b[1;32m   1147\u001b[0m \u001b[0;34m\u001b[0m\u001b[0m\n\u001b[1;32m   1148\u001b[0m     \u001b[0mlogging\u001b[0m\u001b[0;34m.\u001b[0m\u001b[0minfo\u001b[0m\u001b[0;34m(\u001b[0m\u001b[0;34m'Calling model_fn.'\u001b[0m\u001b[0;34m)\u001b[0m\u001b[0;34m\u001b[0m\u001b[0;34m\u001b[0m\u001b[0m\n\u001b[0;32m-> 1149\u001b[0;31m     \u001b[0mmodel_fn_results\u001b[0m \u001b[0;34m=\u001b[0m \u001b[0mself\u001b[0m\u001b[0;34m.\u001b[0m\u001b[0m_model_fn\u001b[0m\u001b[0;34m(\u001b[0m\u001b[0mfeatures\u001b[0m\u001b[0;34m=\u001b[0m\u001b[0mfeatures\u001b[0m\u001b[0;34m,\u001b[0m \u001b[0;34m**\u001b[0m\u001b[0mkwargs\u001b[0m\u001b[0;34m)\u001b[0m\u001b[0;34m\u001b[0m\u001b[0;34m\u001b[0m\u001b[0m\n\u001b[0m\u001b[1;32m   1150\u001b[0m     \u001b[0mlogging\u001b[0m\u001b[0;34m.\u001b[0m\u001b[0minfo\u001b[0m\u001b[0;34m(\u001b[0m\u001b[0;34m'Done calling model_fn.'\u001b[0m\u001b[0;34m)\u001b[0m\u001b[0;34m\u001b[0m\u001b[0;34m\u001b[0m\u001b[0m\n\u001b[1;32m   1151\u001b[0m \u001b[0;34m\u001b[0m\u001b[0m\n",
      "\u001b[0;32m/Users/didi/opt/miniconda3/lib/python3.7/site-packages/tensorflow_estimator/python/estimator/canned/boosted_trees.py\u001b[0m in \u001b[0;36m_model_fn\u001b[0;34m(features, labels, mode, config)\u001b[0m\n\u001b[1;32m   1893\u001b[0m           \u001b[0mclosed_form_grad_and_hess_fn\u001b[0m\u001b[0;34m=\u001b[0m\u001b[0mclosed_form\u001b[0m\u001b[0;34m,\u001b[0m\u001b[0;34m\u001b[0m\u001b[0;34m\u001b[0m\u001b[0m\n\u001b[1;32m   1894\u001b[0m           \u001b[0mweight_column\u001b[0m\u001b[0;34m=\u001b[0m\u001b[0mweight_column\u001b[0m\u001b[0;34m,\u001b[0m\u001b[0;34m\u001b[0m\u001b[0;34m\u001b[0m\u001b[0m\n\u001b[0;32m-> 1895\u001b[0;31m           train_in_memory=train_in_memory)\n\u001b[0m\u001b[1;32m   1896\u001b[0m \u001b[0;34m\u001b[0m\u001b[0m\n\u001b[1;32m   1897\u001b[0m     super(BoostedTreesClassifier, self).__init__(\n",
      "\u001b[0;32m/Users/didi/opt/miniconda3/lib/python3.7/site-packages/tensorflow_estimator/python/estimator/canned/boosted_trees.py\u001b[0m in \u001b[0;36m_bt_model_fn\u001b[0;34m(features, labels, mode, head, feature_columns, tree_hparams, n_batches_per_layer, config, closed_form_grad_and_hess_fn, example_id_column_name, weight_column, train_in_memory, name)\u001b[0m\n\u001b[1;32m   1187\u001b[0m       input_feature_list = _get_transformed_features(features,\n\u001b[1;32m   1188\u001b[0m                                                      \u001b[0msorted_feature_columns\u001b[0m\u001b[0;34m,\u001b[0m\u001b[0;34m\u001b[0m\u001b[0;34m\u001b[0m\u001b[0m\n\u001b[0;32m-> 1189\u001b[0;31m                                                      bucket_boundaries_dict)\n\u001b[0m\u001b[1;32m   1190\u001b[0m       \u001b[0;32mif\u001b[0m \u001b[0mexample_id_column_name\u001b[0m\u001b[0;34m:\u001b[0m\u001b[0;34m\u001b[0m\u001b[0;34m\u001b[0m\u001b[0m\n\u001b[1;32m   1191\u001b[0m         \u001b[0mexample_ids\u001b[0m \u001b[0;34m=\u001b[0m \u001b[0mfeatures\u001b[0m\u001b[0;34m[\u001b[0m\u001b[0mexample_id_column_name\u001b[0m\u001b[0;34m]\u001b[0m\u001b[0;34m\u001b[0m\u001b[0;34m\u001b[0m\u001b[0m\n",
      "\u001b[0;32m/Users/didi/opt/miniconda3/lib/python3.7/site-packages/tensorflow_estimator/python/estimator/canned/boosted_trees.py\u001b[0m in \u001b[0;36m_get_transformed_features\u001b[0;34m(features, sorted_feature_columns, bucket_boundaries_dict)\u001b[0m\n\u001b[1;32m    159\u001b[0m   return _get_transformed_features_and_merge_with_previously_transformed(\n\u001b[1;32m    160\u001b[0m       \u001b[0mfeatures\u001b[0m\u001b[0;34m,\u001b[0m \u001b[0msorted_feature_columns\u001b[0m\u001b[0;34m,\u001b[0m \u001b[0msorted_feature_columns\u001b[0m\u001b[0;34m,\u001b[0m\u001b[0;34m\u001b[0m\u001b[0;34m\u001b[0m\u001b[0m\n\u001b[0;32m--> 161\u001b[0;31m       bucket_boundaries_dict)\n\u001b[0m\u001b[1;32m    162\u001b[0m \u001b[0;34m\u001b[0m\u001b[0m\n\u001b[1;32m    163\u001b[0m \u001b[0;34m\u001b[0m\u001b[0m\n",
      "\u001b[0;32m/Users/didi/opt/miniconda3/lib/python3.7/site-packages/tensorflow_estimator/python/estimator/canned/boosted_trees.py\u001b[0m in \u001b[0;36m_get_transformed_features_and_merge_with_previously_transformed\u001b[0;34m(features, sorted_feature_columns, all_sorted_columns, bucket_boundaries_dict, already_transformed_features)\u001b[0m\n\u001b[1;32m    217\u001b[0m                          'but column `{}` got: {}'.format(\n\u001b[1;32m    218\u001b[0m                              source_name, features[source_name].shape))\n\u001b[0;32m--> 219\u001b[0;31m       \u001b[0munstacked\u001b[0m \u001b[0;34m=\u001b[0m \u001b[0marray_ops\u001b[0m\u001b[0;34m.\u001b[0m\u001b[0munstack\u001b[0m\u001b[0;34m(\u001b[0m\u001b[0mtensor\u001b[0m\u001b[0;34m,\u001b[0m \u001b[0maxis\u001b[0m\u001b[0;34m=\u001b[0m\u001b[0;36m1\u001b[0m\u001b[0;34m)\u001b[0m\u001b[0;34m\u001b[0m\u001b[0;34m\u001b[0m\u001b[0m\n\u001b[0m\u001b[1;32m    220\u001b[0m       \u001b[0mresult_features\u001b[0m\u001b[0;34m.\u001b[0m\u001b[0mextend\u001b[0m\u001b[0;34m(\u001b[0m\u001b[0munstacked\u001b[0m\u001b[0;34m)\u001b[0m\u001b[0;34m\u001b[0m\u001b[0;34m\u001b[0m\u001b[0m\n\u001b[1;32m    221\u001b[0m     elif isinstance(column,\n",
      "\u001b[0;32m/Users/didi/opt/miniconda3/lib/python3.7/site-packages/tensorflow_core/python/ops/array_ops.py\u001b[0m in \u001b[0;36munstack\u001b[0;34m(value, num, axis, name)\u001b[0m\n\u001b[1;32m   1320\u001b[0m       \u001b[0mnum\u001b[0m \u001b[0;34m=\u001b[0m \u001b[0mvalue_shape\u001b[0m\u001b[0;34m.\u001b[0m\u001b[0mdims\u001b[0m\u001b[0;34m[\u001b[0m\u001b[0maxis\u001b[0m\u001b[0;34m]\u001b[0m\u001b[0;34m.\u001b[0m\u001b[0mvalue\u001b[0m\u001b[0;34m\u001b[0m\u001b[0;34m\u001b[0m\u001b[0m\n\u001b[1;32m   1321\u001b[0m   \u001b[0;32mif\u001b[0m \u001b[0mnum\u001b[0m \u001b[0;32mis\u001b[0m \u001b[0;32mNone\u001b[0m\u001b[0;34m:\u001b[0m\u001b[0;34m\u001b[0m\u001b[0;34m\u001b[0m\u001b[0m\n\u001b[0;32m-> 1322\u001b[0;31m     \u001b[0;32mraise\u001b[0m \u001b[0mValueError\u001b[0m\u001b[0;34m(\u001b[0m\u001b[0;34m\"Cannot infer num from shape %s\"\u001b[0m \u001b[0;34m%\u001b[0m \u001b[0mvalue_shape\u001b[0m\u001b[0;34m)\u001b[0m\u001b[0;34m\u001b[0m\u001b[0;34m\u001b[0m\u001b[0m\n\u001b[0m\u001b[1;32m   1323\u001b[0m   \u001b[0;32mreturn\u001b[0m \u001b[0mgen_array_ops\u001b[0m\u001b[0;34m.\u001b[0m\u001b[0munpack\u001b[0m\u001b[0;34m(\u001b[0m\u001b[0mvalue\u001b[0m\u001b[0;34m,\u001b[0m \u001b[0mnum\u001b[0m\u001b[0;34m=\u001b[0m\u001b[0mnum\u001b[0m\u001b[0;34m,\u001b[0m \u001b[0maxis\u001b[0m\u001b[0;34m=\u001b[0m\u001b[0maxis\u001b[0m\u001b[0;34m,\u001b[0m \u001b[0mname\u001b[0m\u001b[0;34m=\u001b[0m\u001b[0mname\u001b[0m\u001b[0;34m)\u001b[0m\u001b[0;34m\u001b[0m\u001b[0;34m\u001b[0m\u001b[0m\n\u001b[1;32m   1324\u001b[0m \u001b[0;34m\u001b[0m\u001b[0m\n",
      "\u001b[0;31mValueError\u001b[0m: Cannot infer num from shape (?, ?)"
     ]
    }
   ],
   "source": [
    "params = {\n",
    "  'n_trees': 50,\n",
    "  'max_depth': 3,\n",
    "  'n_batches_per_layer': 1,\n",
    "  # 为了得到 DFCs，请设置 center_bias = True。这将强制\n",
    "  # 模型在使用特征（例如：回归中训练集标签的均值，分类中使\n",
    "  # 用交叉熵损失函数时的对数几率）前做一个初始预测。\n",
    "  'center_bias': True\n",
    "}\n",
    "est = tf.estimator.BoostedTreesClassifier(fc_list, **params)\n",
    "_ = est.train(train_input_fn, max_steps=100)"
   ]
  },
  {
   "cell_type": "markdown",
   "metadata": {},
   "source": [
    "## GBDT from sklearn"
   ]
  },
  {
   "cell_type": "code",
   "execution_count": 164,
   "metadata": {
    "ExecuteTime": {
     "end_time": "2021-01-13T11:10:43.967410Z",
     "start_time": "2021-01-13T11:10:43.962152Z"
    }
   },
   "outputs": [],
   "source": [
    "from sklearn.ensemble import GradientBoostingClassifier\n",
    "from sklearn import metrics\n"
   ]
  },
  {
   "cell_type": "code",
   "execution_count": 165,
   "metadata": {
    "ExecuteTime": {
     "end_time": "2021-01-13T11:10:46.285030Z",
     "start_time": "2021-01-13T11:10:44.399283Z"
    },
    "code_folding": []
   },
   "outputs": [
    {
     "data": {
      "application/vnd.jupyter.widget-view+json": {
       "model_id": "eeeca1fc117e488480bac9981f213fbb",
       "version_major": 2,
       "version_minor": 0
      },
      "text/plain": [
       "HBox(children=(FloatProgress(value=1.0, bar_style='info', max=1.0), HTML(value='')))"
      ]
     },
     "metadata": {},
     "output_type": "display_data"
    },
    {
     "data": {
      "application/vnd.jupyter.widget-view+json": {
       "model_id": "feb21326653e4881822659c8561b3311",
       "version_major": 2,
       "version_minor": 0
      },
      "text/plain": [
       "HBox(children=(FloatProgress(value=1.0, bar_style='info', max=1.0), HTML(value='')))"
      ]
     },
     "metadata": {},
     "output_type": "display_data"
    }
   ],
   "source": [
    "def load_trd_to_memo(trd_fp):\n",
    "    tf.reset_default_graph()\n",
    "    fc_list = wrapper_fc_list()\n",
    "    features,labels=load_ds(trd_fp,\"train\",model_type=\"cls\",epoch_num=1,batch_size=1024)\n",
    "    net = feature_column.input_layer(features,fc_list)\n",
    "    trainX=[]\n",
    "    trainY=[]\n",
    "\n",
    "    with tf.Session() as sess:\n",
    "        try:\n",
    "            for i in tqdm(itertools.count(0), leave=False):\n",
    "                X,Y=sess.run([net, labels])\n",
    "                trainX.append(X)\n",
    "                trainY.append(Y)\n",
    "        except tf.errors.OutOfRangeError:\n",
    "            pass\n",
    "    return np.vstack(trainX), np.vstack(trainY)\n",
    "\n",
    "trainX,trainY = load_trd_to_memo(trd_train_fp)\n",
    "evalX,evalY = load_trd_to_memo(trd_test_fp)\n",
    "\n"
   ]
  },
  {
   "cell_type": "code",
   "execution_count": 166,
   "metadata": {
    "ExecuteTime": {
     "end_time": "2021-01-13T11:10:48.656752Z",
     "start_time": "2021-01-13T11:10:48.382850Z"
    }
   },
   "outputs": [
    {
     "data": {
      "text/plain": [
       "(3705, 3200)"
      ]
     },
     "execution_count": 166,
     "metadata": {},
     "output_type": "execute_result"
    },
    {
     "data": {
      "text/plain": [
       "(1156, 3200)"
      ]
     },
     "execution_count": 166,
     "metadata": {},
     "output_type": "execute_result"
    },
    {
     "name": "stdout",
     "output_type": "stream",
     "text": [
      ">>> trainY value_counts:\n"
     ]
    },
    {
     "data": {
      "text/plain": [
       "1    2378\n",
       "0    1166\n",
       "3     114\n",
       "2      47\n",
       "dtype: int64"
      ]
     },
     "execution_count": 166,
     "metadata": {},
     "output_type": "execute_result"
    },
    {
     "name": "stdout",
     "output_type": "stream",
     "text": [
      ">>> evalY value_counts:\n"
     ]
    },
    {
     "data": {
      "text/plain": [
       "1    982\n",
       "0    110\n",
       "2     35\n",
       "3     29\n",
       "dtype: int64"
      ]
     },
     "execution_count": 166,
     "metadata": {},
     "output_type": "execute_result"
    },
    {
     "data": {
      "text/plain": [
       "<AxesSubplot:>"
      ]
     },
     "execution_count": 166,
     "metadata": {},
     "output_type": "execute_result"
    },
    {
     "data": {
      "text/plain": [
       "<AxesSubplot:>"
      ]
     },
     "execution_count": 166,
     "metadata": {},
     "output_type": "execute_result"
    },
    {
     "data": {
      "image/png": "[encoded data removed]",
      "text/plain": [
       "<Figure size 432x288 with 1 Axes>"
      ]
     },
     "metadata": {
      "needs_background": "light"
     },
     "output_type": "display_data"
    }
   ],
   "source": [
    "trainX.shape\n",
    "evalX.shape\n",
    "print(\">>> trainY value_counts:\")\n",
    "pd.Series(trainY.flatten()).value_counts()\n",
    "print(\">>> evalY value_counts:\")\n",
    "pd.Series(evalY.flatten()).value_counts()\n",
    "pd.Series(trainY.flatten()).hist()\n",
    "pd.Series(evalY.flatten()).hist()\n"
   ]
  },
  {
   "cell_type": "code",
   "execution_count": 179,
   "metadata": {
    "ExecuteTime": {
     "end_time": "2021-01-13T11:14:49.496352Z",
     "start_time": "2021-01-13T11:14:48.377940Z"
    }
   },
   "outputs": [
    {
     "data": {
      "text/plain": [
       "array([[   0,    1,    2,    3],\n",
       "       [1166, 2378,   47,  114]])"
      ]
     },
     "execution_count": 179,
     "metadata": {},
     "output_type": "execute_result"
    },
    {
     "data": {
      "text/plain": [
       "<AxesSubplot:title={'center':'SMALL_CAR'}>"
      ]
     },
     "execution_count": 179,
     "metadata": {},
     "output_type": "execute_result"
    },
    {
     "data": {
      "image/png": "[encoded data removed]",
      "text/plain": [
       "<Figure size 432x288 with 1 Axes>"
      ]
     },
     "metadata": {
      "needs_background": "light"
     },
     "output_type": "display_data"
    },
    {
     "data": {
      "text/plain": [
       "<AxesSubplot:title={'center':'MIDSIZE_CAR'}>"
      ]
     },
     "execution_count": 179,
     "metadata": {},
     "output_type": "execute_result"
    },
    {
     "data": {
      "image/png": "[encoded data removed]",
      "text/plain": [
       "<Figure size 432x288 with 1 Axes>"
      ]
     },
     "metadata": {
      "needs_background": "light"
     },
     "output_type": "display_data"
    },
    {
     "data": {
      "text/plain": [
       "<AxesSubplot:title={'center':'LARGE_CAR'}>"
      ]
     },
     "execution_count": 179,
     "metadata": {},
     "output_type": "execute_result"
    },
    {
     "data": {
      "image/png": "[encoded data removed]",
      "text/plain": [
       "<Figure size 432x288 with 1 Axes>"
      ]
     },
     "metadata": {
      "needs_background": "light"
     },
     "output_type": "display_data"
    },
    {
     "data": {
      "text/plain": [
       "<AxesSubplot:title={'center':'VAN_TYPE'}>"
      ]
     },
     "execution_count": 179,
     "metadata": {},
     "output_type": "execute_result"
    },
    {
     "data": {
      "image/png": "[encoded data removed]",
      "text/plain": [
       "<Figure size 432x288 with 1 Axes>"
      ]
     },
     "metadata": {
      "needs_background": "light"
     },
     "output_type": "display_data"
    }
   ],
   "source": [
    "np.vstack(np.unique(trainY,return_counts=True))\n",
    "for k,g in pd.DataFrame({\"X_sum\":np.sum(trainX,axis=1),\"trainY\":trainY.flatten()}).groupby(\"trainY\"):\n",
    "    ax = plt.axes()\n",
    "    _ = ax.set_title(VL_TYPES[k])\n",
    "    g[\"X_sum\"].hist(bins=100, ax=ax)\n",
    "    plt.show()"
   ]
  },
  {
   "cell_type": "code",
   "execution_count": 180,
   "metadata": {
    "ExecuteTime": {
     "end_time": "2021-01-13T11:27:14.113823Z",
     "start_time": "2021-01-13T11:25:31.516635Z"
    }
   },
   "outputs": [
    {
     "name": "stdout",
     "output_type": "stream",
     "text": [
      "      Iter       Train Loss   Remaining Time \n",
      "         1           0.7836            1.85m\n",
      "         2           0.7664            1.75m\n",
      "         3           0.7481            1.73m\n",
      "         4           0.7355            1.69m\n",
      "         5           0.7247            1.68m\n",
      "         6           0.7160            1.67m\n",
      "         7           0.7103            1.65m\n",
      "         8           0.7040            1.63m\n",
      "         9           0.6987            1.60m\n",
      "        10           0.6935            1.58m\n",
      "        20           0.6593            1.40m\n",
      "        30           0.6362            1.22m\n",
      "        40           0.6195            1.04m\n",
      "        50           0.6046           52.07s\n",
      "        60           0.5895           41.43s\n",
      "        70           0.5774           30.92s\n",
      "        80           0.5619           20.58s\n",
      "        90           0.5517           10.26s\n",
      "       100           0.5437            0.00s\n"
     ]
    },
    {
     "data": {
      "text/plain": [
       "GradientBoostingClassifier(max_depth=2, verbose=1)"
      ]
     },
     "execution_count": 180,
     "metadata": {},
     "output_type": "execute_result"
    },
    {
     "data": {
      "text/plain": [
       "0.8235294117647058"
      ]
     },
     "execution_count": 180,
     "metadata": {},
     "output_type": "execute_result"
    }
   ],
   "source": [
    "gb_cls = GradientBoostingClassifier(n_estimators=100, \n",
    "                                    max_depth=2, \n",
    "                                    min_samples_split=2, \n",
    "                                    learning_rate=0.1,\n",
    "                                    verbose=1)\n",
    "gb_cls.fit(trainX, trainY.flatten())\n",
    "gb_cls.score(evalX, evalY.flatten())\n",
    "predY = gb_cls.predict(evalX)\n",
    "\n"
   ]
  },
  {
   "cell_type": "code",
   "execution_count": 182,
   "metadata": {
    "ExecuteTime": {
     "end_time": "2021-01-13T11:27:44.685734Z",
     "start_time": "2021-01-13T11:27:44.606370Z"
    }
   },
   "outputs": [
    {
     "data": {
      "text/plain": [
       "('SMALL_CAR=0', 3, 110, 0.02727272727272727)"
      ]
     },
     "execution_count": 182,
     "metadata": {},
     "output_type": "execute_result"
    },
    {
     "data": {
      "text/plain": [
       "('MIDSIZE_CAR=1', 946, 982, 0.9633401221995926)"
      ]
     },
     "execution_count": 182,
     "metadata": {},
     "output_type": "execute_result"
    },
    {
     "data": {
      "text/plain": [
       "('LARGE_CAR=2', 1, 35, 0.02857142857142857)"
      ]
     },
     "execution_count": 182,
     "metadata": {},
     "output_type": "execute_result"
    },
    {
     "data": {
      "text/plain": [
       "('VAN_TYPE=3', 2, 29, 0.06896551724137931)"
      ]
     },
     "execution_count": 182,
     "metadata": {},
     "output_type": "execute_result"
    },
    {
     "data": {
      "text/plain": [
       "1    806\n",
       "2     13\n",
       "3     10\n",
       "0      5\n",
       "dtype: int64"
      ]
     },
     "execution_count": 182,
     "metadata": {},
     "output_type": "execute_result"
    },
    {
     "data": {
      "text/plain": [
       "1    982\n",
       "0    110\n",
       "2     35\n",
       "3     29\n",
       "dtype: int64"
      ]
     },
     "execution_count": 182,
     "metadata": {},
     "output_type": "execute_result"
    }
   ],
   "source": [
    "\n",
    "resDF = pd.DataFrame({\"pred\":predY, \"label\":evalY.flatten()})\n",
    "for k,g in resDF.groupby(\"label\"):\n",
    "    \"{}={}\".format(VL_TYPES[k],k), g.query(\"pred == label\").shape[0], g.shape[0], g.query(\"pred == label\").shape[0] / g.shape[0]\n",
    "    \n",
    "pd.Series(pred).value_counts()\n",
    "pd.Series(label).value_counts()"
   ]
  },
  {
   "cell_type": "code",
   "execution_count": 155,
   "metadata": {
    "ExecuteTime": {
     "end_time": "2021-01-13T09:56:23.190029Z",
     "start_time": "2021-01-13T09:56:21.647985Z"
    }
   },
   "outputs": [
    {
     "data": {
      "text/plain": [
       "<AxesSubplot:title={'center':'SMALL_CAR'}>"
      ]
     },
     "execution_count": 155,
     "metadata": {},
     "output_type": "execute_result"
    },
    {
     "data": {
      "image/png": "[encoded data removed]",
      "text/plain": [
       "<Figure size 432x288 with 1 Axes>"
      ]
     },
     "metadata": {
      "needs_background": "light"
     },
     "output_type": "display_data"
    },
    {
     "data": {
      "text/plain": [
       "<AxesSubplot:title={'center':'MIDSIZE_CAR'}>"
      ]
     },
     "execution_count": 155,
     "metadata": {},
     "output_type": "execute_result"
    },
    {
     "data": {
      "image/png": "[encoded data removed]",
      "text/plain": [
       "<Figure size 432x288 with 1 Axes>"
      ]
     },
     "metadata": {
      "needs_background": "light"
     },
     "output_type": "display_data"
    },
    {
     "data": {
      "text/plain": [
       "<AxesSubplot:title={'center':'LARGE_CAR'}>"
      ]
     },
     "execution_count": 155,
     "metadata": {},
     "output_type": "execute_result"
    },
    {
     "data": {
      "image/png": "[encoded data removed]",
      "text/plain": [
       "<Figure size 432x288 with 1 Axes>"
      ]
     },
     "metadata": {
      "needs_background": "light"
     },
     "output_type": "display_data"
    },
    {
     "data": {
      "text/plain": [
       "<AxesSubplot:title={'center':'VAN_TYPE'}>"
      ]
     },
     "execution_count": 155,
     "metadata": {},
     "output_type": "execute_result"
    },
    {
     "data": {
      "image/png": "[encoded data removed]",
      "text/plain": [
       "<Figure size 432x288 with 1 Axes>"
      ]
     },
     "metadata": {
      "needs_background": "light"
     },
     "output_type": "display_data"
    },
    {
     "data": {
      "text/html": [
       "<div>\n",
       "<style scoped>\n",
       "    .dataframe tbody tr th:only-of-type {\n",
       "        vertical-align: middle;\n",
       "    }\n",
       "\n",
       "    .dataframe tbody tr th {\n",
       "        vertical-align: top;\n",
       "    }\n",
       "\n",
       "    .dataframe thead th {\n",
       "        text-align: right;\n",
       "    }\n",
       "</style>\n",
       "<table border=\"1\" class=\"dataframe\">\n",
       "  <thead>\n",
       "    <tr style=\"text-align: right;\">\n",
       "      <th></th>\n",
       "      <th>type</th>\n",
       "      <th>total</th>\n",
       "      <th>tp</th>\n",
       "      <th>ue</th>\n",
       "      <th>oe</th>\n",
       "    </tr>\n",
       "  </thead>\n",
       "  <tbody>\n",
       "    <tr>\n",
       "      <th>0</th>\n",
       "      <td>SMALL_CAR=0</td>\n",
       "      <td>101</td>\n",
       "      <td>{'cnt': 1, 'ratio': 0.0099}</td>\n",
       "      <td>{'cnt': 0, 'ratio': 0.0}</td>\n",
       "      <td>{'cnt': 100, 'ratio': 0.9901}</td>\n",
       "    </tr>\n",
       "    <tr>\n",
       "      <th>1</th>\n",
       "      <td>MIDSIZE_CAR=1</td>\n",
       "      <td>686</td>\n",
       "      <td>{'cnt': 667, 'ratio': 0.9723}</td>\n",
       "      <td>{'cnt': 4, 'ratio': 0.0058}</td>\n",
       "      <td>{'cnt': 15, 'ratio': 0.0219}</td>\n",
       "    </tr>\n",
       "    <tr>\n",
       "      <th>2</th>\n",
       "      <td>LARGE_CAR=2</td>\n",
       "      <td>23</td>\n",
       "      <td>{'cnt': 2, 'ratio': 0.087}</td>\n",
       "      <td>{'cnt': 21, 'ratio': 0.913}</td>\n",
       "      <td>{'cnt': 0, 'ratio': 0.0}</td>\n",
       "    </tr>\n",
       "    <tr>\n",
       "      <th>3</th>\n",
       "      <td>VAN_TYPE=3</td>\n",
       "      <td>24</td>\n",
       "      <td>{'cnt': 2, 'ratio': 0.0833}</td>\n",
       "      <td>{'cnt': 22, 'ratio': 0.9167}</td>\n",
       "      <td>{'cnt': 0, 'ratio': 0.0}</td>\n",
       "    </tr>\n",
       "  </tbody>\n",
       "</table>\n",
       "</div>"
      ],
      "text/plain": [
       "            type  total                             tp  \\\n",
       "0    SMALL_CAR=0    101    {'cnt': 1, 'ratio': 0.0099}   \n",
       "1  MIDSIZE_CAR=1    686  {'cnt': 667, 'ratio': 0.9723}   \n",
       "2    LARGE_CAR=2     23     {'cnt': 2, 'ratio': 0.087}   \n",
       "3     VAN_TYPE=3     24    {'cnt': 2, 'ratio': 0.0833}   \n",
       "\n",
       "                             ue                             oe  \n",
       "0      {'cnt': 0, 'ratio': 0.0}  {'cnt': 100, 'ratio': 0.9901}  \n",
       "1   {'cnt': 4, 'ratio': 0.0058}   {'cnt': 15, 'ratio': 0.0219}  \n",
       "2   {'cnt': 21, 'ratio': 0.913}       {'cnt': 0, 'ratio': 0.0}  \n",
       "3  {'cnt': 22, 'ratio': 0.9167}       {'cnt': 0, 'ratio': 0.0}  "
      ]
     },
     "execution_count": 155,
     "metadata": {},
     "output_type": "execute_result"
    }
   ],
   "source": [
    "stacked = np.hstack([evalX,evalY,np.expand_dims(predY,-1)])\n",
    "resDF = pd.DataFrame([{\"X\":line[:-2],\"evalY\":line[-2],\"predY\":line[-1]} for line in stacked])\n",
    "resDF['X_sum'] = resDF[\"X\"].apply(sum)\n",
    "\n",
    "metricInfo = []\n",
    "for k,g in resDF.groupby(\"evalY\"):\n",
    "    k = int(k)\n",
    "    tp = g.query(\"predY == evalY\").shape[0]\n",
    "    ue = g.query(\"predY < evalY\").shape[0]  # underestimate\n",
    "    oe = g.query(\"predY > evalY\").shape[0]  # overestimate\n",
    "    total = g.shape[0]\n",
    "    metricInfo.append({\"type\":VL_TYPES[k]+\"=\"+str(k), \n",
    "                       \"total\":total,\n",
    "                       \"tp\":{\"cnt\":tp,\"ratio\":round(tp/total,4)}, \n",
    "                       \"ue\":{\"cnt\":ue,\"ratio\":round(ue/total,4)}, \n",
    "                       \"oe\":{\"cnt\":oe,\"ratio\":round(oe/total,4)}})\n",
    "    ax = plt.axes()\n",
    "    _ = ax.set_title(VL_TYPES[k])\n",
    "    g[\"X_sum\"].hist(bins=100, ax=ax)\n",
    "    plt.show()\n",
    "pd.DataFrame(metricInfo)"
   ]
  },
  {
   "cell_type": "code",
   "execution_count": 141,
   "metadata": {
    "ExecuteTime": {
     "end_time": "2021-01-13T07:48:22.482209Z",
     "start_time": "2021-01-13T07:48:20.753378Z"
    }
   },
   "outputs": [
    {
     "data": {
      "image/png": "[encoded data removed]",
      "text/plain": [
       "<Figure size 432x288 with 4 Axes>"
      ]
     },
     "metadata": {
      "needs_background": "light"
     },
     "output_type": "display_data"
    },
    {
     "data": {
      "image/png": "[encoded data removed]",
      "text/plain": [
       "<Figure size 432x288 with 4 Axes>"
      ]
     },
     "metadata": {
      "needs_background": "light"
     },
     "output_type": "display_data"
    },
    {
     "data": {
      "image/png": "[encoded data removed]",
      "text/plain": [
       "<Figure size 432x288 with 4 Axes>"
      ]
     },
     "metadata": {
      "needs_background": "light"
     },
     "output_type": "display_data"
    },
    {
     "data": {
      "image/png": "[encoded data removed]",
      "text/plain": [
       "<Figure size 432x288 with 4 Axes>"
      ]
     },
     "metadata": {
      "needs_background": "light"
     },
     "output_type": "display_data"
    }
   ],
   "source": [
    "for cls_idx in [0,1,2,3]:\n",
    "    fig,axes=plt.subplots(2,2)\n",
    "    fig.set_tight_layout(True)\n",
    "    resDF_tmp = resDF.query(\"evalY=={}\".format(cls_idx))\n",
    "    _=axes[0][0].set_title(\"tp of {}\".format(cls_idx))\n",
    "    _=resDF_tmp.query(\"predY == {}\".format(cls_idx))[\"X_sum\"].hist(ax=axes[0][0])\n",
    "    _=axes[1][0].set_title(\"ue of {}\".format(cls_idx))\n",
    "    _=resDF_tmp.query(\"predY < {}\".format(cls_idx))[\"X_sum\"].hist(ax=axes[1][0])\n",
    "    _=axes[1][1].set_title(\"oe of {}\".format(cls_idx))\n",
    "    _=resDF_tmp.query(\"predY > {}\".format(cls_idx))[\"X_sum\"].hist(ax=axes[1][1])"
   ]
  },
  {
   "cell_type": "markdown",
   "metadata": {},
   "source": [
    "# WideDeep"
   ]
  },
  {
   "cell_type": "code",
   "execution_count": null,
   "metadata": {},
   "outputs": [],
   "source": [
    "fc_emb = list()\n",
    "fc_linear = list()\n",
    "fc_num = list()\n",
    "for fname in CATEGORICAL_COLUMNS:\n",
    "    hash_col = feature_column.categorical_column_with_hash_bucket(fname, hash_bucket_size=10000, dtype=tf.string)\n",
    "    id_col = feature_column.indicator_column(hash_col)\n",
    "    fc_linear.append(id_col)\n",
    "\n",
    "for fname in EMB_COLUMNS:\n",
    "    hash_col = feature_column.categorical_column_with_hash_bucket(fname, hash_bucket_size=10000, dtype=tf.string)\n",
    "    emb_col = feature_column.embedding_column(hash_col, dimension=6)\n",
    "    fc_emb.append(emb_col)\n",
    "\n",
    "for fname in NUMERIC_COLUMNS:\n",
    "    fc_num.append(feature_column.numeric_column(fname, dtype=tf.float32))"
   ]
  },
  {
   "cell_type": "code",
   "execution_count": null,
   "metadata": {
    "ExecuteTime": {
     "end_time": "2021-01-05T19:22:37.567539Z",
     "start_time": "2021-01-05T19:22:31.843551Z"
    }
   },
   "outputs": [],
   "source": [
    "train_input_fn = functools.partial(getIter, trainDF)\n",
    "eval_input_fn = functools.partial(getIter, evalDF)\n",
    "\n",
    "wd_cls = tf.estimator.DNNLinearCombinedClassifier(linear_feature_columns=fc_linear,\n",
    "                                                  dnn_feature_columns=fc_emb+fc_num,\n",
    "                                                  dnn_hidden_units=[128,32],\n",
    "                                                  n_classes=2)\n",
    "\n",
    "_ = wd_cls.train(train_input_fn)\n",
    "result = wd_cls.evaluate(eval_input_fn)"
   ]
  },
  {
   "cell_type": "code",
   "execution_count": null,
   "metadata": {
    "ExecuteTime": {
     "end_time": "2021-01-05T19:22:54.730227Z",
     "start_time": "2021-01-05T19:22:53.908712Z"
    }
   },
   "outputs": [],
   "source": [
    "print(\">>> result:\\n\",result)\n",
    "\n",
    "pred_dicts = list(linear_est.predict(eval_input_fn))\n",
    "probs = pd.Series([pred['probabilities'][1] for pred in pred_dicts])\n",
    "probs.plot(kind='hist', bins=20, title='predicted probabilities')"
   ]
  },
  {
   "cell_type": "markdown",
   "metadata": {},
   "source": [
    "# WD custom"
   ]
  },
  {
   "cell_type": "code",
   "execution_count": null,
   "metadata": {},
   "outputs": [],
   "source": [
    "fc_list = list()\n",
    "for fname in CATEGORICAL_COLUMNS:\n",
    "    hash_col = feature_column.categorical_column_with_hash_bucket(fname, hash_bucket_size=10000, dtype=tf.string)\n",
    "    id_col = feature_column.indicator_column(hash_col)\n",
    "    fc_list.append(id_col)\n",
    "\n",
    "for fname in EMB_COLUMNS:\n",
    "    hash_col = feature_column.categorical_column_with_hash_bucket(fname, hash_bucket_size=10000, dtype=tf.string)\n",
    "    emb_col = feature_column.embedding_column(hash_col, dimension=6)\n",
    "    fc_list.append(emb_col)\n",
    "\n",
    "for fname in NUMERIC_COLUMNS:\n",
    "    fc_list.append(feature_column.numeric_column(fname, dtype=tf.float32))\n",
    "\n"
   ]
  },
  {
   "cell_type": "code",
   "execution_count": null,
   "metadata": {
    "ExecuteTime": {
     "end_time": "2021-01-05T19:17:16.372272Z",
     "start_time": "2021-01-05T19:17:15.157482Z"
    },
    "code_folding": [
     26,
     40,
     46
    ]
   },
   "outputs": [],
   "source": [
    "from tensorflow.python.ops import init_ops\n",
    "\n",
    "\n",
    "trainData = getIter(trainDF)\n",
    "evData = getIter(evalDF)\n",
    "\n",
    "#########\n",
    "# Model\n",
    "#########\n",
    "\n",
    "\n",
    "def dnn_logits(features,n_classes,fc_emb,fc_num,mode):\n",
    "    net = feature_column.input_layer(features, fc_emb+fc_num)\n",
    "    for layer_id, num_hidden_units in enumerate([128,32]):\n",
    "        with tf.variable_scope('hiddenlayer_%d' % layer_id\n",
    "                               ) as hidden_layer_scope:\n",
    "            net = tf.layers.dense(net, num_hidden_units, activation=tf.nn.relu,\n",
    "                                  kernel_initializer=init_ops.glorot_uniform_initializer(),\n",
    "                                  name=hidden_layer_scope)\n",
    "\n",
    "    with tf.variable_scope('logits') as logits_scope:\n",
    "        dnn_logits = tf.layers.dense(net, n_classes, kernel_initializer=init_ops.glorot_uniform_initializer(),\n",
    "                                     activation=None,name=logits_scope)\n",
    "    return dnn_logits\n",
    "\n",
    "def linear_logits(features,n_classes,fc_linear,mode):\n",
    "    net = feature_column.input_layer(features, fc_linear)\n",
    "    linear_logits = tf.layers.dense(net, n_classes, activation=tf.nn.relu, name=\"linear_layer\")\n",
    "    return linear_logits\n",
    "\n",
    "\n",
    "def model_fn(features,n_classes,fc_emb,fc_num,fc_linear,mode):\n",
    "    with tf.variable_scope('dnn') as dnn_scope:\n",
    "        dnn_scope_name = dnn_scope.name()\n",
    "        dnn_logit = dnn_logits(features,n_classes,fc_emb,fc_num,mode)\n",
    "\n",
    "    with tf.variable_scope('linear') as linear_scope:\n",
    "        linear_scope_name = linear_scope.name\n",
    "        linear_logits = linear_logits(features,n_classes,fc_linear,mode)\n",
    "\n",
    "    logits = dnn_logits + linear_logits\n",
    "    \n",
    "    if mode.upper() ==\"EVAL\":\n",
    "        probabilities = tf.nn.softmax(logits)\n",
    "        class_ids = tf.argmax(probabilities, 1)\n",
    "        export_predictions = {\n",
    "            \"class_id\": class_ids,\n",
    "            \"probabilities\": probabilities,\n",
    "        }\n",
    "        export_outputs = {\n",
    "            \"predict\": tf.estimator.export.PredictOutput(export_predictions)\n",
    "        }\n",
    "        return tf.estimator.EstimatorSpec(mode,\n",
    "                                          predictions=export_predictions,\n",
    "                                          export_outputs=export_outputs)\n",
    "    \n",
    "    if mode.upper() == \"TRAIN\":\n",
    "        loss = tf.losses.sparse_softmax_cross_entropy(logits=logits, labels=lbls, reduction=tf.losses.Reduction.SUM)\n",
    "\n",
    "        dnn_optimizer = tf.train.AdagradOptimizer(learning_rate=1e-3)\n",
    "        _dnn_optimizer = tf.contrib.estimator.clip_gradients_by_norm(dnn_optimizer, clip_norm=50)\n",
    "        linear_optimizer = tf.train.FtrlOptimizer(learning_rate=1e-4)\n",
    "        \n",
    "        train_ops=[\n",
    "            _dnn_optimizer.minize(loss=loss, \n",
    "                                  var_list=tf.get_collection(tf.GraphKeys.TRAINABLE_VARIABLES,scope=dnn_scope_name)),\n",
    "            linear_optimizer.minize(loss=loss, \n",
    "                                    var_list=tf.get_collection(tf.GraphKeys.TRAINABLE_VARIABLES,scope=linear_scope_name))\n",
    "        ]\n",
    "        train_op = tf.group(*train_ops)\n",
    "        train_metric_ops = {\"LOSS\": tf.metrics.mean(gross_loss, name=\"mean_loss\")}\n",
    "        # Provide an estimator spec for `ModeKeys.TRAIN` modes.\n",
    "        return tf.estimator.EstimatorSpec(mode=mode,\n",
    "                                          loss=loss,\n",
    "                                          train_op=train_op,\n",
    "                                          eval_metric_ops=train_metric_ops)\n",
    "\n",
    "\n",
    "# model_fn(...)\n",
    "\n",
    "with tf.Session() as sess:\n",
    "    net = feature_column.input_layer(trainData[0], fc_list)\n",
    "    net.shape\n",
    "    sess.run(tf.global_variables_initializer())\n",
    "    lbls = trainData[1]\n",
    "    net.eval()\n",
    "\n",
    "\n"
   ]
  },
  {
   "cell_type": "code",
   "execution_count": null,
   "metadata": {},
   "outputs": [],
   "source": []
  },
  {
   "cell_type": "code",
   "execution_count": null,
   "metadata": {},
   "outputs": [],
   "source": []
  }
 ],
 "metadata": {
  "kernelspec": {
   "display_name": "Python 3",
   "language": "python",
   "name": "python3"
  },
  "language_info": {
   "codemirror_mode": {
    "name": "ipython",
    "version": 3
   },
   "file_extension": ".py",
   "mimetype": "text/x-python",
   "name": "python",
   "nbconvert_exporter": "python",
   "pygments_lexer": "ipython3",
   "version": "3.7.6"
  },
  "toc": {
   "base_numbering": 1,
   "nav_menu": {},
   "number_sections": true,
   "sideBar": true,
   "skip_h1_title": false,
   "title_cell": "Table of Contents",
   "title_sidebar": "Contents",
   "toc_cell": false,
   "toc_position": {
    "height": "calc(100% - 180px)",
    "left": "10px",
    "top": "150px",
    "width": "165px"
   },
   "toc_section_display": true,
   "toc_window_display": true
  }
 },
 "nbformat": 4,
 "nbformat_minor": 4
}
