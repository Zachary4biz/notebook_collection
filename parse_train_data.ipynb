{
 "cells": [
  {
   "cell_type": "markdown",
   "metadata": {},
   "source": [
    "# Prepare"
   ]
  },
  {
   "cell_type": "code",
   "execution_count": 1,
   "metadata": {
    "ExecuteTime": {
     "end_time": "2019-07-15T08:55:28.350179Z",
     "start_time": "2019-07-15T08:55:28.080703Z"
    }
   },
   "outputs": [],
   "source": [
    "from IPython.core.interactiveshell import InteractiveShell\n",
    "InteractiveShell.ast_node_interactivity = \"all\"\n",
    "%matplotlib inline\n",
    "from tqdm import tqdm_notebook\n",
    "import concurrent.futures\n",
    "from multiprocessing import Pool\n",
    "import copy,os,sys,psutil\n",
    "from collections import Counter\n"
   ]
  },
  {
   "cell_type": "code",
   "execution_count": 2,
   "metadata": {
    "ExecuteTime": {
     "end_time": "2019-07-15T08:55:29.077438Z",
     "start_time": "2019-07-15T08:55:29.037696Z"
    }
   },
   "outputs": [],
   "source": [
    "import os\n",
    "import json\n",
    "import cv2\n",
    "from matplotlib import pyplot as plt"
   ]
  },
  {
   "cell_type": "markdown",
   "metadata": {},
   "source": [
    "# 找出所有json文件路径，保存下来"
   ]
  },
  {
   "cell_type": "code",
   "execution_count": 4,
   "metadata": {
    "ExecuteTime": {
     "end_time": "2019-07-15T08:55:57.644760Z",
     "start_time": "2019-07-15T08:55:57.641059Z"
    }
   },
   "outputs": [],
   "source": [
    "json_fp = \"/home/zhoutong/facedata/all_json_file_path.txt\""
   ]
  },
  {
   "cell_type": "code",
   "execution_count": 19,
   "metadata": {
    "ExecuteTime": {
     "end_time": "2019-07-11T02:22:49.945496Z",
     "start_time": "2019-07-11T02:22:49.937510Z"
    },
    "code_folding": [
     0
    ],
    "deletable": false,
    "editable": false,
    "run_control": {
     "frozen": true
    }
   },
   "outputs": [],
   "source": [
    "# 找出所有json文件路径，保存下来\n",
    "def write2file_useful_json(output_fp=\"/home/zhoutong/facedata/all_json_file_path.txt\"):\n",
    "    base_dir = \"/home/zhoutong/facedata/CASIA-maxpy-clean\"\n",
    "    sub_dir_list = [os.path.join(base_dir, i) for i in os.listdir(base_dir)]\n",
    "    res_path_list = []\n",
    "    for sub_dir in sub_dir_list:\n",
    "        if os.path.isdir(sub_dir):\n",
    "            res_path_list.extend([os.path.join(sub_dir, i) for i in os.listdir(sub_dir) if \".json\" in i])\n",
    "    with open(output_fp, \"w\") as f:\n",
    "        for p in res_path_list:\n",
    "            f.writelines(p + \"\\n\")\n",
    "    return None"
   ]
  },
  {
   "cell_type": "code",
   "execution_count": null,
   "metadata": {
    "deletable": false,
    "editable": false,
    "run_control": {
     "frozen": true
    }
   },
   "outputs": [],
   "source": [
    "# 找出所有json文件路径，保存下来\n",
    "write2file_useful_json(json_fp)"
   ]
  },
  {
   "cell_type": "markdown",
   "metadata": {},
   "source": [
    "# fp_list 存有所有json文件路径"
   ]
  },
  {
   "cell_type": "code",
   "execution_count": 5,
   "metadata": {
    "ExecuteTime": {
     "end_time": "2019-07-15T08:56:02.844701Z",
     "start_time": "2019-07-15T08:56:02.737753Z"
    }
   },
   "outputs": [],
   "source": [
    "with open(json_fp, \"r\") as f:\n",
    "    fp_list = [i.strip() for i in f.readlines()]"
   ]
  },
  {
   "cell_type": "markdown",
   "metadata": {},
   "source": [
    "# 逐一打开json文件，按描述取出人脸图像"
   ]
  },
  {
   "cell_type": "code",
   "execution_count": 135,
   "metadata": {
    "ExecuteTime": {
     "end_time": "2019-07-11T04:53:50.648231Z",
     "start_time": "2019-07-11T04:53:50.631144Z"
    },
    "code_folding": [
     0
    ]
   },
   "outputs": [],
   "source": [
    "def process_img(img,rect_list,expand_r=0.15):\n",
    "    img_list = []\n",
    "    H,W,_ = img.shape\n",
    "    for rect in rect_list:\n",
    "        (top,left,width,height) = (rect['top'],rect['left'],rect['width'],rect['height'])\n",
    "        top = int(top - expand_r*height)\n",
    "        height = int((1+expand_r*2)*height)\n",
    "        left = int(left - expand_r*width)\n",
    "        width = int((1+expand_r*2)*width)\n",
    "        top = top if top>0 else 0\n",
    "        left = left if left >0 else 0\n",
    "        img_list.append(img[top:top+height,left:left+width])\n",
    "    return img_list\n"
   ]
  },
  {
   "cell_type": "code",
   "execution_count": null,
   "metadata": {
    "code_folding": [
     0
    ]
   },
   "outputs": [],
   "source": [
    "for fp in tqdm_notebook(fp_list[:]):\n",
    "    new_fp = get_new_fp(fp)\n",
    "    img_fp = os.path.splitext(json_fp)[0]+\".jpg\"\n",
    "    img = cv2.imread(img_fp)\n",
    "    with open(json_fp,\"r\") as f:\n",
    "        json_info = json.load(f)\n",
    "    rect_list = [json_info['face_rectangle'] for json_info in content['faces']]\n"
   ]
  },
  {
   "cell_type": "code",
   "execution_count": null,
   "metadata": {
    "code_folding": [
     0,
     17,
     23
    ]
   },
   "outputs": [],
   "source": [
    "def process_img_old(img,rect_list):\n",
    "    img_list = []\n",
    "    for rect in rect_list:\n",
    "        (top,left,width,height) = (rect['top'],rect['left'],rect['width'],rect['height'])\n",
    "        img_list.append(img[top:top+height,left:left+width])\n",
    "    return img_list\n",
    "\n",
    "def prepare(json_fp):\n",
    "    img_fp = os.path.splitext(json_fp)[0]+\".jpg\"\n",
    "    with open(json_fp,\"r\") as f:\n",
    "        content = json.load(f)\n",
    "    img = cv2.imread(img_fp)\n",
    "    rect_list = [i['face_rectangle'] for i in content['faces']]\n",
    "    attr_list = [i['attributes']['ethnicity']['value'] for i in content['faces']]\n",
    "    face_list = process_img(img,rect_list)\n",
    "    return face_list,attr_list\n",
    "\n",
    "def get_new_fp(fp=\"/home/zhoutong/facedata/CASIA-maxpy-clean/0000133/007.json\"):\n",
    "    CASIA_dir,img_collection_dir = os.path.split(os.path.dirname(fp))\n",
    "    f_name = img_collection_dir+\"_\"+os.path.basename(fp).replace(\"json\",\"jpg\")\n",
    "    f_dir = os.path.abspath(os.path.join(os.path.join(CASIA_dir,\"../\"),\"prepared_data\",\"face_img\"))\n",
    "    return os.path.join(f_dir,f_name)\n",
    "\n",
    "def show(face,eth):\n",
    "    _ = plt.imshow(cv2.cvtColor(face, cv2.COLOR_BGR2RGB))\n",
    "    print(\"ethnicity: \",eth)\n",
    "    plt.show()"
   ]
  },
  {
   "cell_type": "code",
   "execution_count": 139,
   "metadata": {
    "ExecuteTime": {
     "end_time": "2019-07-11T05:01:35.746008Z",
     "start_time": "2019-07-11T04:58:02.905649Z"
    },
    "code_folding": [
     0
    ],
    "deletable": false,
    "editable": false,
    "run_control": {
     "frozen": true
    },
    "scrolled": true
   },
   "outputs": [
    {
     "data": {
      "application/vnd.jupyter.widget-view+json": {
       "model_id": "b3278528f75e4e2abcb2d9e4ce095a7b",
       "version_major": 2,
       "version_minor": 0
      },
      "text/plain": [
       "HBox(children=(IntProgress(value=0, max=189769), HTML(value='')))"
      ]
     },
     "metadata": {},
     "output_type": "display_data"
    },
    {
     "name": "stdout",
     "output_type": "stream",
     "text": [
      "\n"
     ]
    }
   ],
   "source": [
    "for fp in tqdm_notebook(fp_list[0:]):\n",
    "    new_fp = get_new_fp(fp)\n",
    "#     print(fp)\n",
    "#     print(new_fp)\n",
    "    face_list,ethnicity_list = prepare(fp)\n",
    "    with open(\"/home/zhoutong/facedata/prepared_data/enthnicity.csv\",\"a\") as f:\n",
    "        for face,eth in zip(face_list,ethnicity_list):\n",
    "    #         show(face,eth)\n",
    "            save = cv2.imwrite(new_fp,face)\n",
    "            if not save:\n",
    "                print(\"Fail: [fp]:{} [new_fp]:{}\".format(fp,new_fp))\n",
    "            else:\n",
    "                f.writelines(new_fp+\"\\t\"+eth+\"\\n\")"
   ]
  },
  {
   "cell_type": "code",
   "execution_count": 160,
   "metadata": {
    "ExecuteTime": {
     "end_time": "2019-07-11T12:48:54.226341Z",
     "start_time": "2019-07-11T12:48:53.859677Z"
    }
   },
   "outputs": [],
   "source": [
    "with open(\"/home/zhoutong/facedata/prepared_data/enthnicity.csv\",\"r\") as f:\n",
    "    content = [i.strip().split(\"\\t\") for i in f.readlines()][:10]\n"
   ]
  },
  {
   "cell_type": "markdown",
   "metadata": {},
   "source": [
    "# 【题外操作】人种数据分目录存好，用TF的InterceptionV3分类"
   ]
  },
  {
   "cell_type": "code",
   "execution_count": 17,
   "metadata": {
    "ExecuteTime": {
     "end_time": "2019-07-15T09:12:41.107322Z",
     "start_time": "2019-07-15T09:12:41.011810Z"
    }
   },
   "outputs": [],
   "source": [
    "with open(\"/home/zhoutong/facedata/prepared_data/enthnicity_train_balanced.csv\",\"r\") as f:\n",
    "    content = [i.strip().split(\"\\t\") for i in f.readlines()]"
   ]
  },
  {
   "cell_type": "code",
   "execution_count": 18,
   "metadata": {
    "ExecuteTime": {
     "end_time": "2019-07-15T09:13:22.817183Z",
     "start_time": "2019-07-15T09:12:57.313389Z"
    }
   },
   "outputs": [
    {
     "data": {
      "text/plain": [
       "{'ASIAN', 'BLACK', 'INDIA', 'WHITE'}"
      ]
     },
     "execution_count": 18,
     "metadata": {},
     "output_type": "execute_result"
    },
    {
     "data": {
      "application/vnd.jupyter.widget-view+json": {
       "model_id": "740038ad3e9b48b3be7a32f5eaf14864",
       "version_major": 2,
       "version_minor": 0
      },
      "text/plain": [
       "HBox(children=(IntProgress(value=0, max=39443), HTML(value='')))"
      ]
     },
     "metadata": {},
     "output_type": "display_data"
    },
    {
     "name": "stdout",
     "output_type": "stream",
     "text": [
      "\n"
     ]
    }
   ],
   "source": [
    "set([i[1] for i in content])\n",
    "for a,b in tqdm_notebook(content[:]):\n",
    "    p = \"/home/zhoutong/facedata/prepared_data/enthnicity_img_copied/{}/{}\"\n",
    "    p = p.format(b,os.path.split(a)[-1])\n",
    "    img = cv2.imread(a)\n",
    "    res = cv2.imwrite(p,img)\n",
    "    if not res:\n",
    "        print(a,b)\n",
    "        print(p)"
   ]
  },
  {
   "cell_type": "markdown",
   "metadata": {},
   "source": [
    "# Train"
   ]
  },
  {
   "cell_type": "code",
   "execution_count": 3,
   "metadata": {
    "ExecuteTime": {
     "end_time": "2019-07-12T09:30:17.537919Z",
     "start_time": "2019-07-12T09:30:16.133216Z"
    }
   },
   "outputs": [],
   "source": [
    "import numpy as np\n",
    "import os\n",
    "import tensorflow as tf\n",
    "\n",
    "import mobilenet_v2\n",
    "\n",
    "import cv2\n",
    "import math\n",
    "import json\n",
    "import pandas as pd\n",
    "import random\n",
    "import datetime"
   ]
  },
  {
   "cell_type": "code",
   "execution_count": 4,
   "metadata": {
    "ExecuteTime": {
     "end_time": "2019-07-12T09:30:17.711269Z",
     "start_time": "2019-07-12T09:30:17.584267Z"
    },
    "code_folding": [
     29
    ]
   },
   "outputs": [],
   "source": [
    "IMG_WIDTH = 128\n",
    "IMG_HEIGHT = 128\n",
    "IMAGE_WIDTH = IMG_WIDTH\n",
    "IMAGE_HEIGHT = IMG_HEIGHT\n",
    "IMG_CHANNEL = 3\n",
    "shuffle = True\n",
    "CHECKPOINTS_DIR = '/home/zhoutong/facedata/prepared_data/ckpt/enthnicity/'\n",
    "\n",
    "BATCH_SIZE = 20\n",
    "NUM_EPOCHS = 40000000000\n",
    "\n",
    "global modelValLoss\n",
    "global totalValLoss\n",
    "global valIter\n",
    "valIter = 0\n",
    "\n",
    "initialLearningRate = 0.001\n",
    "learningRateDecay = 0.0000001\n",
    "weightDecay = 0.0005\n",
    "label_dim = 4 # {'ASIAN', 'BLACK', 'INDIA', 'WHITE'}\n",
    "label_dict = {'ASIAN':[1,0,0,0], 'BLACK':[0,1,0,0], 'INDIA':[0,0,1,0], 'WHITE':[0,0,0,1]}\n",
    "\n",
    "def load_input(fp):\n",
    "    with open(fp,\"r\") as f:\n",
    "        c = [i.strip().split(\"\\t\") for i in f.readlines()]\n",
    "        random.shuffle(c)\n",
    "        img_fp = [i[0] for i in c]\n",
    "        label = [label_dict[i[1]] for i in c]\n",
    "    return img_fp,label\n",
    "\n",
    "def zprint(inp):\n",
    "    now = datetime.datetime.now().strftime(\"%Y-%m-%d %H:%M:%S\")\n",
    "    print(\"|{}| \".format(now)+inp)\n",
    "    \n",
    "    \n",
    "train_img_fp,train_label = load_input('/home/zhoutong/facedata/prepared_data/enthnicity_train_balanced.csv')\n",
    "test_img_fp,test_label = load_input('/home/zhoutong/facedata/prepared_data/enthnicity_test.csv')"
   ]
  },
  {
   "cell_type": "code",
   "execution_count": 5,
   "metadata": {
    "ExecuteTime": {
     "end_time": "2019-07-12T09:30:18.766739Z",
     "start_time": "2019-07-12T09:30:18.745012Z"
    }
   },
   "outputs": [
    {
     "data": {
      "text/plain": [
       "319"
      ]
     },
     "execution_count": 5,
     "metadata": {},
     "output_type": "execute_result"
    },
    {
     "data": {
      "text/plain": [
       "465"
      ]
     },
     "execution_count": 5,
     "metadata": {},
     "output_type": "execute_result"
    },
    {
     "data": {
      "text/plain": [
       "287"
      ]
     },
     "execution_count": 5,
     "metadata": {},
     "output_type": "execute_result"
    },
    {
     "data": {
      "text/plain": [
       "1929"
      ]
     },
     "execution_count": 5,
     "metadata": {},
     "output_type": "execute_result"
    }
   ],
   "source": [
    "test_label.count(label_dict[\"ASIAN\"])\n",
    "test_label.count(label_dict[\"BLACK\"])\n",
    "test_label.count(label_dict[\"INDIA\"])\n",
    "test_label.count(label_dict[\"WHITE\"])"
   ]
  },
  {
   "cell_type": "markdown",
   "metadata": {},
   "source": [
    "## TrainEpoch"
   ]
  },
  {
   "cell_type": "code",
   "execution_count": 6,
   "metadata": {
    "ExecuteTime": {
     "end_time": "2019-07-12T09:30:32.052405Z",
     "start_time": "2019-07-12T09:30:27.709270Z"
    },
    "scrolled": true
   },
   "outputs": [],
   "source": [
    "inputs = tf.placeholder(\"float32\", [None, IMG_HEIGHT, IMG_WIDTH, 3], name=\"input_to_float\")\n",
    "inptrue = tf.placeholder(\"float32\", [None, 4], name=\"inptrue\")\n",
    "global_step = tf.placeholder(\"int32\", name=\"global_step\")\n",
    "logits, pred = mobilenet_v2.mobilenetv2_caffe(inputs, 4) # [0.134,0.34426,0.77456,0.23523], 0.78"
   ]
  },
  {
   "cell_type": "code",
   "execution_count": 20,
   "metadata": {
    "ExecuteTime": {
     "end_time": "2019-07-12T09:36:14.920103Z",
     "start_time": "2019-07-12T09:36:13.434594Z"
    },
    "scrolled": true
   },
   "outputs": [],
   "source": [
    "loss=tf.reduce_mean(tf.nn.softmax_cross_entropy_with_logits_v2(labels=inptrue,logits=logits),name='loss')\n",
    "_ = tf.summary.scalar('loss', loss)\n",
    "acc, acc_op = tf.metrics.accuracy(labels=tf.argmax(inptrue,0), \n",
    "                                  predictions=tf.argmax(logits,0))\n",
    "_ = tf.summary.scalar('acc', acc)\n",
    "learningRate = tf.train.inverse_time_decay(initialLearningRate, global_step, 1, learningRateDecay, name=\"ratedecay\")\n",
    "optimizer = tf.train.AdamOptimizer(learningRate, name=\"adamfull\")\n",
    "train_op = optimizer.minimize(loss, name=\"trainop\")\n",
    "merged = tf.summary.merge_all()"
   ]
  },
  {
   "cell_type": "code",
   "execution_count": 21,
   "metadata": {
    "ExecuteTime": {
     "end_time": "2019-07-12T09:36:15.146956Z",
     "start_time": "2019-07-12T09:36:15.142023Z"
    },
    "code_folding": [
     0,
     10
    ]
   },
   "outputs": [],
   "source": [
    "def train_epoch(train_writer,merged,k,sess):\n",
    "    i = 0\n",
    "    global valIter\n",
    "    batchCounter = 0\n",
    "    random.shuffle(train_img_fp)\n",
    "    while i < len(train_img_fp):\n",
    "        batchTrainImages = []\n",
    "        batchTrainLabels = []\n",
    "\n",
    "        j = i\n",
    "        while j < i + BATCH_SIZE and j < len(train_img_fp):\n",
    "            label = train_label[j]\n",
    "            trainImage = cv2.imread(train_img_fp[j])\n",
    "            if trainImage is None:\n",
    "                continue\n",
    "\n",
    "            if trainImage.shape[0] != IMAGE_HEIGHT or trainImage.shape[1] != IMAGE_WIDTH:\n",
    "                trainImage = cv2.resize(trainImage, (IMAGE_WIDTH, IMAGE_HEIGHT))\n",
    "\n",
    "            trainImage = trainImage.astype(\"float32\")\n",
    "            trainImage = trainImage / 255.0\n",
    "            batchTrainImages.append(trainImage)\n",
    "            batchTrainLabels.append(label)\n",
    "            j = j + 1\n",
    "\n",
    "        acc_,summary,loss, _ = sess.run([acc,merged,\"loss:0\", \"trainop\"], feed_dict={\n",
    "            \"input_to_float:0\": batchTrainImages,\n",
    "            \"inptrue:0\": batchTrainLabels,\n",
    "            \"global_step:0\": batchCounter,\n",
    "        })\n",
    "        train_writer.add_summary(summary, batchCounter+int(k*(len(train_img_fp)/BATCH_SIZE)))\n",
    "        \n",
    "        if batchCounter%400 == 0:\n",
    "            zprint(\"[batch]:{} [loss]:{} [acc]:{}\".format(batchCounter,loss,acc_))\n",
    "        batchCounter += 1\n",
    "        i = i + BATCH_SIZE"
   ]
  },
  {
   "cell_type": "code",
   "execution_count": 22,
   "metadata": {
    "ExecuteTime": {
     "end_time": "2019-07-12T09:36:15.452636Z",
     "start_time": "2019-07-12T09:36:15.446656Z"
    },
    "code_folding": [
     0,
     13,
     43,
     47
    ]
   },
   "outputs": [],
   "source": [
    "def performValidation(sess, k):\n",
    "    # calculate validation loss first\n",
    "    i = 0\n",
    "    batchCounter = 0\n",
    "    totalValLoss = 0\n",
    "\n",
    "    global modelValLoss\n",
    "\n",
    "    while i < len(test_img_fp):\n",
    "        batchValImages = []\n",
    "        batchValLabels = []\n",
    "\n",
    "        j = i\n",
    "        while j < i + BATCH_SIZE and j < len(test_img_fp):\n",
    "            label = test_label[j]\n",
    "            valImage = cv2.imread(test_img_fp[j])\n",
    "            if valImage is None:\n",
    "                continue\n",
    "\n",
    "\n",
    "            if valImage.shape[0] != IMAGE_HEIGHT or valImage.shape[1] != IMAGE_WIDTH:\n",
    "                valImage = cv2.resize(valImage, (IMAGE_WIDTH, IMAGE_HEIGHT))\n",
    "\n",
    "            valImage = valImage.astype(\"float32\")\n",
    "            valImage = valImage / 255.0\n",
    "\n",
    "            batchValLabels.append(label)\n",
    "            batchValImages.append(valImage)\n",
    "            j = j + 1\n",
    "\n",
    "        acc_,loss = sess.run([acc,\"loss:0\"], feed_dict={\n",
    "            \"input_to_float:0\": batchValImages,\n",
    "            \"inptrue:0\": batchValLabels,\n",
    "            \"global_step:0\": batchCounter,\n",
    "        })\n",
    "\n",
    "        #loss = loss[0] / float(len(batchValImages))\n",
    "\n",
    "        totalValLoss += loss\n",
    "        batchCounter += 1\n",
    "        i = i + BATCH_SIZE\n",
    "\n",
    "    zprint(\"[Test-iteration]: {} [loss]: {} [acc]:{}\".format(k, totalValLoss / float(batchCounter),acc_))\n",
    "    if (k == 0):\n",
    "        modelValLoss = totalValLoss\n",
    "        saver.save(sess, CHECKPOINTS_DIR + \"enetperson-\" + str(k) + \".ckpt\")\n",
    "        zprint('-'*15+'Saving the model(initial)'+'-'*15)\n",
    "    else:\n",
    "        if (totalValLoss < modelValLoss):\n",
    "            modelValLoss = totalValLoss\n",
    "            saver.save(sess, CHECKPOINTS_DIR + \"enetperson-\" + str(k) + \".ckpt\")\n",
    "            zprint('-'*15+'Saving the model'+'-'*15)"
   ]
  },
  {
   "cell_type": "code",
   "execution_count": 23,
   "metadata": {
    "ExecuteTime": {
     "end_time": "2019-07-12T09:36:15.778500Z",
     "start_time": "2019-07-12T09:36:15.775406Z"
    }
   },
   "outputs": [],
   "source": [
    "config = tf.ConfigProto()\n",
    "config.gpu_options.allow_growth = True"
   ]
  },
  {
   "cell_type": "code",
   "execution_count": 24,
   "metadata": {
    "ExecuteTime": {
     "end_time": "2019-07-12T10:54:13.027127Z",
     "start_time": "2019-07-12T09:36:34.110439Z"
    },
    "code_folding": [
     0
    ],
    "scrolled": false
   },
   "outputs": [
    {
     "name": "stdout",
     "output_type": "stream",
     "text": [
      "ckpt_path:  None\n",
      "no restore this time None\n",
      "----------------------begin trainng...---------------------------------------\n",
      "Starting training\n",
      "|2019-07-12 17:36:53| [batch]:0 [loss]:3.5287766456604004 [acc]:0.0\n",
      "|2019-07-12 17:37:07| [batch]:400 [loss]:1.4619675874710083 [acc]:0.0\n",
      "|2019-07-12 17:37:21| [batch]:800 [loss]:1.3940198421478271 [acc]:0.0\n",
      "|2019-07-12 17:37:34| [batch]:1200 [loss]:1.4577248096466064 [acc]:0.0\n",
      "|2019-07-12 17:37:48| [batch]:1600 [loss]:1.423396348953247 [acc]:0.0\n",
      "|2019-07-12 17:38:04| [Test-iteration]: 0 [loss]: 1.378499643802643 [acc]:0.0\n",
      "|2019-07-12 17:38:09| ---------------Saving the model(initial)---------------\n",
      "Epoch training complete  0\n",
      "Starting training\n",
      "|2019-07-12 17:38:09| [batch]:0 [loss]:1.3989359140396118 [acc]:0.0\n",
      "|2019-07-12 17:38:23| [batch]:400 [loss]:1.413307547569275 [acc]:0.0\n",
      "|2019-07-12 17:38:36| [batch]:800 [loss]:1.4192262887954712 [acc]:0.0\n",
      "|2019-07-12 17:38:50| [batch]:1200 [loss]:1.391453504562378 [acc]:0.0\n",
      "|2019-07-12 17:39:04| [batch]:1600 [loss]:1.3512426614761353 [acc]:0.0\n",
      "|2019-07-12 17:39:20| [Test-iteration]: 1 [loss]: 1.3522851761182149 [acc]:0.0\n",
      "|2019-07-12 17:39:26| ---------------Saving the model---------------\n",
      "Epoch training complete  1\n",
      "Starting training\n",
      "|2019-07-12 17:39:26| [batch]:0 [loss]:1.36153244972229 [acc]:0.0\n",
      "|2019-07-12 17:39:40| [batch]:400 [loss]:1.3931314945220947 [acc]:0.0\n",
      "|2019-07-12 17:39:54| [batch]:800 [loss]:1.4277716875076294 [acc]:0.0\n",
      "|2019-07-12 17:40:08| [batch]:1200 [loss]:1.4054044485092163 [acc]:0.0\n",
      "|2019-07-12 17:40:23| [batch]:1600 [loss]:1.3993849754333496 [acc]:0.0\n",
      "|2019-07-12 17:40:38| [Test-iteration]: 2 [loss]: 1.3637878179550171 [acc]:0.0\n",
      "Epoch training complete  2\n",
      "Starting training\n",
      "|2019-07-12 17:40:38| [batch]:0 [loss]:1.409652590751648 [acc]:0.0\n",
      "|2019-07-12 17:40:51| [batch]:400 [loss]:1.3932569026947021 [acc]:0.0\n",
      "|2019-07-12 17:41:05| [batch]:800 [loss]:1.3911309242248535 [acc]:0.0\n",
      "|2019-07-12 17:41:19| [batch]:1200 [loss]:1.392499566078186 [acc]:0.0\n",
      "|2019-07-12 17:41:33| [batch]:1600 [loss]:1.3825441598892212 [acc]:0.0\n",
      "|2019-07-12 17:41:49| [Test-iteration]: 3 [loss]: 1.3729413588841757 [acc]:0.0\n",
      "Epoch training complete  3\n",
      "Starting training\n",
      "|2019-07-12 17:41:49| [batch]:0 [loss]:1.3829470872879028 [acc]:0.0\n",
      "|2019-07-12 17:42:02| [batch]:400 [loss]:1.376824975013733 [acc]:0.0\n",
      "|2019-07-12 17:42:16| [batch]:800 [loss]:1.3905731439590454 [acc]:0.0\n",
      "|2019-07-12 17:42:30| [batch]:1200 [loss]:1.3908263444900513 [acc]:0.0\n",
      "|2019-07-12 17:42:45| [batch]:1600 [loss]:1.3909813165664673 [acc]:0.0\n",
      "|2019-07-12 17:43:00| [Test-iteration]: 4 [loss]: 1.374422824382782 [acc]:0.0\n",
      "Epoch training complete  4\n",
      "Starting training\n",
      "|2019-07-12 17:43:00| [batch]:0 [loss]:1.353463888168335 [acc]:0.0\n",
      "|2019-07-12 17:43:14| [batch]:400 [loss]:1.3847322463989258 [acc]:0.0\n",
      "|2019-07-12 17:43:28| [batch]:800 [loss]:1.3894023895263672 [acc]:0.0\n",
      "|2019-07-12 17:43:42| [batch]:1200 [loss]:1.3903948068618774 [acc]:0.0\n",
      "|2019-07-12 17:43:56| [batch]:1600 [loss]:1.401381015777588 [acc]:0.0\n",
      "|2019-07-12 17:44:13| [Test-iteration]: 5 [loss]: 1.3944550490379333 [acc]:0.0\n",
      "Epoch training complete  5\n",
      "Starting training\n",
      "|2019-07-12 17:44:13| [batch]:0 [loss]:1.380785584449768 [acc]:0.0\n",
      "|2019-07-12 17:44:27| [batch]:400 [loss]:1.3802855014801025 [acc]:0.0\n",
      "|2019-07-12 17:44:41| [batch]:800 [loss]:1.3973314762115479 [acc]:0.0\n",
      "|2019-07-12 17:44:54| [batch]:1200 [loss]:1.4020975828170776 [acc]:0.0\n",
      "|2019-07-12 17:45:08| [batch]:1600 [loss]:1.3942869901657104 [acc]:0.0\n",
      "|2019-07-12 17:45:24| [Test-iteration]: 6 [loss]: 1.3681918088595073 [acc]:0.0\n",
      "Epoch training complete  6\n",
      "Starting training\n",
      "|2019-07-12 17:45:24| [batch]:0 [loss]:1.4222654104232788 [acc]:0.0\n",
      "|2019-07-12 17:45:38| [batch]:400 [loss]:1.377079725265503 [acc]:0.0\n",
      "|2019-07-12 17:45:52| [batch]:800 [loss]:1.3803423643112183 [acc]:0.0\n",
      "|2019-07-12 17:46:06| [batch]:1200 [loss]:1.3925440311431885 [acc]:0.0\n",
      "|2019-07-12 17:46:21| [batch]:1600 [loss]:1.3849222660064697 [acc]:0.0\n",
      "|2019-07-12 17:46:36| [Test-iteration]: 7 [loss]: 1.3538685218493143 [acc]:0.0\n",
      "Epoch training complete  7\n",
      "Starting training\n",
      "|2019-07-12 17:46:36| [batch]:0 [loss]:1.4097211360931396 [acc]:0.0\n",
      "|2019-07-12 17:46:50| [batch]:400 [loss]:1.3800432682037354 [acc]:0.0\n",
      "|2019-07-12 17:47:04| [batch]:800 [loss]:1.3937249183654785 [acc]:0.0\n",
      "|2019-07-12 17:47:19| [batch]:1200 [loss]:1.3890107870101929 [acc]:0.0\n",
      "|2019-07-12 17:47:32| [batch]:1600 [loss]:1.3875336647033691 [acc]:0.0\n",
      "|2019-07-12 17:47:49| [Test-iteration]: 8 [loss]: 1.3725174244244893 [acc]:0.0\n",
      "Epoch training complete  8\n",
      "Starting training\n",
      "|2019-07-12 17:47:49| [batch]:0 [loss]:1.3877519369125366 [acc]:0.0\n",
      "|2019-07-12 17:48:03| [batch]:400 [loss]:1.383745551109314 [acc]:0.0\n",
      "|2019-07-12 17:48:16| [batch]:800 [loss]:1.3654766082763672 [acc]:0.0\n",
      "|2019-07-12 17:48:30| [batch]:1200 [loss]:1.3916919231414795 [acc]:0.0\n",
      "|2019-07-12 17:48:44| [batch]:1600 [loss]:1.391890525817871 [acc]:0.0\n",
      "|2019-07-12 17:49:00| [Test-iteration]: 9 [loss]: 1.3768382183710735 [acc]:0.0\n",
      "Epoch training complete  9\n",
      "Starting training\n",
      "|2019-07-12 17:49:00| [batch]:0 [loss]:1.3783762454986572 [acc]:0.0\n",
      "|2019-07-12 17:49:14| [batch]:400 [loss]:1.3813393115997314 [acc]:0.0\n",
      "|2019-07-12 17:49:28| [batch]:800 [loss]:1.3891932964324951 [acc]:0.0\n",
      "|2019-07-12 17:49:42| [batch]:1200 [loss]:1.3912794589996338 [acc]:0.0\n",
      "|2019-07-12 17:49:56| [batch]:1600 [loss]:1.3961095809936523 [acc]:0.0\n",
      "|2019-07-12 17:50:12| [Test-iteration]: 10 [loss]: 1.3769435818990072 [acc]:0.0\n",
      "Epoch training complete  10\n",
      "Starting training\n",
      "|2019-07-12 17:50:12| [batch]:0 [loss]:1.3837454319000244 [acc]:0.0\n",
      "|2019-07-12 17:50:27| [batch]:400 [loss]:1.3737674951553345 [acc]:0.0\n",
      "|2019-07-12 17:50:40| [batch]:800 [loss]:1.36966073513031 [acc]:0.0\n",
      "|2019-07-12 17:50:54| [batch]:1200 [loss]:1.3915048837661743 [acc]:0.0\n",
      "|2019-07-12 17:51:08| [batch]:1600 [loss]:1.378760576248169 [acc]:0.0\n",
      "|2019-07-12 17:51:25| [Test-iteration]: 11 [loss]: 1.3816561428705851 [acc]:0.0\n",
      "Epoch training complete  11\n",
      "Starting training\n",
      "|2019-07-12 17:51:25| [batch]:0 [loss]:1.379807949066162 [acc]:0.0\n",
      "|2019-07-12 17:51:39| [batch]:400 [loss]:1.3858344554901123 [acc]:0.0\n",
      "|2019-07-12 17:51:52| [batch]:800 [loss]:1.3866569995880127 [acc]:0.0\n",
      "|2019-07-12 17:52:07| [batch]:1200 [loss]:1.3769572973251343 [acc]:0.0\n",
      "|2019-07-12 17:52:21| [batch]:1600 [loss]:1.3858072757720947 [acc]:0.0\n",
      "|2019-07-12 17:52:36| [Test-iteration]: 12 [loss]: 1.3792903097470601 [acc]:0.0\n",
      "Epoch training complete  12\n",
      "Starting training\n",
      "|2019-07-12 17:52:36| [batch]:0 [loss]:1.3786298036575317 [acc]:0.0\n",
      "|2019-07-12 17:52:50| [batch]:400 [loss]:1.3817815780639648 [acc]:0.0\n",
      "|2019-07-12 17:53:04| [batch]:800 [loss]:1.3850181102752686 [acc]:0.0\n",
      "|2019-07-12 17:53:19| [batch]:1200 [loss]:1.3786907196044922 [acc]:0.0\n",
      "|2019-07-12 17:53:33| [batch]:1600 [loss]:1.3880226612091064 [acc]:0.0\n",
      "|2019-07-12 17:53:48| [Test-iteration]: 13 [loss]: 1.3754237500826518 [acc]:0.0\n",
      "Epoch training complete  13\n",
      "Starting training\n",
      "|2019-07-12 17:53:48| [batch]:0 [loss]:1.383413553237915 [acc]:0.0\n",
      "|2019-07-12 17:54:02| [batch]:400 [loss]:1.3794877529144287 [acc]:0.0\n",
      "|2019-07-12 17:54:17| [batch]:800 [loss]:1.3923203945159912 [acc]:0.0\n",
      "|2019-07-12 17:54:31| [batch]:1200 [loss]:1.3959906101226807 [acc]:0.0\n",
      "|2019-07-12 17:54:45| [batch]:1600 [loss]:1.3907101154327393 [acc]:0.0\n",
      "|2019-07-12 17:55:01| [Test-iteration]: 14 [loss]: 1.3884002248446146 [acc]:0.0\n",
      "Epoch training complete  14\n",
      "Starting training\n",
      "|2019-07-12 17:55:01| [batch]:0 [loss]:1.3775545358657837 [acc]:0.0\n",
      "|2019-07-12 17:55:15| [batch]:400 [loss]:1.376008152961731 [acc]:0.0\n",
      "|2019-07-12 17:55:29| [batch]:800 [loss]:1.3920326232910156 [acc]:0.0\n",
      "|2019-07-12 17:55:42| [batch]:1200 [loss]:1.3947885036468506 [acc]:0.0\n",
      "|2019-07-12 17:55:56| [batch]:1600 [loss]:1.3837741613388062 [acc]:0.0\n",
      "|2019-07-12 17:56:13| [Test-iteration]: 15 [loss]: 1.3807808232307435 [acc]:0.0\n",
      "Epoch training complete  15\n",
      "Starting training\n",
      "|2019-07-12 17:56:13| [batch]:0 [loss]:1.3779642581939697 [acc]:0.0\n",
      "|2019-07-12 17:56:27| [batch]:400 [loss]:1.3769277334213257 [acc]:0.0\n",
      "|2019-07-12 17:56:41| [batch]:800 [loss]:1.3868447542190552 [acc]:0.0\n",
      "|2019-07-12 17:56:55| [batch]:1200 [loss]:1.3924953937530518 [acc]:0.0\n",
      "|2019-07-12 17:57:09| [batch]:1600 [loss]:1.39227294921875 [acc]:0.0\n"
     ]
    },
    {
     "name": "stdout",
     "output_type": "stream",
     "text": [
      "|2019-07-12 17:57:25| [Test-iteration]: 16 [loss]: 1.379791255791982 [acc]:0.0\n",
      "Epoch training complete  16\n",
      "Starting training\n",
      "|2019-07-12 17:57:25| [batch]:0 [loss]:1.3955031633377075 [acc]:0.0\n",
      "|2019-07-12 17:57:39| [batch]:400 [loss]:1.37494695186615 [acc]:0.0\n",
      "|2019-07-12 17:57:53| [batch]:800 [loss]:1.3988714218139648 [acc]:0.0\n",
      "|2019-07-12 17:58:07| [batch]:1200 [loss]:1.3931125402450562 [acc]:0.0\n",
      "|2019-07-12 17:58:21| [batch]:1600 [loss]:1.3864628076553345 [acc]:0.0\n",
      "|2019-07-12 17:58:37| [Test-iteration]: 17 [loss]: 1.3850239316622417 [acc]:0.0\n",
      "Epoch training complete  17\n",
      "Starting training\n",
      "|2019-07-12 17:58:37| [batch]:0 [loss]:1.3823286294937134 [acc]:0.0\n",
      "|2019-07-12 17:58:51| [batch]:400 [loss]:1.3803914785385132 [acc]:0.0\n",
      "|2019-07-12 17:59:05| [batch]:800 [loss]:1.383434534072876 [acc]:0.0\n",
      "|2019-07-12 17:59:19| [batch]:1200 [loss]:1.393185019493103 [acc]:0.0\n",
      "|2019-07-12 17:59:33| [batch]:1600 [loss]:1.3882770538330078 [acc]:0.0\n",
      "|2019-07-12 17:59:49| [Test-iteration]: 18 [loss]: 1.3789934953053793 [acc]:0.0\n",
      "Epoch training complete  18\n",
      "Starting training\n",
      "|2019-07-12 17:59:49| [batch]:0 [loss]:1.3809598684310913 [acc]:0.0\n",
      "|2019-07-12 18:00:03| [batch]:400 [loss]:1.3802248239517212 [acc]:0.0\n",
      "|2019-07-12 18:00:16| [batch]:800 [loss]:1.3815408945083618 [acc]:0.0\n",
      "|2019-07-12 18:00:30| [batch]:1200 [loss]:1.3937644958496094 [acc]:0.0\n",
      "|2019-07-12 18:00:44| [batch]:1600 [loss]:1.3920443058013916 [acc]:0.0\n",
      "|2019-07-12 18:01:00| [Test-iteration]: 19 [loss]: 1.375195059776306 [acc]:0.0\n",
      "Epoch training complete  19\n",
      "Starting training\n",
      "|2019-07-12 18:01:00| [batch]:0 [loss]:1.3815256357192993 [acc]:0.0\n",
      "|2019-07-12 18:01:14| [batch]:400 [loss]:1.382828950881958 [acc]:0.0\n",
      "|2019-07-12 18:01:28| [batch]:800 [loss]:1.3860125541687012 [acc]:0.0\n",
      "|2019-07-12 18:01:42| [batch]:1200 [loss]:1.3937326669692993 [acc]:0.0\n",
      "|2019-07-12 18:01:56| [batch]:1600 [loss]:1.384772539138794 [acc]:0.0\n",
      "|2019-07-12 18:02:12| [Test-iteration]: 20 [loss]: 1.376545214653015 [acc]:0.0\n",
      "Epoch training complete  20\n",
      "Starting training\n",
      "|2019-07-12 18:02:12| [batch]:0 [loss]:1.3841217756271362 [acc]:0.0\n",
      "|2019-07-12 18:02:25| [batch]:400 [loss]:1.3759052753448486 [acc]:0.0\n",
      "|2019-07-12 18:02:39| [batch]:800 [loss]:1.4010900259017944 [acc]:0.0\n",
      "|2019-07-12 18:02:53| [batch]:1200 [loss]:1.3983558416366577 [acc]:0.0\n",
      "|2019-07-12 18:03:07| [batch]:1600 [loss]:1.3895857334136963 [acc]:0.0\n",
      "|2019-07-12 18:03:24| [Test-iteration]: 21 [loss]: 1.3771563053131104 [acc]:0.0\n",
      "Epoch training complete  21\n",
      "Starting training\n",
      "|2019-07-12 18:03:24| [batch]:0 [loss]:1.383927583694458 [acc]:0.0\n",
      "|2019-07-12 18:03:38| [batch]:400 [loss]:1.3793121576309204 [acc]:0.0\n",
      "|2019-07-12 18:03:52| [batch]:800 [loss]:1.3870570659637451 [acc]:0.0\n",
      "|2019-07-12 18:04:06| [batch]:1200 [loss]:1.3908025026321411 [acc]:0.0\n",
      "|2019-07-12 18:04:20| [batch]:1600 [loss]:1.3827741146087646 [acc]:0.0\n",
      "|2019-07-12 18:04:36| [Test-iteration]: 22 [loss]: 1.3707572905222576 [acc]:0.0\n",
      "Epoch training complete  22\n",
      "Starting training\n",
      "|2019-07-12 18:04:36| [batch]:0 [loss]:1.383007287979126 [acc]:0.0\n",
      "|2019-07-12 18:04:50| [batch]:400 [loss]:1.3776792287826538 [acc]:0.0\n",
      "|2019-07-12 18:05:04| [batch]:800 [loss]:1.3875406980514526 [acc]:0.0\n",
      "|2019-07-12 18:05:18| [batch]:1200 [loss]:1.389681100845337 [acc]:0.0\n",
      "|2019-07-12 18:05:32| [batch]:1600 [loss]:1.3899738788604736 [acc]:0.0\n",
      "|2019-07-12 18:05:48| [Test-iteration]: 23 [loss]: 1.3795331557591757 [acc]:0.0\n",
      "Epoch training complete  23\n",
      "Starting training\n",
      "|2019-07-12 18:05:48| [batch]:0 [loss]:1.3809075355529785 [acc]:0.0\n",
      "|2019-07-12 18:06:02| [batch]:400 [loss]:1.3705558776855469 [acc]:0.0\n",
      "|2019-07-12 18:06:16| [batch]:800 [loss]:1.3906222581863403 [acc]:0.0\n",
      "|2019-07-12 18:06:30| [batch]:1200 [loss]:1.4085614681243896 [acc]:0.0\n",
      "|2019-07-12 18:06:44| [batch]:1600 [loss]:1.388161301612854 [acc]:0.0\n",
      "|2019-07-12 18:07:00| [Test-iteration]: 24 [loss]: 1.37865390141805 [acc]:0.0\n",
      "Epoch training complete  24\n",
      "Starting training\n",
      "|2019-07-12 18:07:00| [batch]:0 [loss]:1.3884917497634888 [acc]:0.0\n",
      "|2019-07-12 18:07:14| [batch]:400 [loss]:1.3774265050888062 [acc]:0.0\n",
      "|2019-07-12 18:07:27| [batch]:800 [loss]:1.380587100982666 [acc]:0.0\n",
      "|2019-07-12 18:07:41| [batch]:1200 [loss]:1.397784948348999 [acc]:0.0\n",
      "|2019-07-12 18:07:55| [batch]:1600 [loss]:1.3871198892593384 [acc]:0.0\n",
      "|2019-07-12 18:08:11| [Test-iteration]: 25 [loss]: 1.3791723958651225 [acc]:0.0\n",
      "Epoch training complete  25\n",
      "Starting training\n",
      "|2019-07-12 18:08:11| [batch]:0 [loss]:1.3762586116790771 [acc]:0.0\n",
      "|2019-07-12 18:08:25| [batch]:400 [loss]:1.3794447183609009 [acc]:0.0\n",
      "|2019-07-12 18:08:39| [batch]:800 [loss]:1.3901005983352661 [acc]:0.0\n",
      "|2019-07-12 18:08:53| [batch]:1200 [loss]:1.4180986881256104 [acc]:0.0\n",
      "|2019-07-12 18:09:07| [batch]:1600 [loss]:1.381016492843628 [acc]:0.0\n",
      "|2019-07-12 18:09:23| [Test-iteration]: 26 [loss]: 1.3803998359044394 [acc]:0.0\n",
      "Epoch training complete  26\n",
      "Starting training\n",
      "|2019-07-12 18:09:23| [batch]:0 [loss]:1.38710355758667 [acc]:0.0\n",
      "|2019-07-12 18:09:37| [batch]:400 [loss]:1.3737239837646484 [acc]:0.0\n",
      "|2019-07-12 18:09:51| [batch]:800 [loss]:1.382967233657837 [acc]:0.0\n",
      "|2019-07-12 18:10:05| [batch]:1200 [loss]:1.4295978546142578 [acc]:0.0\n",
      "|2019-07-12 18:10:20| [batch]:1600 [loss]:1.3851828575134277 [acc]:0.0\n",
      "|2019-07-12 18:10:36| [Test-iteration]: 27 [loss]: 1.3735840940475463 [acc]:0.0\n",
      "Epoch training complete  27\n",
      "Starting training\n",
      "|2019-07-12 18:10:36| [batch]:0 [loss]:1.3796173334121704 [acc]:0.0\n",
      "|2019-07-12 18:10:50| [batch]:400 [loss]:1.3728342056274414 [acc]:0.0\n",
      "|2019-07-12 18:11:03| [batch]:800 [loss]:1.3898383378982544 [acc]:0.0\n",
      "|2019-07-12 18:11:18| [batch]:1200 [loss]:1.3932055234909058 [acc]:0.0\n",
      "|2019-07-12 18:11:32| [batch]:1600 [loss]:1.3976056575775146 [acc]:0.0\n",
      "|2019-07-12 18:11:49| [Test-iteration]: 28 [loss]: 1.3775686621665955 [acc]:0.0\n",
      "Epoch training complete  28\n",
      "Starting training\n",
      "|2019-07-12 18:11:49| [batch]:0 [loss]:1.3830101490020752 [acc]:0.0\n",
      "|2019-07-12 18:12:03| [batch]:400 [loss]:1.3753695487976074 [acc]:0.0\n",
      "|2019-07-12 18:12:17| [batch]:800 [loss]:1.3897687196731567 [acc]:0.0\n",
      "|2019-07-12 18:12:31| [batch]:1200 [loss]:1.3914344310760498 [acc]:0.0\n",
      "|2019-07-12 18:12:45| [batch]:1600 [loss]:1.3851467370986938 [acc]:0.0\n",
      "|2019-07-12 18:13:01| [Test-iteration]: 29 [loss]: 1.3915169318517049 [acc]:0.0\n",
      "Epoch training complete  29\n",
      "Starting training\n",
      "|2019-07-12 18:13:01| [batch]:0 [loss]:1.3777776956558228 [acc]:0.0\n",
      "|2019-07-12 18:13:14| [batch]:400 [loss]:1.3808376789093018 [acc]:0.0\n",
      "|2019-07-12 18:13:29| [batch]:800 [loss]:1.3890663385391235 [acc]:0.0\n",
      "|2019-07-12 18:13:43| [batch]:1200 [loss]:1.3948694467544556 [acc]:0.0\n",
      "|2019-07-12 18:13:57| [batch]:1600 [loss]:1.3847100734710693 [acc]:0.0\n",
      "|2019-07-12 18:14:14| [Test-iteration]: 30 [loss]: 1.3756712659200032 [acc]:0.0\n",
      "Epoch training complete  30\n",
      "Starting training\n",
      "|2019-07-12 18:14:14| [batch]:0 [loss]:1.3866589069366455 [acc]:0.0\n",
      "|2019-07-12 18:14:28| [batch]:400 [loss]:1.3812488317489624 [acc]:0.0\n",
      "|2019-07-12 18:14:42| [batch]:800 [loss]:1.385746717453003 [acc]:0.0\n",
      "|2019-07-12 18:14:56| [batch]:1200 [loss]:1.4107005596160889 [acc]:0.0\n",
      "|2019-07-12 18:15:10| [batch]:1600 [loss]:1.3850250244140625 [acc]:0.0\n",
      "|2019-07-12 18:15:26| [Test-iteration]: 31 [loss]: 1.3781122263272603 [acc]:0.0\n",
      "Epoch training complete  31\n",
      "Starting training\n",
      "|2019-07-12 18:15:26| [batch]:0 [loss]:1.3838506937026978 [acc]:0.0\n",
      "|2019-07-12 18:15:40| [batch]:400 [loss]:1.3754328489303589 [acc]:0.0\n",
      "|2019-07-12 18:15:53| [batch]:800 [loss]:1.379697561264038 [acc]:0.0\n",
      "|2019-07-12 18:16:08| [batch]:1200 [loss]:1.5306364297866821 [acc]:0.0\n",
      "|2019-07-12 18:16:22| [batch]:1600 [loss]:1.3856379985809326 [acc]:0.0\n",
      "|2019-07-12 18:16:37| [Test-iteration]: 32 [loss]: 1.3806136274337768 [acc]:0.0\n",
      "Epoch training complete  32\n",
      "Starting training\n",
      "|2019-07-12 18:16:37| [batch]:0 [loss]:1.3779480457305908 [acc]:0.0\n",
      "|2019-07-12 18:16:52| [batch]:400 [loss]:1.374166488647461 [acc]:0.0\n",
      "|2019-07-12 18:17:06| [batch]:800 [loss]:1.3859243392944336 [acc]:0.0\n",
      "|2019-07-12 18:17:21| [batch]:1200 [loss]:1.4196192026138306 [acc]:0.0\n",
      "|2019-07-12 18:17:35| [batch]:1600 [loss]:1.391289234161377 [acc]:0.0\n",
      "|2019-07-12 18:17:50| [Test-iteration]: 33 [loss]: 1.3761070084571838 [acc]:0.0\n",
      "Epoch training complete  33\n",
      "Starting training\n",
      "|2019-07-12 18:17:51| [batch]:0 [loss]:1.3810516595840454 [acc]:0.0\n"
     ]
    },
    {
     "name": "stdout",
     "output_type": "stream",
     "text": [
      "|2019-07-12 18:18:04| [batch]:400 [loss]:1.3734428882598877 [acc]:0.0\n",
      "|2019-07-12 18:18:18| [batch]:800 [loss]:1.3763115406036377 [acc]:0.0\n",
      "|2019-07-12 18:18:32| [batch]:1200 [loss]:1.3911914825439453 [acc]:0.0\n",
      "|2019-07-12 18:18:46| [batch]:1600 [loss]:1.3851244449615479 [acc]:0.0\n",
      "|2019-07-12 18:19:02| [Test-iteration]: 34 [loss]: 1.4192441447575888 [acc]:0.0\n",
      "Epoch training complete  34\n",
      "Starting training\n",
      "|2019-07-12 18:19:02| [batch]:0 [loss]:1.3676503896713257 [acc]:0.0\n",
      "|2019-07-12 18:19:17| [batch]:400 [loss]:1.3767532110214233 [acc]:0.0\n",
      "|2019-07-12 18:19:31| [batch]:800 [loss]:1.3903661966323853 [acc]:0.0\n",
      "|2019-07-12 18:19:45| [batch]:1200 [loss]:1.391844391822815 [acc]:0.0\n",
      "|2019-07-12 18:19:59| [batch]:1600 [loss]:1.3765583038330078 [acc]:0.0\n",
      "|2019-07-12 18:20:15| [Test-iteration]: 35 [loss]: 1.3789726710319519 [acc]:0.0\n",
      "Epoch training complete  35\n",
      "Starting training\n",
      "|2019-07-12 18:20:15| [batch]:0 [loss]:1.3808479309082031 [acc]:0.0\n",
      "|2019-07-12 18:20:29| [batch]:400 [loss]:1.378596305847168 [acc]:0.0\n",
      "|2019-07-12 18:20:43| [batch]:800 [loss]:1.381100058555603 [acc]:0.0\n",
      "|2019-07-12 18:20:57| [batch]:1200 [loss]:1.4068686962127686 [acc]:0.0\n",
      "|2019-07-12 18:21:11| [batch]:1600 [loss]:1.385684609413147 [acc]:0.0\n",
      "|2019-07-12 18:21:26| [Test-iteration]: 36 [loss]: 1.4028669087092083 [acc]:0.0\n",
      "Epoch training complete  36\n",
      "Starting training\n",
      "|2019-07-12 18:21:26| [batch]:0 [loss]:1.386572241783142 [acc]:0.0\n",
      "|2019-07-12 18:21:40| [batch]:400 [loss]:1.3777477741241455 [acc]:0.0\n",
      "|2019-07-12 18:21:54| [batch]:800 [loss]:1.384644865989685 [acc]:0.0\n",
      "|2019-07-12 18:22:08| [batch]:1200 [loss]:1.3915084600448608 [acc]:0.0\n",
      "|2019-07-12 18:22:23| [batch]:1600 [loss]:1.383507490158081 [acc]:0.0\n",
      "|2019-07-12 18:22:39| [Test-iteration]: 37 [loss]: 1.380858059724172 [acc]:0.0\n",
      "Epoch training complete  37\n",
      "Starting training\n",
      "|2019-07-12 18:22:39| [batch]:0 [loss]:1.3812472820281982 [acc]:0.0\n",
      "|2019-07-12 18:22:53| [batch]:400 [loss]:1.3802509307861328 [acc]:0.0\n",
      "|2019-07-12 18:23:08| [batch]:800 [loss]:1.379317283630371 [acc]:0.0\n",
      "|2019-07-12 18:23:22| [batch]:1200 [loss]:1.3859283924102783 [acc]:0.0\n",
      "|2019-07-12 18:23:35| [batch]:1600 [loss]:1.389643907546997 [acc]:0.0\n",
      "|2019-07-12 18:23:50| [Test-iteration]: 38 [loss]: 1.3843984802563984 [acc]:0.0\n",
      "Epoch training complete  38\n",
      "Starting training\n",
      "|2019-07-12 18:23:50| [batch]:0 [loss]:1.3802852630615234 [acc]:0.0\n",
      "|2019-07-12 18:24:04| [batch]:400 [loss]:1.375238060951233 [acc]:0.0\n",
      "|2019-07-12 18:24:18| [batch]:800 [loss]:1.3860394954681396 [acc]:0.0\n",
      "|2019-07-12 18:24:32| [batch]:1200 [loss]:1.4003267288208008 [acc]:0.0\n",
      "|2019-07-12 18:24:46| [batch]:1600 [loss]:1.3888057470321655 [acc]:0.0\n",
      "|2019-07-12 18:25:02| [Test-iteration]: 39 [loss]: 1.3821747438112895 [acc]:0.0\n",
      "Epoch training complete  39\n",
      "Starting training\n",
      "|2019-07-12 18:25:02| [batch]:0 [loss]:1.3783055543899536 [acc]:0.0\n",
      "|2019-07-12 18:25:16| [batch]:400 [loss]:1.3726258277893066 [acc]:0.0\n",
      "|2019-07-12 18:25:30| [batch]:800 [loss]:1.3899054527282715 [acc]:0.0\n",
      "|2019-07-12 18:25:44| [batch]:1200 [loss]:1.399765968322754 [acc]:0.0\n",
      "|2019-07-12 18:25:58| [batch]:1600 [loss]:1.3856011629104614 [acc]:0.0\n",
      "|2019-07-12 18:26:15| [Test-iteration]: 40 [loss]: 1.3804452991485596 [acc]:0.0\n",
      "Epoch training complete  40\n",
      "Starting training\n",
      "|2019-07-12 18:26:15| [batch]:0 [loss]:1.3805105686187744 [acc]:0.0\n",
      "|2019-07-12 18:26:28| [batch]:400 [loss]:1.375531554222107 [acc]:0.0\n",
      "|2019-07-12 18:26:43| [batch]:800 [loss]:1.3834713697433472 [acc]:0.0\n",
      "|2019-07-12 18:26:57| [batch]:1200 [loss]:1.3906362056732178 [acc]:0.0\n",
      "|2019-07-12 18:27:11| [batch]:1600 [loss]:1.3949388265609741 [acc]:0.0\n",
      "|2019-07-12 18:27:27| [Test-iteration]: 41 [loss]: 1.3704832045237223 [acc]:0.0\n",
      "Epoch training complete  41\n",
      "Starting training\n",
      "|2019-07-12 18:27:27| [batch]:0 [loss]:1.381229043006897 [acc]:0.0\n",
      "|2019-07-12 18:27:42| [batch]:400 [loss]:1.3779873847961426 [acc]:0.0\n",
      "|2019-07-12 18:27:56| [batch]:800 [loss]:1.3820511102676392 [acc]:0.0\n",
      "|2019-07-12 18:28:11| [batch]:1200 [loss]:1.3925567865371704 [acc]:0.0\n",
      "|2019-07-12 18:28:25| [batch]:1600 [loss]:1.3895854949951172 [acc]:0.0\n",
      "|2019-07-12 18:28:40| [Test-iteration]: 42 [loss]: 1.391893150806427 [acc]:0.0\n",
      "Epoch training complete  42\n",
      "Starting training\n",
      "|2019-07-12 18:28:40| [batch]:0 [loss]:1.3747811317443848 [acc]:0.0\n",
      "|2019-07-12 18:28:54| [batch]:400 [loss]:1.3867251873016357 [acc]:0.0\n",
      "|2019-07-12 18:29:09| [batch]:800 [loss]:1.3851906061172485 [acc]:0.0\n",
      "|2019-07-12 18:29:23| [batch]:1200 [loss]:1.391452670097351 [acc]:0.0\n",
      "|2019-07-12 18:29:37| [batch]:1600 [loss]:1.384495496749878 [acc]:0.0\n",
      "|2019-07-12 18:29:53| [Test-iteration]: 43 [loss]: 1.3717232513427735 [acc]:0.0\n",
      "Epoch training complete  43\n",
      "Starting training\n",
      "|2019-07-12 18:29:53| [batch]:0 [loss]:1.3848718404769897 [acc]:0.0\n",
      "|2019-07-12 18:30:07| [batch]:400 [loss]:1.3888933658599854 [acc]:0.0\n",
      "|2019-07-12 18:30:21| [batch]:800 [loss]:1.3884859085083008 [acc]:0.0\n",
      "|2019-07-12 18:30:35| [batch]:1200 [loss]:1.404884934425354 [acc]:0.0\n",
      "|2019-07-12 18:30:48| [batch]:1600 [loss]:1.386879801750183 [acc]:0.0\n",
      "|2019-07-12 18:31:04| [Test-iteration]: 44 [loss]: 1.372223551273346 [acc]:0.0\n",
      "Epoch training complete  44\n",
      "Starting training\n",
      "|2019-07-12 18:31:04| [batch]:0 [loss]:1.3963797092437744 [acc]:0.0\n",
      "|2019-07-12 18:31:19| [batch]:400 [loss]:1.3769142627716064 [acc]:0.0\n",
      "|2019-07-12 18:31:33| [batch]:800 [loss]:1.3846954107284546 [acc]:0.0\n",
      "|2019-07-12 18:31:47| [batch]:1200 [loss]:1.4003849029541016 [acc]:0.0\n",
      "|2019-07-12 18:32:01| [batch]:1600 [loss]:1.3858516216278076 [acc]:0.0\n",
      "|2019-07-12 18:32:17| [Test-iteration]: 45 [loss]: 1.3797456010182698 [acc]:0.0\n",
      "Epoch training complete  45\n",
      "Starting training\n",
      "|2019-07-12 18:32:17| [batch]:0 [loss]:1.3811912536621094 [acc]:0.0\n",
      "|2019-07-12 18:32:31| [batch]:400 [loss]:1.3798035383224487 [acc]:0.0\n",
      "|2019-07-12 18:32:45| [batch]:800 [loss]:1.386417031288147 [acc]:0.0\n",
      "|2019-07-12 18:33:00| [batch]:1200 [loss]:1.392982006072998 [acc]:0.0\n",
      "|2019-07-12 18:33:14| [batch]:1600 [loss]:1.3941987752914429 [acc]:0.0\n",
      "|2019-07-12 18:33:30| [Test-iteration]: 46 [loss]: 1.376898619333903 [acc]:0.0\n",
      "Epoch training complete  46\n",
      "Starting training\n",
      "|2019-07-12 18:33:30| [batch]:0 [loss]:1.3852746486663818 [acc]:0.0\n",
      "|2019-07-12 18:33:44| [batch]:400 [loss]:1.3708927631378174 [acc]:0.0\n",
      "|2019-07-12 18:33:58| [batch]:800 [loss]:1.3851324319839478 [acc]:0.0\n",
      "|2019-07-12 18:34:12| [batch]:1200 [loss]:1.4236717224121094 [acc]:0.0\n",
      "|2019-07-12 18:34:26| [batch]:1600 [loss]:1.3839162588119507 [acc]:0.0\n",
      "|2019-07-12 18:34:42| [Test-iteration]: 47 [loss]: 1.3829997396469116 [acc]:0.0\n",
      "Epoch training complete  47\n",
      "Starting training\n",
      "|2019-07-12 18:34:42| [batch]:0 [loss]:1.3777329921722412 [acc]:0.0\n",
      "|2019-07-12 18:34:56| [batch]:400 [loss]:1.3768025636672974 [acc]:0.0\n",
      "|2019-07-12 18:35:11| [batch]:800 [loss]:1.3883006572723389 [acc]:0.0\n",
      "|2019-07-12 18:35:25| [batch]:1200 [loss]:1.4088759422302246 [acc]:0.0\n",
      "|2019-07-12 18:35:39| [batch]:1600 [loss]:1.3856194019317627 [acc]:0.0\n",
      "|2019-07-12 18:35:55| [Test-iteration]: 48 [loss]: 1.379578894774119 [acc]:0.0\n",
      "Epoch training complete  48\n",
      "Starting training\n",
      "|2019-07-12 18:35:55| [batch]:0 [loss]:1.3809468746185303 [acc]:0.0\n",
      "|2019-07-12 18:36:09| [batch]:400 [loss]:1.3745025396347046 [acc]:0.0\n",
      "|2019-07-12 18:36:23| [batch]:800 [loss]:1.3765285015106201 [acc]:0.0\n",
      "|2019-07-12 18:36:38| [batch]:1200 [loss]:1.3990955352783203 [acc]:0.0\n",
      "|2019-07-12 18:36:51| [batch]:1600 [loss]:1.384886384010315 [acc]:0.0\n",
      "|2019-07-12 18:37:07| [Test-iteration]: 49 [loss]: 1.3791357739766439 [acc]:0.0\n",
      "Epoch training complete  49\n",
      "Starting training\n",
      "|2019-07-12 18:37:08| [batch]:0 [loss]:1.3806601762771606 [acc]:0.0\n",
      "|2019-07-12 18:37:22| [batch]:400 [loss]:1.3683364391326904 [acc]:0.0\n",
      "|2019-07-12 18:37:36| [batch]:800 [loss]:1.4278490543365479 [acc]:0.0\n",
      "|2019-07-12 18:37:50| [batch]:1200 [loss]:1.3926156759262085 [acc]:0.0\n",
      "|2019-07-12 18:38:04| [batch]:1600 [loss]:1.386423110961914 [acc]:0.0\n",
      "|2019-07-12 18:38:20| [Test-iteration]: 50 [loss]: 1.380417472521464 [acc]:0.0\n",
      "Epoch training complete  50\n",
      "Starting training\n",
      "|2019-07-12 18:38:20| [batch]:0 [loss]:1.3810694217681885 [acc]:0.0\n",
      "|2019-07-12 18:38:34| [batch]:400 [loss]:1.3713120222091675 [acc]:0.0\n",
      "|2019-07-12 18:38:48| [batch]:800 [loss]:1.3812263011932373 [acc]:0.0\n"
     ]
    },
    {
     "name": "stdout",
     "output_type": "stream",
     "text": [
      "|2019-07-12 18:39:02| [batch]:1200 [loss]:1.4029687643051147 [acc]:0.0\n",
      "|2019-07-12 18:39:16| [batch]:1600 [loss]:1.3860973119735718 [acc]:0.0\n",
      "|2019-07-12 18:39:32| [Test-iteration]: 51 [loss]: 1.3834144798914592 [acc]:0.0\n",
      "Epoch training complete  51\n",
      "Starting training\n",
      "|2019-07-12 18:39:32| [batch]:0 [loss]:1.3776676654815674 [acc]:0.0\n",
      "|2019-07-12 18:39:45| [batch]:400 [loss]:1.3807240724563599 [acc]:0.0\n",
      "|2019-07-12 18:39:59| [batch]:800 [loss]:1.3808238506317139 [acc]:0.0\n",
      "|2019-07-12 18:40:13| [batch]:1200 [loss]:1.3956058025360107 [acc]:0.0\n",
      "|2019-07-12 18:40:27| [batch]:1600 [loss]:1.3742315769195557 [acc]:0.0\n",
      "|2019-07-12 18:40:43| [Test-iteration]: 52 [loss]: 1.3728743116060893 [acc]:0.0\n",
      "Epoch training complete  52\n",
      "Starting training\n",
      "|2019-07-12 18:40:43| [batch]:0 [loss]:1.3891575336456299 [acc]:0.0\n",
      "|2019-07-12 18:40:57| [batch]:400 [loss]:1.370185136795044 [acc]:0.0\n",
      "|2019-07-12 18:41:11| [batch]:800 [loss]:1.3842862844467163 [acc]:0.0\n",
      "|2019-07-12 18:41:25| [batch]:1200 [loss]:1.3991466760635376 [acc]:0.0\n",
      "|2019-07-12 18:41:38| [batch]:1600 [loss]:1.3864408731460571 [acc]:0.0\n",
      "|2019-07-12 18:41:54| [Test-iteration]: 53 [loss]: 1.3896955315272013 [acc]:0.0\n",
      "Epoch training complete  53\n",
      "Starting training\n",
      "|2019-07-12 18:41:54| [batch]:0 [loss]:1.3843538761138916 [acc]:0.0\n",
      "|2019-07-12 18:42:08| [batch]:400 [loss]:1.377608299255371 [acc]:0.0\n",
      "|2019-07-12 18:42:22| [batch]:800 [loss]:1.3846567869186401 [acc]:0.0\n",
      "|2019-07-12 18:42:36| [batch]:1200 [loss]:1.3931394815444946 [acc]:0.0\n",
      "|2019-07-12 18:42:50| [batch]:1600 [loss]:1.3864409923553467 [acc]:0.0\n",
      "|2019-07-12 18:43:06| [Test-iteration]: 54 [loss]: 1.4322018790245057 [acc]:0.0\n",
      "Epoch training complete  54\n",
      "Starting training\n",
      "|2019-07-12 18:43:06| [batch]:0 [loss]:1.3683054447174072 [acc]:0.0\n",
      "|2019-07-12 18:43:20| [batch]:400 [loss]:1.3774011135101318 [acc]:0.0\n",
      "|2019-07-12 18:43:35| [batch]:800 [loss]:1.3892956972122192 [acc]:0.0\n",
      "|2019-07-12 18:43:49| [batch]:1200 [loss]:1.395208716392517 [acc]:0.0\n",
      "|2019-07-12 18:44:03| [batch]:1600 [loss]:1.38740873336792 [acc]:0.0\n",
      "|2019-07-12 18:44:20| [Test-iteration]: 55 [loss]: 1.3790016174316406 [acc]:0.0\n",
      "Epoch training complete  55\n",
      "Starting training\n",
      "|2019-07-12 18:44:20| [batch]:0 [loss]:1.382849097251892 [acc]:0.0\n",
      "|2019-07-12 18:44:34| [batch]:400 [loss]:1.3823093175888062 [acc]:0.0\n",
      "|2019-07-12 18:44:48| [batch]:800 [loss]:1.3858566284179688 [acc]:0.0\n",
      "|2019-07-12 18:45:03| [batch]:1200 [loss]:1.3903106451034546 [acc]:0.0\n",
      "|2019-07-12 18:45:17| [batch]:1600 [loss]:1.3876583576202393 [acc]:0.0\n",
      "|2019-07-12 18:45:33| [Test-iteration]: 56 [loss]: 1.381041350364685 [acc]:0.0\n",
      "Epoch training complete  56\n",
      "Starting training\n",
      "|2019-07-12 18:45:33| [batch]:0 [loss]:1.3789455890655518 [acc]:0.0\n",
      "|2019-07-12 18:45:47| [batch]:400 [loss]:1.3765016794204712 [acc]:0.0\n",
      "|2019-07-12 18:46:02| [batch]:800 [loss]:1.3846685886383057 [acc]:0.0\n",
      "|2019-07-12 18:46:16| [batch]:1200 [loss]:1.3985447883605957 [acc]:0.0\n",
      "|2019-07-12 18:46:30| [batch]:1600 [loss]:1.3999338150024414 [acc]:0.0\n",
      "|2019-07-12 18:46:46| [Test-iteration]: 57 [loss]: 1.378290106455485 [acc]:0.0\n",
      "Epoch training complete  57\n",
      "Starting training\n",
      "|2019-07-12 18:46:46| [batch]:0 [loss]:1.3840925693511963 [acc]:0.0\n",
      "|2019-07-12 18:47:00| [batch]:400 [loss]:1.3854488134384155 [acc]:0.0\n",
      "|2019-07-12 18:47:15| [batch]:800 [loss]:1.3935900926589966 [acc]:0.0\n",
      "|2019-07-12 18:47:28| [batch]:1200 [loss]:1.3907573223114014 [acc]:0.0\n",
      "|2019-07-12 18:47:42| [batch]:1600 [loss]:1.3870055675506592 [acc]:0.0\n",
      "|2019-07-12 18:47:58| [Test-iteration]: 58 [loss]: 1.383563985824585 [acc]:0.0\n",
      "Epoch training complete  58\n",
      "Starting training\n",
      "|2019-07-12 18:47:58| [batch]:0 [loss]:1.377389907836914 [acc]:0.0\n",
      "|2019-07-12 18:48:12| [batch]:400 [loss]:1.3791412115097046 [acc]:0.0\n",
      "|2019-07-12 18:48:25| [batch]:800 [loss]:1.3813921213150024 [acc]:0.0\n",
      "|2019-07-12 18:48:40| [batch]:1200 [loss]:1.3915389776229858 [acc]:0.0\n",
      "|2019-07-12 18:48:53| [batch]:1600 [loss]:1.3913699388504028 [acc]:0.0\n",
      "|2019-07-12 18:49:09| [Test-iteration]: 59 [loss]: 1.3759906641642252 [acc]:0.0\n",
      "Epoch training complete  59\n",
      "Starting training\n",
      "|2019-07-12 18:49:09| [batch]:0 [loss]:1.3799827098846436 [acc]:0.0\n",
      "|2019-07-12 18:49:24| [batch]:400 [loss]:1.3660871982574463 [acc]:0.0\n",
      "|2019-07-12 18:49:38| [batch]:800 [loss]:1.3849605321884155 [acc]:0.0\n",
      "|2019-07-12 18:49:51| [batch]:1200 [loss]:1.393257737159729 [acc]:0.0\n",
      "|2019-07-12 18:50:05| [batch]:1600 [loss]:1.3865442276000977 [acc]:0.0\n",
      "|2019-07-12 18:50:21| [Test-iteration]: 60 [loss]: 1.3817209259668985 [acc]:0.0\n",
      "Epoch training complete  60\n",
      "Starting training\n",
      "|2019-07-12 18:50:21| [batch]:0 [loss]:1.3767032623291016 [acc]:0.0\n",
      "|2019-07-12 18:50:34| [batch]:400 [loss]:1.387986421585083 [acc]:0.0\n",
      "|2019-07-12 18:50:48| [batch]:800 [loss]:1.3848626613616943 [acc]:0.0\n",
      "|2019-07-12 18:51:03| [batch]:1200 [loss]:1.4128453731536865 [acc]:0.0\n",
      "|2019-07-12 18:51:17| [batch]:1600 [loss]:1.3850905895233154 [acc]:0.0\n",
      "|2019-07-12 18:51:33| [Test-iteration]: 61 [loss]: 1.4239662035306295 [acc]:0.0\n",
      "Epoch training complete  61\n",
      "Starting training\n",
      "|2019-07-12 18:51:33| [batch]:0 [loss]:1.356330156326294 [acc]:0.0\n",
      "|2019-07-12 18:51:48| [batch]:400 [loss]:1.3761216402053833 [acc]:0.0\n",
      "|2019-07-12 18:52:02| [batch]:800 [loss]:1.3889310359954834 [acc]:0.0\n",
      "|2019-07-12 18:52:16| [batch]:1200 [loss]:1.3944330215454102 [acc]:0.0\n",
      "|2019-07-12 18:52:30| [batch]:16"
     ]
    },
    {
     "data": {
      "text/html": [
       "<b>limit_output extension: Maximum message size of 30000 exceeded with 30038 characters</b>"
      ]
     },
     "metadata": {},
     "output_type": "display_data"
    },
    {
     "ename": "KeyboardInterrupt",
     "evalue": "",
     "output_type": "error",
     "traceback": [
      "\u001b[0;31m---------------------------------------------------------------------------\u001b[0m",
      "\u001b[0;31mKeyboardInterrupt\u001b[0m                         Traceback (most recent call last)",
      "\u001b[0;32m<ipython-input-24-dcce98fdf8e9>\u001b[0m in \u001b[0;36m<module>\u001b[0;34m()\u001b[0m\n\u001b[1;32m     21\u001b[0m         \u001b[0;31m# start training\u001b[0m\u001b[0;34m\u001b[0m\u001b[0;34m\u001b[0m\u001b[0;34m\u001b[0m\u001b[0m\n\u001b[1;32m     22\u001b[0m         \u001b[0mprint\u001b[0m\u001b[0;34m(\u001b[0m \u001b[0;34m\"Starting training\"\u001b[0m\u001b[0;34m)\u001b[0m\u001b[0;34m\u001b[0m\u001b[0;34m\u001b[0m\u001b[0m\n\u001b[0;32m---> 23\u001b[0;31m         \u001b[0mtrain_epoch\u001b[0m\u001b[0;34m(\u001b[0m\u001b[0mtrain_writer\u001b[0m\u001b[0;34m,\u001b[0m\u001b[0mmerged\u001b[0m\u001b[0;34m,\u001b[0m\u001b[0mk\u001b[0m\u001b[0;34m,\u001b[0m\u001b[0msess\u001b[0m\u001b[0;34m)\u001b[0m\u001b[0;34m\u001b[0m\u001b[0;34m\u001b[0m\u001b[0m\n\u001b[0m\u001b[1;32m     24\u001b[0m         \u001b[0mperformValidation\u001b[0m\u001b[0;34m(\u001b[0m\u001b[0msess\u001b[0m\u001b[0;34m,\u001b[0m \u001b[0mk\u001b[0m\u001b[0;34m)\u001b[0m\u001b[0;34m\u001b[0m\u001b[0;34m\u001b[0m\u001b[0m\n\u001b[1;32m     25\u001b[0m         \u001b[0mprint\u001b[0m\u001b[0;34m(\u001b[0m \u001b[0;34m\"Epoch training complete \"\u001b[0m\u001b[0;34m,\u001b[0m \u001b[0mk\u001b[0m\u001b[0;34m)\u001b[0m\u001b[0;34m\u001b[0m\u001b[0;34m\u001b[0m\u001b[0m\n",
      "\u001b[0;32m<ipython-input-21-d9daebc1873c>\u001b[0m in \u001b[0;36mtrain_epoch\u001b[0;34m(train_writer, merged, k, sess)\u001b[0m\n\u001b[1;32m     27\u001b[0m             \u001b[0;34m\"input_to_float:0\"\u001b[0m\u001b[0;34m:\u001b[0m \u001b[0mbatchTrainImages\u001b[0m\u001b[0;34m,\u001b[0m\u001b[0;34m\u001b[0m\u001b[0;34m\u001b[0m\u001b[0m\n\u001b[1;32m     28\u001b[0m             \u001b[0;34m\"inptrue:0\"\u001b[0m\u001b[0;34m:\u001b[0m \u001b[0mbatchTrainLabels\u001b[0m\u001b[0;34m,\u001b[0m\u001b[0;34m\u001b[0m\u001b[0;34m\u001b[0m\u001b[0m\n\u001b[0;32m---> 29\u001b[0;31m             \u001b[0;34m\"global_step:0\"\u001b[0m\u001b[0;34m:\u001b[0m \u001b[0mbatchCounter\u001b[0m\u001b[0;34m,\u001b[0m\u001b[0;34m\u001b[0m\u001b[0;34m\u001b[0m\u001b[0m\n\u001b[0m\u001b[1;32m     30\u001b[0m         })\n\u001b[1;32m     31\u001b[0m         \u001b[0mtrain_writer\u001b[0m\u001b[0;34m.\u001b[0m\u001b[0madd_summary\u001b[0m\u001b[0;34m(\u001b[0m\u001b[0msummary\u001b[0m\u001b[0;34m,\u001b[0m \u001b[0mbatchCounter\u001b[0m\u001b[0;34m+\u001b[0m\u001b[0mint\u001b[0m\u001b[0;34m(\u001b[0m\u001b[0mk\u001b[0m\u001b[0;34m*\u001b[0m\u001b[0;34m(\u001b[0m\u001b[0mlen\u001b[0m\u001b[0;34m(\u001b[0m\u001b[0mtrain_img_fp\u001b[0m\u001b[0;34m)\u001b[0m\u001b[0;34m/\u001b[0m\u001b[0mBATCH_SIZE\u001b[0m\u001b[0;34m)\u001b[0m\u001b[0;34m)\u001b[0m\u001b[0;34m)\u001b[0m\u001b[0;34m\u001b[0m\u001b[0;34m\u001b[0m\u001b[0m\n",
      "\u001b[0;32m~/python3/lib/python3.6/site-packages/tensorflow/python/client/session.py\u001b[0m in \u001b[0;36mrun\u001b[0;34m(self, fetches, feed_dict, options, run_metadata)\u001b[0m\n\u001b[1;32m    927\u001b[0m     \u001b[0;32mtry\u001b[0m\u001b[0;34m:\u001b[0m\u001b[0;34m\u001b[0m\u001b[0;34m\u001b[0m\u001b[0m\n\u001b[1;32m    928\u001b[0m       result = self._run(None, fetches, feed_dict, options_ptr,\n\u001b[0;32m--> 929\u001b[0;31m                          run_metadata_ptr)\n\u001b[0m\u001b[1;32m    930\u001b[0m       \u001b[0;32mif\u001b[0m \u001b[0mrun_metadata\u001b[0m\u001b[0;34m:\u001b[0m\u001b[0;34m\u001b[0m\u001b[0;34m\u001b[0m\u001b[0m\n\u001b[1;32m    931\u001b[0m         \u001b[0mproto_data\u001b[0m \u001b[0;34m=\u001b[0m \u001b[0mtf_session\u001b[0m\u001b[0;34m.\u001b[0m\u001b[0mTF_GetBuffer\u001b[0m\u001b[0;34m(\u001b[0m\u001b[0mrun_metadata_ptr\u001b[0m\u001b[0;34m)\u001b[0m\u001b[0;34m\u001b[0m\u001b[0;34m\u001b[0m\u001b[0m\n",
      "\u001b[0;32m~/python3/lib/python3.6/site-packages/tensorflow/python/client/session.py\u001b[0m in \u001b[0;36m_run\u001b[0;34m(self, handle, fetches, feed_dict, options, run_metadata)\u001b[0m\n\u001b[1;32m   1119\u001b[0m             \u001b[0mfeed_handles\u001b[0m\u001b[0;34m[\u001b[0m\u001b[0msubfeed_t\u001b[0m\u001b[0;34m]\u001b[0m \u001b[0;34m=\u001b[0m \u001b[0msubfeed_val\u001b[0m\u001b[0;34m\u001b[0m\u001b[0;34m\u001b[0m\u001b[0m\n\u001b[1;32m   1120\u001b[0m           \u001b[0;32melse\u001b[0m\u001b[0;34m:\u001b[0m\u001b[0;34m\u001b[0m\u001b[0;34m\u001b[0m\u001b[0m\n\u001b[0;32m-> 1121\u001b[0;31m             \u001b[0mnp_val\u001b[0m \u001b[0;34m=\u001b[0m \u001b[0mnp\u001b[0m\u001b[0;34m.\u001b[0m\u001b[0masarray\u001b[0m\u001b[0;34m(\u001b[0m\u001b[0msubfeed_val\u001b[0m\u001b[0;34m,\u001b[0m \u001b[0mdtype\u001b[0m\u001b[0;34m=\u001b[0m\u001b[0msubfeed_dtype\u001b[0m\u001b[0;34m)\u001b[0m\u001b[0;34m\u001b[0m\u001b[0;34m\u001b[0m\u001b[0m\n\u001b[0m\u001b[1;32m   1122\u001b[0m \u001b[0;34m\u001b[0m\u001b[0m\n\u001b[1;32m   1123\u001b[0m           if (not is_tensor_handle_feed and\n",
      "\u001b[0;32m~/python3/lib/python3.6/site-packages/numpy/core/numeric.py\u001b[0m in \u001b[0;36masarray\u001b[0;34m(a, dtype, order)\u001b[0m\n\u001b[1;32m    490\u001b[0m \u001b[0;34m\u001b[0m\u001b[0m\n\u001b[1;32m    491\u001b[0m     \"\"\"\n\u001b[0;32m--> 492\u001b[0;31m     \u001b[0;32mreturn\u001b[0m \u001b[0marray\u001b[0m\u001b[0;34m(\u001b[0m\u001b[0ma\u001b[0m\u001b[0;34m,\u001b[0m \u001b[0mdtype\u001b[0m\u001b[0;34m,\u001b[0m \u001b[0mcopy\u001b[0m\u001b[0;34m=\u001b[0m\u001b[0;32mFalse\u001b[0m\u001b[0;34m,\u001b[0m \u001b[0morder\u001b[0m\u001b[0;34m=\u001b[0m\u001b[0morder\u001b[0m\u001b[0;34m)\u001b[0m\u001b[0;34m\u001b[0m\u001b[0;34m\u001b[0m\u001b[0m\n\u001b[0m\u001b[1;32m    493\u001b[0m \u001b[0;34m\u001b[0m\u001b[0m\n\u001b[1;32m    494\u001b[0m \u001b[0;34m\u001b[0m\u001b[0m\n",
      "\u001b[0;31mKeyboardInterrupt\u001b[0m: "
     ]
    }
   ],
   "source": [
    "with tf.Session(config=config) as sess:\n",
    "    saver = tf.train.Saver(max_to_keep=20)\n",
    "    train_writer = tf.summary.FileWriter('/home/zhoutong/facedata/prepared_data/summaries',sess.graph)\n",
    "    _,_=sess.run([tf.global_variables_initializer(), tf.local_variables_initializer()])\n",
    "\n",
    "    if not os.path.exists(CHECKPOINTS_DIR):\n",
    "        os.makedirs(CHECKPOINTS_DIR)\n",
    "    else:\n",
    "        ckpt_path = tf.train.latest_checkpoint(CHECKPOINTS_DIR)\n",
    "        print(\"ckpt_path: \",ckpt_path)\n",
    "        if not ckpt_path is None:\n",
    "            print('restore the last training', ckpt_path)\n",
    "            saver.restore(sess, ckpt_path)\n",
    "        else:\n",
    "            print('no restore this time', ckpt_path)\n",
    "\n",
    "    print('----------------------begin trainng...---------------------------------------')\n",
    "    k = 0\n",
    "    writer = tf.summary.FileWriter(CHECKPOINTS_DIR, sess.graph)\n",
    "    while k < NUM_EPOCHS:\n",
    "        # start training\n",
    "        print( \"Starting training\")\n",
    "        train_epoch(train_writer,merged,k,sess)\n",
    "        performValidation(sess, k)\n",
    "        print( \"Epoch training complete \", k)\n",
    "        k = k + 1"
   ]
  },
  {
   "cell_type": "markdown",
   "metadata": {},
   "source": [
    "# Predict"
   ]
  },
  {
   "cell_type": "code",
   "execution_count": 28,
   "metadata": {
    "ExecuteTime": {
     "end_time": "2019-07-12T03:45:00.930483Z",
     "start_time": "2019-07-12T03:45:00.421938Z"
    }
   },
   "outputs": [
    {
     "name": "stdout",
     "output_type": "stream",
     "text": [
      "ckpt_path:  /home/zhoutong/facedata/prepared_data/ckpt/enthnicity/enetperson-11.ckpt\n"
     ]
    },
    {
     "data": {
      "text/plain": [
       "array([[-1.5938715,  6.6204023,  2.8467655, -2.4067674]], dtype=float32)"
      ]
     },
     "execution_count": 28,
     "metadata": {},
     "output_type": "execute_result"
    },
    {
     "data": {
      "text/plain": [
       "array([[2.6458074e-04, 9.7717404e-01, 2.2444105e-02, 1.1736043e-04]],\n",
       "      dtype=float32)"
      ]
     },
     "execution_count": 28,
     "metadata": {},
     "output_type": "execute_result"
    },
    {
     "data": {
      "text/plain": [
       "1"
      ]
     },
     "execution_count": 28,
     "metadata": {},
     "output_type": "execute_result"
    },
    {
     "data": {
      "text/plain": [
       "1"
      ]
     },
     "execution_count": 28,
     "metadata": {},
     "output_type": "execute_result"
    }
   ],
   "source": [
    "label_dict_ = {'ASIAN':[1,0,0,0], 'BLACK':[0,1,0,0], 'INDIA':[0,0,1,0], 'WHITE':[0,0,0,1]}\n",
    "config = tf.ConfigProto()\n",
    "config.gpu_options.allow_growth = True\n",
    "with tf.Session(config=config) as sess:\n",
    "    _,_=sess.run([tf.global_variables_initializer(), tf.local_variables_initializer()])\n",
    "    ckpt_path = tf.train.latest_checkpoint(CHECKPOINTS_DIR)\n",
    "    print(\"ckpt_path: \",ckpt_path)\n",
    "    valImage = cv2.imread(\"/home/zhoutong/facedata/prepared_data/face_img/6573530_054.jpg\")\n",
    "    if valImage.shape[0] != IMAGE_HEIGHT or valImage.shape[1] != IMAGE_WIDTH:\n",
    "        valImage = cv2.resize(valImage, (IMAGE_WIDTH, IMAGE_HEIGHT))\n",
    "    valImage = valImage.astype(\"float32\")\n",
    "    valImage = valImage / 255.0\n",
    "    l,p = sess.run([logits,pred],feed_dict={inputs:[valImage]})\n",
    "    l\n",
    "    p\n",
    "    l.argmax()\n",
    "    p.argmax()"
   ]
  },
  {
   "cell_type": "code",
   "execution_count": null,
   "metadata": {},
   "outputs": [],
   "source": []
  },
  {
   "cell_type": "markdown",
   "metadata": {},
   "source": [
    "# Test"
   ]
  },
  {
   "cell_type": "code",
   "execution_count": 115,
   "metadata": {
    "ExecuteTime": {
     "end_time": "2019-07-11T03:44:39.054125Z",
     "start_time": "2019-07-11T03:44:39.029928Z"
    },
    "scrolled": true
   },
   "outputs": [
    {
     "data": {
      "text/plain": [
       "{'image_id': 'm4WbxItQOmh4UbEv/OTlJQ==',\n",
       " 'request_id': '1553479612,348b3e30-4235-441a-b0cb-a32b47ce89e5',\n",
       " 'time_used': 211,\n",
       " 'faces': [{'landmark': {'contour_chin': {'y': 217, 'x': 105},\n",
       "    'left_eye_upper_left_quarter': {'y': 98, 'x': 97},\n",
       "    'mouth_lower_lip_right_contour1': {'y': 179, 'x': 134},\n",
       "    'left_eye_bottom': {'y': 106, 'x': 101},\n",
       "    'mouth_lower_lip_right_contour2': {'y': 182, 'x': 142},\n",
       "    'contour_left7': {'y': 140, 'x': 71},\n",
       "    'contour_left6': {'y': 131, 'x': 72},\n",
       "    'contour_left5': {'y': 123, 'x': 73},\n",
       "    'contour_left4': {'y': 115, 'x': 75},\n",
       "    'contour_left3': {'y': 107, 'x': 77},\n",
       "    'contour_left2': {'y': 99, 'x': 80},\n",
       "    'contour_left1': {'y': 91, 'x': 82},\n",
       "    'left_eye_lower_left_quarter': {'y': 103, 'x': 96},\n",
       "    'contour_right1': {'y': 117, 'x': 208},\n",
       "    'contour_right3': {'y': 137, 'x': 206},\n",
       "    'contour_right2': {'y': 127, 'x': 207},\n",
       "    'contour_right5': {'y': 156, 'x': 201},\n",
       "    'contour_right4': {'y': 147, 'x': 204},\n",
       "    'contour_right7': {'y': 176, 'x': 195},\n",
       "    'left_eyebrow_left_corner': {'y': 88, 'x': 84},\n",
       "    'right_eye_right_corner': {'y': 116, 'x': 171},\n",
       "    'nose_bridge1': {'y': 104, 'x': 127},\n",
       "    'nose_bridge3': {'y': 127, 'x': 118},\n",
       "    'nose_bridge2': {'y': 116, 'x': 123},\n",
       "    'right_eyebrow_upper_left_corner': {'y': 97, 'x': 141},\n",
       "    'mouth_upper_lip_right_contour4': {'y': 165, 'x': 134},\n",
       "    'mouth_upper_lip_right_contour1': {'y': 158, 'x': 122},\n",
       "    'right_eye_left_corner': {'y': 113, 'x': 146},\n",
       "    'left_eyebrow_upper_right_corner': {'y': 92, 'x': 115},\n",
       "    'left_eyebrow_upper_middle': {'y': 82, 'x': 99},\n",
       "    'mouth_lower_lip_right_contour3': {'y': 187, 'x': 128},\n",
       "    'nose_left_contour3': {'y': 137, 'x': 103},\n",
       "    'mouth_lower_lip_bottom': {'y': 186, 'x': 111},\n",
       "    'mouth_upper_lip_right_contour2': {'y': 164, 'x': 138},\n",
       "    'left_eye_top': {'y': 98, 'x': 103},\n",
       "    'nose_left_contour1': {'y': 107, 'x': 119},\n",
       "    'mouth_upper_lip_bottom': {'y': 162, 'x': 115},\n",
       "    'mouth_upper_lip_left_contour2': {'y': 153, 'x': 99},\n",
       "    'mouth_upper_lip_top': {'y': 158, 'x': 115},\n",
       "    'mouth_upper_lip_left_contour1': {'y': 155, 'x': 109},\n",
       "    'mouth_upper_lip_left_contour4': {'y': 158, 'x': 102},\n",
       "    'right_eye_top': {'y': 109, 'x': 160},\n",
       "    'mouth_upper_lip_right_contour3': {'y': 172, 'x': 147},\n",
       "    'right_eye_bottom': {'y': 117, 'x': 159},\n",
       "    'right_eyebrow_lower_left_corner': {'y': 103, 'x': 141},\n",
       "    'mouth_left_corner': {'y': 157, 'x': 93},\n",
       "    'nose_middle_contour': {'y': 149, 'x': 115},\n",
       "    'right_eye_lower_right_quarter': {'y': 117, 'x': 166},\n",
       "    'right_eyebrow_lower_right_quarter': {'y': 106, 'x': 176},\n",
       "    'contour_right9': {'y': 193, 'x': 184},\n",
       "    'mouth_right_corner': {'y': 172, 'x': 153},\n",
       "    'right_eye_lower_left_quarter': {'y': 115, 'x': 152},\n",
       "    'right_eye_center': {'y': 113, 'x': 161},\n",
       "    'left_eye_upper_right_quarter': {'y': 101, 'x': 109},\n",
       "    'right_eyebrow_lower_left_quarter': {'y': 102, 'x': 153},\n",
       "    'left_eye_pupil': {'y': 101, 'x': 104},\n",
       "    'contour_right8': {'y': 185, 'x': 190},\n",
       "    'contour_left13': {'y': 190, 'x': 82},\n",
       "    'left_eyebrow_lower_right_quarter': {'y': 92, 'x': 105},\n",
       "    'left_eye_right_corner': {'y': 106, 'x': 114},\n",
       "    'left_eyebrow_lower_right_corner': {'y': 96, 'x': 113},\n",
       "    'mouth_upper_lip_left_contour3': {'y': 159, 'x': 96},\n",
       "    'left_eyebrow_lower_left_quarter': {'y': 87, 'x': 91},\n",
       "    'mouth_lower_lip_left_contour1': {'y': 170, 'x': 100},\n",
       "    'mouth_lower_lip_left_contour3': {'y': 180, 'x': 99},\n",
       "    'mouth_lower_lip_left_contour2': {'y': 169, 'x': 94},\n",
       "    'contour_left9': {'y': 157, 'x': 72},\n",
       "    'left_eye_lower_right_quarter': {'y': 106, 'x': 107},\n",
       "    'contour_right6': {'y': 166, 'x': 198},\n",
       "    'nose_tip': {'y': 139, 'x': 114},\n",
       "    'right_eyebrow_upper_middle': {'y': 96, 'x': 166},\n",
       "    'right_eyebrow_lower_middle': {'y': 104, 'x': 165},\n",
       "    'left_eye_center': {'y': 101, 'x': 104},\n",
       "    'right_eyebrow_upper_left_quarter': {'y': 95, 'x': 153},\n",
       "    'right_eyebrow_right_corner': {'y': 110, 'x': 187},\n",
       "    'right_eyebrow_upper_right_quarter': {'y': 101, 'x': 179},\n",
       "    'contour_left16': {'y': 213, 'x': 96},\n",
       "    'contour_left15': {'y': 206, 'x': 90},\n",
       "    'contour_left14': {'y': 198, 'x': 86},\n",
       "    'left_eyebrow_upper_right_quarter': {'y': 87, 'x': 108},\n",
       "    'contour_left12': {'y': 182, 'x': 79},\n",
       "    'contour_left11': {'y': 174, 'x': 76},\n",
       "    'contour_left10': {'y': 166, 'x': 73},\n",
       "    'left_eyebrow_lower_middle': {'y': 88, 'x': 98},\n",
       "    'left_eyebrow_upper_left_quarter': {'y': 82, 'x': 90},\n",
       "    'right_eye_upper_right_quarter': {'y': 111, 'x': 167},\n",
       "    'nose_right_contour4': {'y': 148, 'x': 130},\n",
       "    'nose_right_contour5': {'y': 149, 'x': 123},\n",
       "    'nose_left_contour4': {'y': 143, 'x': 106},\n",
       "    'nose_left_contour5': {'y': 145, 'x': 110},\n",
       "    'nose_left_contour2': {'y': 129, 'x': 109},\n",
       "    'nose_right_contour1': {'y': 110, 'x': 137},\n",
       "    'nose_right_contour2': {'y': 135, 'x': 134},\n",
       "    'nose_right_contour3': {'y': 146, 'x': 137},\n",
       "    'left_eye_left_corner': {'y': 100, 'x': 92},\n",
       "    'contour_right15': {'y': 219, 'x': 128},\n",
       "    'contour_right14': {'y': 217, 'x': 139},\n",
       "    'contour_right16': {'y': 219, 'x': 117},\n",
       "    'contour_right11': {'y': 205, 'x': 168},\n",
       "    'contour_right10': {'y': 200, 'x': 176},\n",
       "    'contour_right13': {'y': 214, 'x': 149},\n",
       "    'contour_right12': {'y': 210, 'x': 159},\n",
       "    'contour_left8': {'y': 149, 'x': 71},\n",
       "    'mouth_lower_lip_top': {'y': 177, 'x': 113},\n",
       "    'right_eye_upper_left_quarter': {'y': 109, 'x': 153},\n",
       "    'right_eye_pupil': {'y': 113, 'x': 161}},\n",
       "   'attributes': {'emotion': {'sadness': 0.009,\n",
       "     'neutral': 0.009,\n",
       "     'disgust': 0.044,\n",
       "     'anger': 0.012,\n",
       "     'surprise': 0.009,\n",
       "     'fear': 0.909,\n",
       "     'happiness': 99.007},\n",
       "    'beauty': {'female_score': 42.068, 'male_score': 45.277},\n",
       "    'gender': {'value': 'Female'},\n",
       "    'age': {'value': 44},\n",
       "    'mouthstatus': {'close': 0.001,\n",
       "     'surgical_mask_or_respirator': 0.0,\n",
       "     'open': 99.999,\n",
       "     'other_occlusion': 0.0},\n",
       "    'glass': {'value': 'None'},\n",
       "    'skinstatus': {'dark_circle': 10.446,\n",
       "     'stain': 35.766,\n",
       "     'acne': 8.011,\n",
       "     'health': 9.044},\n",
       "    'headpose': {'yaw_angle': 10.557091,\n",
       "     'pitch_angle': 1.5557104,\n",
       "     'roll_angle': 11.121172},\n",
       "    'blur': {'blurness': {'threshold': 50.0, 'value': 7.208},\n",
       "     'motionblur': {'threshold': 50.0, 'value': 7.208},\n",
       "     'gaussianblur': {'threshold': 50.0, 'value': 7.208}},\n",
       "    'smile': {'threshold': 50.0, 'value': 100.0},\n",
       "    'eyestatus': {'left_eye_status': {'normal_glass_eye_open': 0.333,\n",
       "      'no_glass_eye_close': 0.0,\n",
       "      'occlusion': 0.002,\n",
       "      'no_glass_eye_open': 99.663,\n",
       "      'normal_glass_eye_close': 0.001,\n",
       "      'dark_glasses': 0.001},\n",
       "     'right_eye_status': {'normal_glass_eye_open': 6.017,\n",
       "      'no_glass_eye_close': 0.004,\n",
       "      'occlusion': 13.222,\n",
       "      'no_glass_eye_open': 79.866,\n",
       "      'normal_glass_eye_close': 0.039,\n",
       "      'dark_glasses': 0.853}},\n",
       "    'facequality': {'threshold': 70.1, 'value': 75.364},\n",
       "    'ethnicity': {'value': 'WHITE'}},\n",
       "   'face_rectangle': {'width': 133, 'top': 89, 'left': 67, 'height': 133},\n",
       "   'face_token': 'bd0b5d78648ce470baf4ff5ddd252450'}]}"
      ]
     },
     "execution_count": 115,
     "metadata": {},
     "output_type": "execute_result"
    }
   ],
   "source": [
    "with open(\"/home/zhoutong/facedata/CASIA-maxpy-clean/0000133/007.json\",\"r\") as f:\n",
    "    json_str = json.load(f)\n",
    "json_str"
   ]
  },
  {
   "cell_type": "code",
   "execution_count": 131,
   "metadata": {
    "ExecuteTime": {
     "end_time": "2019-07-11T04:24:28.624368Z",
     "start_time": "2019-07-11T04:24:18.233703Z"
    }
   },
   "outputs": [
    {
     "data": {
      "text/html": [
       "<div>\n",
       "<style scoped>\n",
       "    .dataframe tbody tr th:only-of-type {\n",
       "        vertical-align: middle;\n",
       "    }\n",
       "\n",
       "    .dataframe tbody tr th {\n",
       "        vertical-align: top;\n",
       "    }\n",
       "\n",
       "    .dataframe thead th {\n",
       "        text-align: right;\n",
       "    }\n",
       "</style>\n",
       "<table border=\"1\" class=\"dataframe\">\n",
       "  <thead>\n",
       "    <tr style=\"text-align: right;\">\n",
       "      <th></th>\n",
       "      <th>jpg</th>\n",
       "      <th>json</th>\n",
       "    </tr>\n",
       "  </thead>\n",
       "  <tbody>\n",
       "    <tr>\n",
       "      <th>0</th>\n",
       "      <td>myCasia/CASIA-maxpy-clean_2471798_154.jpg</td>\n",
       "      <td>myCasia/CASIA-maxpy-clean_2471798_154.json</td>\n",
       "    </tr>\n",
       "    <tr>\n",
       "      <th>1</th>\n",
       "      <td>myCasia/CASIA-maxpy-clean_0000981_053.jpg</td>\n",
       "      <td>myCasia/CASIA-maxpy-clean_0000981_053.json</td>\n",
       "    </tr>\n",
       "    <tr>\n",
       "      <th>2</th>\n",
       "      <td>myCasia/CASIA-maxpy-clean_0000233_346.jpg</td>\n",
       "      <td>myCasia/CASIA-maxpy-clean_0000233_346.json</td>\n",
       "    </tr>\n",
       "  </tbody>\n",
       "</table>\n",
       "</div>"
      ],
      "text/plain": [
       "                                         jpg  \\\n",
       "0  myCasia/CASIA-maxpy-clean_2471798_154.jpg   \n",
       "1  myCasia/CASIA-maxpy-clean_0000981_053.jpg   \n",
       "2  myCasia/CASIA-maxpy-clean_0000233_346.jpg   \n",
       "\n",
       "                                         json  \n",
       "0  myCasia/CASIA-maxpy-clean_2471798_154.json  \n",
       "1  myCasia/CASIA-maxpy-clean_0000981_053.json  \n",
       "2  myCasia/CASIA-maxpy-clean_0000233_346.json  "
      ]
     },
     "execution_count": 131,
     "metadata": {},
     "output_type": "execute_result"
    },
    {
     "data": {
      "text/plain": [
       "('myCasia/CASIA-maxpy-clean_2471798_154.jpg',\n",
       " 'myCasia/CASIA-maxpy-clean_2471798_154.json')"
      ]
     },
     "execution_count": 131,
     "metadata": {},
     "output_type": "execute_result"
    }
   ],
   "source": [
    "import pandas as pd\n",
    "examples = pd.read_csv(\"/home/zhoutong/data_train_casia.csv\")\n",
    "examples.head(3)\n",
    "imageNames = []\n",
    "for _, row in examples.iterrows():\n",
    "    linedata = row\n",
    "    imname, jsonname = linedata['jpg'], linedata['json']\n",
    "    imageNames.append((imname, jsonname))\n",
    "imageNames[0]"
   ]
  },
  {
   "cell_type": "code",
   "execution_count": null,
   "metadata": {},
   "outputs": [],
   "source": []
  }
 ],
 "metadata": {
  "kernelspec": {
   "display_name": "Python 3",
   "language": "python",
   "name": "python3"
  },
  "language_info": {
   "codemirror_mode": {
    "name": "ipython",
    "version": 3
   },
   "file_extension": ".py",
   "mimetype": "text/x-python",
   "name": "python",
   "nbconvert_exporter": "python",
   "pygments_lexer": "ipython3",
   "version": "3.6.7"
  },
  "toc": {
   "base_numbering": 1,
   "nav_menu": {},
   "number_sections": true,
   "sideBar": true,
   "skip_h1_title": false,
   "title_cell": "Table of Contents",
   "title_sidebar": "Contents",
   "toc_cell": false,
   "toc_position": {
    "height": "calc(100% - 180px)",
    "left": "10px",
    "top": "150px",
    "width": "173.707px"
   },
   "toc_section_display": true,
   "toc_window_display": true
  },
  "varInspector": {
   "cols": {
    "lenName": 16,
    "lenType": 16,
    "lenVar": 40
   },
   "kernels_config": {
    "python": {
     "delete_cmd_postfix": "",
     "delete_cmd_prefix": "del ",
     "library": "var_list.py",
     "varRefreshCmd": "print(var_dic_list())"
    },
    "r": {
     "delete_cmd_postfix": ") ",
     "delete_cmd_prefix": "rm(",
     "library": "var_list.r",
     "varRefreshCmd": "cat(var_dic_list()) "
    }
   },
   "types_to_exclude": [
    "module",
    "function",
    "builtin_function_or_method",
    "instance",
    "_Feature"
   ],
   "window_display": false
  }
 },
 "nbformat": 4,
 "nbformat_minor": 2
}
