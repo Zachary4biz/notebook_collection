{
 "cells": [
  {
   "cell_type": "code",
   "execution_count": 2,
   "metadata": {
    "ExecuteTime": {
     "end_time": "2019-06-10T08:54:53.200258Z",
     "start_time": "2019-06-10T08:54:53.193934Z"
    }
   },
   "outputs": [],
   "source": [
    "from IPython.core.interactiveshell import InteractiveShell\n",
    "InteractiveShell.ast_node_interactivity = \"all\"\n",
    "%matplotlib inline\n",
    "from tqdm import tqdm_notebook\n",
    "import concurrent.futures\n",
    "from multiprocessing import Pool\n",
    "import copy,os,sys,psutil\n",
    "from collections import Counter"
   ]
  },
  {
   "cell_type": "code",
   "execution_count": 57,
   "metadata": {
    "ExecuteTime": {
     "end_time": "2019-06-10T09:26:49.760516Z",
     "start_time": "2019-06-10T09:26:49.756249Z"
    }
   },
   "outputs": [],
   "source": [
    "import numpy as np\n",
    "import re\n",
    "from zac_pyutils import ExqUtils\n",
    "from sklearn import metrics"
   ]
  },
  {
   "cell_type": "code",
   "execution_count": 4,
   "metadata": {
    "ExecuteTime": {
     "end_time": "2019-06-10T08:54:57.286479Z",
     "start_time": "2019-06-10T08:54:54.314128Z"
    }
   },
   "outputs": [
    {
     "name": "stderr",
     "output_type": "stream",
     "text": [
      "WARNING: Logging before flag parsing goes to stderr.\n",
      "W0610 16:54:55.678285 139927025489728 __init__.py:56] Some hub symbols are not available because TensorFlow version is less than 1.14\n"
     ]
    }
   ],
   "source": [
    "import tensorflow as tf\n",
    "import tensorflow_hub as hub\n",
    "elmo = hub.Module(\"https://tfhub.dev/google/elmo/2\", trainable = True)"
   ]
  },
  {
   "cell_type": "code",
   "execution_count": 6,
   "metadata": {
    "ExecuteTime": {
     "end_time": "2019-06-10T08:55:05.503848Z",
     "start_time": "2019-06-10T08:55:05.492227Z"
    }
   },
   "outputs": [
    {
     "data": {
      "text/plain": [
       "['Get News Updates directly on your WhatsApp',\n",
       " 'Click here to Subscribe',\n",
       " 'Ranveer Singh and Deepika Padukone have been giving us major couple goals',\n",
       " 'And today, Deepika took to her Instagram to share her look for an award night',\n",
       " 'She shared a series of photos from which can make anyone go weak in the knees',\n",
       " 'Ranveer also got awestruck after seeing the photos',\n",
       " \"DP looked absolutely stunning in a pink dress with a ruffled neck and Ranveer couldn't stop himself from commenting on the posts shared by the actress\",\n",
       " \"At the award function Deepika's father Prakash Padukone received Lifetime Achievement Award for his contribution in sports\",\n",
       " 'Ranveer also attended the event to witness the moment',\n",
       " \"On the work front, Deepika will be next seen in Meghna Gulzar 's 'Chhapaak' while Ranveer's next is Kabir Khan's '83'\"]"
      ]
     },
     "execution_count": 6,
     "metadata": {},
     "output_type": "execute_result"
    }
   ],
   "source": [
    "article = \"\"\"Get News Updates directly on your WhatsApp. Click here to Subscribe.\\n\\nRanveer Singh and Deepika Padukone have been giving us major couple goals. And today, Deepika took to her Instagram to share her look for an award night.\\n\\n\\n\\n\\n\\nShe shared a series of photos from which can make anyone go weak in the knees. Ranveer also got awestruck after seeing the photos.DP looked absolutely stunning in a pink dress with a ruffled neck and Ranveer couldn't stop himself from commenting on the posts shared by the actress.\\n\\nAt the award function Deepika's father Prakash Padukone received Lifetime Achievement Award for his contribution in sports. Ranveer also attended the event to witness the moment.On the work front, Deepika will be next seen in Meghna Gulzar 's 'Chhapaak' while Ranveer's next is Kabir Khan's '83'.\"\"\"\n",
    "sentences = [re.sub(\"\\\\n\",\"\",i.strip()) for i in article.strip().split(\".\")]\n",
    "sentences = [i for i in sentences if len(i)>0]\n",
    "sentences"
   ]
  },
  {
   "cell_type": "code",
   "execution_count": 74,
   "metadata": {
    "ExecuteTime": {
     "end_time": "2019-06-10T10:37:12.222971Z",
     "start_time": "2019-06-10T10:37:12.215577Z"
    }
   },
   "outputs": [
    {
     "data": {
      "text/plain": [
       "['Modi was appointed Chief Minister of Gujarat in 2001 __PAD__ __PAD__ __PAD__ __PAD__',\n",
       " 'Narendra Modi was appointed Chief Minister of Gujarat in 2001 __PAD__ __PAD__ __PAD__',\n",
       " 'Obama was appointed Chief Minister of Gujarat in 2001 __PAD__ __PAD__ __PAD__ __PAD__']"
      ]
     },
     "execution_count": 74,
     "metadata": {},
     "output_type": "execute_result"
    }
   ],
   "source": [
    "pad_len = 13\n",
    "demoSentence_total = [\"Modi was appointed Chief Minister of Gujarat in 2001\",\n",
    "                      \"Narendra Modi was appointed Chief Minister of Gujarat in 2001\",\n",
    "                      \"Obama was appointed Chief Minister of Gujarat in 2001\"]\n",
    "demoSentence_total = [\" \".join(ExqUtils.padding(sen.split(\" \"),pad_len)) for sen in demoSentence_total]\n",
    "demoSentence_total"
   ]
  },
  {
   "cell_type": "code",
   "execution_count": 72,
   "metadata": {
    "ExecuteTime": {
     "end_time": "2019-06-10T09:36:03.821970Z",
     "start_time": "2019-06-10T09:35:53.785589Z"
    },
    "code_folding": [],
    "scrolled": false
   },
   "outputs": [
    {
     "name": "stdout",
     "output_type": "stream",
     "text": [
      "INFO:tensorflow:Saver not created because there are no variables in the graph to restore\n"
     ]
    },
    {
     "name": "stderr",
     "output_type": "stream",
     "text": [
      "I0610 17:35:54.984682 139927025489728 tf_logging.py:115] Saver not created because there are no variables in the graph to restore\n"
     ]
    },
    {
     "name": "stdout",
     "output_type": "stream",
     "text": [
      "INFO:tensorflow:Saver not created because there are no variables in the graph to restore\n"
     ]
    },
    {
     "name": "stderr",
     "output_type": "stream",
     "text": [
      "I0610 17:35:59.533390 139927025489728 tf_logging.py:115] Saver not created because there are no variables in the graph to restore\n"
     ]
    }
   ],
   "source": [
    "with tf.Session() as sess:\n",
    "    emb_opt = elmo(inputs=sentences, as_dict=True)\n",
    "    sess.run(tf.global_variables_initializer())\n",
    "#     emb_sentence = sess.run(emb_opt['elmo'])\n",
    "    emb_demo_opt = tf.reshape(elmo(inputs=demoSentence_total, as_dict=True)['default'],[3,1,1024])\n",
    "    emb_demo_total = sess.run(emb_demo_opt)"
   ]
  },
  {
   "cell_type": "code",
   "execution_count": 11,
   "metadata": {
    "ExecuteTime": {
     "end_time": "2019-06-10T09:06:41.881702Z",
     "start_time": "2019-06-10T09:06:41.677863Z"
    }
   },
   "outputs": [],
   "source": []
  },
  {
   "cell_type": "code",
   "execution_count": null,
   "metadata": {},
   "outputs": [],
   "source": [
    "def cos_similarity(vec1,vec2):\n",
    "    norm1 = tf.sqrt(tf.reduce_sum(tf.square(vec1), axis=2))\n",
    "    norm2 = tf.sqrt(tf.reduce_sum(tf.square(vec2), axis=2))"
   ]
  },
  {
   "cell_type": "code",
   "execution_count": 9,
   "metadata": {
    "ExecuteTime": {
     "end_time": "2019-06-10T09:05:14.578694Z",
     "start_time": "2019-06-10T09:05:14.572453Z"
    }
   },
   "outputs": [
    {
     "data": {
      "text/plain": [
       "[26, 26, 26, 26, 26, 26, 26, 26, 26, 26]"
      ]
     },
     "execution_count": 9,
     "metadata": {},
     "output_type": "execute_result"
    }
   ],
   "source": [
    "[len(i) for i in emb_sentence]"
   ]
  },
  {
   "cell_type": "code",
   "execution_count": 56,
   "metadata": {
    "ExecuteTime": {
     "end_time": "2019-06-10T08:36:33.399338Z",
     "start_time": "2019-06-10T08:36:33.393401Z"
    }
   },
   "outputs": [],
   "source": []
  },
  {
   "cell_type": "code",
   "execution_count": 8,
   "metadata": {
    "ExecuteTime": {
     "end_time": "2019-06-10T09:05:10.119019Z",
     "start_time": "2019-06-10T09:05:10.112893Z"
    }
   },
   "outputs": [
    {
     "data": {
      "text/plain": [
       "[12, 123, 14, '__PAD__', '__PAD__']"
      ]
     },
     "execution_count": 8,
     "metadata": {},
     "output_type": "execute_result"
    }
   ],
   "source": [
    "ExqUtils.padding([12,123,14],5)"
   ]
  },
  {
   "cell_type": "code",
   "execution_count": null,
   "metadata": {},
   "outputs": [],
   "source": []
  }
 ],
 "metadata": {
  "kernelspec": {
   "display_name": "Python 3",
   "language": "python",
   "name": "python3"
  },
  "language_info": {
   "codemirror_mode": {
    "name": "ipython",
    "version": 3
   },
   "file_extension": ".py",
   "mimetype": "text/x-python",
   "name": "python",
   "nbconvert_exporter": "python",
   "pygments_lexer": "ipython3",
   "version": "3.6.7"
  },
  "toc": {
   "base_numbering": 1,
   "nav_menu": {},
   "number_sections": true,
   "sideBar": true,
   "skip_h1_title": false,
   "title_cell": "Table of Contents",
   "title_sidebar": "Contents",
   "toc_cell": false,
   "toc_position": {},
   "toc_section_display": true,
   "toc_window_display": false
  },
  "varInspector": {
   "cols": {
    "lenName": 16,
    "lenType": 16,
    "lenVar": 40
   },
   "kernels_config": {
    "python": {
     "delete_cmd_postfix": "",
     "delete_cmd_prefix": "del ",
     "library": "var_list.py",
     "varRefreshCmd": "print(var_dic_list())"
    },
    "r": {
     "delete_cmd_postfix": ") ",
     "delete_cmd_prefix": "rm(",
     "library": "var_list.r",
     "varRefreshCmd": "cat(var_dic_list()) "
    }
   },
   "types_to_exclude": [
    "module",
    "function",
    "builtin_function_or_method",
    "instance",
    "_Feature"
   ],
   "window_display": false
  }
 },
 "nbformat": 4,
 "nbformat_minor": 2
}
