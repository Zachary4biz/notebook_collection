{
 "cells": [
  {
   "cell_type": "code",
   "execution_count": 1,
   "metadata": {
    "ExecuteTime": {
     "end_time": "2019-06-11T02:41:52.131619Z",
     "start_time": "2019-06-11T02:41:51.864888Z"
    }
   },
   "outputs": [],
   "source": [
    "from IPython.core.interactiveshell import InteractiveShell\n",
    "InteractiveShell.ast_node_interactivity = \"all\"\n",
    "%matplotlib inline\n",
    "from tqdm import tqdm_notebook\n",
    "import concurrent.futures\n",
    "from multiprocessing import Pool\n",
    "import copy,os,sys,psutil\n",
    "from collections import Counter"
   ]
  },
  {
   "cell_type": "code",
   "execution_count": 2,
   "metadata": {
    "ExecuteTime": {
     "end_time": "2019-06-11T02:41:52.587195Z",
     "start_time": "2019-06-11T02:41:52.314905Z"
    }
   },
   "outputs": [],
   "source": [
    "import numpy as np\n",
    "import re\n",
    "from zac_pyutils import ExqUtils\n",
    "from sklearn import metrics"
   ]
  },
  {
   "cell_type": "code",
   "execution_count": 3,
   "metadata": {
    "ExecuteTime": {
     "end_time": "2019-06-11T02:41:55.741951Z",
     "start_time": "2019-06-11T02:41:52.751404Z"
    },
    "scrolled": true
   },
   "outputs": [
    {
     "name": "stderr",
     "output_type": "stream",
     "text": [
      "WARNING: Logging before flag parsing goes to stderr.\n",
      "W0611 10:41:54.100164 140223109015360 __init__.py:56] Some hub symbols are not available because TensorFlow version is less than 1.14\n"
     ]
    }
   ],
   "source": [
    "import tensorflow as tf\n",
    "import tensorflow_hub as hub\n",
    "elmo = hub.Module(\"https://tfhub.dev/google/elmo/2\", trainable = True)"
   ]
  },
  {
   "cell_type": "code",
   "execution_count": 4,
   "metadata": {
    "ExecuteTime": {
     "end_time": "2019-06-11T02:41:56.445910Z",
     "start_time": "2019-06-11T02:41:56.441992Z"
    }
   },
   "outputs": [],
   "source": [
    "article = \"\"\"Get News Updates directly on your WhatsApp. Click here to Subscribe.\\n\\nRanveer Singh and Deepika Padukone have been giving us major couple goals. And today, Deepika took to her Instagram to share her look for an award night.\\n\\n\\n\\n\\n\\nShe shared a series of photos from which can make anyone go weak in the knees. Ranveer also got awestruck after seeing the photos.DP looked absolutely stunning in a pink dress with a ruffled neck and Ranveer couldn't stop himself from commenting on the posts shared by the actress.\\n\\nAt the award function Deepika's father Prakash Padukone received Lifetime Achievement Award for his contribution in sports. Ranveer also attended the event to witness the moment.On the work front, Deepika will be next seen in Meghna Gulzar 's 'Chhapaak' while Ranveer's next is Kabir Khan's '83'.\"\"\""
   ]
  },
  {
   "cell_type": "markdown",
   "metadata": {},
   "source": [
    "# Prepare"
   ]
  },
  {
   "cell_type": "markdown",
   "metadata": {},
   "source": [
    "## split into sentences"
   ]
  },
  {
   "cell_type": "code",
   "execution_count": 5,
   "metadata": {
    "ExecuteTime": {
     "end_time": "2019-06-11T02:41:58.681614Z",
     "start_time": "2019-06-11T02:41:58.676650Z"
    }
   },
   "outputs": [],
   "source": [
    "def split_to_sentences(article):\n",
    "    sentences = [re.sub(\"\\\\n\",\"\",i.strip()) for i in article.strip().split(\".\")]\n",
    "    sentences = [i for i in sentences if len(i)>0]\n",
    "    return sentences"
   ]
  },
  {
   "cell_type": "markdown",
   "metadata": {},
   "source": [
    "## pad/truncate to same length"
   ]
  },
  {
   "cell_type": "code",
   "execution_count": 6,
   "metadata": {
    "ExecuteTime": {
     "end_time": "2019-06-11T02:41:59.458146Z",
     "start_time": "2019-06-11T02:41:59.453900Z"
    }
   },
   "outputs": [],
   "source": [
    "def align(sentence_list, pad_len=13):\n",
    "    sentences_pad = [\" \".join(ExqUtils.padding(sen.split(\" \"),pad_len)) for sen in sentence_list]\n",
    "    return sentences_pad"
   ]
  },
  {
   "cell_type": "code",
   "execution_count": 7,
   "metadata": {
    "ExecuteTime": {
     "end_time": "2019-06-11T02:41:59.855237Z",
     "start_time": "2019-06-11T02:41:59.851277Z"
    }
   },
   "outputs": [],
   "source": [
    "padded_sens = align(split_to_sentences(article),pad_len=30)"
   ]
  },
  {
   "cell_type": "code",
   "execution_count": 21,
   "metadata": {
    "ExecuteTime": {
     "end_time": "2019-06-11T02:50:03.790496Z",
     "start_time": "2019-06-11T02:50:03.782661Z"
    },
    "scrolled": false
   },
   "outputs": [
    {
     "name": "stdout",
     "output_type": "stream",
     "text": [
      "|2019-06-11 10:50:03| 句子: 10, 词(each sentences): 30\n"
     ]
    },
    {
     "data": {
      "text/plain": [
       "['Get News Updates directly on your WhatsApp __PAD__ __PAD__ __PAD__ __PAD__ __PAD__ __PAD__ __PAD__ __PAD__ __PAD__ __PAD__ __PAD__ __PAD__ __PAD__ __PAD__ __PAD__ __PAD__ __PAD__ __PAD__ __PAD__ __PAD__ __PAD__ __PAD__ __PAD__',\n",
       " 'Click here to Subscribe __PAD__ __PAD__ __PAD__ __PAD__ __PAD__ __PAD__ __PAD__ __PAD__ __PAD__ __PAD__ __PAD__ __PAD__ __PAD__ __PAD__ __PAD__ __PAD__ __PAD__ __PAD__ __PAD__ __PAD__ __PAD__ __PAD__ __PAD__ __PAD__ __PAD__ __PAD__',\n",
       " 'Ranveer Singh and Deepika Padukone have been giving us major couple goals __PAD__ __PAD__ __PAD__ __PAD__ __PAD__ __PAD__ __PAD__ __PAD__ __PAD__ __PAD__ __PAD__ __PAD__ __PAD__ __PAD__ __PAD__ __PAD__ __PAD__ __PAD__',\n",
       " 'And today, Deepika took to her Instagram to share her look for an award night __PAD__ __PAD__ __PAD__ __PAD__ __PAD__ __PAD__ __PAD__ __PAD__ __PAD__ __PAD__ __PAD__ __PAD__ __PAD__ __PAD__ __PAD__',\n",
       " 'She shared a series of photos from which can make anyone go weak in the knees __PAD__ __PAD__ __PAD__ __PAD__ __PAD__ __PAD__ __PAD__ __PAD__ __PAD__ __PAD__ __PAD__ __PAD__ __PAD__ __PAD__',\n",
       " 'Ranveer also got awestruck after seeing the photos __PAD__ __PAD__ __PAD__ __PAD__ __PAD__ __PAD__ __PAD__ __PAD__ __PAD__ __PAD__ __PAD__ __PAD__ __PAD__ __PAD__ __PAD__ __PAD__ __PAD__ __PAD__ __PAD__ __PAD__ __PAD__ __PAD__',\n",
       " \"DP looked absolutely stunning in a pink dress with a ruffled neck and Ranveer couldn't stop himself from commenting on the posts shared by the actress __PAD__ __PAD__ __PAD__ __PAD__\",\n",
       " \"At the award function Deepika's father Prakash Padukone received Lifetime Achievement Award for his contribution in sports __PAD__ __PAD__ __PAD__ __PAD__ __PAD__ __PAD__ __PAD__ __PAD__ __PAD__ __PAD__ __PAD__ __PAD__ __PAD__\",\n",
       " 'Ranveer also attended the event to witness the moment __PAD__ __PAD__ __PAD__ __PAD__ __PAD__ __PAD__ __PAD__ __PAD__ __PAD__ __PAD__ __PAD__ __PAD__ __PAD__ __PAD__ __PAD__ __PAD__ __PAD__ __PAD__ __PAD__ __PAD__ __PAD__',\n",
       " \"On the work front, Deepika will be next seen in Meghna Gulzar 's 'Chhapaak' while Ranveer's next is Kabir Khan's '83' __PAD__ __PAD__ __PAD__ __PAD__ __PAD__ __PAD__ __PAD__ __PAD__ __PAD__\"]"
      ]
     },
     "execution_count": 21,
     "metadata": {},
     "output_type": "execute_result"
    }
   ],
   "source": [
    "ExqUtils.zprint(f\"\"\"句子: {len(padded_sens)}, 词(each sentences): {len(padded_sens[0].split(\" \"))}\"\"\")\n",
    "padded_sens"
   ]
  },
  {
   "cell_type": "markdown",
   "metadata": {},
   "source": [
    "# TF | Graph"
   ]
  },
  {
   "cell_type": "code",
   "execution_count": 22,
   "metadata": {
    "ExecuteTime": {
     "end_time": "2019-06-11T02:50:55.603550Z",
     "start_time": "2019-06-11T02:50:53.159532Z"
    }
   },
   "outputs": [
    {
     "name": "stdout",
     "output_type": "stream",
     "text": [
      "INFO:tensorflow:Saver not created because there are no variables in the graph to restore\n"
     ]
    },
    {
     "name": "stderr",
     "output_type": "stream",
     "text": [
      "I0611 10:50:54.253428 140223109015360 tf_logging.py:115] Saver not created because there are no variables in the graph to restore\n"
     ]
    }
   ],
   "source": [
    "g0 = tf.get_default_graph()\n",
    "with g0.as_default():\n",
    "    emb_opt = elmo(inputs=padded_sens, as_dict=True)\n",
    "    word_emb = emb_opt['word_emb']\n",
    "    LM_emb = tf.concat([emb_opt['lstm_outputs1'], emb_opt['lstm_outputs2']],axis=2)\n",
    "    with tf.Session() as sess:\n",
    "        sess.run(tf.global_variables_initializer())\n",
    "        emb_res = sess.run(emb_opt)\n",
    "        LM_emb_res = sess.run(LM_emb)\n",
    "        "
   ]
  },
  {
   "cell_type": "code",
   "execution_count": 23,
   "metadata": {
    "ExecuteTime": {
     "end_time": "2019-06-11T02:50:55.727164Z",
     "start_time": "2019-06-11T02:50:55.719850Z"
    },
    "scrolled": false
   },
   "outputs": [
    {
     "data": {
      "text/plain": [
       "(10, 30, 1024)"
      ]
     },
     "execution_count": 23,
     "metadata": {},
     "output_type": "execute_result"
    },
    {
     "data": {
      "text/plain": [
       "(10, 30, 1024)"
      ]
     },
     "execution_count": 23,
     "metadata": {},
     "output_type": "execute_result"
    },
    {
     "data": {
      "text/plain": [
       "(10, 30, 2048)"
      ]
     },
     "execution_count": 23,
     "metadata": {},
     "output_type": "execute_result"
    }
   ],
   "source": [
    "emb_res['lstm_outputs1'].shape\n",
    "emb_res['lstm_outputs2'].shape\n",
    "LM_emb_res.shape # 10个句子，每个句子30个词，每个词1024维向量"
   ]
  },
  {
   "cell_type": "code",
   "execution_count": null,
   "metadata": {
    "ExecuteTime": {
     "end_time": "2019-06-10T09:36:03.821970Z",
     "start_time": "2019-06-10T09:35:53.785589Z"
    },
    "code_folding": [],
    "scrolled": false
   },
   "outputs": [],
   "source": [
    "with tf.Session() as sess:\n",
    "    emb_opt = elmo(inputs=sentences, as_dict=True)\n",
    "    sess.run(tf.global_variables_initializer())\n",
    "#     emb_sentence = sess.run(emb_opt['elmo'])\n",
    "    emb_demo_opt = tf.reshape(elmo(inputs=demoSentence_total, as_dict=True)['default'],[3,1,1024])\n",
    "    emb_demo_total = sess.run(emb_demo_opt)"
   ]
  },
  {
   "cell_type": "code",
   "execution_count": null,
   "metadata": {
    "ExecuteTime": {
     "end_time": "2019-06-10T09:06:41.881702Z",
     "start_time": "2019-06-10T09:06:41.677863Z"
    }
   },
   "outputs": [],
   "source": []
  },
  {
   "cell_type": "code",
   "execution_count": null,
   "metadata": {},
   "outputs": [],
   "source": [
    "def cos_similarity(vec1,vec2):\n",
    "    norm1 = tf.sqrt(tf.reduce_sum(tf.square(vec1), axis=2))\n",
    "    norm2 = tf.sqrt(tf.reduce_sum(tf.square(vec2), axis=2))"
   ]
  },
  {
   "cell_type": "code",
   "execution_count": null,
   "metadata": {
    "ExecuteTime": {
     "end_time": "2019-06-10T09:05:14.578694Z",
     "start_time": "2019-06-10T09:05:14.572453Z"
    }
   },
   "outputs": [],
   "source": [
    "[len(i) for i in emb_sentence]"
   ]
  },
  {
   "cell_type": "code",
   "execution_count": null,
   "metadata": {
    "ExecuteTime": {
     "end_time": "2019-06-10T08:36:33.399338Z",
     "start_time": "2019-06-10T08:36:33.393401Z"
    }
   },
   "outputs": [],
   "source": []
  },
  {
   "cell_type": "code",
   "execution_count": null,
   "metadata": {
    "ExecuteTime": {
     "end_time": "2019-06-10T09:05:10.119019Z",
     "start_time": "2019-06-10T09:05:10.112893Z"
    }
   },
   "outputs": [],
   "source": [
    "ExqUtils.padding([12,123,14],5)"
   ]
  },
  {
   "cell_type": "code",
   "execution_count": null,
   "metadata": {},
   "outputs": [],
   "source": []
  }
 ],
 "metadata": {
  "kernelspec": {
   "display_name": "Python 3",
   "language": "python",
   "name": "python3"
  },
  "language_info": {
   "codemirror_mode": {
    "name": "ipython",
    "version": 3
   },
   "file_extension": ".py",
   "mimetype": "text/x-python",
   "name": "python",
   "nbconvert_exporter": "python",
   "pygments_lexer": "ipython3",
   "version": "3.6.7"
  },
  "toc": {
   "base_numbering": 1,
   "nav_menu": {},
   "number_sections": true,
   "sideBar": true,
   "skip_h1_title": false,
   "title_cell": "Table of Contents",
   "title_sidebar": "Contents",
   "toc_cell": false,
   "toc_position": {},
   "toc_section_display": true,
   "toc_window_display": true
  },
  "varInspector": {
   "cols": {
    "lenName": 16,
    "lenType": 16,
    "lenVar": 40
   },
   "kernels_config": {
    "python": {
     "delete_cmd_postfix": "",
     "delete_cmd_prefix": "del ",
     "library": "var_list.py",
     "varRefreshCmd": "print(var_dic_list())"
    },
    "r": {
     "delete_cmd_postfix": ") ",
     "delete_cmd_prefix": "rm(",
     "library": "var_list.r",
     "varRefreshCmd": "cat(var_dic_list()) "
    }
   },
   "types_to_exclude": [
    "module",
    "function",
    "builtin_function_or_method",
    "instance",
    "_Feature"
   ],
   "window_display": false
  }
 },
 "nbformat": 4,
 "nbformat_minor": 2
}
